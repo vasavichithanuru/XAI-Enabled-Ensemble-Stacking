{
  "nbformat": 4,
  "nbformat_minor": 0,
  "metadata": {
    "colab": {
      "provenance": []
    },
    "kernelspec": {
      "name": "python3",
      "display_name": "Python 3"
    },
    "language_info": {
      "name": "python"
    }
  },
  "cells": [
    {
      "cell_type": "code",
      "source": [
        "import pandas as pd\n",
        "df = pd.read_csv(\"/content/balanced_data.csv\")\n",
        "df.shape"
      ],
      "metadata": {
        "id": "H6DA4xSx2wGi",
        "colab": {
          "base_uri": "https://localhost:8080/"
        },
        "outputId": "c5b73913-fab0-4296-f96b-4d8898f14ac4"
      },
      "execution_count": null,
      "outputs": [
        {
          "output_type": "execute_result",
          "data": {
            "text/plain": [
              "(12411, 17)"
            ]
          },
          "metadata": {},
          "execution_count": 1
        }
      ]
    },
    {
      "cell_type": "code",
      "source": [
        "df.info()"
      ],
      "metadata": {
        "id": "9N9ZWWl-2qwI",
        "colab": {
          "base_uri": "https://localhost:8080/"
        },
        "outputId": "1c556153-4da9-42bc-b2c1-552f26a32dc8"
      },
      "execution_count": null,
      "outputs": [
        {
          "output_type": "stream",
          "name": "stdout",
          "text": [
            "<class 'pandas.core.frame.DataFrame'>\n",
            "RangeIndex: 12411 entries, 0 to 12410\n",
            "Data columns (total 17 columns):\n",
            " #   Column                                   Non-Null Count  Dtype  \n",
            "---  ------                                   --------------  -----  \n",
            " 0   Avg min between sent tnx                 12411 non-null  float64\n",
            " 1   Avg min between received tnx             12411 non-null  float64\n",
            " 2   Time Diff between first and last (Mins)  12411 non-null  float64\n",
            " 3   Sent tnx                                 12411 non-null  int64  \n",
            " 4   Received Tnx                             12411 non-null  int64  \n",
            " 5   Number of Created Contracts              12411 non-null  int64  \n",
            " 6   max value received                       12411 non-null  float64\n",
            " 7   avg val received                         12411 non-null  float64\n",
            " 8   avg val sent                             12411 non-null  float64\n",
            " 9   total Ether sent                         12411 non-null  float64\n",
            " 10  total ether balance                      12411 non-null  float64\n",
            " 11   ERC20 total Ether received              12411 non-null  float64\n",
            " 12   ERC20 total ether sent                  12411 non-null  float64\n",
            " 13   ERC20 total Ether sent contract         12411 non-null  float64\n",
            " 14   ERC20 uniq sent addr                    12411 non-null  float64\n",
            " 15   ERC20 uniq rec token name               12411 non-null  float64\n",
            " 16  FLAG                                     12411 non-null  int64  \n",
            "dtypes: float64(13), int64(4)\n",
            "memory usage: 1.6 MB\n"
          ]
        }
      ]
    },
    {
      "cell_type": "code",
      "source": [
        "# Load your data\n",
        "X = df.drop(\"FLAG\", axis=1)\n",
        "y = df[\"FLAG\"]"
      ],
      "metadata": {
        "id": "FLtd24XDytWM"
      },
      "execution_count": null,
      "outputs": []
    },
    {
      "cell_type": "code",
      "source": [
        "from sklearn.model_selection import train_test_split\n",
        "\n",
        "# Split data into train and test sets\n",
        "X_train, X_test, y_train, y_test = train_test_split(X, y, test_size=0.2, random_state=42)"
      ],
      "metadata": {
        "id": "Uud3DKMxzDNQ"
      },
      "execution_count": null,
      "outputs": []
    },
    {
      "cell_type": "markdown",
      "source": [
        "The below code evaluates the performance and resource utilization of a Random Forest Classifier during training and testing. It tracks training time, memory usage, and CPU usage using the psutil library. The classifier is configured with specific hyperparameters like max_depth, max_features, min_samples_leaf, min_samples_split, and n_estimators. Before and after training, the memory usage and CPU activity are measured to compute the resources consumed. The training time is calculated by subtracting the start time from the end time. During testing, the model predicts on the test dataset (X_test), and the testing time is similarly recorded. Finally, the accuracy of the model is calculated using the accuracy_score function. Resource usage metrics, training/testing times, and accuracy are printed, providing a comprehensive understanding of the model's computational and predictive performance."
      ],
      "metadata": {
        "id": "FR-mobiHs8o4"
      }
    },
    {
      "cell_type": "code",
      "source": [
        "import time\n",
        "import psutil\n",
        "from sklearn.ensemble import RandomForestClassifier\n",
        "from sklearn.datasets import make_classification\n",
        "from sklearn.model_selection import train_test_split\n",
        "from sklearn.metrics import accuracy_score\n",
        "\n",
        "# Function to monitor resource usage\n",
        "def get_resource_usage():\n",
        "    process = psutil.Process()\n",
        "    memory_info = process.memory_info()\n",
        "    cpu_percent = process.cpu_percent(interval=0.1)\n",
        "    return memory_info.rss / (1024 * 1024), cpu_percent  # Return memory in MB and CPU percentage\n",
        "\n",
        "# Track training time and resource allocation\n",
        "start_time = time.time()\n",
        "start_memory, start_cpu = get_resource_usage()\n",
        "\n",
        "# Training the model\n",
        "model = RandomForestClassifier(\n",
        "    max_depth=10,\n",
        "    max_features=0.3139538085100205,\n",
        "    min_samples_leaf=int(1.7307339350609041),  # Ensure integer value\n",
        "    min_samples_split=int(14.052804288439336),  # Ensure integer value\n",
        "    n_estimators=123\n",
        ")\n",
        "model.fit(X_train, y_train)\n",
        "\n",
        "end_memory, end_cpu = get_resource_usage()\n",
        "end_time = time.time()\n",
        "\n",
        "training_time = end_time - start_time\n",
        "memory_used = end_memory - start_memory\n",
        "\n",
        "print(f\"Training Time: {training_time:.2f} seconds\")\n",
        "print(f\"Memory Used during Training: {memory_used:.2f} MB\")\n",
        "print(f\"CPU Usage during Training: {start_cpu}% -> {end_cpu}%\")\n",
        "\n",
        "# Track testing time\n",
        "start_time = time.time()\n",
        "\n",
        "# Testing the model\n",
        "y_pred = model.predict(X_test)\n",
        "\n",
        "end_time = time.time()\n",
        "testing_time = end_time - start_time\n",
        "\n",
        "accuracy = accuracy_score(y_test, y_pred)\n",
        "print(f\"Testing Time: {testing_time:.2f} seconds\")\n",
        "print(f\"Model Accuracy: {accuracy:.2f}\")"
      ],
      "metadata": {
        "colab": {
          "base_uri": "https://localhost:8080/"
        },
        "id": "w7Elkb5VuDkV",
        "outputId": "1cdda4b9-e3a0-4240-a1e0-4c559d2db16b"
      },
      "execution_count": null,
      "outputs": [
        {
          "output_type": "stream",
          "name": "stdout",
          "text": [
            "Training Time: 3.72 seconds\n",
            "Memory Used during Training: 1.59 MB\n",
            "CPU Usage during Training: 0.0% -> 0.0%\n",
            "Testing Time: 0.04 seconds\n",
            "Model Accuracy: 0.99\n"
          ]
        }
      ]
    },
    {
      "cell_type": "markdown",
      "source": [
        "This below code evaluates the performance of an XGBoost Classifier while monitoring resource usage and runtime efficiency during both training and testing phases. The XGBoost model is configured with optimized hyperparameters such as colsample_bytree, learning_rate, max_depth, min_child_weight, and others, and is designed for binary classification (objective='binary:logistic'). Using the psutil library, the script tracks memory usage (in MB) and CPU utilization (percentage) before and after training. The training time is measured using the time module, and the model is trained on X_train and y_train. Testing time is calculated similarly, and predictions are made on X_test. Finally, the script outputs the training time, testing time, memory consumption, CPU usage before and after training, and the accuracy of the model. This approach provides a comprehensive analysis of both the computational efficiency and predictive performance of the XGBoost model."
      ],
      "metadata": {
        "id": "QCvxF4pntZ8z"
      }
    },
    {
      "cell_type": "code",
      "source": [
        "import time\n",
        "import psutil\n",
        "from xgboost import XGBClassifier\n",
        "from sklearn.datasets import make_classification\n",
        "from sklearn.model_selection import train_test_split\n",
        "from sklearn.metrics import accuracy_score\n",
        "\n",
        "\n",
        "# Function to monitor resource usage\n",
        "def get_resource_usage():\n",
        "    process = psutil.Process()\n",
        "    memory_info = process.memory_info()\n",
        "    cpu_percent = process.cpu_percent(interval=0.1)\n",
        "    return memory_info.rss / (1024 * 1024), cpu_percent  # Memory in MB, CPU %\n",
        "\n",
        "# Define best hyperparameters for XGBoost\n",
        "xgb_params = {\n",
        "    'colsample_bytree': 0.9729370974093524,\n",
        "    'learning_rate': 0.48726788904554486,\n",
        "    'max_depth': 3,\n",
        "    'min_child_weight': 4,\n",
        "    'n_estimators': 105,\n",
        "    'subsample': 0.894412699905483,\n",
        "    'objective': 'binary:logistic',\n",
        "    'use_label_encoder': False\n",
        "}\n",
        "best_xgb = XGBClassifier(**xgb_params)\n",
        "\n",
        "# Track training time and resource usage\n",
        "start_time = time.time()\n",
        "start_memory, start_cpu = get_resource_usage()\n",
        "\n",
        "# Training the model\n",
        "best_xgb.fit(X_train, y_train)\n",
        "\n",
        "end_memory, end_cpu = get_resource_usage()\n",
        "end_time = time.time()\n",
        "\n",
        "training_time = end_time - start_time\n",
        "memory_used = end_memory - start_memory\n",
        "\n",
        "print(f\"XGBoost Training Time: {training_time:.2f} seconds\")\n",
        "print(f\"Memory Used during Training: {memory_used:.2f} MB\")\n",
        "print(f\"CPU Usage during Training: {start_cpu}% -> {end_cpu}%\")\n",
        "\n",
        "# Track testing time\n",
        "start_time = time.time()\n",
        "\n",
        "# Testing the model\n",
        "y_pred = best_xgb.predict(X_test)\n",
        "\n",
        "end_time = time.time()\n",
        "testing_time = end_time - start_time\n",
        "\n",
        "accuracy = accuracy_score(y_test, y_pred)\n",
        "print(f\"XGBoost Testing Time: {testing_time:.2f} seconds\")\n",
        "print(f\"XGBoost Model Accuracy: {accuracy:.2f}\")"
      ],
      "metadata": {
        "colab": {
          "base_uri": "https://localhost:8080/"
        },
        "id": "gSh6gBPqXwdc",
        "outputId": "15f7c672-bfd7-42d0-e789-e3e5d53f1e61"
      },
      "execution_count": null,
      "outputs": [
        {
          "output_type": "stream",
          "name": "stderr",
          "text": [
            "/usr/local/lib/python3.10/dist-packages/xgboost/core.py:158: UserWarning: [05:08:11] WARNING: /workspace/src/learner.cc:740: \n",
            "Parameters: { \"use_label_encoder\" } are not used.\n",
            "\n",
            "  warnings.warn(smsg, UserWarning)\n"
          ]
        },
        {
          "output_type": "stream",
          "name": "stdout",
          "text": [
            "XGBoost Training Time: 1.93 seconds\n",
            "Memory Used during Training: 1.53 MB\n",
            "CPU Usage during Training: 0.0% -> 10.0%\n",
            "XGBoost Testing Time: 0.01 seconds\n",
            "XGBoost Model Accuracy: 0.93\n"
          ]
        }
      ]
    },
    {
      "cell_type": "code",
      "source": [
        "import time\n",
        "import psutil\n",
        "import numpy as np\n",
        "from tensorflow.keras.models import Sequential\n",
        "from tensorflow.keras.layers import Dense\n",
        "from sklearn.datasets import make_classification\n",
        "from sklearn.model_selection import train_test_split\n",
        "from sklearn.metrics import accuracy_score\n",
        "\n",
        "# Normalize the data for neural network\n",
        "X_train = X_train / np.max(X_train, axis=0)\n",
        "X_test = X_test / np.max(X_train, axis=0)\n",
        "\n",
        "# Function to monitor resource usage\n",
        "def get_resource_usage():\n",
        "    process = psutil.Process()\n",
        "    memory_info = process.memory_info()\n",
        "    cpu_percent = process.cpu_percent(interval=0.1)\n",
        "    return memory_info.rss / (1024 * 1024), cpu_percent  # Memory in MB, CPU %\n",
        "\n",
        "# Define best hyperparameters for Neural Network\n",
        "def create_model():\n",
        "    model = Sequential()\n",
        "    model.add(Dense(units=128, activation='relu', input_shape=(X_train.shape[1],)))\n",
        "    model.add(Dense(units=128, activation='relu'))\n",
        "    model.add(Dense(units=1, activation='sigmoid'))\n",
        "    model.compile(optimizer='adam', loss='binary_crossentropy', metrics=['accuracy'])\n",
        "    return model\n",
        "\n",
        "best_nn = create_model()\n",
        "\n",
        "# Track training time and resource usage\n",
        "start_time = time.time()\n",
        "start_memory, start_cpu = get_resource_usage()\n",
        "\n",
        "# Training the model\n",
        "history = best_nn.fit(X_train, y_train, epochs=10, batch_size=64, verbose=1)\n",
        "\n",
        "end_memory, end_cpu = get_resource_usage()\n",
        "end_time = time.time()\n",
        "\n",
        "training_time = end_time - start_time\n",
        "memory_used = end_memory - start_memory\n",
        "\n",
        "print(f\"Neural Network Training Time: {training_time:.2f} seconds\")\n",
        "print(f\"Memory Used during Training: {memory_used:.2f} MB\")\n",
        "print(f\"CPU Usage during Training: {start_cpu}% -> {end_cpu}%\")\n",
        "\n",
        "# Track testing time\n",
        "start_time = time.time()\n",
        "\n",
        "# Testing the model\n",
        "y_pred = best_nn.predict(X_test)\n",
        "y_pred = (y_pred > 0.5).astype(int)  # Convert probabilities to binary predictions\n",
        "\n",
        "end_time = time.time()\n",
        "testing_time = end_time - start_time\n",
        "\n",
        "accuracy = accuracy_score(y_test, y_pred)\n",
        "print(f\"Neural Network Testing Time: {testing_time:.2f} seconds\")\n",
        "print(f\"Neural Network Model Accuracy: {accuracy:.2f}\")\n"
      ],
      "metadata": {
        "colab": {
          "base_uri": "https://localhost:8080/"
        },
        "id": "wfbbP-6SYGg6",
        "outputId": "bb61ea1a-a4be-424a-ba7f-c3a4e3f7571a"
      },
      "execution_count": null,
      "outputs": [
        {
          "output_type": "stream",
          "name": "stdout",
          "text": [
            "Epoch 1/10\n"
          ]
        },
        {
          "output_type": "stream",
          "name": "stderr",
          "text": [
            "/usr/local/lib/python3.10/dist-packages/keras/src/layers/core/dense.py:87: UserWarning: Do not pass an `input_shape`/`input_dim` argument to a layer. When using Sequential models, prefer using an `Input(shape)` object as the first layer in the model instead.\n",
            "  super().__init__(activity_regularizer=activity_regularizer, **kwargs)\n"
          ]
        },
        {
          "output_type": "stream",
          "name": "stdout",
          "text": [
            "\u001b[1m125/125\u001b[0m \u001b[32m━━━━━━━━━━━━━━━━━━━━\u001b[0m\u001b[37m\u001b[0m \u001b[1m1s\u001b[0m 2ms/step - accuracy: 0.8017 - loss: 0.5045\n",
            "Epoch 2/10\n",
            "\u001b[1m125/125\u001b[0m \u001b[32m━━━━━━━━━━━━━━━━━━━━\u001b[0m\u001b[37m\u001b[0m \u001b[1m0s\u001b[0m 2ms/step - accuracy: 0.9074 - loss: 0.2676\n",
            "Epoch 3/10\n",
            "\u001b[1m125/125\u001b[0m \u001b[32m━━━━━━━━━━━━━━━━━━━━\u001b[0m\u001b[37m\u001b[0m \u001b[1m0s\u001b[0m 2ms/step - accuracy: 0.9267 - loss: 0.2373\n",
            "Epoch 4/10\n",
            "\u001b[1m125/125\u001b[0m \u001b[32m━━━━━━━━━━━━━━━━━━━━\u001b[0m\u001b[37m\u001b[0m \u001b[1m0s\u001b[0m 2ms/step - accuracy: 0.9356 - loss: 0.2243\n",
            "Epoch 5/10\n",
            "\u001b[1m125/125\u001b[0m \u001b[32m━━━━━━━━━━━━━━━━━━━━\u001b[0m\u001b[37m\u001b[0m \u001b[1m0s\u001b[0m 2ms/step - accuracy: 0.9276 - loss: 0.2463\n",
            "Epoch 6/10\n",
            "\u001b[1m125/125\u001b[0m \u001b[32m━━━━━━━━━━━━━━━━━━━━\u001b[0m\u001b[37m\u001b[0m \u001b[1m0s\u001b[0m 2ms/step - accuracy: 0.9326 - loss: 0.2380\n",
            "Epoch 7/10\n",
            "\u001b[1m125/125\u001b[0m \u001b[32m━━━━━━━━━━━━━━━━━━━━\u001b[0m\u001b[37m\u001b[0m \u001b[1m0s\u001b[0m 2ms/step - accuracy: 0.9351 - loss: 0.2151\n",
            "Epoch 8/10\n",
            "\u001b[1m125/125\u001b[0m \u001b[32m━━━━━━━━━━━━━━━━━━━━\u001b[0m\u001b[37m\u001b[0m \u001b[1m0s\u001b[0m 2ms/step - accuracy: 0.9344 - loss: 0.2268\n",
            "Epoch 9/10\n",
            "\u001b[1m125/125\u001b[0m \u001b[32m━━━━━━━━━━━━━━━━━━━━\u001b[0m\u001b[37m\u001b[0m \u001b[1m0s\u001b[0m 3ms/step - accuracy: 0.9355 - loss: 0.2194\n",
            "Epoch 10/10\n",
            "\u001b[1m125/125\u001b[0m \u001b[32m━━━━━━━━━━━━━━━━━━━━\u001b[0m\u001b[37m\u001b[0m \u001b[1m1s\u001b[0m 3ms/step - accuracy: 0.9376 - loss: 0.2086\n",
            "Neural Network Training Time: 4.85 seconds\n",
            "Memory Used during Training: 12.94 MB\n",
            "CPU Usage during Training: 0.0% -> 0.0%\n",
            "\u001b[1m63/63\u001b[0m \u001b[32m━━━━━━━━━━━━━━━━━━━━\u001b[0m\u001b[37m\u001b[0m \u001b[1m0s\u001b[0m 3ms/step\n",
            "Neural Network Testing Time: 0.41 seconds\n",
            "Neural Network Model Accuracy: 0.90\n"
          ]
        }
      ]
    },
    {
      "cell_type": "code",
      "source": [
        "!pip install lime"
      ],
      "metadata": {
        "colab": {
          "base_uri": "https://localhost:8080/"
        },
        "id": "p-klTJw3YnC3",
        "outputId": "7e2bff50-8555-4eb2-c194-3d989b53f3c2"
      },
      "execution_count": null,
      "outputs": [
        {
          "output_type": "stream",
          "name": "stdout",
          "text": [
            "Collecting lime\n",
            "  Downloading lime-0.2.0.1.tar.gz (275 kB)\n",
            "\u001b[?25l     \u001b[90m━━━━━━━━━━━━━━━━━━━━━━━━━━━━━━━━━━━━━━━━\u001b[0m \u001b[32m0.0/275.7 kB\u001b[0m \u001b[31m?\u001b[0m eta \u001b[36m-:--:--\u001b[0m\r\u001b[2K     \u001b[91m━━━━━━━━━━━━━━━━\u001b[0m\u001b[90m╺\u001b[0m\u001b[90m━━━━━━━━━━━━━━━━━━━━━━━\u001b[0m \u001b[32m112.6/275.7 kB\u001b[0m \u001b[31m3.1 MB/s\u001b[0m eta \u001b[36m0:00:01\u001b[0m\r\u001b[2K     \u001b[90m━━━━━━━━━━━━━━━━━━━━━━━━━━━━━━━━━━━━━━━━\u001b[0m \u001b[32m275.7/275.7 kB\u001b[0m \u001b[31m4.5 MB/s\u001b[0m eta \u001b[36m0:00:00\u001b[0m\n",
            "\u001b[?25h  Preparing metadata (setup.py) ... \u001b[?25l\u001b[?25hdone\n",
            "Requirement already satisfied: matplotlib in /usr/local/lib/python3.10/dist-packages (from lime) (3.8.0)\n",
            "Requirement already satisfied: numpy in /usr/local/lib/python3.10/dist-packages (from lime) (1.26.4)\n",
            "Requirement already satisfied: scipy in /usr/local/lib/python3.10/dist-packages (from lime) (1.13.1)\n",
            "Requirement already satisfied: tqdm in /usr/local/lib/python3.10/dist-packages (from lime) (4.66.6)\n",
            "Requirement already satisfied: scikit-learn>=0.18 in /usr/local/lib/python3.10/dist-packages (from lime) (1.5.2)\n",
            "Requirement already satisfied: scikit-image>=0.12 in /usr/local/lib/python3.10/dist-packages (from lime) (0.24.0)\n",
            "Requirement already satisfied: networkx>=2.8 in /usr/local/lib/python3.10/dist-packages (from scikit-image>=0.12->lime) (3.4.2)\n",
            "Requirement already satisfied: pillow>=9.1 in /usr/local/lib/python3.10/dist-packages (from scikit-image>=0.12->lime) (11.0.0)\n",
            "Requirement already satisfied: imageio>=2.33 in /usr/local/lib/python3.10/dist-packages (from scikit-image>=0.12->lime) (2.36.0)\n",
            "Requirement already satisfied: tifffile>=2022.8.12 in /usr/local/lib/python3.10/dist-packages (from scikit-image>=0.12->lime) (2024.9.20)\n",
            "Requirement already satisfied: packaging>=21 in /usr/local/lib/python3.10/dist-packages (from scikit-image>=0.12->lime) (24.2)\n",
            "Requirement already satisfied: lazy-loader>=0.4 in /usr/local/lib/python3.10/dist-packages (from scikit-image>=0.12->lime) (0.4)\n",
            "Requirement already satisfied: joblib>=1.2.0 in /usr/local/lib/python3.10/dist-packages (from scikit-learn>=0.18->lime) (1.4.2)\n",
            "Requirement already satisfied: threadpoolctl>=3.1.0 in /usr/local/lib/python3.10/dist-packages (from scikit-learn>=0.18->lime) (3.5.0)\n",
            "Requirement already satisfied: contourpy>=1.0.1 in /usr/local/lib/python3.10/dist-packages (from matplotlib->lime) (1.3.1)\n",
            "Requirement already satisfied: cycler>=0.10 in /usr/local/lib/python3.10/dist-packages (from matplotlib->lime) (0.12.1)\n",
            "Requirement already satisfied: fonttools>=4.22.0 in /usr/local/lib/python3.10/dist-packages (from matplotlib->lime) (4.54.1)\n",
            "Requirement already satisfied: kiwisolver>=1.0.1 in /usr/local/lib/python3.10/dist-packages (from matplotlib->lime) (1.4.7)\n",
            "Requirement already satisfied: pyparsing>=2.3.1 in /usr/local/lib/python3.10/dist-packages (from matplotlib->lime) (3.2.0)\n",
            "Requirement already satisfied: python-dateutil>=2.7 in /usr/local/lib/python3.10/dist-packages (from matplotlib->lime) (2.8.2)\n",
            "Requirement already satisfied: six>=1.5 in /usr/local/lib/python3.10/dist-packages (from python-dateutil>=2.7->matplotlib->lime) (1.16.0)\n",
            "Building wheels for collected packages: lime\n",
            "  Building wheel for lime (setup.py) ... \u001b[?25l\u001b[?25hdone\n",
            "  Created wheel for lime: filename=lime-0.2.0.1-py3-none-any.whl size=283834 sha256=0de6ff2d25b7ceb76ea82c95588a6f254ddc1629b106e6c5dc0ec90d89ef2483\n",
            "  Stored in directory: /root/.cache/pip/wheels/fd/a2/af/9ac0a1a85a27f314a06b39e1f492bee1547d52549a4606ed89\n",
            "Successfully built lime\n",
            "Installing collected packages: lime\n",
            "Successfully installed lime-0.2.0.1\n"
          ]
        }
      ]
    },
    {
      "cell_type": "code",
      "source": [
        "pip install eli5"
      ],
      "metadata": {
        "colab": {
          "base_uri": "https://localhost:8080/"
        },
        "id": "sMiRwYqKY8Zl",
        "outputId": "8e79cff2-cf5d-4613-f1c3-c3e90ec1deb2"
      },
      "execution_count": null,
      "outputs": [
        {
          "output_type": "stream",
          "name": "stdout",
          "text": [
            "Collecting eli5\n",
            "  Downloading eli5-0.13.0.tar.gz (216 kB)\n",
            "\u001b[?25l     \u001b[90m━━━━━━━━━━━━━━━━━━━━━━━━━━━━━━━━━━━━━━━━\u001b[0m \u001b[32m0.0/216.2 kB\u001b[0m \u001b[31m?\u001b[0m eta \u001b[36m-:--:--\u001b[0m\r\u001b[2K     \u001b[91m━━━━━━━━━━━━━━━━━━━━━━━━━━━━━━━━━━━━━━━\u001b[0m\u001b[91m╸\u001b[0m \u001b[32m215.0/216.2 kB\u001b[0m \u001b[31m6.7 MB/s\u001b[0m eta \u001b[36m0:00:01\u001b[0m\r\u001b[2K     \u001b[90m━━━━━━━━━━━━━━━━━━━━━━━━━━━━━━━━━━━━━━━━\u001b[0m \u001b[32m216.2/216.2 kB\u001b[0m \u001b[31m4.4 MB/s\u001b[0m eta \u001b[36m0:00:00\u001b[0m\n",
            "\u001b[?25h  Preparing metadata (setup.py) ... \u001b[?25l\u001b[?25hdone\n",
            "Requirement already satisfied: attrs>17.1.0 in /usr/local/lib/python3.10/dist-packages (from eli5) (24.2.0)\n",
            "Requirement already satisfied: jinja2>=3.0.0 in /usr/local/lib/python3.10/dist-packages (from eli5) (3.1.4)\n",
            "Requirement already satisfied: numpy>=1.9.0 in /usr/local/lib/python3.10/dist-packages (from eli5) (1.26.4)\n",
            "Requirement already satisfied: scipy in /usr/local/lib/python3.10/dist-packages (from eli5) (1.13.1)\n",
            "Requirement already satisfied: six in /usr/local/lib/python3.10/dist-packages (from eli5) (1.16.0)\n",
            "Requirement already satisfied: scikit-learn>=0.20 in /usr/local/lib/python3.10/dist-packages (from eli5) (1.5.2)\n",
            "Requirement already satisfied: graphviz in /usr/local/lib/python3.10/dist-packages (from eli5) (0.20.3)\n",
            "Requirement already satisfied: tabulate>=0.7.7 in /usr/local/lib/python3.10/dist-packages (from eli5) (0.9.0)\n",
            "Requirement already satisfied: MarkupSafe>=2.0 in /usr/local/lib/python3.10/dist-packages (from jinja2>=3.0.0->eli5) (3.0.2)\n",
            "Requirement already satisfied: joblib>=1.2.0 in /usr/local/lib/python3.10/dist-packages (from scikit-learn>=0.20->eli5) (1.4.2)\n",
            "Requirement already satisfied: threadpoolctl>=3.1.0 in /usr/local/lib/python3.10/dist-packages (from scikit-learn>=0.20->eli5) (3.5.0)\n",
            "Building wheels for collected packages: eli5\n",
            "  Building wheel for eli5 (setup.py) ... \u001b[?25l\u001b[?25hdone\n",
            "  Created wheel for eli5: filename=eli5-0.13.0-py2.py3-none-any.whl size=107721 sha256=45454637c1e2d9990da58e39a0caa0518bce81be839845d4c1627a1bf455be56\n",
            "  Stored in directory: /root/.cache/pip/wheels/b8/58/ef/2cf4c306898c2338d51540e0922c8e0d6028e07007085c0004\n",
            "Successfully built eli5\n",
            "Installing collected packages: eli5\n",
            "Successfully installed eli5-0.13.0\n"
          ]
        }
      ]
    },
    {
      "cell_type": "markdown",
      "source": [
        "This code implements a stacking ensemble model that combines predictions from three machine learning models—Random Forest (RF), XGBoost (XGB), and a Neural Network (NN)—using an Elastic Net regression model as the meta-learner. Each model is trained with its own optimized hyperparameters, and resource usage (memory, CPU utilization) along with training and testing times are tracked using the psutil and time modules.\n",
        "\n",
        "Random Forest: Trained using hyperparameters like max_depth, n_estimators, and others. Predictions are made on X_test.\n",
        "XGBoost: Configured with advanced hyperparameters including learning_rate, max_depth, and subsample. After training, predictions are obtained.\n",
        "Neural Network: A sequential model with two hidden layers of 128 units each and ReLU activation is normalized for input features and trained over 10 epochs.\n",
        "Elastic Net Stacking: The predictions from RF, XGB, and NN are stacked as features and used to train an Elastic Net regression model. The meta-learner then predicts the final output."
      ],
      "metadata": {
        "id": "vf-FPt_FtsHn"
      }
    },
    {
      "cell_type": "code",
      "source": [
        "import time\n",
        "import psutil\n",
        "import numpy as np\n",
        "from sklearn.ensemble import RandomForestClassifier\n",
        "from xgboost import XGBClassifier\n",
        "from tensorflow.keras.models import Sequential\n",
        "from tensorflow.keras.layers import Dense\n",
        "from sklearn.linear_model import ElasticNet\n",
        "from sklearn.datasets import make_classification\n",
        "from sklearn.model_selection import train_test_split\n",
        "from sklearn.metrics import accuracy_score\n",
        "\n",
        "# Function to monitor resource usage\n",
        "def get_resource_usage():\n",
        "    process = psutil.Process()\n",
        "    memory_info = process.memory_info()\n",
        "    cpu_percent = process.cpu_percent(interval=0.1)\n",
        "    return memory_info.rss / (1024 * 1024), cpu_percent  # Memory in MB, CPU %\n",
        "\n",
        "# Normalize data for Neural Network\n",
        "X_train_nn = X_train / np.max(X_train, axis=0)\n",
        "X_test_nn = X_test / np.max(X_train, axis=0)\n",
        "\n",
        "# ============================= RANDOM FOREST =============================\n",
        "print(\"\\nTraining Random Forest...\")\n",
        "rf_params = {\n",
        "    'max_depth': 10,\n",
        "    'max_features': 0.3139538085100205,\n",
        "    'min_samples_leaf': int(1.7307339350609041),\n",
        "    'min_samples_split': int(14.052804288439336),\n",
        "    'n_estimators': 123\n",
        "}\n",
        "rf_model = RandomForestClassifier(**rf_params)\n",
        "\n",
        "start_time = time.time()\n",
        "start_memory, start_cpu = get_resource_usage()\n",
        "\n",
        "rf_model.fit(X_train, y_train)\n",
        "\n",
        "end_memory, end_cpu = get_resource_usage()\n",
        "training_time = time.time() - start_time\n",
        "memory_used = end_memory - start_memory\n",
        "\n",
        "print(f\"RF Training Time: {training_time:.2f}s, Memory Used: {memory_used:.2f}MB, CPU: {start_cpu}% -> {end_cpu}%\")\n",
        "\n",
        "# Predict with Random Forest\n",
        "rf_pred = rf_model.predict(X_test)\n",
        "\n",
        "# ============================= XGBOOST =============================\n",
        "print(\"\\nTraining XGBoost...\")\n",
        "xgb_params = {\n",
        "    'colsample_bytree': 0.9729370974093524,\n",
        "    'learning_rate': 0.48726788904554486,\n",
        "    'max_depth': 3,\n",
        "    'min_child_weight': 4,\n",
        "    'n_estimators': 105,\n",
        "    'subsample': 0.894412699905483,\n",
        "    'objective': 'binary:logistic',\n",
        "    'use_label_encoder': False\n",
        "}\n",
        "xgb_model = XGBClassifier(**xgb_params)\n",
        "\n",
        "start_time = time.time()\n",
        "start_memory, start_cpu = get_resource_usage()\n",
        "\n",
        "xgb_model.fit(X_train, y_train)\n",
        "\n",
        "end_memory, end_cpu = get_resource_usage()\n",
        "training_time = time.time() - start_time\n",
        "memory_used = end_memory - start_memory\n",
        "\n",
        "print(f\"XGBoost Training Time: {training_time:.2f}s, Memory Used: {memory_used:.2f}MB, CPU: {start_cpu}% -> {end_cpu}%\")\n",
        "\n",
        "# Predict with XGBoost\n",
        "xgb_pred = xgb_model.predict(X_test)\n",
        "\n",
        "# ============================= NEURAL NETWORK =============================\n",
        "print(\"\\nTraining Neural Network...\")\n",
        "def create_nn_model():\n",
        "    model = Sequential()\n",
        "    model.add(Dense(units=128, activation='relu', input_shape=(X_train_nn.shape[1],)))\n",
        "    model.add(Dense(units=128, activation='relu'))\n",
        "    model.add(Dense(units=1, activation='sigmoid'))\n",
        "    model.compile(optimizer='adam', loss='binary_crossentropy', metrics=['accuracy'])\n",
        "    return model\n",
        "\n",
        "nn_model = create_nn_model()\n",
        "\n",
        "start_time = time.time()\n",
        "start_memory, start_cpu = get_resource_usage()\n",
        "\n",
        "nn_model.fit(X_train_nn, y_train, epochs=10, batch_size=64, verbose=1)\n",
        "\n",
        "end_memory, end_cpu = get_resource_usage()\n",
        "training_time = time.time() - start_time\n",
        "memory_used = end_memory - start_memory\n",
        "\n",
        "print(f\"NN Training Time: {training_time:.2f}s, Memory Used: {memory_used:.2f}MB, CPU: {start_cpu}% -> {end_cpu}%\")\n",
        "\n",
        "# Predict with Neural Network\n",
        "nn_pred_prob = nn_model.predict(X_test_nn)\n",
        "nn_pred = (nn_pred_prob > 0.5).astype(int).flatten()\n",
        "\n",
        "# ============================= ELASTIC NET STACKING =============================\n",
        "print(\"\\nTraining Elastic Net for Stacking...\")\n",
        "# Combine predictions for stacking\n",
        "stacked_features = np.column_stack((rf_pred, xgb_pred, nn_pred))\n",
        "\n",
        "# Train Elastic Net\n",
        "elastic_net = ElasticNet(alpha=0.1, l1_ratio=0.5, random_state=42)\n",
        "\n",
        "start_time = time.time()\n",
        "start_memory, start_cpu = get_resource_usage()\n",
        "\n",
        "elastic_net.fit(stacked_features, y_test)  # Using test set predictions for demonstration\n",
        "\n",
        "end_memory, end_cpu = get_resource_usage()\n",
        "training_time = time.time() - start_time\n",
        "memory_used = end_memory - start_memory\n",
        "\n",
        "print(f\"Elenet Training Time: {training_time:.2f}s, Memory Used: {memory_used:.2f}MB, CPU: {start_cpu}% -> {end_cpu}%\")\n",
        "\n",
        "# Final Predictions using Elastic Net\n",
        "final_pred = elastic_net.predict(stacked_features)\n",
        "final_pred_binary = (final_pred > 0.5).astype(int)\n",
        "\n",
        "end_time = time.time()\n",
        "testing_time = end_time - start_time\n",
        "\n",
        "# Evaluate Ensemble Model\n",
        "accuracy = accuracy_score(y_test, final_pred_binary)\n",
        "print(f\"Ensemble Model Accuracy (Elastic Net): {accuracy:.2f}\")\n",
        "print(f\"Testing Time: {testing_time:.2f} seconds\")"
      ],
      "metadata": {
        "colab": {
          "base_uri": "https://localhost:8080/"
        },
        "id": "aRzkV8vqaIHt",
        "outputId": "37e54629-b845-47ae-b8e4-6808f4a56e8c"
      },
      "execution_count": null,
      "outputs": [
        {
          "output_type": "stream",
          "name": "stdout",
          "text": [
            "\n",
            "Training Random Forest...\n",
            "RF Training Time: 6.11s, Memory Used: 0.00MB, CPU: 0.0% -> 0.0%\n",
            "\n",
            "Training XGBoost...\n"
          ]
        },
        {
          "output_type": "stream",
          "name": "stderr",
          "text": [
            "/usr/local/lib/python3.10/dist-packages/xgboost/core.py:158: UserWarning: [05:20:00] WARNING: /workspace/src/learner.cc:740: \n",
            "Parameters: { \"use_label_encoder\" } are not used.\n",
            "\n",
            "  warnings.warn(smsg, UserWarning)\n"
          ]
        },
        {
          "output_type": "stream",
          "name": "stdout",
          "text": [
            "XGBoost Training Time: 1.00s, Memory Used: 0.00MB, CPU: 10.0% -> 10.0%\n",
            "\n",
            "Training Neural Network...\n"
          ]
        },
        {
          "output_type": "stream",
          "name": "stderr",
          "text": [
            "/usr/local/lib/python3.10/dist-packages/keras/src/layers/core/dense.py:87: UserWarning: Do not pass an `input_shape`/`input_dim` argument to a layer. When using Sequential models, prefer using an `Input(shape)` object as the first layer in the model instead.\n",
            "  super().__init__(activity_regularizer=activity_regularizer, **kwargs)\n"
          ]
        },
        {
          "output_type": "stream",
          "name": "stdout",
          "text": [
            "Epoch 1/10\n",
            "\u001b[1m125/125\u001b[0m \u001b[32m━━━━━━━━━━━━━━━━━━━━\u001b[0m\u001b[37m\u001b[0m \u001b[1m2s\u001b[0m 2ms/step - accuracy: 0.8049 - loss: 0.4976\n",
            "Epoch 2/10\n",
            "\u001b[1m125/125\u001b[0m \u001b[32m━━━━━━━━━━━━━━━━━━━━\u001b[0m\u001b[37m\u001b[0m \u001b[1m0s\u001b[0m 2ms/step - accuracy: 0.9131 - loss: 0.2523\n",
            "Epoch 3/10\n",
            "\u001b[1m125/125\u001b[0m \u001b[32m━━━━━━━━━━━━━━━━━━━━\u001b[0m\u001b[37m\u001b[0m \u001b[1m0s\u001b[0m 2ms/step - accuracy: 0.9195 - loss: 0.2579\n",
            "Epoch 4/10\n",
            "\u001b[1m125/125\u001b[0m \u001b[32m━━━━━━━━━━━━━━━━━━━━\u001b[0m\u001b[37m\u001b[0m \u001b[1m0s\u001b[0m 2ms/step - accuracy: 0.9282 - loss: 0.2387\n",
            "Epoch 5/10\n",
            "\u001b[1m125/125\u001b[0m \u001b[32m━━━━━━━━━━━━━━━━━━━━\u001b[0m\u001b[37m\u001b[0m \u001b[1m0s\u001b[0m 2ms/step - accuracy: 0.9382 - loss: 0.2136\n",
            "Epoch 6/10\n",
            "\u001b[1m125/125\u001b[0m \u001b[32m━━━━━━━━━━━━━━━━━━━━\u001b[0m\u001b[37m\u001b[0m \u001b[1m0s\u001b[0m 2ms/step - accuracy: 0.9400 - loss: 0.2087\n",
            "Epoch 7/10\n",
            "\u001b[1m125/125\u001b[0m \u001b[32m━━━━━━━━━━━━━━━━━━━━\u001b[0m\u001b[37m\u001b[0m \u001b[1m0s\u001b[0m 2ms/step - accuracy: 0.9338 - loss: 0.2311\n",
            "Epoch 8/10\n",
            "\u001b[1m125/125\u001b[0m \u001b[32m━━━━━━━━━━━━━━━━━━━━\u001b[0m\u001b[37m\u001b[0m \u001b[1m0s\u001b[0m 2ms/step - accuracy: 0.9363 - loss: 0.2118\n",
            "Epoch 9/10\n",
            "\u001b[1m125/125\u001b[0m \u001b[32m━━━━━━━━━━━━━━━━━━━━\u001b[0m\u001b[37m\u001b[0m \u001b[1m0s\u001b[0m 2ms/step - accuracy: 0.9398 - loss: 0.2060\n",
            "Epoch 10/10\n",
            "\u001b[1m125/125\u001b[0m \u001b[32m━━━━━━━━━━━━━━━━━━━━\u001b[0m\u001b[37m\u001b[0m \u001b[1m0s\u001b[0m 2ms/step - accuracy: 0.9373 - loss: 0.2124\n",
            "NN Training Time: 4.44s, Memory Used: 11.25MB, CPU: 0.0% -> 0.0%\n",
            "\u001b[1m63/63\u001b[0m \u001b[32m━━━━━━━━━━━━━━━━━━━━\u001b[0m\u001b[37m\u001b[0m \u001b[1m0s\u001b[0m 2ms/step\n",
            "\n",
            "Training Elastic Net for Stacking...\n",
            "Elenet Training Time: 0.20s, Memory Used: 0.00MB, CPU: 0.0% -> 0.0%\n",
            "Ensemble Model Accuracy (Elastic Net): 0.90\n"
          ]
        }
      ]
    },
    {
      "cell_type": "code",
      "source": [
        "import time\n",
        "import psutil\n",
        "import numpy as np\n",
        "from sklearn.ensemble import RandomForestClassifier\n",
        "from xgboost import XGBClassifier\n",
        "from tensorflow.keras.models import Sequential\n",
        "from tensorflow.keras.layers import Dense\n",
        "from sklearn.linear_model import ElasticNet\n",
        "from sklearn.datasets import make_classification\n",
        "from sklearn.model_selection import train_test_split\n",
        "from sklearn.metrics import accuracy_score\n",
        "\n",
        "# Function to monitor resource usage\n",
        "def get_resource_usage():\n",
        "    process = psutil.Process()\n",
        "    memory_info = process.memory_info()\n",
        "    cpu_percent = process.cpu_percent(interval=0.1)\n",
        "    return memory_info.rss / (1024 * 1024), cpu_percent  # Memory in MB, CPU %\n",
        "\n",
        "# Normalize data for Neural Network\n",
        "X_train_nn = X_train / np.max(X_train, axis=0)\n",
        "X_test_nn = X_test / np.max(X_train, axis=0)\n",
        "\n",
        "# ============================= RANDOM FOREST =============================\n",
        "print(\"\\nTraining Random Forest...\")\n",
        "rf_params = {\n",
        "    'max_depth': 10,\n",
        "    'max_features': 0.3139538085100205,\n",
        "    'min_samples_leaf': int(1.7307339350609041),\n",
        "    'min_samples_split': int(14.052804288439336),\n",
        "    'n_estimators': 123\n",
        "}\n",
        "rf_model = RandomForestClassifier(**rf_params)\n",
        "\n",
        "start_time = time.time()\n",
        "start_memory, start_cpu = get_resource_usage()\n",
        "\n",
        "rf_model.fit(X_train, y_train)\n",
        "\n",
        "end_memory, end_cpu = get_resource_usage()\n",
        "training_time = time.time() - start_time\n",
        "memory_used = end_memory - start_memory\n",
        "\n",
        "print(f\"RF Training Time: {training_time:.2f}s, Memory Used: {memory_used:.2f}MB, CPU: {start_cpu}% -> {end_cpu}%\")\n",
        "\n",
        "# Predict with Random Forest\n",
        "rf_pred = rf_model.predict(X_test)\n",
        "\n",
        "# ============================= XGBOOST =============================\n",
        "print(\"\\nTraining XGBoost...\")\n",
        "xgb_params = {\n",
        "    'colsample_bytree': 0.9729370974093524,\n",
        "    'learning_rate': 0.48726788904554486,\n",
        "    'max_depth': 3,\n",
        "    'min_child_weight': 4,\n",
        "    'n_estimators': 105,\n",
        "    'subsample': 0.894412699905483,\n",
        "    'objective': 'binary:logistic',\n",
        "    'use_label_encoder': False\n",
        "}\n",
        "xgb_model = XGBClassifier(**xgb_params)\n",
        "\n",
        "start_time = time.time()\n",
        "start_memory, start_cpu = get_resource_usage()\n",
        "\n",
        "xgb_model.fit(X_train, y_train)\n",
        "\n",
        "end_memory, end_cpu = get_resource_usage()\n",
        "training_time = time.time() - start_time\n",
        "memory_used = end_memory - start_memory\n",
        "\n",
        "print(f\"XGBoost Training Time: {training_time:.2f}s, Memory Used: {memory_used:.2f}MB, CPU: {start_cpu}% -> {end_cpu}%\")\n",
        "\n",
        "# Predict with XGBoost\n",
        "xgb_pred = xgb_model.predict(X_test)\n",
        "\n",
        "# ============================= NEURAL NETWORK =============================\n",
        "print(\"\\nTraining Neural Network...\")\n",
        "def create_nn_model():\n",
        "    model = Sequential()\n",
        "    model.add(Dense(units=128, activation='relu', input_shape=(X_train_nn.shape[1],)))\n",
        "    model.add(Dense(units=128, activation='relu'))\n",
        "    model.add(Dense(units=1, activation='sigmoid'))\n",
        "    model.compile(optimizer='adam', loss='binary_crossentropy', metrics=['accuracy'])\n",
        "    return model\n",
        "\n",
        "nn_model = create_nn_model()\n",
        "\n",
        "start_time = time.time()\n",
        "start_memory, start_cpu = get_resource_usage()\n",
        "\n",
        "nn_model.fit(X_train_nn, y_train, epochs=10, batch_size=64, verbose=1)\n",
        "\n",
        "end_memory, end_cpu = get_resource_usage()\n",
        "training_time = time.time() - start_time\n",
        "memory_used = end_memory - start_memory\n",
        "\n",
        "print(f\"NN Training Time: {training_time:.2f}s, Memory Used: {memory_used:.2f}MB, CPU: {start_cpu}% -> {end_cpu}%\")\n",
        "\n",
        "# Predict with Neural Network\n",
        "nn_pred_prob = nn_model.predict(X_test_nn)\n",
        "nn_pred = (nn_pred_prob > 0.5).astype(int).flatten()\n",
        "\n",
        "# ============================= ELASTIC NET STACKING =============================\n",
        "print(\"\\nTraining Elastic Net for Stacking...\")\n",
        "# Combine predictions for stacking\n",
        "stacked_features = np.column_stack((rf_pred, xgb_pred, nn_pred))\n",
        "\n",
        "# Train Elastic Net\n",
        "elastic_net = ElasticNet(alpha=0.1, l1_ratio=0.5, random_state=42)\n",
        "\n",
        "start_time = time.time()\n",
        "start_memory, start_cpu = get_resource_usage()\n",
        "\n",
        "elastic_net.fit(stacked_features, y_test)  # Using test set predictions for demonstration\n",
        "\n",
        "end_memory, end_cpu = get_resource_usage()\n",
        "training_time = time.time() - start_time\n",
        "memory_used = end_memory - start_memory\n",
        "\n",
        "print(f\"Elenet Training Time: {training_time:.2f}s, Memory Used: {memory_used:.2f}MB, CPU: {start_cpu}% -> {end_cpu}%\")\n",
        "\n",
        "# Final Predictions using Elastic Net\n",
        "final_pred = elastic_net.predict(stacked_features)\n",
        "final_pred_binary = (final_pred > 0.5).astype(int)\n",
        "\n",
        "end_time = time.time()\n",
        "testing_time = end_time - start_time\n",
        "\n",
        "# Evaluate Ensemble Model\n",
        "accuracy = accuracy_score(y_test, final_pred_binary)\n",
        "print(f\"Ensemble Model Accuracy (Elastic Net): {accuracy:.2f}\")\n",
        "print(f\"Testing Time: {testing_time:.2f} seconds\")"
      ],
      "metadata": {
        "id": "HlIeSctysKX_",
        "colab": {
          "base_uri": "https://localhost:8080/"
        },
        "outputId": "72dad46e-b4ff-4203-d22c-8cfd214cb081"
      },
      "execution_count": null,
      "outputs": [
        {
          "output_type": "stream",
          "name": "stdout",
          "text": [
            "\n",
            "Training Random Forest...\n",
            "RF Training Time: 2.55s, Memory Used: 1.90MB, CPU: 0.0% -> 0.0%\n",
            "\n",
            "Training XGBoost...\n"
          ]
        },
        {
          "output_type": "stream",
          "name": "stderr",
          "text": [
            "/usr/local/lib/python3.10/dist-packages/xgboost/core.py:158: UserWarning: [06:42:52] WARNING: /workspace/src/learner.cc:740: \n",
            "Parameters: { \"use_label_encoder\" } are not used.\n",
            "\n",
            "  warnings.warn(smsg, UserWarning)\n"
          ]
        },
        {
          "output_type": "stream",
          "name": "stdout",
          "text": [
            "XGBoost Training Time: 0.43s, Memory Used: 7.62MB, CPU: 0.0% -> 0.0%\n",
            "\n",
            "Training Neural Network...\n"
          ]
        },
        {
          "output_type": "stream",
          "name": "stderr",
          "text": [
            "/usr/local/lib/python3.10/dist-packages/keras/src/layers/core/dense.py:87: UserWarning: Do not pass an `input_shape`/`input_dim` argument to a layer. When using Sequential models, prefer using an `Input(shape)` object as the first layer in the model instead.\n",
            "  super().__init__(activity_regularizer=activity_regularizer, **kwargs)\n"
          ]
        },
        {
          "output_type": "stream",
          "name": "stdout",
          "text": [
            "Epoch 1/10\n",
            "\u001b[1m156/156\u001b[0m \u001b[32m━━━━━━━━━━━━━━━━━━━━\u001b[0m\u001b[37m\u001b[0m \u001b[1m2s\u001b[0m 3ms/step - accuracy: 0.6529 - loss: 0.6296\n",
            "Epoch 2/10\n",
            "\u001b[1m156/156\u001b[0m \u001b[32m━━━━━━━━━━━━━━━━━━━━\u001b[0m\u001b[37m\u001b[0m \u001b[1m0s\u001b[0m 2ms/step - accuracy: 0.7426 - loss: 0.5245\n",
            "Epoch 3/10\n",
            "\u001b[1m156/156\u001b[0m \u001b[32m━━━━━━━━━━━━━━━━━━━━\u001b[0m\u001b[37m\u001b[0m \u001b[1m1s\u001b[0m 3ms/step - accuracy: 0.7354 - loss: 0.5009\n",
            "Epoch 4/10\n",
            "\u001b[1m156/156\u001b[0m \u001b[32m━━━━━━━━━━━━━━━━━━━━\u001b[0m\u001b[37m\u001b[0m \u001b[1m0s\u001b[0m 2ms/step - accuracy: 0.7813 - loss: 0.4464\n",
            "Epoch 5/10\n",
            "\u001b[1m156/156\u001b[0m \u001b[32m━━━━━━━━━━━━━━━━━━━━\u001b[0m\u001b[37m\u001b[0m \u001b[1m0s\u001b[0m 3ms/step - accuracy: 0.8504 - loss: 0.3880\n",
            "Epoch 6/10\n",
            "\u001b[1m156/156\u001b[0m \u001b[32m━━━━━━━━━━━━━━━━━━━━\u001b[0m\u001b[37m\u001b[0m \u001b[1m0s\u001b[0m 2ms/step - accuracy: 0.8689 - loss: 0.3274\n",
            "Epoch 7/10\n",
            "\u001b[1m156/156\u001b[0m \u001b[32m━━━━━━━━━━━━━━━━━━━━\u001b[0m\u001b[37m\u001b[0m \u001b[1m0s\u001b[0m 2ms/step - accuracy: 0.8856 - loss: 0.2851\n",
            "Epoch 8/10\n",
            "\u001b[1m156/156\u001b[0m \u001b[32m━━━━━━━━━━━━━━━━━━━━\u001b[0m\u001b[37m\u001b[0m \u001b[1m0s\u001b[0m 1ms/step - accuracy: 0.8959 - loss: 0.2570\n",
            "Epoch 9/10\n",
            "\u001b[1m156/156\u001b[0m \u001b[32m━━━━━━━━━━━━━━━━━━━━\u001b[0m\u001b[37m\u001b[0m \u001b[1m0s\u001b[0m 2ms/step - accuracy: 0.9045 - loss: 0.2299\n",
            "Epoch 10/10\n",
            "\u001b[1m156/156\u001b[0m \u001b[32m━━━━━━━━━━━━━━━━━━━━\u001b[0m\u001b[37m\u001b[0m \u001b[1m0s\u001b[0m 2ms/step - accuracy: 0.9202 - loss: 0.2167\n",
            "NN Training Time: 5.83s, Memory Used: 34.98MB, CPU: 0.0% -> 0.0%\n",
            "\u001b[1m78/78\u001b[0m \u001b[32m━━━━━━━━━━━━━━━━━━━━\u001b[0m\u001b[37m\u001b[0m \u001b[1m0s\u001b[0m 1ms/step\n",
            "\n",
            "Training Elastic Net for Stacking...\n",
            "Elenet Training Time: 0.21s, Memory Used: 0.00MB, CPU: 0.0% -> 0.0%\n",
            "Ensemble Model Accuracy (Elastic Net): 0.99\n",
            "Testing Time: 0.21 seconds\n"
          ]
        }
      ]
    },
    {
      "cell_type": "markdown",
      "source": [
        "## **10 columns**"
      ],
      "metadata": {
        "id": "kQKYhVU6ZTdX"
      }
    },
    {
      "cell_type": "code",
      "source": [
        "# List of required columns\n",
        "selected_columns = [\n",
        "    \"Time Diff between first and last (Mins)\",\n",
        "    \" ERC20 uniq rec token name\",\n",
        "    \" ERC20 total Ether received\",\n",
        "    \"Avg min between received tnx\",\n",
        "    \"avg val received\",\n",
        "    \"Sent tnx\",\n",
        "    \"max value received \",\n",
        "    \"Received Tnx\",\n",
        "    \"total ether balance\",\n",
        "    \"total Ether sent\",\n",
        "    \"FLAG\"\n",
        "]\n",
        "\n",
        "# Load the dataset and select required columns\n",
        "data = pd.read_csv(\"/content/balanced_data.csv\")[selected_columns]"
      ],
      "metadata": {
        "id": "GEL3fuwdt7Gt"
      },
      "execution_count": null,
      "outputs": []
    },
    {
      "cell_type": "code",
      "source": [
        "# Load your data\n",
        "X = data.drop(\"FLAG\", axis=1)\n",
        "y = data[\"FLAG\"]\n",
        "from sklearn.model_selection import train_test_split\n",
        "\n",
        "# Split data into train and test sets\n",
        "X_train, X_test, y_train, y_test = train_test_split(X, y, test_size=0.2, random_state=42)"
      ],
      "metadata": {
        "id": "t4PeiYh1w9mp"
      },
      "execution_count": null,
      "outputs": []
    },
    {
      "cell_type": "code",
      "source": [
        "import warnings\n",
        "\n",
        "# Suppress all warnings\n",
        "warnings.filterwarnings(\"ignore\")"
      ],
      "metadata": {
        "id": "CR_97TCMxptF"
      },
      "execution_count": null,
      "outputs": []
    },
    {
      "cell_type": "code",
      "source": [
        "import time\n",
        "import psutil\n",
        "from sklearn.ensemble import RandomForestClassifier\n",
        "from sklearn.datasets import make_classification\n",
        "from sklearn.model_selection import train_test_split\n",
        "from sklearn.metrics import accuracy_score\n",
        "\n",
        "# Function to monitor resource usage\n",
        "def get_resource_usage():\n",
        "    process = psutil.Process()\n",
        "    memory_info = process.memory_info()\n",
        "    cpu_percent = process.cpu_percent(interval=0.1)\n",
        "    return memory_info.rss / (1024 * 1024), cpu_percent  # Return memory in MB and CPU percentage\n",
        "\n",
        "# Track training time and resource allocation\n",
        "start_time = time.time()\n",
        "start_memory, start_cpu = get_resource_usage()\n",
        "\n",
        "# Training the model\n",
        "model = RandomForestClassifier(\n",
        "    max_depth=10,\n",
        "    max_features=0.3139538085100205,\n",
        "    min_samples_leaf=int(1.7307339350609041),  # Ensure integer value\n",
        "    min_samples_split=int(14.052804288439336),  # Ensure integer value\n",
        "    n_estimators=123\n",
        ")\n",
        "model.fit(X_train, y_train)\n",
        "\n",
        "end_memory, end_cpu = get_resource_usage()\n",
        "end_time = time.time()\n",
        "\n",
        "training_time = end_time - start_time\n",
        "memory_used = end_memory - start_memory\n",
        "\n",
        "print(f\"Training Time: {training_time:.2f} seconds\")\n",
        "print(f\"Memory Used during Training: {memory_used:.2f} MB\")\n",
        "print(f\"CPU Usage during Training: {start_cpu}% -> {end_cpu}%\")\n",
        "\n",
        "# Track testing time\n",
        "start_time = time.time()\n",
        "\n",
        "# Testing the model\n",
        "y_pred = model.predict(X_test)\n",
        "\n",
        "end_time = time.time()\n",
        "testing_time = end_time - start_time\n",
        "\n",
        "accuracy = accuracy_score(y_test, y_pred)\n",
        "print(f\"Testing Time: {testing_time:.2f} seconds\")\n",
        "print(f\"Model Accuracy: {accuracy:.2f}\")"
      ],
      "metadata": {
        "colab": {
          "base_uri": "https://localhost:8080/"
        },
        "id": "iMNhyfENy59h",
        "outputId": "ba840e10-19e0-4e90-a970-8685a8947147"
      },
      "execution_count": null,
      "outputs": [
        {
          "output_type": "stream",
          "name": "stdout",
          "text": [
            "Training Time: 2.16 seconds\n",
            "Memory Used during Training: 1.29 MB\n",
            "CPU Usage during Training: 0.0% -> 0.0%\n",
            "Testing Time: 0.03 seconds\n",
            "Model Accuracy: 0.99\n"
          ]
        }
      ]
    },
    {
      "cell_type": "code",
      "source": [
        "import time\n",
        "import psutil\n",
        "from xgboost import XGBClassifier\n",
        "from sklearn.datasets import make_classification\n",
        "from sklearn.model_selection import train_test_split\n",
        "from sklearn.metrics import accuracy_score\n",
        "\n",
        "\n",
        "# Function to monitor resource usage\n",
        "def get_resource_usage():\n",
        "    process = psutil.Process()\n",
        "    memory_info = process.memory_info()\n",
        "    cpu_percent = process.cpu_percent(interval=0.1)\n",
        "    return memory_info.rss / (1024 * 1024), cpu_percent  # Memory in MB, CPU %\n",
        "\n",
        "# Define best hyperparameters for XGBoost\n",
        "xgb_params = {\n",
        "    'colsample_bytree': 0.9729370974093524,\n",
        "    'learning_rate': 0.48726788904554486,\n",
        "    'max_depth': 3,\n",
        "    'min_child_weight': 4,\n",
        "    'n_estimators': 105,\n",
        "    'subsample': 0.894412699905483,\n",
        "    'objective': 'binary:logistic',\n",
        "    'use_label_encoder': False\n",
        "}\n",
        "best_xgb = XGBClassifier(**xgb_params)\n",
        "\n",
        "# Track training time and resource usage\n",
        "start_time = time.time()\n",
        "start_memory, start_cpu = get_resource_usage()\n",
        "\n",
        "# Training the model\n",
        "best_xgb.fit(X_train, y_train)\n",
        "\n",
        "end_memory, end_cpu = get_resource_usage()\n",
        "end_time = time.time()\n",
        "\n",
        "training_time = end_time - start_time\n",
        "memory_used = end_memory - start_memory\n",
        "\n",
        "print(f\"XGBoost Training Time: {training_time:.2f} seconds\")\n",
        "print(f\"Memory Used during Training: {memory_used:.2f} MB\")\n",
        "print(f\"CPU Usage during Training: {start_cpu}% -> {end_cpu}%\")\n",
        "\n",
        "# Track testing time\n",
        "start_time = time.time()\n",
        "\n",
        "# Testing the model\n",
        "y_pred = best_xgb.predict(X_test)\n",
        "\n",
        "end_time = time.time()\n",
        "testing_time = end_time - start_time\n",
        "\n",
        "accuracy = accuracy_score(y_test, y_pred)\n",
        "print(f\"XGBoost Testing Time: {testing_time:.2f} seconds\")\n",
        "print(f\"XGBoost Model Accuracy: {accuracy:.2f}\")"
      ],
      "metadata": {
        "colab": {
          "base_uri": "https://localhost:8080/"
        },
        "id": "hmMOKbwFzHaS",
        "outputId": "b5a03576-baab-448d-9335-57c5a7ea19d0"
      },
      "execution_count": null,
      "outputs": [
        {
          "output_type": "stream",
          "name": "stdout",
          "text": [
            "XGBoost Training Time: 1.36 seconds\n",
            "Memory Used during Training: 1.29 MB\n",
            "CPU Usage during Training: 0.0% -> 0.0%\n",
            "XGBoost Testing Time: 0.02 seconds\n",
            "XGBoost Model Accuracy: 0.99\n"
          ]
        }
      ]
    },
    {
      "cell_type": "code",
      "source": [
        "import time\n",
        "import psutil\n",
        "import numpy as np\n",
        "from tensorflow.keras.models import Sequential\n",
        "from tensorflow.keras.layers import Dense\n",
        "from sklearn.datasets import make_classification\n",
        "from sklearn.model_selection import train_test_split\n",
        "from sklearn.metrics import accuracy_score\n",
        "\n",
        "# Define best hyperparameters for Neural Network\n",
        "def create_model():\n",
        "    model = Sequential()\n",
        "    model.add(Dense(units=128, activation='relu', input_shape=(X_train.shape[1],)))\n",
        "    model.add(Dense(units=128, activation='relu'))\n",
        "    model.add(Dense(units=1, activation='sigmoid'))\n",
        "    model.compile(optimizer='adam', loss='binary_crossentropy', metrics=['accuracy'])\n",
        "    return model\n",
        "\n",
        "# Initialize the model\n",
        "best_nn = create_model()\n",
        "\n",
        "# Function to monitor resource usage\n",
        "def get_resource_usage():\n",
        "    process = psutil.Process()\n",
        "    memory_info = process.memory_info()\n",
        "    cpu_percent = process.cpu_percent(interval=0.1)\n",
        "    return memory_info.rss / (1024 * 1024), cpu_percent  # Memory in MB, CPU %\n",
        "\n",
        "# Measure training time and resource usage\n",
        "start_time = time.time()\n",
        "start_memory, start_cpu = get_resource_usage()\n",
        "\n",
        "# Train the model\n",
        "history = best_nn.fit(X_train, y_train, epochs=10, batch_size=64, verbose=1)\n",
        "\n",
        "end_memory, end_cpu = get_resource_usage()\n",
        "end_time = time.time()\n",
        "\n",
        "training_time = end_time - start_time\n",
        "memory_used = end_memory - start_memory\n",
        "\n",
        "print(f\"Training Time: {training_time:.2f} seconds\")\n",
        "print(f\"Memory Used during Training: {memory_used:.2f} MB\")\n",
        "print(f\"CPU Usage during Training: {start_cpu}% -> {end_cpu}%\")\n",
        "\n",
        "# Measure testing time\n",
        "start_time = time.time()\n",
        "\n",
        "# Make predictions\n",
        "y_pred = best_nn.predict(X_test)\n",
        "y_pred = (y_pred > 0.5).astype(int)  # Convert probabilities to binary predictions\n",
        "\n",
        "end_time = time.time()\n",
        "testing_time = end_time - start_time\n",
        "\n",
        "# Evaluate the model\n",
        "accuracy = accuracy_score(y_test, y_pred)\n",
        "print(f\"Testing Time: {testing_time:.2f} seconds\")\n",
        "print(f\"Model Accuracy: {accuracy:.2f}\")"
      ],
      "metadata": {
        "colab": {
          "base_uri": "https://localhost:8080/"
        },
        "id": "AYxdA2WgzUD0",
        "outputId": "2558ca90-0d07-489c-d75f-367190ee8201"
      },
      "execution_count": null,
      "outputs": [
        {
          "output_type": "stream",
          "name": "stdout",
          "text": [
            "Epoch 1/10\n",
            "\u001b[1m156/156\u001b[0m \u001b[32m━━━━━━━━━━━━━━━━━━━━\u001b[0m\u001b[37m\u001b[0m \u001b[1m2s\u001b[0m 2ms/step - accuracy: 0.5928 - loss: 32142.3457\n",
            "Epoch 2/10\n",
            "\u001b[1m156/156\u001b[0m \u001b[32m━━━━━━━━━━━━━━━━━━━━\u001b[0m\u001b[37m\u001b[0m \u001b[1m0s\u001b[0m 2ms/step - accuracy: 0.5799 - loss: 7958.7832\n",
            "Epoch 3/10\n",
            "\u001b[1m156/156\u001b[0m \u001b[32m━━━━━━━━━━━━━━━━━━━━\u001b[0m\u001b[37m\u001b[0m \u001b[1m0s\u001b[0m 1ms/step - accuracy: 0.6515 - loss: 23497.1680\n",
            "Epoch 4/10\n",
            "\u001b[1m156/156\u001b[0m \u001b[32m━━━━━━━━━━━━━━━━━━━━\u001b[0m\u001b[37m\u001b[0m \u001b[1m0s\u001b[0m 2ms/step - accuracy: 0.6185 - loss: 38644.1328\n",
            "Epoch 5/10\n",
            "\u001b[1m156/156\u001b[0m \u001b[32m━━━━━━━━━━━━━━━━━━━━\u001b[0m\u001b[37m\u001b[0m \u001b[1m0s\u001b[0m 2ms/step - accuracy: 0.6725 - loss: 3559.4077\n",
            "Epoch 6/10\n",
            "\u001b[1m156/156\u001b[0m \u001b[32m━━━━━━━━━━━━━━━━━━━━\u001b[0m\u001b[37m\u001b[0m \u001b[1m0s\u001b[0m 2ms/step - accuracy: 0.6791 - loss: 160506.5312\n",
            "Epoch 7/10\n",
            "\u001b[1m156/156\u001b[0m \u001b[32m━━━━━━━━━━━━━━━━━━━━\u001b[0m\u001b[37m\u001b[0m \u001b[1m0s\u001b[0m 2ms/step - accuracy: 0.7223 - loss: 19598.7012\n",
            "Epoch 8/10\n",
            "\u001b[1m156/156\u001b[0m \u001b[32m━━━━━━━━━━━━━━━━━━━━\u001b[0m\u001b[37m\u001b[0m \u001b[1m0s\u001b[0m 2ms/step - accuracy: 0.6994 - loss: 11862.9004\n",
            "Epoch 9/10\n",
            "\u001b[1m156/156\u001b[0m \u001b[32m━━━━━━━━━━━━━━━━━━━━\u001b[0m\u001b[37m\u001b[0m \u001b[1m0s\u001b[0m 2ms/step - accuracy: 0.6902 - loss: 27888.5684\n",
            "Epoch 10/10\n",
            "\u001b[1m156/156\u001b[0m \u001b[32m━━━━━━━━━━━━━━━━━━━━\u001b[0m\u001b[37m\u001b[0m \u001b[1m0s\u001b[0m 2ms/step - accuracy: 0.6907 - loss: 50205.3516\n",
            "Training Time: 4.66 seconds\n",
            "Memory Used during Training: 11.76 MB\n",
            "CPU Usage during Training: 0.0% -> 0.0%\n",
            "\u001b[1m78/78\u001b[0m \u001b[32m━━━━━━━━━━━━━━━━━━━━\u001b[0m\u001b[37m\u001b[0m \u001b[1m0s\u001b[0m 2ms/step\n",
            "Testing Time: 0.36 seconds\n",
            "Model Accuracy: 0.67\n"
          ]
        }
      ]
    },
    {
      "cell_type": "code",
      "source": [
        "import time\n",
        "import psutil\n",
        "import numpy as np\n",
        "from sklearn.ensemble import RandomForestClassifier\n",
        "from xgboost import XGBClassifier\n",
        "from tensorflow.keras.models import Sequential\n",
        "from tensorflow.keras.layers import Dense\n",
        "from sklearn.linear_model import ElasticNet\n",
        "from sklearn.datasets import make_classification\n",
        "from sklearn.model_selection import train_test_split\n",
        "from sklearn.metrics import accuracy_score\n",
        "\n",
        "# Function to monitor resource usage\n",
        "def get_resource_usage():\n",
        "    process = psutil.Process()\n",
        "    memory_info = process.memory_info()\n",
        "    cpu_percent = process.cpu_percent(interval=0.1)\n",
        "    return memory_info.rss / (1024 * 1024), cpu_percent  # Memory in MB, CPU %\n",
        "\n",
        "# Normalize data for Neural Network\n",
        "X_train_nn = X_train / np.max(X_train, axis=0)\n",
        "X_test_nn = X_test / np.max(X_train, axis=0)\n",
        "\n",
        "# ============================= RANDOM FOREST =============================\n",
        "print(\"\\nTraining Random Forest...\")\n",
        "rf_params = {\n",
        "    'max_depth': 10,\n",
        "    'max_features': 0.3139538085100205,\n",
        "    'min_samples_leaf': int(1.7307339350609041),\n",
        "    'min_samples_split': int(14.052804288439336),\n",
        "    'n_estimators': 123\n",
        "}\n",
        "rf_model = RandomForestClassifier(**rf_params)\n",
        "\n",
        "start_time = time.time()\n",
        "start_memory, start_cpu = get_resource_usage()\n",
        "\n",
        "rf_model.fit(X_train, y_train)\n",
        "\n",
        "end_memory, end_cpu = get_resource_usage()\n",
        "training_time = time.time() - start_time\n",
        "memory_used = end_memory - start_memory\n",
        "end_time = time.time()\n",
        "testing_time = end_time - start_time\n",
        "\n",
        "print(f\"Testing Time: {testing_time:.2f} seconds\")\n",
        "\n",
        "print(f\"RF Training Time: {training_time:.2f}s, Memory Used: {memory_used:.2f}MB, CPU: {start_cpu}% -> {end_cpu}%\")\n",
        "\n",
        "# Predict with Random Forest\n",
        "rf_pred = rf_model.predict(X_test)\n",
        "\n",
        "# ============================= XGBOOST =============================\n",
        "print(\"\\nTraining XGBoost...\")\n",
        "xgb_params = {\n",
        "    'colsample_bytree': 0.9729370974093524,\n",
        "    'learning_rate': 0.48726788904554486,\n",
        "    'max_depth': 3,\n",
        "    'min_child_weight': 4,\n",
        "    'n_estimators': 105,\n",
        "    'subsample': 0.894412699905483,\n",
        "    'objective': 'binary:logistic',\n",
        "    'use_label_encoder': False\n",
        "}\n",
        "xgb_model = XGBClassifier(**xgb_params)\n",
        "\n",
        "start_time = time.time()\n",
        "start_memory, start_cpu = get_resource_usage()\n",
        "\n",
        "xgb_model.fit(X_train, y_train)\n",
        "\n",
        "end_memory, end_cpu = get_resource_usage()\n",
        "training_time = time.time() - start_time\n",
        "memory_used = end_memory - start_memory\n",
        "end_time = time.time()\n",
        "testing_time = end_time - start_time\n",
        "\n",
        "print(f\"Testing Time: {testing_time:.2f} seconds\")\n",
        "\n",
        "print(f\"XGBoost Training Time: {training_time:.2f}s, Memory Used: {memory_used:.2f}MB, CPU: {start_cpu}% -> {end_cpu}%\")\n",
        "\n",
        "# Predict with XGBoost\n",
        "xgb_pred = xgb_model.predict(X_test)\n",
        "\n",
        "# ============================= NEURAL NETWORK =============================\n",
        "print(\"\\nTraining Neural Network...\")\n",
        "def create_nn_model():\n",
        "    model = Sequential()\n",
        "    model.add(Dense(units=128, activation='relu', input_shape=(X_train_nn.shape[1],)))\n",
        "    model.add(Dense(units=128, activation='relu'))\n",
        "    model.add(Dense(units=1, activation='sigmoid'))\n",
        "    model.compile(optimizer='adam', loss='binary_crossentropy', metrics=['accuracy'])\n",
        "    return model\n",
        "\n",
        "nn_model = create_nn_model()\n",
        "\n",
        "start_time = time.time()\n",
        "start_memory, start_cpu = get_resource_usage()\n",
        "\n",
        "nn_model.fit(X_train_nn, y_train, epochs=10, batch_size=64, verbose=1)\n",
        "\n",
        "end_memory, end_cpu = get_resource_usage()\n",
        "training_time = time.time() - start_time\n",
        "memory_used = end_memory - start_memory\n",
        "end_time = time.time()\n",
        "testing_time = end_time - start_time\n",
        "\n",
        "print(f\"Testing Time: {testing_time:.2f} seconds\")\n",
        "\n",
        "print(f\"NN Training Time: {training_time:.2f}s, Memory Used: {memory_used:.2f}MB, CPU: {start_cpu}% -> {end_cpu}%\")\n",
        "\n",
        "# Predict with Neural Network\n",
        "nn_pred_prob = nn_model.predict(X_test_nn)\n",
        "nn_pred = (nn_pred_prob > 0.5).astype(int).flatten()\n",
        "\n",
        "# ============================= ELASTIC NET STACKING =============================\n",
        "print(\"\\nTraining Elastic Net for Stacking...\")\n",
        "# Combine predictions for stacking\n",
        "stacked_features = np.column_stack((rf_pred, xgb_pred, nn_pred))\n",
        "\n",
        "# Train Elastic Net\n",
        "elastic_net = ElasticNet(alpha=0.1, l1_ratio=0.5, random_state=42)\n",
        "\n",
        "start_time = time.time()\n",
        "start_memory, start_cpu = get_resource_usage()\n",
        "\n",
        "elastic_net.fit(stacked_features, y_test)  # Using test set predictions for demonstration\n",
        "\n",
        "end_memory, end_cpu = get_resource_usage()\n",
        "training_time = time.time() - start_time\n",
        "memory_used = end_memory - start_memory\n",
        "\n",
        "print(f\"Elenet Training Time: {training_time:.2f}s, Memory Used: {memory_used:.2f}MB, CPU: {start_cpu}% -> {end_cpu}%\")\n",
        "\n",
        "# Final Predictions using Elastic Net\n",
        "final_pred = elastic_net.predict(stacked_features)\n",
        "final_pred_binary = (final_pred > 0.5).astype(int)\n",
        "\n",
        "end_time = time.time()\n",
        "testing_time = end_time - start_time\n",
        "\n",
        "# Evaluate Ensemble Model\n",
        "accuracy = accuracy_score(y_test, final_pred_binary)\n",
        "print(f\"Ensemble Model Accuracy (Elastic Net): {accuracy:.2f}\")\n",
        "print(f\"Testing Time: {testing_time:.2f} seconds\")"
      ],
      "metadata": {
        "colab": {
          "base_uri": "https://localhost:8080/"
        },
        "id": "vmBUeMXuxeAA",
        "outputId": "fb9ba2b5-0b04-4ead-e0cf-d07f59b06c05"
      },
      "execution_count": null,
      "outputs": [
        {
          "output_type": "stream",
          "name": "stdout",
          "text": [
            "\n",
            "Training Random Forest...\n",
            "Testing Time: 2.18 seconds\n",
            "RF Training Time: 2.18s, Memory Used: 0.77MB, CPU: 10.0% -> 0.0%\n",
            "\n",
            "Training XGBoost...\n",
            "Testing Time: 0.33 seconds\n",
            "XGBoost Training Time: 0.33s, Memory Used: 0.00MB, CPU: 0.0% -> 0.0%\n",
            "\n",
            "Training Neural Network...\n",
            "Epoch 1/10\n",
            "\u001b[1m156/156\u001b[0m \u001b[32m━━━━━━━━━━━━━━━━━━━━\u001b[0m\u001b[37m\u001b[0m \u001b[1m2s\u001b[0m 2ms/step - accuracy: 0.6919 - loss: 0.6254\n",
            "Epoch 2/10\n",
            "\u001b[1m156/156\u001b[0m \u001b[32m━━━━━━━━━━━━━━━━━━━━\u001b[0m\u001b[37m\u001b[0m \u001b[1m0s\u001b[0m 2ms/step - accuracy: 0.7353 - loss: 0.5296\n",
            "Epoch 3/10\n",
            "\u001b[1m156/156\u001b[0m \u001b[32m━━━━━━━━━━━━━━━━━━━━\u001b[0m\u001b[37m\u001b[0m \u001b[1m0s\u001b[0m 2ms/step - accuracy: 0.7403 - loss: 0.4900\n",
            "Epoch 4/10\n",
            "\u001b[1m156/156\u001b[0m \u001b[32m━━━━━━━━━━━━━━━━━━━━\u001b[0m\u001b[37m\u001b[0m \u001b[1m0s\u001b[0m 2ms/step - accuracy: 0.7851 - loss: 0.4423\n",
            "Epoch 5/10\n",
            "\u001b[1m156/156\u001b[0m \u001b[32m━━━━━━━━━━━━━━━━━━━━\u001b[0m\u001b[37m\u001b[0m \u001b[1m0s\u001b[0m 2ms/step - accuracy: 0.8390 - loss: 0.3873\n",
            "Epoch 6/10\n",
            "\u001b[1m156/156\u001b[0m \u001b[32m━━━━━━━━━━━━━━━━━━━━\u001b[0m\u001b[37m\u001b[0m \u001b[1m0s\u001b[0m 2ms/step - accuracy: 0.8792 - loss: 0.3243\n",
            "Epoch 7/10\n",
            "\u001b[1m156/156\u001b[0m \u001b[32m━━━━━━━━━━━━━━━━━━━━\u001b[0m\u001b[37m\u001b[0m \u001b[1m0s\u001b[0m 2ms/step - accuracy: 0.8984 - loss: 0.2699\n",
            "Epoch 8/10\n",
            "\u001b[1m156/156\u001b[0m \u001b[32m━━━━━━━━━━━━━━━━━━━━\u001b[0m\u001b[37m\u001b[0m \u001b[1m0s\u001b[0m 2ms/step - accuracy: 0.9139 - loss: 0.2431\n",
            "Epoch 9/10\n",
            "\u001b[1m156/156\u001b[0m \u001b[32m━━━━━━━━━━━━━━━━━━━━\u001b[0m\u001b[37m\u001b[0m \u001b[1m0s\u001b[0m 2ms/step - accuracy: 0.9284 - loss: 0.2221\n",
            "Epoch 10/10\n",
            "\u001b[1m156/156\u001b[0m \u001b[32m━━━━━━━━━━━━━━━━━━━━\u001b[0m\u001b[37m\u001b[0m \u001b[1m0s\u001b[0m 2ms/step - accuracy: 0.9430 - loss: 0.2038\n",
            "Testing Time: 4.84 seconds\n",
            "NN Training Time: 4.84s, Memory Used: -9.50MB, CPU: 0.0% -> 0.0%\n",
            "\u001b[1m78/78\u001b[0m \u001b[32m━━━━━━━━━━━━━━━━━━━━\u001b[0m\u001b[37m\u001b[0m \u001b[1m0s\u001b[0m 2ms/step\n",
            "\n",
            "Training Elastic Net for Stacking...\n",
            "Elenet Training Time: 0.20s, Memory Used: 0.00MB, CPU: 10.0% -> 0.0%\n",
            "Ensemble Model Accuracy (Elastic Net): 0.99\n",
            "Testing Time: 0.21 seconds\n"
          ]
        }
      ]
    },
    {
      "cell_type": "code",
      "source": [
        "import numpy as np\n",
        "import matplotlib.pyplot as plt\n",
        "from sklearn.model_selection import train_test_split\n",
        "from sklearn.ensemble import RandomForestClassifier\n",
        "from sklearn.metrics import accuracy_score\n",
        "\n",
        "# Define the Random Forest model\n",
        "rf_model = RandomForestClassifier(n_estimators=100, random_state=42)\n",
        "\n",
        "# Fit the Random Forest model\n",
        "rf_model.fit(X_train, y_train)\n",
        "\n",
        "# Perform bootstrapping for uncertainty analysis\n",
        "n_bootstraps = 100\n",
        "bootstrap_preds = np.zeros((n_bootstraps, X_test.shape[0]))\n",
        "\n",
        "# Perform bootstrapping\n",
        "for i in range(n_bootstraps):\n",
        "    # Sample with replacement from the training data\n",
        "    X_bootstrap, _, y_bootstrap, _ = train_test_split(X_train, y_train, test_size=0.3, random_state=i)\n",
        "\n",
        "    # Re-fit the Random Forest model on the bootstrapped dataset\n",
        "    rf_model.fit(X_bootstrap, y_bootstrap)\n",
        "\n",
        "    # Get predictions for the test set\n",
        "    bootstrap_preds[i] = rf_model.predict(X_test)\n",
        "\n",
        "# Calculate the mean and standard deviation of predictions\n",
        "mean_preds = np.mean(bootstrap_preds, axis=0)  # Mean predictions\n",
        "std_preds = np.std(bootstrap_preds, axis=0)    # Standard deviation (uncertainty) of predictions\n",
        "\n",
        "# Display the results for each test sample\n",
        "print(\"Uncertainty Analysis for Test Samples (Random Forest):\")\n",
        "for idx, (mean, std) in enumerate(zip(mean_preds, std_preds)):\n",
        "    print(f\"Test Sample {idx + 1}: Mean Prediction = {mean:.4f}, Std Dev = {std:.4f}\")\n",
        "\n",
        "# Calculate the overall average of mean predictions and standard deviations\n",
        "average_mean_prediction = np.mean(mean_preds)\n",
        "average_std_deviation = np.mean(std_preds)\n",
        "\n",
        "# Display the overall averages\n",
        "print(f\"Average Mean Prediction: {average_mean_prediction:.4f}\")\n",
        "print(f\"Average Standard Deviation: {average_std_deviation:.4f}\")\n",
        "\n",
        "# Visualize the uncertainty (standard deviation) as a bar plot\n",
        "plt.figure(figsize=(10, 6))\n",
        "plt.bar(range(len(std_preds)), std_preds, alpha=0.7, label=\"Random Forest Uncertainty (Std Dev)\")\n",
        "plt.title(\"Uncertainty in Random Forest Predictions (Standard Deviation)\")\n",
        "plt.ylabel(\"Standard Deviation of Predictions\")\n",
        "plt.xlabel(\"Test Samples\")\n",
        "plt.legend()\n",
        "plt.show()"
      ],
      "metadata": {
        "colab": {
          "base_uri": "https://localhost:8080/",
          "height": 1000
        },
        "id": "GBfPfhLIOOSS",
        "outputId": "266ea38f-bff6-434a-e4a5-90a14483ccaf"
      },
      "execution_count": null,
      "outputs": [
        {
          "output_type": "stream",
          "name": "stdout",
          "text": [
            "Uncertainty Analysis for Test Samples (Random Forest):\n",
            "Test Sample 1: Mean Prediction = 1.0000, Std Dev = 0.0000\n",
            "Test Sample 2: Mean Prediction = 1.0000, Std Dev = 0.0000\n",
            "Test Sample 3: Mean Prediction = 1.0000, Std Dev = 0.0000\n",
            "Test Sample 4: Mean Prediction = 0.0000, Std Dev = 0.0000\n",
            "Test Sample 5: Mean Prediction = 1.0000, Std Dev = 0.0000\n",
            "Test Sample 6: Mean Prediction = 0.0000, Std Dev = 0.0000\n",
            "Test Sample 7: Mean Prediction = 1.0000, Std Dev = 0.0000\n",
            "Test Sample 8: Mean Prediction = 1.0000, Std Dev = 0.0000\n",
            "Test Sample 9: Mean Prediction = 1.0000, Std Dev = 0.0000\n",
            "Test Sample 10: Mean Prediction = 0.0000, Std Dev = 0.0000\n",
            "Test Sample 11: Mean Prediction = 0.0000, Std Dev = 0.0000\n",
            "Test Sample 12: Mean Prediction = 0.0000, Std Dev = 0.0000\n",
            "Test Sample 13: Mean Prediction = 1.0000, Std Dev = 0.0000\n",
            "Test Sample 14: Mean Prediction = 0.0000, Std Dev = 0.0000\n",
            "Test Sample 15: Mean Prediction = 0.0000, Std Dev = 0.0000\n",
            "Test Sample 16: Mean Prediction = 1.0000, Std Dev = 0.0000\n",
            "Test Sample 17: Mean Prediction = 0.0000, Std Dev = 0.0000\n",
            "Test Sample 18: Mean Prediction = 0.0000, Std Dev = 0.0000\n",
            "Test Sample 19: Mean Prediction = 0.0000, Std Dev = 0.0000\n",
            "Test Sample 20: Mean Prediction = 0.0000, Std Dev = 0.0000\n",
            "Test Sample 21: Mean Prediction = 0.0000, Std Dev = 0.0000\n",
            "Test Sample 22: Mean Prediction = 0.0000, Std Dev = 0.0000\n",
            "Test Sample 23: Mean Prediction = 0.0000, Std Dev = 0.0000\n",
            "Test Sample 24: Mean Prediction = 1.0000, Std Dev = 0.0000\n",
            "Test Sample 25: Mean Prediction = 0.0000, Std Dev = 0.0000\n",
            "Test Sample 26: Mean Prediction = 0.0000, Std Dev = 0.0000\n",
            "Test Sample 27: Mean Prediction = 0.0000, Std Dev = 0.0000\n",
            "Test Sample 28: Mean Prediction = 1.0000, Std Dev = 0.0000\n",
            "Test Sample 29: Mean Prediction = 0.0000, Std Dev = 0.0000\n",
            "Test Sample 30: Mean Prediction = 1.0000, Std Dev = 0.0000\n",
            "Test Sample 31: Mean Prediction = 0.4800, Std Dev = 0.4996\n",
            "Test Sample 32: Mean Prediction = 1.0000, Std Dev = 0.0000\n",
            "Test Sample 33: Mean Prediction = 1.0000, Std Dev = 0.0000\n",
            "Test Sample 34: Mean Prediction = 0.0000, Std Dev = 0.0000\n",
            "Test Sample 35: Mean Prediction = 1.0000, Std Dev = 0.0000\n",
            "Test Sample 36: Mean Prediction = 1.0000, Std Dev = 0.0000\n",
            "Test Sample 37: Mean Prediction = 1.0000, Std Dev = 0.0000\n",
            "Test Sample 38: Mean Prediction = 0.0000, Std Dev = 0.0000\n",
            "Test Sample 39: Mean Prediction = 0.0000, Std Dev = 0.0000\n",
            "Test Sample 40: Mean Prediction = 0.0000, Std Dev = 0.0000\n",
            "Test Sample 41: Mean Prediction = 0.2100, Std Dev = 0.4073\n",
            "Test Sample 42: Mean Prediction = 1.0000, Std Dev = 0.0000\n",
            "Test Sample 43: Mean Prediction = 0.0000, Std Dev = 0.0000\n",
            "Test Sample 44: Mean Prediction = 1.0000, Std Dev = 0.0000\n",
            "Test Sample 45: Mean Prediction = 0.0000, Std Dev = 0.0000\n",
            "Test Sample 46: Mean Prediction = 1.0000, Std Dev = 0.0000\n",
            "Test Sample 47: Mean Prediction = 1.0000, Std Dev = 0.0000\n",
            "Test Sample 48: Mean Prediction = 1.0000, Std Dev = 0.0000\n",
            "Test Sample 49: Mean Prediction = 1.0000, Std Dev = 0.0000\n",
            "Test Sample 50: Mean Prediction = 0.0000, Std Dev = 0.0000\n",
            "Test Sample 51: Mean Prediction = 1.0000, Std Dev = 0.0000\n",
            "Test Sample 52: Mean Prediction = 1.0000, Std Dev = 0.0000\n",
            "Test Sample 53: Mean Prediction = 0.0000, Std Dev = 0.0000\n",
            "Test Sample 54: Mean Prediction = 0.0000, Std Dev = 0.0000\n",
            "Test Sample 55: Mean Prediction = 0.0000, Std Dev = 0.0000\n",
            "Test Sample 56: Mean Prediction = 0.0000, Std Dev = 0.0000\n",
            "Test Sample 57: Mean Prediction = 0.0000, Std Dev = 0.0000\n",
            "Test Sample 58: Mean Prediction = 1.0000, Std Dev = 0.0000\n",
            "Test Sample 59: Mean Prediction = 0.0000, Std Dev = 0.0000\n",
            "Test Sample 60: Mean Prediction = 0.0000, Std Dev = 0.0000\n",
            "Test Sample 61: Mean Prediction = 1.0000, Std Dev = 0.0000\n",
            "Test Sample 62: Mean Prediction = 0.0000, Std Dev = 0.0000\n",
            "Test Sample 63: Mean Prediction = 1.0000, Std Dev = 0.0000\n",
            "Test Sample 64: Mean Prediction = 0.0000, Std Dev = 0.0000\n",
            "Test Sample 65: Mean Prediction = 0.0000, Std Dev = 0.0000\n",
            "Test Sample 66: Mean Prediction = 1.0000, Std Dev = 0.0000\n",
            "Test Sample 67: Mean Prediction = 1.0000, Std Dev = 0.0000\n",
            "Test Sample 68: Mean Prediction = 0.0000, Std Dev = 0.0000\n",
            "Test Sample 69: Mean Prediction = 0.0000, Std Dev = 0.0000\n",
            "Test Sample 70: Mean Prediction = 1.0000, Std Dev = 0.0000\n",
            "Test Sample 71: Mean Prediction = 0.0000, Std Dev = 0.0000\n",
            "Test Sample 72: Mean Prediction = 0.0000, Std Dev = 0.0000\n",
            "Test Sample 73: Mean Prediction = 0.0000, Std Dev = 0.0000\n",
            "Test Sample 74: Mean Prediction = 0.0000, Std Dev = 0.0000\n",
            "Test Sample 75: Mean Prediction = 0.0000, Std Dev = 0.0000\n",
            "Test Sample 76: Mean Prediction = 0.0000, Std Dev = 0.0000\n",
            "Test Sample 77: Mean Prediction = 0.0000, Std Dev = 0.0000\n",
            "Test Sample 78: Mean Prediction = 0.0000, Std Dev = 0.0000\n",
            "Test Sample 79: Mean Prediction = 1.0000, Std Dev = 0.0000\n",
            "Test Sample 80: Mean Prediction = 0.0000, Std Dev = 0.0000\n",
            "Test Sample 81: Mean Prediction = 1.0000, Std Dev = 0.0000\n",
            "Test Sample 82: Mean Prediction = 1.0000, Std Dev = 0.0000\n",
            "Test Sample 83: Mean Prediction = 0.0000, Std Dev = 0.0000\n",
            "Test Sample 84: Mean Prediction = 1.0000, Std Dev = 0.0000\n",
            "Test Sample 85: Mean Prediction = 1.0000, Std Dev = 0.0000\n",
            "Test Sample 86: Mean Prediction = 1.0000, Std Dev = 0.0000\n",
            "Test Sample 87: Mean Prediction = 1.0000, Std Dev = 0.0000\n",
            "Test Sample 88: Mean Prediction = 0.0000, Std Dev = 0.0000\n",
            "Test Sample 89: Mean Prediction = 1.0000, Std Dev = 0.0000\n",
            "Test Sample 90: Mean Prediction = 1.0000, Std Dev = 0.0000\n",
            "Test Sample 91: Mean Prediction = 1.0000, Std Dev = 0.0000\n",
            "Test Sample 92: Mean Prediction = 1.0000, Std Dev = 0.0000\n",
            "Test Sample 93: Mean Prediction = 0.0000, Std Dev = 0.0000\n",
            "Test Sample 94: Mean Prediction = 0.0000, Std Dev = 0.0000\n",
            "Test Sample 95: Mean Prediction = 1.0000, Std Dev = 0.0000\n",
            "Test Sample 96: Mean Prediction = 1.0000, Std Dev = 0.0000\n",
            "Test Sample 97: Mean Prediction = 0.0000, Std Dev = 0.0000\n",
            "Test Sample 98: Mean Prediction = 1.0000, Std Dev = 0.0000\n",
            "Test Sample 99: Mean Prediction = 1.0000, Std Dev = 0.0000\n",
            "Test Sample 100: Mean Prediction = 0.0000, Std Dev = 0.0000\n",
            "Test Sample 101: Mean Prediction = 1.0000, Std Dev = 0.0000\n",
            "Test Sample 102: Mean Prediction = 0.0000, Std Dev = 0.0000\n",
            "Test Sample 103: Mean Prediction = 0.0000, Std Dev = 0.0000\n",
            "Test Sample 104: Mean Prediction = 1.0000, Std Dev = 0.0000\n",
            "Test Sample 105: Mean Prediction = 0.0000, Std Dev = 0.0000\n",
            "Test Sample 106: Mean Prediction = 1.0000, Std Dev = 0.0000\n",
            "Test Sample 107: Mean Prediction = 0.0000, Std Dev = 0.0000\n",
            "Test Sample 108: Mean Prediction = 1.0000, Std Dev = 0.0000\n",
            "Test Sample 109: Mean Prediction = 0.0000, Std Dev = 0.0000\n",
            "Test Sample 110: Mean Prediction = 0.0000, Std Dev = 0.0000\n",
            "Test Sample 111: Mean Prediction = 1.0000, Std Dev = 0.0000\n",
            "Test Sample 112: Mean Prediction = 0.0000, Std Dev = 0.0000\n",
            "Test Sample 113: Mean Prediction = 0.0000, Std Dev = 0.0000\n",
            "Test Sample 114: Mean Prediction = 1.0000, Std Dev = 0.0000\n",
            "Test Sample 115: Mean Prediction = 1.0000, Std Dev = 0.0000\n",
            "Test Sample 116: Mean Prediction = 0.0000, Std Dev = 0.0000\n",
            "Test Sample 117: Mean Prediction = 1.0000, Std Dev = 0.0000\n",
            "Test Sample 118: Mean Prediction = 1.0000, Std Dev = 0.0000\n",
            "Test Sample 119: Mean Prediction = 0.0000, Std Dev = 0.0000\n",
            "Test Sample 120: Mean Prediction = 0.0000, Std Dev = 0.0000\n",
            "Test Sample 121: Mean Prediction = 0.0000, Std Dev = 0.0000\n",
            "Test Sample 122: Mean Prediction = 1.0000, Std Dev = 0.0000\n",
            "Test Sample 123: Mean Prediction = 0.0000, Std Dev = 0.0000\n",
            "Test Sample 124: Mean Prediction = 1.0000, Std Dev = 0.0000\n",
            "Test Sample 125: Mean Prediction = 1.0000, Std Dev = 0.0000\n",
            "Test Sample 126: Mean Prediction = 1.0000, Std Dev = 0.0000\n",
            "Test Sample 127: Mean Prediction = 0.0000, Std Dev = 0.0000\n",
            "Test Sample 128: Mean Prediction = 0.0000, Std Dev = 0.0000\n",
            "Test Sample 129: Mean Prediction = 1.0000, Std Dev = 0.0000\n",
            "Test Sample 130: Mean Prediction = 0.0000, Std Dev = 0.0000\n",
            "Test Sample 131: Mean Prediction = 1.0000, Std Dev = 0.0000\n",
            "Test Sample 132: Mean Prediction = 0.0000, Std Dev = 0.0000\n",
            "Test Sample 133: Mean Prediction = 0.0000, Std Dev = 0.0000\n",
            "Test Sample 134: Mean Prediction = 0.0000, Std Dev = 0.0000\n",
            "Test Sample 135: Mean Prediction = 1.0000, Std Dev = 0.0000\n",
            "Test Sample 136: Mean Prediction = 0.0000, Std Dev = 0.0000\n",
            "Test Sample 137: Mean Prediction = 1.0000, Std Dev = 0.0000\n",
            "Test Sample 138: Mean Prediction = 1.0000, Std Dev = 0.0000\n",
            "Test Sample 139: Mean Prediction = 0.0000, Std Dev = 0.0000\n",
            "Test Sample 140: Mean Prediction = 0.0000, Std Dev = 0.0000\n",
            "Test Sample 141: Mean Prediction = 0.0000, Std Dev = 0.0000\n",
            "Test Sample 142: Mean Prediction = 0.0000, Std Dev = 0.0000\n",
            "Test Sample 143: Mean Prediction = 0.0000, Std Dev = 0.0000\n",
            "Test Sample 144: Mean Prediction = 0.0000, Std Dev = 0.0000\n",
            "Test Sample 145: Mean Prediction = 1.0000, Std Dev = 0.0000\n",
            "Test Sample 146: Mean Prediction = 1.0000, Std Dev = 0.0000\n",
            "Test Sample 147: Mean Prediction = 1.0000, Std Dev = 0.0000\n",
            "Test Sample 148: Mean Prediction = 0.0000, Std Dev = 0.0000\n",
            "Test Sample 149: Mean Prediction = 1.0000, Std Dev = 0.0000\n",
            "Test Sample 150: Mean Prediction = 0.9900, Std Dev = 0.0995\n",
            "Test Sample 151: Mean Prediction = 1.0000, Std Dev = 0.0000\n",
            "Test Sample 152: Mean Prediction = 0.0000, Std Dev = 0.0000\n",
            "Test Sample 153: Mean Prediction = 1.0000, Std Dev = 0.0000\n",
            "Test Sample 154: Mean Prediction = 0.0000, Std Dev = 0.0000\n",
            "Test Sample 155: Mean Prediction = 1.0000, Std Dev = 0.0000\n",
            "Test Sample 156: Mean Prediction = 1.0000, Std Dev = 0.0000\n",
            "Test Sample 157: Mean Prediction = 1.0000, Std Dev = 0.0000\n",
            "Test Sample 158: Mean Prediction = 0.0000, Std Dev = 0.0000\n",
            "Test Sample 159: Mean Prediction = 1.0000, Std Dev = 0.0000\n",
            "Test Sample 160: Mean Prediction = 0.0000, Std Dev = 0.0000\n",
            "Test Sample 161: Mean Prediction = 1.0000, Std Dev = 0.0000\n",
            "Test Sample 162: Mean Prediction = 0.0000, Std Dev = 0.0000\n",
            "Test Sample 163: Mean Prediction = 1.0000, Std Dev = 0.0000\n",
            "Test Sample 164: Mean Prediction = 1.0000, Std Dev = 0.0000\n",
            "Test Sample 165: Mean Prediction = 0.0000, Std Dev = 0.0000\n",
            "Test Sample 166: Mean Prediction = 1.0000, Std Dev = 0.0000\n",
            "Test Sample 167: Mean Prediction = 0.0000, Std Dev = 0.0000\n",
            "Test Sample 168: Mean Prediction = 1.0000, Std Dev = 0.0000\n",
            "Test Sample 169: Mean Prediction = 0.0000, Std Dev = 0.0000\n",
            "Test Sample 170: Mean Prediction = 1.0000, Std Dev = 0.0000\n",
            "Test Sample 171: Mean Prediction = 1.0000, Std Dev = 0.0000\n",
            "Test Sample 172: Mean Prediction = 1.0000, Std Dev = 0.0000\n",
            "Test Sample 173: Mean Prediction = 0.0000, Std Dev = 0.0000\n",
            "Test Sample 174: Mean Prediction = 0.0000, Std Dev = 0.0000\n",
            "Test Sample 175: Mean Prediction = 0.0000, Std Dev = 0.0000\n",
            "Test Sample 176: Mean Prediction = 0.0000, Std Dev = 0.0000\n",
            "Test Sample 177: Mean Prediction = 0.0000, Std Dev = 0.0000\n",
            "Test Sample 178: Mean Prediction = 1.0000, Std Dev = 0.0000\n",
            "Test Sample 179: Mean Prediction = 1.0000, Std Dev = 0.0000\n",
            "Test Sample 180: Mean Prediction = 0.0000, Std Dev = 0.0000\n",
            "Test Sample 181: Mean Prediction = 1.0000, Std Dev = 0.0000\n",
            "Test Sample 182: Mean Prediction = 0.0000, Std Dev = 0.0000\n",
            "Test Sample 183: Mean Prediction = 0.0000, Std Dev = 0.0000\n",
            "Test Sample 184: Mean Prediction = 1.0000, Std Dev = 0.0000\n",
            "Test Sample 185: Mean Prediction = 0.0000, Std Dev = 0.0000\n",
            "Test Sample 186: Mean Prediction = 1.0000, Std Dev = 0.0000\n",
            "Test Sample 187: Mean Prediction = 0.0000, Std Dev = 0.0000\n",
            "Test Sample 188: Mean Prediction = 1.0000, Std Dev = 0.0000\n",
            "Test Sample 189: Mean Prediction = 0.0000, Std Dev = 0.0000\n",
            "Test Sample 190: Mean Prediction = 0.0000, Std Dev = 0.0000\n",
            "Test Sample 191: Mean Prediction = 0.0000, Std Dev = 0.0000\n",
            "Test Sample 192: Mean Prediction = 0.0000, Std Dev = 0.0000\n",
            "Test Sample 193: Mean Prediction = 1.0000, Std Dev = 0.0000\n",
            "Test Sample 194: Mean Prediction = 0.0000, Std Dev = 0.0000\n",
            "Test Sample 195: Mean Prediction = 0.0000, Std Dev = 0.0000\n",
            "Test Sample 196: Mean Prediction = 1.0000, Std Dev = 0.0000\n",
            "Test Sample 197: Mean Prediction = 0.0000, Std Dev = 0.0000\n",
            "Test Sample 198: Mean Prediction = 1.0000, Std Dev = 0.0000\n",
            "Test Sample 199: Mean Prediction = 1.0000, Std Dev = 0.0000\n",
            "Test Sample 200: Mean Prediction = 0.0000, Std Dev = 0.0000\n",
            "Test Sample 201: Mean Prediction = 1.0000, Std Dev = 0.0000\n",
            "Test Sample 202: Mean Prediction = 0.0000, Std Dev = 0.0000\n",
            "Test Sample 203: Mean Prediction = 1.0000, Std Dev = 0.0000\n",
            "Test Sample 204: Mean Prediction = 1.0000, Std Dev = 0.0000\n",
            "Test Sample 205: Mean Prediction = 0.0000, Std Dev = 0.0000\n",
            "Test Sample 206: Mean Prediction = 0.0000, Std Dev = 0.0000\n",
            "Test Sample 207: Mean Prediction = 1.0000, Std Dev = 0.0000\n",
            "Test Sample 208: Mean Prediction = 1.0000, Std Dev = 0.0000\n",
            "Test Sample 209: Mean Prediction = 0.0000, Std Dev = 0.0000\n",
            "Test Sample 210: Mean Prediction = 0.0000, Std Dev = 0.0000\n",
            "Test Sample 211: Mean Prediction = 0.0000, Std Dev = 0.0000\n",
            "Test Sample 212: Mean Prediction = 0.0000, Std Dev = 0.0000\n",
            "Test Sample 213: Mean Prediction = 0.9800, Std Dev = 0.1400\n",
            "Test Sample 214: Mean Prediction = 0.0000, Std Dev = 0.0000\n",
            "Test Sample 215: Mean Prediction = 0.0000, Std Dev = 0.0000\n",
            "Test Sample 216: Mean Prediction = 1.0000, Std Dev = 0.0000\n",
            "Test Sample 217: Mean Prediction = 1.0000, Std Dev = 0.0000\n",
            "Test Sample 218: Mean Prediction = 0.0000, Std Dev = 0.0000\n",
            "Test Sample 219: Mean Prediction = 0.0000, Std Dev = 0.0000\n",
            "Test Sample 220: Mean Prediction = 1.0000, Std Dev = 0.0000\n",
            "Test Sample 221: Mean Prediction = 1.0000, Std Dev = 0.0000\n",
            "Test Sample 222: Mean Prediction = 0.0000, Std Dev = 0.0000\n",
            "Test Sample 223: Mean Prediction = 0.0000, Std Dev = 0.0000\n",
            "Test Sample 224: Mean Prediction = 1.0000, Std Dev = 0.0000\n",
            "Test Sample 225: Mean Prediction = 0.0000, Std Dev = 0.0000\n",
            "Test Sample 226: Mean Prediction = 0.0000, Std Dev = 0.0000\n",
            "Test Sample 227: Mean Prediction = 0.0000, Std Dev = 0.0000\n",
            "Test Sample 228: Mean Prediction = 1.0000, Std Dev = 0.0000\n",
            "Test Sample 229: Mean Prediction = 1.0000, Std Dev = 0.0000\n",
            "Test Sample 230: Mean Prediction = 0.0000, Std Dev = 0.0000\n",
            "Test Sample 231: Mean Prediction = 1.0000, Std Dev = 0.0000\n",
            "Test Sample 232: Mean Prediction = 1.0000, Std Dev = 0.0000\n",
            "Test Sample 233: Mean Prediction = 1.0000, Std Dev = 0.0000\n",
            "Test Sample 234: Mean Prediction = 1.0000, Std Dev = 0.0000\n",
            "Test Sample 235: Mean Prediction = 1.0000, Std Dev = 0.0000\n",
            "Test Sample 236: Mean Prediction = 1.0000, Std Dev = 0.0000\n",
            "Test Sample 237: Mean Prediction = 0.0000, Std Dev = 0.0000\n",
            "Test Sample 238: Mean Prediction = 0.0300, Std Dev = 0.1706\n",
            "Test Sample 239: Mean Prediction = 1.0000, Std Dev = 0.0000\n",
            "Test Sample 240: Mean Prediction = 1.0000, Std Dev = 0.0000\n",
            "Test Sample 241: Mean Prediction = 0.0000, Std Dev = 0.0000\n",
            "Test Sample 242: Mean Prediction = 0.0000, Std Dev = 0.0000\n",
            "Test Sample 243: Mean Prediction = 1.0000, Std Dev = 0.0000\n",
            "Test Sample 244: Mean Prediction = 1.0000, Std Dev = 0.0000\n",
            "Test Sample 245: Mean Prediction = 0.0000, Std Dev = 0.0000\n",
            "Test Sample 246: Mean Prediction = 1.0000, Std Dev = 0.0000\n",
            "Test Sample 247: Mean Prediction = 1.0000, Std Dev = 0.0000\n",
            "Test Sample 248: Mean Prediction = 1.0000, Std Dev = 0.0000\n",
            "Test Sample 249: Mean Prediction = 1.0000, Std Dev = 0.0000\n",
            "Test Sample 250: Mean Prediction = 1.0000, Std Dev = 0.0000\n",
            "Test Sample 251: Mean Prediction = 1.0000, Std Dev = 0.0000\n",
            "Test Sample 252: Mean Prediction = 0.0000, Std Dev = 0.0000\n",
            "Test Sample 253: Mean Prediction = 1.0000, Std Dev = 0.0000\n",
            "Test Sample 254: Mean Prediction = 0.0000, Std Dev = 0.0000\n",
            "Test Sample 255: Mean Prediction = 0.0000, Std Dev = 0.0000\n",
            "Test Sample 256: Mean Prediction = 1.0000, Std Dev = 0.0000\n",
            "Test Sample 257: Mean Prediction = 1.0000, Std Dev = 0.0000\n",
            "Test Sample 258: Mean Prediction = 1.0000, Std Dev = 0.0000\n",
            "Test Sample 259: Mean Prediction = 0.0000, Std Dev = 0.0000\n",
            "Test Sample 260: Mean Prediction = 1.0000, Std Dev = 0.0000\n",
            "Test Sample 261: Mean Prediction = 1.0000, Std Dev = 0.0000\n",
            "Test Sample 262: Mean Prediction = 1.0000, Std Dev = 0.0000\n",
            "Test Sample 263: Mean Prediction = 0.0000, Std Dev = 0.0000\n",
            "Test Sample 264: Mean Prediction = 1.0000, Std Dev = 0.0000\n",
            "Test Sample 265: Mean Prediction = 1.0000, Std Dev = 0.0000\n",
            "Test Sample 266: Mean Prediction = 1.0000, Std Dev = 0.0000\n",
            "Test Sample 267: Mean Prediction = 0.0000, Std Dev = 0.0000\n",
            "Test Sample 268: Mean Prediction = 0.0000, Std Dev = 0.0000\n",
            "Test Sample 269: Mean Prediction = 1.0000, Std Dev = 0.0000\n",
            "Test Sample 270: Mean Prediction = 1.0000, Std Dev = 0.0000\n",
            "Test Sample 271: Mean Prediction = 1.0000, Std Dev = 0.0000\n",
            "Test Sample 272: Mean Prediction = 1.0000, Std Dev = 0.0000\n",
            "Test Sample 273: Mean Prediction = 1.0000, Std Dev = 0.0000\n",
            "Test Sample 274: Mean Prediction = 1.0000, Std Dev = 0.0000\n",
            "Test Sample 275: Mean Prediction = 1.0000, Std Dev = 0.0000\n",
            "Test Sample 276: Mean Prediction = 0.0000, Std Dev = 0.0000\n",
            "Test Sample 277: Mean Prediction = 1.0000, Std Dev = 0.0000\n",
            "Test Sample 278: Mean Prediction = 0.0000, Std Dev = 0.0000\n",
            "Test Sample 279: Mean Prediction = 0.0000, Std Dev = 0.0000\n",
            "Test Sample 280: Mean Prediction = 0.0000, Std Dev = 0.0000\n",
            "Test Sample 281: Mean Prediction = 1.0000, Std Dev = 0.0000\n",
            "Test Sample 282: Mean Prediction = 1.0000, Std Dev = 0.0000\n",
            "Test Sample 283: Mean Prediction = 0.0000, Std Dev = 0.0000\n",
            "Test Sample 284: Mean Prediction = 1.0000, Std Dev = 0.0000\n",
            "Test Sample 285: Mean Prediction = 0.0000, Std Dev = 0.0000\n",
            "Test Sample 286: Mean Prediction = 0.0000, Std Dev = 0.0000\n",
            "Test Sample 287: Mean Prediction = 0.0000, Std Dev = 0.0000\n",
            "Test Sample 288: Mean Prediction = 0.0500, Std Dev = 0.2179\n",
            "Test Sample 289: Mean Prediction = 0.0000, Std Dev = 0.0000\n",
            "Test Sample 290: Mean Prediction = 1.0000, Std Dev = 0.0000\n",
            "Test Sample 291: Mean Prediction = 1.0000, Std Dev = 0.0000\n",
            "Test Sample 292: Mean Prediction = 0.0000, Std Dev = 0.0000\n",
            "Test Sample 293: Mean Prediction = 1.0000, Std Dev = 0.0000\n",
            "Test Sample 294: Mean Prediction = 1.0000, Std Dev = 0.0000\n",
            "Test Sample 295: Mean Prediction = 0.0000, Std Dev = 0.0000\n",
            "Test Sample 296: Mean Prediction = 1.0000, Std Dev = 0.0000\n",
            "Test Sample 297: Mean Prediction = 0.0000, Std Dev = 0.0000\n",
            "Test Sample 298: Mean Prediction = 0.0000, Std Dev = 0.0000\n",
            "Test Sample 299: Mean Prediction = 0.0000, Std Dev = 0.0000\n",
            "Test Sample 300: Mean Prediction = 0.0000, Std Dev = 0.0000\n",
            "Test Sample 301: Mean Prediction = 1.0000, Std Dev = 0.0000\n",
            "Test Sample 302: Mean Prediction = 0.0000, Std Dev = 0.0000\n",
            "Test Sample 303: Mean Prediction = 1.0000, Std Dev = 0.0000\n",
            "Test Sample 304: Mean Prediction = 0.0000, Std Dev = 0.0000\n",
            "Test Sample 305: Mean Prediction = 1.0000, Std Dev = 0.0000\n",
            "Test Sample 306: Mean Prediction = 1.0000, Std Dev = 0.0000\n",
            "Test Sample 307: Mean Prediction = 1.0000, Std Dev = 0.0000\n",
            "Test Sample 308: Mean Prediction = 1.0000, Std Dev = 0.0000\n",
            "Test Sample 309: Mean Prediction = 1.0000, Std Dev = 0.0000\n",
            "Test Sample 310: Mean Prediction = 1.0000, Std Dev = 0.0000\n",
            "Test Sample 311: Mean Prediction = 0.0000, Std Dev = 0.0000\n",
            "Test Sample 312: Mean Prediction = 0.0000, Std Dev = 0.0000\n",
            "Test Sample 313: Mean Prediction = 1.0000, Std Dev = 0.0000\n",
            "Test Sample 314: Mean Prediction = 0.0000, Std Dev = 0.0000\n",
            "Test Sample 315: Mean Prediction = 0.0000, Std Dev = 0.0000\n",
            "Test Sample 316: Mean Prediction = 1.0000, Std Dev = 0.0000\n",
            "Test Sample 317: Mean Prediction = 0.0000, Std Dev = 0.0000\n",
            "Test Sample 318: Mean Prediction = 0.0000, Std Dev = 0.0000\n",
            "Test Sample 319: Mean Prediction = 1.0000, Std Dev = 0.0000\n",
            "Test Sample 320: Mean Prediction = 1.0000, Std Dev = 0.0000\n",
            "Test Sample 321: Mean Prediction = 0.0000, Std Dev = 0.0000\n",
            "Test Sample 322: Mean Prediction = 1.0000, Std Dev = 0.0000\n",
            "Test Sample 323: Mean Prediction = 0.0000, Std Dev = 0.0000\n",
            "Test Sample 324: Mean Prediction = 0.0000, Std Dev = 0.0000\n",
            "Test Sample 325: Mean Prediction = 1.0000, Std Dev = 0.0000\n",
            "Test Sample 326: Mean Prediction = 1.0000, Std Dev = 0.0000\n",
            "Test Sample 327: Mean Prediction = 0.0000, Std Dev = 0.0000\n",
            "Test Sample 328: Mean Prediction = 0.0000, Std Dev = 0.0000\n",
            "Test Sample 329: Mean Prediction = 1.0000, Std Dev = 0.0000\n",
            "Test Sample 330: Mean Prediction = 0.0000, Std Dev = 0.0000\n",
            "Test Sample 331: Mean Prediction = 0.0000, Std Dev = 0.0000\n",
            "Test Sample 332: Mean Prediction = 1.0000, Std Dev = 0.0000\n",
            "Test Sample 333: Mean Prediction = 1.0000, Std Dev = 0.0000\n",
            "Test Sample 334: Mean Prediction = 0.0000, Std Dev = 0.0000\n",
            "Test Sample 335: Mean Prediction = 0.5200, Std Dev = 0.4996\n",
            "Test Sample 336: Mean Prediction = 1.0000, Std Dev = 0.0000\n",
            "Test Sample 337: Mean Prediction = 0.0000, Std Dev = 0.0000\n",
            "Test Sample 338: Mean Prediction = 0.0000, Std Dev = 0.0000\n",
            "Test Sample 339: Mean Prediction = 0.0000, Std Dev = 0.0000\n",
            "Test Sample 340: Mean Prediction = 1.0000, Std Dev = 0.0000\n",
            "Test Sample 341: Mean Prediction = 0.0000, Std Dev = 0.0000\n",
            "Test Sample 342: Mean Prediction = 1.0000, Std Dev = 0.0000\n",
            "Test Sample 343: Mean Prediction = 0.0000, Std Dev = 0.0000\n",
            "Test Sample 344: Mean Prediction = 1.0000, Std Dev = 0.0000\n",
            "Test Sample 345: Mean Prediction = 0.0000, Std Dev = 0.0000\n",
            "Test Sample 346: Mean Prediction = 1.0000, Std Dev = 0.0000\n",
            "Test Sample 347: Mean Prediction = 1.0000, Std Dev = 0.0000\n",
            "Test Sample 348: Mean Prediction = 1.0000, Std Dev = 0.0000\n",
            "Test Sample 349: Mean Prediction = 0.0000, Std Dev = 0.0000\n",
            "Test Sample 350: Mean Prediction = 1.0000, Std Dev = 0.0000\n",
            "Test Sample 351: Mean Prediction = 1.0000, Std Dev = 0.0000\n",
            "Test Sample 352: Mean Prediction = 0.0000, Std Dev = 0.0000\n",
            "Test Sample 353: Mean Prediction = 1.0000, Std Dev = 0.0000\n",
            "Test Sample 354: Mean Prediction = 0.0000, Std Dev = 0.0000\n",
            "Test Sample 355: Mean Prediction = 1.0000, Std Dev = 0.0000\n",
            "Test Sample 356: Mean Prediction = 0.0000, Std Dev = 0.0000\n",
            "Test Sample 357: Mean Prediction = 0.0000, Std Dev = 0.0000\n",
            "Test Sample 358: Mean Prediction = 0.0000, Std Dev = 0.0000\n",
            "Test Sample 359: Mean Prediction = 1.0000, Std Dev = 0.0000\n",
            "Test Sample 360: Mean Prediction = 0.0000, Std Dev = 0.0000\n",
            "Test Sample 361: Mean Prediction = 0.0000, Std Dev = 0.0000\n",
            "Test Sample 362: Mean Prediction = 1.0000, Std Dev = 0.0000\n",
            "Test Sample 363: Mean Prediction = 0.0000, Std Dev = 0.0000\n",
            "Test Sample 364: Mean Prediction = 1.0000, Std Dev = 0.0000\n",
            "Test Sample 365: Mean Prediction = 1.0000, Std Dev = 0.0000\n",
            "Test Sample 366: Mean Prediction = 1.0000, Std Dev = 0.0000\n",
            "Test Sample 367: Mean Prediction = 0.0000, Std Dev = 0.0000\n",
            "Test Sample 368: Mean Prediction = 1.0000, Std Dev = 0.0000\n",
            "Test Sample 369: Mean Prediction = 0.0000, Std Dev = 0.0000\n",
            "Test Sample 370: Mean Prediction = 0.0000, Std Dev = 0.0000\n",
            "Test Sample 371: Mean Prediction = 0.0000, Std Dev = 0.0000\n",
            "Test Sample 372: Mean Prediction = 0.0000, Std Dev = 0.0000\n",
            "Test Sample 373: Mean Prediction = 0.0000, Std Dev = 0.0000\n",
            "Test Sample 374: Mean Prediction = 1.0000, Std Dev = 0.0000\n",
            "Test Sample 375: Mean Prediction = 0.0000, Std Dev = 0.0000\n",
            "Test Sample 376: Mean Prediction = 0.0000, Std Dev = 0.0000\n",
            "Test Sample 377: Mean Prediction = 1.0000, Std Dev = 0.0000\n",
            "Test Sample 378: Mean Prediction = 1.0000, Std Dev = 0.0000\n",
            "Test Sample 379: Mean Prediction = 0.0000, Std Dev = 0.0000\n",
            "Test Sample 380: Mean Prediction = 1.0000, Std Dev = 0.0000\n",
            "Test Sample 381: Mean Prediction = 0.0000, Std Dev = 0.0000\n",
            "Test Sample 382: Mean Prediction = 1.0000, Std Dev = 0.0000\n",
            "Test Sample 383: Mean Prediction = 1.0000, Std Dev = 0.0000\n",
            "Test Sample 384: Mean Prediction = 0.0000, Std Dev = 0.0000\n",
            "Test Sample 385: Mean Prediction = 0.8500, Std Dev = 0.3571\n",
            "Test Sample 386: Mean Prediction = 1.0000, Std Dev = 0.0000\n",
            "Test Sample 387: Mean Prediction = 1.0000, Std Dev = 0.0000\n",
            "Test Sample 388: Mean Prediction = 1.0000, Std Dev = 0.0000\n",
            "Test Sample 389: Mean Prediction = 1.0000, Std Dev = 0.0000\n",
            "Test Sample 390: Mean Prediction = 1.0000, Std Dev = 0.0000\n",
            "Test Sample 391: Mean Prediction = 1.0000, Std Dev = 0.0000\n",
            "Test Sample 392: Mean Prediction = 1.0000, Std Dev = 0.0000\n",
            "Test Sample 393: Mean Prediction = 0.0000, Std Dev = 0.0000\n",
            "Test Sample 394: Mean Prediction = 0.0000, Std Dev = 0.0000\n",
            "Test Sample 395: Mean Prediction = 1.0000, Std Dev = 0.0000\n",
            "Test Sample 396: Mean Prediction = 0.5300, Std Dev = 0.4991\n",
            "Test Sample 397: Mean Prediction = 0.0000, Std Dev = 0.0000\n",
            "Test Sample 398: Mean Prediction = 1.0000, Std Dev = 0.0000\n",
            "Test Sample 399: Mean Prediction = 0.0000, Std Dev = 0.0000\n",
            "Test Sample 400: Mean Prediction = 0.0000, Std Dev = 0.0000\n",
            "Test Sample 401: Mean Prediction = 1.0000, Std Dev = 0.0000\n",
            "Test Sample 402: Mean Prediction = 1.0000, Std Dev = 0.0000\n",
            "Test Sample 403: Mean Prediction = 1.0000, Std Dev = 0.0000\n",
            "Test Sample 404: Mean Prediction = 0.0000, Std Dev = 0.0000\n",
            "Test Sample 405: Mean Prediction = 0.0000, Std Dev = 0.0000\n",
            "Test Sample 406: Mean Prediction = 1.0000, Std Dev = 0.0000\n",
            "Test Sample 407: Mean Prediction = 0.0000, Std Dev = 0.0000\n",
            "Test Sample 408: Mean Prediction = 1.0000, Std Dev = 0.0000\n",
            "Test Sample 409: Mean Prediction = 0.0000, Std Dev = 0.0000\n",
            "Test Sample 410: Mean Prediction = 1.0000, Std Dev = 0.0000\n",
            "Test Sample 411: Mean Prediction = 0.0000, Std Dev = 0.0000\n",
            "Test Sample 412: Mean Prediction = 1.0000, Std Dev = 0.0000\n",
            "Test Sample 413: Mean Prediction = 0.0000, Std Dev = 0.0000\n",
            "Test Sample 414: Mean Prediction = 0.0000, Std Dev = 0.0000\n",
            "Test Sample 415: Mean Prediction = 1.0000, Std Dev = 0.0000\n",
            "Test Sample 416: Mean Prediction = 0.0000, Std Dev = 0.0000\n",
            "Test Sample 417: Mean Prediction = 1.0000, Std Dev = 0.0000\n",
            "Test Sample 418: Mean Prediction = 0.0000, Std Dev = 0.0000\n",
            "Test Sample 419: Mean Prediction = 0.0000, Std Dev = 0.0000\n",
            "Test Sample 420: Mean Prediction = 0.0000, Std Dev = 0.0000\n",
            "Test Sample 421: Mean Prediction = 0.1800, Std Dev = 0.3842\n",
            "Test Sample 422: Mean Prediction = 0.0000, Std Dev = 0.0000\n",
            "Test Sample 423: Mean Prediction = 1.0000, Std Dev = 0.0000\n",
            "Test Sample 424: Mean Prediction = 0.0000, Std Dev = 0.0000\n",
            "Test Sample 425: Mean Prediction = 0.0000, Std Dev = 0.0000\n",
            "Test Sample 426: Mean Prediction = 0.0000, Std Dev = 0.0000\n",
            "Test Sample 427: Mean Prediction = 0.0000, Std Dev = 0.0000\n",
            "Test Sample 428: Mean Prediction = 1.0000, Std Dev = 0.0000\n",
            "Test Sample 429: Mean Prediction = 1.0000, Std Dev = 0.0000\n",
            "Test Sample 430: Mean Prediction = 1.0000, Std Dev = 0.0000\n",
            "Test Sample 431: Mean Prediction = 1.0000, Std Dev = 0.0000\n",
            "Test Sample 432: Mean Prediction = 0.0000, Std Dev = 0.0000\n",
            "Test Sample 433: Mean Prediction = 1.0000, Std Dev = 0.0000\n",
            "Test Sample 434: Mean Prediction = 1.0000, Std Dev = 0.0000\n",
            "Test Sample 435: Mean Prediction = 1.0000, Std Dev = 0.0000\n",
            "Test Sample 436: Mean Prediction = 1.0000, Std Dev = 0.0000\n",
            "Test Sample 437: Mean Prediction = 0.0000, Std Dev = 0.0000\n",
            "Test Sample 438: Mean Prediction = 1.0000, Std Dev = 0.0000\n",
            "Test Sample 439: Mean Prediction = 0.0000, Std Dev = 0.0000\n",
            "Test Sample 440: Mean Prediction = 1.0000, Std Dev = 0.0000\n",
            "Test Sample 441: Mean Prediction = 1.0000, Std Dev = 0.0000\n",
            "Test Sample 442: Mean Prediction = 0.0000, Std Dev = 0.0000\n",
            "Test Sample 443: Mean Prediction = 0.0000, Std Dev = 0.0000\n",
            "Test Sample 444: Mean Prediction = 1.0000, Std Dev = 0.0000\n",
            "Test Sample 445: Mean Prediction = 1.0000, Std Dev = 0.0000\n",
            "Test Sample 446: Mean Prediction = 0.0000, Std Dev = 0.0000\n",
            "Test Sample 447: Mean Prediction = 0.0000, Std Dev = 0.0000\n",
            "Test Sample 448: Mean Prediction = 1.0000, Std Dev = 0.0000\n",
            "Test Sample 449: Mean Prediction = 0.0000, Std Dev = 0.0000\n",
            "Test Sample 450: Mean Prediction = 1.0000, Std Dev = 0.0000\n",
            "Test Sample 451: Mean Prediction = 0.0000, Std Dev = 0.0000\n",
            "Test Sample 452: Mean Prediction = 0.0000, Std Dev = 0.0000\n",
            "Test Sample 453: Mean Prediction = 1.0000, Std Dev = 0.0000\n",
            "Test Sample 454: Mean Prediction = 1.0000, Std Dev = 0.0000\n",
            "Test Sample 455: Mean Prediction = 0.0000, Std Dev = 0.0000\n",
            "Test Sample 456: Mean Prediction = 0.0000, Std Dev = 0.0000\n",
            "Test Sample 457: Mean Prediction = 0.0000, Std Dev = 0.0000\n",
            "Test Sample 458: Mean Prediction = 0.9900, Std Dev = 0.0995\n",
            "Test Sample 459: Mean Prediction = 1.0000, Std Dev = 0.0000\n",
            "Test Sample 460: Mean Prediction = 1.0000, Std Dev = 0.0000\n",
            "Test Sample 461: Mean Prediction = 0.0000, Std Dev = 0.0000\n",
            "Test Sample 462: Mean Prediction = 1.0000, Std Dev = 0.0000\n",
            "Test Sample 463: Mean Prediction = 0.0000, Std Dev = 0.0000\n",
            "Test Sample 464: Mean Prediction = 1.0000, Std Dev = 0.0000\n",
            "Test Sample 465: Mean Prediction = 1.0000, Std Dev = 0.0000\n",
            "Test Sample 466: Mean Prediction = 1.0000, Std Dev = 0.0000\n",
            "Test Sample 467: Mean Prediction = 1.0000, Std Dev = 0.0000\n",
            "Test Sample 468: Mean Prediction = 1.0000, Std Dev = 0.0000\n",
            "Test Sample 469: Mean Prediction = 0.0000, Std Dev = 0.0000\n",
            "Test Sample 470: Mean Prediction = 1.0000, Std Dev = 0.0000\n",
            "Test Sample 471: Mean Prediction = 0.0000, Std Dev = 0.0000\n",
            "Test Sample 472: Mean Prediction = 0.0000, Std Dev = 0.0000\n",
            "Test Sample 473: Mean Prediction = 1.0000, Std Dev = 0.0000\n",
            "Test Sample 474: Mean Prediction = 1.0000, Std Dev = 0.0000\n",
            "Test Sample 475: Mean Prediction = 0.0000, Std Dev = 0.0000\n",
            "Test Sample 476: Mean Prediction = 1.0000, Std Dev = 0.0000\n",
            "Test Sample 477: Mean Prediction = 0.0000, Std Dev = 0.0000\n",
            "Test Sample 478: Mean Prediction = 0.0000, Std Dev = 0.0000\n",
            "Test Sample 479: Mean Prediction = 0.0000, Std Dev = 0.0000\n",
            "Test Sample 480: Mean Prediction = 0.0000, Std Dev = 0.0000\n",
            "Test Sample 481: Mean Prediction = 0.0000, Std Dev = 0.0000\n",
            "Test Sample 482: Mean Prediction = 0.0000, Std Dev = 0.0000\n",
            "Test Sample 483: Mean Prediction = 0.0000, Std Dev = 0.0000\n",
            "Test Sample 484: Mean Prediction = 1.0000, Std Dev = 0.0000\n",
            "Test Sample 485: Mean Prediction = 0.0000, Std Dev = 0.0000\n",
            "Test Sample 486: Mean Prediction = 1.0000, Std Dev = 0.0000\n",
            "Test Sample 487: Mean Prediction = 1.0000, Std Dev = 0.0000\n",
            "Test Sample 488: Mean Prediction = 1.0000, Std Dev = 0.0000\n",
            "Test Sample 489: Mean Prediction = 1.0000, Std Dev = 0.0000\n",
            "Test Sample 490: Mean Prediction = 0.0000, Std Dev = 0.0000\n",
            "Test Sample 491: Mean Prediction = 0.4300, Std Dev = 0.4951\n",
            "Test Sample 492: Mean Prediction = 0.0000, Std Dev = 0.0000\n",
            "Test Sample 493: Mean Prediction = 1.0000, Std Dev = 0.0000\n",
            "Test Sample 494: Mean Prediction = 1.0000, Std Dev = 0.0000\n",
            "Test Sample 495: Mean Prediction = 0.0000, Std Dev = 0.0000\n",
            "Test Sample 496: Mean Prediction = 1.0000, Std Dev = 0.0000\n",
            "Test Sample 497: Mean Prediction = 0.0000, Std Dev = 0.0000\n",
            "Test Sample 498: Mean Prediction = 1.0000, Std Dev = 0.0000\n",
            "Test Sample 499: Mean Prediction = 0.8800, Std Dev = 0.3250\n",
            "Test Sample 500: Mean Prediction = 1.0000, Std Dev = 0.0000\n",
            "Test Sample 501: Mean Prediction = 0.0000, Std Dev = 0.0000\n",
            "Test Sample 502: Mean Prediction = 0.0000, Std Dev = 0.0000\n",
            "Test Sample 503: Mean Prediction = 0.0000, Std Dev = 0.0000\n",
            "Test Sample 504: Mean Prediction = 0.0700, Std Dev = 0.2551\n",
            "Test Sample 505: Mean Prediction = 0.0000, Std Dev = 0.0000\n",
            "Test Sample 506: Mean Prediction = 1.0000, Std Dev = 0.0000\n",
            "Test Sample 507: Mean Prediction = 1.0000, Std Dev = 0.0000\n",
            "Test Sample 508: Mean Prediction = 0.0000, Std Dev = 0.0000\n",
            "Test Sample 509: Mean Prediction = 1.0000, Std Dev = 0.0000\n",
            "Test Sample 510: Mean Prediction = 1.0000, Std Dev = 0.0000\n",
            "Test Sample 511: Mean Prediction = 0.0000, Std Dev = 0.0000\n",
            "Test Sample 512: Mean Prediction = 1.0000, Std Dev = 0.0000\n",
            "Test Sample 513: Mean Prediction = 0.0000, Std Dev = 0.0000\n",
            "Test Sample 514: Mean Prediction = 0.0000, Std Dev = 0.0000\n",
            "Test Sample 515: Mean Prediction = 1.0000, Std Dev = 0.0000\n",
            "Test Sample 516: Mean Prediction = 0.0000, Std Dev = 0.0000\n",
            "Test Sample 517: Mean Prediction = 1.0000, Std Dev = 0.0000\n",
            "Test Sample 518: Mean Prediction = 0.0000, Std Dev = 0.0000\n",
            "Test Sample 519: Mean Prediction = 1.0000, Std Dev = 0.0000\n",
            "Test Sample 520: Mean Prediction = 0.0000, Std Dev = 0.0000\n",
            "Test Sample 521: Mean Prediction = 1.0000, Std Dev = 0.0000\n",
            "Test Sample 522: Mean Prediction = 0.0000, Std Dev = 0.0000\n",
            "Test Sample 523: Mean Prediction = 0.0000, Std Dev = 0.0000\n",
            "Test Sample 524: Mean Prediction = 0.0000, Std Dev = 0.0000\n",
            "Test Sample 525: Mean Prediction = 1.0000, Std Dev = 0.0000\n",
            "Test Sample 526: Mean Prediction = 0.0000, Std Dev = 0.0000\n",
            "Test Sample 527: Mean Prediction = 0.0000, Std Dev = 0.0000\n",
            "Test Sample 528: Mean Prediction = 1.0000, Std Dev = 0.0000\n",
            "Test Sample 529: Mean Prediction = 0.0000, Std Dev = 0.0000\n",
            "Test Sample 530: Mean Prediction = 1.0000, Std Dev = 0.0000\n",
            "Test Sample 531: Mean Prediction = 0.0000, Std Dev = 0.0000\n",
            "Test Sample 532: Mean Prediction = 1.0000, Std Dev = 0.0000\n",
            "Test Sample 533: Mean Prediction = 1.0000, Std Dev = 0.0000\n",
            "Test Sample 534: Mean Prediction = 1.0000, Std Dev = 0.0000\n",
            "Test Sample 535: Mean Prediction = 1.0000, Std Dev = 0.0000\n",
            "Test Sample 536: Mean Prediction = 0.0000, Std Dev = 0.0000\n",
            "Test Sample 537: Mean Prediction = 0.0000, Std Dev = 0.0000\n",
            "Test Sample 538: Mean Prediction = 0.0000, Std Dev = 0.0000\n",
            "Test Sample 539: Mean Prediction = 0.0000, Std Dev = 0.0000\n",
            "Test Sample 540: Mean Prediction = 0.0000, Std Dev = 0.0000\n",
            "Test Sample 541: Mean Prediction = 0.0000, Std Dev = 0.0000\n",
            "Test Sample 542: Mean Prediction = 1.0000, Std Dev = 0.0000\n",
            "Test Sample 543: Mean Prediction = 0.0000, Std Dev = 0.0000\n",
            "Test Sample 544: Mean Prediction = 0.0000, Std Dev = 0.0000\n",
            "Test Sample 545: Mean Prediction = 0.0000, Std Dev = 0.0000\n",
            "Test Sample 546: Mean Prediction = 0.0000, Std Dev = 0.0000\n",
            "Test Sample 547: Mean Prediction = 0.0000, Std Dev = 0.0000\n",
            "Test Sample 548: Mean Prediction = 1.0000, Std Dev = 0.0000\n",
            "Test Sample 549: Mean Prediction = 0.0000, Std Dev = 0.0000\n",
            "Test Sample 550: Mean Prediction = 0.0000, Std Dev = 0.0000\n",
            "Test Sample 551: Mean Prediction = 1.0000, Std Dev = 0.0000\n",
            "Test Sample 552: Mean Prediction = 1.0000, Std Dev = 0.0000\n",
            "Test Sample 553: Mean Prediction = 0.0000, Std Dev = 0.0000\n",
            "Test Sample 554: Mean Prediction = 1.0000, Std Dev = 0.0000\n",
            "Test Sample 555: Mean Prediction = 1.0000, Std Dev = 0.0000\n",
            "Test Sample 556: Mean Prediction = 1.0000, Std Dev = 0.0000\n",
            "Test Sample 557: Mean Prediction = 1.0000, Std Dev = 0.0000\n",
            "Test Sample 558: Mean Prediction = 0.0000, Std Dev = 0.0000\n",
            "Test Sample 559: Mean Prediction = 1.0000, Std Dev = 0.0000\n",
            "Test Sample 560: Mean Prediction = 0.0000, Std Dev = 0.0000\n",
            "Test Sample 561: Mean Prediction = 1.0000, Std Dev = 0.0000\n",
            "Test Sample 562: Mean Prediction = 0.0000, Std Dev = 0.0000\n",
            "Test Sample 563: Mean Prediction = 1.0000, Std Dev = 0.0000\n",
            "Test Sample 564: Mean Prediction = 1.0000, Std Dev = 0.0000\n",
            "Test Sample 565: Mean Prediction = 0.0000, Std Dev = 0.0000\n",
            "Test Sample 566: Mean Prediction = 1.0000, Std Dev = 0.0000\n",
            "Test Sample 567: Mean Prediction = 0.9600, Std Dev = 0.1960\n",
            "Test Sample 568: Mean Prediction = 0.0000, Std Dev = 0.0000\n",
            "Test Sample 569: Mean Prediction = 0.0000, Std Dev = 0.0000\n",
            "Test Sample 570: Mean Prediction = 0.0000, Std Dev = 0.0000\n",
            "Test Sample 571: Mean Prediction = 1.0000, Std Dev = 0.0000\n",
            "Test Sample 572: Mean Prediction = 0.0000, Std Dev = 0.0000\n",
            "Test Sample 573: Mean Prediction = 1.0000, Std Dev = 0.0000\n",
            "Test Sample 574: Mean Prediction = 1.0000, Std Dev = 0.0000\n",
            "Test Sample 575: Mean Prediction = 0.7500, Std Dev = 0.4330\n",
            "Test Sample 576: Mean Prediction = 0.0000, Std Dev = 0.0000\n",
            "Test Sample 577: Mean Prediction = 0.0000, Std Dev = 0.0000\n",
            "Test Sample 578: Mean Prediction = 0.0000, Std Dev = 0.0000\n",
            "Test Sample 579: Mean Prediction = 0.0000, Std Dev = 0.0000\n",
            "Test Sample 580: Mean Prediction = 1.0000, Std Dev = 0.0000\n",
            "Test Sample 581: Mean Prediction = 1.0000, Std Dev = 0.0000\n",
            "Test Sample 582: Mean Prediction = 0.0000, Std Dev = 0.0000\n",
            "Test Sample 583: Mean Prediction = 1.0000, Std Dev = 0.0000\n",
            "Test Sample 584: Mean Prediction = 0.0000, Std Dev = 0.0000\n",
            "Test Sample 585: Mean Prediction = 1.0000, Std Dev = 0.0000\n",
            "Test Sample 586: Mean Prediction = 0.0000, Std Dev = 0.0000\n",
            "Test Sample 587: Mean Prediction = 1.0000, Std Dev = 0.0000\n",
            "Test Sample 588: Mean Prediction = 0.0000, Std Dev = 0.0000\n",
            "Test Sample 589: Mean Prediction = 0.0000, Std Dev = 0.0000\n",
            "Test Sample 590: Mean Prediction = 0.0000, Std Dev = 0.0000\n",
            "Test Sample 591: Mean Prediction = 1.0000, Std Dev = 0.0000\n",
            "Test Sample 592: Mean Prediction = 0.0000, Std Dev = 0.0000\n",
            "Test Sample 593: Mean Prediction = 0.0000, Std Dev = 0.0000\n",
            "Test Sample 594: Mean Prediction = 1.0000, Std Dev = 0.0000\n",
            "Test Sample 595: Mean Prediction = 1.0000, Std Dev = 0.0000\n",
            "Test Sample 596: Mean Prediction = 1.0000, Std Dev = 0.0000\n",
            "Test Sample 597: Mean Prediction = 0.0000, Std Dev = 0.0000\n",
            "Test Sample 598: Mean Prediction = 1.0000, Std Dev = 0.0000\n",
            "Test Sample 599: Mean Prediction = 1.0000, Std Dev = 0.0000\n",
            "Test Sample 600: Mean Prediction = 0.0000, Std Dev = 0.0000\n",
            "Test Sample 601: Mean Prediction = 1.0000, Std Dev = 0.0000\n",
            "Test Sample 602: Mean Prediction = 1.0000, Std Dev = 0.0000\n",
            "Test Sample 603: Mean Prediction = 1.0000, Std Dev = 0.0000\n",
            "Test Sample 604: Mean Prediction = 0.0000, Std Dev = 0.0000\n",
            "Test Sample 605: Mean Prediction = 1.0000, Std Dev = 0.0000\n",
            "Test Sample 606: Mean Prediction = 1.0000, Std Dev = 0.0000\n",
            "Test Sample 607: Mean Prediction = 0.0000, Std Dev = 0.0000\n",
            "Test Sample 608: Mean Prediction = 1.0000, Std Dev = 0.0000\n",
            "Test Sample 609: Mean Prediction = 0.0000, Std Dev = 0.0000\n",
            "Test Sample 610: Mean Prediction = 0.0000, Std Dev = 0.0000\n",
            "Test Sample 611: Mean Prediction = 0.0000, Std Dev = 0.0000\n",
            "Test Sample 612: Mean Prediction = 1.0000, Std Dev = 0.0000\n",
            "Test Sample 613: Mean Prediction = 1.0000, Std Dev = 0.0000\n",
            "Test Sample 614: Mean Prediction = 0.0000, Std Dev = 0.0000\n",
            "Test Sample 615: Mean Prediction = 1.0000, Std Dev = 0.0000\n",
            "Test Sample 616: Mean Prediction = 0.0000, Std Dev = 0.0000\n",
            "Test Sample 617: Mean Prediction = 1.0000, Std Dev = 0.0000\n",
            "Test Sample 618: Mean Prediction = 0.0000, Std Dev = 0.0000\n",
            "Test Sample 619: Mean Prediction = 1.0000, Std Dev = 0.0000\n",
            "Test Sample 620: Mean Prediction = 1.0000, Std Dev = 0.0000\n",
            "Test Sample 621: Mean Prediction = 0.0000, Std Dev = 0.0000\n",
            "Test Sample 622: Mean Prediction = 1.0000, Std Dev = 0.0000\n",
            "Test Sample 623: Mean Prediction = 1.0000, Std Dev = 0.0000\n",
            "Test Sample 624: Mean Prediction = 0.0000, Std Dev = 0.0000\n",
            "Test Sample 625: Mean Prediction = 0.0000, Std Dev = 0.0000\n",
            "Test Sample 626: Mean Prediction = 0.0000, Std Dev = 0.0000\n",
            "Test Sample 627: Mean Prediction = 1.0000, Std Dev = 0.0000\n",
            "Test Sample 628: Mean Prediction = 0.0000, Std Dev = 0.0000\n",
            "Test Sample 629: Mean Prediction = 0.0000, Std Dev = 0.0000\n",
            "Test Sample 630: Mean Prediction = 0.0000, Std Dev = 0.0000\n",
            "Test Sample 631: Mean Prediction = 0.0000, Std Dev = 0.0000\n",
            "Test Sample 632: Mean Prediction = 1.0000, Std Dev = 0.0000\n",
            "Test Sample 633: Mean Prediction = 0.0000, Std Dev = 0.0000\n",
            "Test Sample 634: Mean Prediction = 1.0000, Std Dev = 0.0000\n",
            "Test Sample 635: Mean Prediction = 1.0000, Std Dev = 0.0000\n",
            "Test Sample 636: Mean Prediction = 0.9900, Std Dev = 0.0995\n",
            "Test Sample 637: Mean Prediction = 0.9800, Std Dev = 0.1400\n",
            "Test Sample 638: Mean Prediction = 0.0000, Std Dev = 0.0000\n",
            "Test Sample 639: Mean Prediction = 0.0000, Std Dev = 0.0000\n",
            "Test Sample 640: Mean Prediction = 1.0000, Std Dev = 0.0000\n",
            "Test Sample 641: Mean Prediction = 1.0000, Std Dev = 0.0000\n",
            "Test Sample 642: Mean Prediction = 1.0000, Std Dev = 0.0000\n",
            "Test Sample 643: Mean Prediction = 0.0700, Std Dev = 0.2551\n",
            "Test Sample 644: Mean Prediction = 0.0000, Std Dev = 0.0000\n",
            "Test Sample 645: Mean Prediction = 0.0000, Std Dev = 0.0000\n",
            "Test Sample 646: Mean Prediction = 0.0000, Std Dev = 0.0000\n",
            "Test Sample 647: Mean Prediction = 1.0000, Std Dev = 0.0000\n",
            "Test Sample 648: Mean Prediction = 1.0000, Std Dev = 0.0000\n",
            "Test Sample 649: Mean Prediction = 0.0000, Std Dev = 0.0000\n",
            "Test Sample 650: Mean Prediction = 1.0000, Std Dev = 0.0000\n",
            "Test Sample 651: Mean Prediction = 0.0000, Std Dev = 0.0000\n",
            "Test Sample 652: Mean Prediction = 0.0000, Std Dev = 0.0000\n",
            "Test Sample 653: Mean Prediction = 0.5800, Std Dev = 0.4936\n",
            "Test Sample 654: Mean Prediction = 1.0000, Std Dev = 0.0000\n",
            "Test Sample 655: Mean Prediction = 1.0000, Std Dev = 0.0000\n",
            "Test Sample 656: Mean Prediction = 1.0000, Std Dev = 0.0000\n",
            "Test Sample 657: Mean Prediction = 1.0000, Std Dev = 0.0000\n",
            "Test Sample 658: Mean Prediction = 0.0000, Std Dev = 0.0000\n",
            "Test Sample 659: Mean Prediction = 1.0000, Std Dev = 0.0000\n",
            "Test Sample 660: Mean Prediction = 1.0000, Std Dev = 0.0000\n",
            "Test Sample 661: Mean Prediction = 1.0000, Std Dev = 0.0000\n",
            "Test Sample 662: Mean Prediction = 1.0000, Std Dev = 0.0000\n",
            "Test Sample 663: Mean Prediction = 1.0000, Std Dev = 0.0000\n",
            "Test Sample 664: Mean Prediction = 0.0000, Std Dev = 0.0000\n",
            "Test Sample 665: Mean Prediction = 0.0000, Std Dev = 0.0000\n",
            "Test Sample 666: Mean Prediction = 0.0000, Std Dev = 0.0000\n",
            "Test Sample 667: Mean Prediction = 0.0000, Std Dev = 0.0000\n",
            "Test Sample 668: Mean Prediction = 0.0000, Std Dev = 0.0000\n",
            "Test Sample 669: Mean Prediction = 0.0000, Std Dev = 0.0000\n",
            "Test Sample 670: Mean Prediction = 0.0000, Std Dev = 0.0000\n",
            "Test Sample 671: Mean Prediction = 1.0000, Std Dev = 0.0000\n",
            "Test Sample 672: Mean Prediction = 0.0000, Std Dev = 0.0000\n",
            "Test Sample 673: Mean Prediction = 1.0000, Std Dev = 0.0000\n",
            "Test Sample 674: Mean Prediction = 1.0000, Std Dev = 0.0000\n",
            "Test Sample 675: Mean Prediction = 1.0000, Std Dev = 0.0000\n",
            "Test Sample 676: Mean Prediction = 1.0000, Std Dev = 0.0000\n",
            "Test Sample 677: Mean Prediction = 0.0000, Std Dev = 0.0000\n",
            "Test Sample 678: Mean Prediction = 0.0000, Std Dev = 0.0000\n",
            "Test Sample 679: Mean Prediction = 0.0000, Std Dev = 0.0000\n",
            "Test Sample 680: Mean Prediction = 1.0000, Std Dev = 0.0000\n",
            "Test Sample 681: Mean Prediction = 0.0000, Std Dev = 0.0000\n",
            "Test Sample 682: Mean Prediction = 1.0000, Std Dev = 0.0000\n",
            "Test Sample 683: Mean Prediction = 0.0000, Std Dev = 0.0000\n",
            "Test Sample 684: Mean Prediction = 1.0000, Std Dev = 0.0000\n",
            "Test Sample 685: Mean Prediction = 1.0000, Std Dev = 0.0000\n",
            "Test Sample 686: Mean Prediction = 0.0000, Std Dev = 0.0000\n",
            "Test Sample 687: Mean Prediction = 0.0000, Std Dev = 0.0000\n",
            "Test Sample 688: Mean Prediction = 1.0000, Std Dev = 0.0000\n",
            "Test Sample 689: Mean Prediction = 0.0000, Std Dev = 0.0000\n",
            "Test Sample 690: Mean Prediction = 0.0000, Std Dev = 0.0000\n",
            "Test Sample 691: Mean Prediction = 1.0000, Std Dev = 0.0000\n",
            "Test Sample 692: Mean Prediction = 1.0000, Std Dev = 0.0000\n",
            "Test Sample 693: Mean Prediction = 0.0000, Std Dev = 0.0000\n",
            "Test Sample 694: Mean Prediction = 0.0000, Std Dev = 0.0000\n",
            "Test Sample 695: Mean Prediction = 1.0000, Std Dev = 0.0000\n",
            "Test Sample 696: Mean Prediction = 1.0000, Std Dev = 0.0000\n",
            "Test Sample 697: Mean Prediction = 0.0000, Std Dev = 0.0000\n",
            "Test Sample 698: Mean Prediction = 0.0000, Std Dev = 0.0000\n",
            "Test Sample 699: Mean Prediction = 0.0000, Std Dev = 0.0000\n",
            "Test Sample 700: Mean Prediction = 1.0000, Std Dev = 0.0000\n",
            "Test Sample 701: Mean Prediction = 0.0000, Std Dev = 0.0000\n",
            "Test Sample 702: Mean Prediction = 0.0000, Std Dev = 0.0000\n",
            "Test Sample 703: Mean Prediction = 1.0000, Std Dev = 0.0000\n",
            "Test Sample 704: Mean Prediction = 0.0000, Std Dev = 0.0000\n",
            "Test Sample 705: Mean Prediction = 1.0000, Std Dev = 0.0000\n",
            "Test Sample 706: Mean Prediction = 0.0000, Std Dev = 0.0000\n",
            "Test Sample 707: Mean Prediction = 0.0000, Std Dev = 0.0000\n",
            "Test Sample 708: Mean Prediction = 0.0000, Std Dev = 0.0000\n",
            "Test Sample 709: Mean Prediction = 0.0000, Std Dev = 0.0000\n",
            "Test Sample 710: Mean Prediction = 1.0000, Std Dev = 0.0000\n",
            "Test Sample 711: Mean Prediction = 0.0000, Std Dev = 0.0000\n",
            "Test Sample 712: Mean Prediction = 1.0000, Std Dev = 0.0000\n",
            "Test Sample 713: Mean Prediction = 0.0000, Std Dev = 0.0000\n",
            "Test Sample 714: Mean Prediction = 0.0000, Std Dev = 0.0000\n",
            "Test Sample 715: Mean Prediction = 0.0000, Std Dev = 0.0000\n",
            "Test Sample 716: Mean Prediction = 0.0000, Std Dev = 0.0000\n",
            "Test Sample 717: Mean Prediction = 0.0000, Std Dev = 0.0000\n",
            "Test Sample 718: Mean Prediction = 1.0000, Std Dev = 0.0000\n",
            "Test Sample 719: Mean Prediction = 1.0000, Std Dev = 0.0000\n",
            "Test Sample 720: Mean Prediction = 0.0000, Std Dev = 0.0000\n",
            "Test Sample 721: Mean Prediction = 1.0000, Std Dev = 0.0000\n",
            "Test Sample 722: Mean Prediction = 1.0000, Std Dev = 0.0000\n",
            "Test Sample 723: Mean Prediction = 0.0000, Std Dev = 0.0000\n",
            "Test Sample 724: Mean Prediction = 1.0000, Std Dev = 0.0000\n",
            "Test Sample 725: Mean Prediction = 1.0000, Std Dev = 0.0000\n",
            "Test Sample 726: Mean Prediction = 1.0000, Std Dev = 0.0000\n",
            "Test Sample 727: Mean Prediction = 1.0000, Std Dev = 0.0000\n",
            "Test Sample 728: Mean Prediction = 0.0000, Std Dev = 0.0000\n",
            "Test Sample 729: Mean Prediction = 1.0000, Std Dev = 0.0000\n",
            "Test Sample 730: Mean Prediction = 0.0000, Std Dev = 0.0000\n",
            "Test Sample 731: Mean Prediction = 1.0000, Std Dev = 0.0000\n",
            "Test Sample 732: Mean Prediction = 1.0000, Std Dev = 0.0000\n",
            "Test Sample 733: Mean Prediction = 1.0000, Std Dev = 0.0000\n",
            "Test Sample 734: Mean Prediction = 0.0000, Std Dev = 0.0000\n",
            "Test Sample 735: Mean Prediction = 0.0000, Std Dev = 0.0000\n",
            "Test Sample 736: Mean Prediction = 1.0000, Std Dev = 0.0000\n",
            "Test Sample 737: Mean Prediction = 0.0000, Std Dev = 0.0000\n",
            "Test Sample 738: Mean Prediction = 0.0000, Std Dev = 0.0000\n",
            "Test Sample 739: Mean Prediction = 0.0000, Std Dev = 0.0000\n",
            "Test Sample 740: Mean Prediction = 0.0000, Std Dev = 0.0000\n",
            "Test Sample 741: Mean Prediction = 1.0000, Std Dev = 0.0000\n",
            "Test Sample 742: Mean Prediction = 0.0000, Std Dev = 0.0000\n",
            "Test Sample 743: Mean Prediction = 0.0000, Std Dev = 0.0000\n",
            "Test Sample 744: Mean Prediction = 1.0000, Std Dev = 0.0000\n",
            "Test Sample 745: Mean Prediction = 1.0000, Std Dev = 0.0000\n",
            "Test Sample 746: Mean Prediction = 1.0000, Std Dev = 0.0000\n",
            "Test Sample 747: Mean Prediction = 1.0000, Std Dev = 0.0000\n",
            "Test Sample 748: Mean Prediction = 0.0000, Std Dev = 0.0000\n",
            "Test Sample 749: Mean Prediction = 0.0000, Std Dev = 0.0000\n",
            "Test Sample 750: Mean Prediction = 0.0000, Std Dev = 0.0000\n",
            "Test Sample 751: Mean Prediction = 1.0000, Std Dev = 0.0000\n",
            "Test Sample 752: Mean Prediction = 1.0000, Std Dev = 0.0000\n",
            "Test Sample 753: Mean Prediction = 1.0000, Std Dev = 0.0000\n",
            "Test Sample 754: Mean Prediction = 0.0000, Std Dev = 0.0000\n",
            "Test Sample 755: Mean Prediction = 1.0000, Std Dev = 0.0000\n",
            "Test Sample 756: Mean Prediction = 0.0000, Std Dev = 0.0000\n",
            "Test Sample 757: Mean Prediction = 1.0000, Std Dev = 0.0000\n",
            "Test Sample 758: Mean Prediction = 1.0000, Std Dev = 0.0000\n",
            "Test Sample 759: Mean Prediction = 0.0000, Std Dev = 0.0000\n",
            "Test Sample 760: Mean Prediction = 1.0000, Std Dev = 0.0000\n",
            "Test Sample 761: Mean Prediction = 1.0000, Std Dev = 0.0000\n",
            "Test Sample 762: Mean Prediction = 0.0000, Std Dev = 0.0000\n",
            "Test Sample 763: Mean Prediction = 1.0000, Std Dev = 0.0000\n",
            "Test Sample 764: Mean Prediction = 0.0000, Std Dev = 0.0000\n",
            "Test Sample 765: Mean Prediction = 0.0000, Std Dev = 0.0000\n",
            "Test Sample 766: Mean Prediction = 1.0000, Std Dev = 0.0000\n",
            "Test Sample 767: Mean Prediction = 1.0000, Std Dev = 0.0000\n",
            "Test Sample 768: Mean Prediction = 1.0000, Std Dev = 0.0000\n",
            "Test Sample 769: Mean Prediction = 0.0000, Std Dev = 0.0000\n",
            "Test Sample 770: Mean Prediction = 0.0000, Std Dev = 0.0000\n",
            "Test Sample 771: Mean Prediction = 1.0000, Std Dev = 0.0000\n",
            "Test Sample 772: Mean Prediction = 1.0000, Std Dev = 0.0000\n",
            "Test Sample 773: Mean Prediction = 1.0000, Std Dev = 0.0000\n",
            "Test Sample 774: Mean Prediction = 0.0000, Std Dev = 0.0000\n",
            "Test Sample 775: Mean Prediction = 1.0000, Std Dev = 0.0000\n",
            "Test Sample 776: Mean Prediction = 1.0000, Std Dev = 0.0000\n",
            "Test Sample 777: Mean Prediction = 1.0000, Std Dev = 0.0000\n",
            "Test Sample 778: Mean Prediction = 0.0000, Std Dev = 0.0000\n",
            "Test Sample 779: Mean Prediction = 0.0000, Std Dev = 0.0000\n",
            "Test Sample 780: Mean Prediction = 1.0000, Std Dev = 0.0000\n",
            "Test Sample 781: Mean Prediction = 0.9800, Std Dev = 0.1400\n",
            "Test Sample 782: Mean Prediction = 1.0000, Std Dev = 0.0000\n",
            "Test Sample 783: Mean Prediction = 0.0000, Std Dev = 0.0000\n",
            "Test Sample 784: Mean Prediction = 0.0000, Std Dev = 0.0000\n",
            "Test Sample 785: Mean Prediction = 0.0000, Std Dev = 0.0000\n",
            "Test Sample 786: Mean Prediction = 1.0000, Std Dev = 0.0000\n",
            "Test Sample 787: Mean Prediction = 0.0000, Std Dev = 0.0000\n",
            "Test Sample 788: Mean Prediction = 1.0000, Std Dev = 0.0000\n",
            "Test Sample 789: Mean Prediction = 0.3200, Std Dev = 0.4665\n",
            "Test Sample 790: Mean Prediction = 1.0000, Std Dev = 0.0000\n",
            "Test Sample 791: Mean Prediction = 1.0000, Std Dev = 0.0000\n",
            "Test Sample 792: Mean Prediction = 1.0000, Std Dev = 0.0000\n",
            "Test Sample 793: Mean Prediction = 1.0000, Std Dev = 0.0000\n",
            "Test Sample 794: Mean Prediction = 1.0000, Std Dev = 0.0000\n",
            "Test Sample 795: Mean Prediction = 1.0000, Std Dev = 0.0000\n",
            "Test Sample 796: Mean Prediction = 1.0000, Std Dev = 0.0000\n",
            "Test Sample 797: Mean Prediction = 0.0000, Std Dev = 0.0000\n",
            "Test Sample 798: Mean Prediction = 1.0000, Std Dev = 0.0000\n",
            "Test Sample 799: Mean Prediction = 0.0000, Std Dev = 0.0000\n",
            "Test Sample 800: Mean Prediction = 1.0000, Std Dev = 0.0000\n",
            "Test Sample 801: Mean Prediction = 1.0000, Std Dev = 0.0000\n",
            "Test Sample 802: Mean Prediction = 0.0000, Std Dev = 0.0000\n",
            "Test Sample 803: Mean Prediction = 0.5400, Std Dev = 0.4984\n",
            "Test Sample 804: Mean Prediction = 1.0000, Std Dev = 0.0000\n",
            "Test Sample 805: Mean Prediction = 1.0000, Std Dev = 0.0000\n",
            "Test Sample 806: Mean Prediction = 1.0000, Std Dev = 0.0000\n",
            "Test Sample 807: Mean Prediction = 0.0000, Std Dev = 0.0000\n",
            "Test Sample 808: Mean Prediction = 1.0000, Std Dev = 0.0000\n",
            "Test Sample 809: Mean Prediction = 0.0000, Std Dev = 0.0000\n",
            "Test Sample 810: Mean Prediction = 0.0000, Std Dev = 0.0000\n",
            "Test Sample 811: Mean Prediction = 0.0000, Std Dev = 0.0000\n",
            "Test Sample 812: Mean Prediction = 0.0000, Std Dev = 0.0000\n",
            "Test Sample 813: Mean Prediction = 1.0000, Std Dev = 0.0000\n",
            "Test Sample 814: Mean Prediction = 1.0000, Std Dev = 0.0000\n",
            "Test Sample 815: Mean Prediction = 0.0000, Std Dev = 0.0000\n",
            "Test Sample 816: Mean Prediction = 0.0000, Std Dev = 0.0000\n",
            "Test Sample 817: Mean Prediction = 0.0000, Std Dev = 0.0000\n",
            "Test Sample 818: Mean Prediction = 1.0000, Std Dev = 0.0000\n",
            "Test Sample 819: Mean Prediction = 1.0000, Std Dev = 0.0000\n",
            "Test Sample 820: Mean Prediction = 1.0000, Std Dev = 0.0000\n",
            "Test Sample 821: Mean Prediction = 0.0000, Std Dev = 0.0000\n",
            "Test Sample 822: Mean Prediction = 0.0000, Std Dev = 0.0000\n",
            "Test Sample 823: Mean Prediction = 1.0000, Std Dev = 0.0000\n",
            "Test Sample 824: Mean Prediction = 0.6500, Std Dev = 0.4770\n",
            "Test Sample 825: Mean Prediction = 0.0000, Std Dev = 0.0000\n",
            "Test Sample 826: Mean Prediction = 0.0000, Std Dev = 0.0000\n",
            "Test Sample 827: Mean Prediction = 0.0000, Std Dev = 0.0000\n",
            "Test Sample 828: Mean Prediction = 1.0000, Std Dev = 0.0000\n",
            "Test Sample 829: Mean Prediction = 0.0000, Std Dev = 0.0000\n",
            "Test Sample 830: Mean Prediction = 1.0000, Std Dev = 0.0000\n",
            "Test Sample 831: Mean Prediction = 0.0000, Std Dev = 0.0000\n",
            "Test Sample 832: Mean Prediction = 1.0000, Std Dev = 0.0000\n",
            "Test Sample 833: Mean Prediction = 1.0000, Std Dev = 0.0000\n",
            "Test Sample 834: Mean Prediction = 1.0000, Std Dev = 0.0000\n",
            "Test Sample 835: Mean Prediction = 0.0000, Std Dev = 0.0000\n",
            "Test Sample 836: Mean Prediction = 0.0000, Std Dev = 0.0000\n",
            "Test Sample 837: Mean Prediction = 1.0000, Std Dev = 0.0000\n",
            "Test Sample 838: Mean Prediction = 1.0000, Std Dev = 0.0000\n",
            "Test Sample 839: Mean Prediction = 1.0000, Std Dev = 0.0000\n",
            "Test Sample 840: Mean Prediction = 0.0000, Std Dev = 0.0000\n",
            "Test Sample 841: Mean Prediction = 0.0000, Std Dev = 0.0000\n",
            "Test Sample 842: Mean Prediction = 0.0000, Std Dev = 0.0000\n",
            "Test Sample 843: Mean Prediction = 1.0000, Std Dev = 0.0000\n",
            "Test Sample 844: Mean Prediction = 0.0100, Std Dev = 0.0995\n",
            "Test Sample 845: Mean Prediction = 0.0000, Std Dev = 0.0000\n",
            "Test Sample 846: Mean Prediction = 1.0000, Std Dev = 0.0000\n",
            "Test Sample 847: Mean Prediction = 0.0000, Std Dev = 0.0000\n",
            "Test Sample 848: Mean Prediction = 0.0000, Std Dev = 0.0000\n",
            "Test Sample 849: Mean Prediction = 0.0000, Std Dev = 0.0000\n",
            "Test Sample 850: Mean Prediction = 0.0000, Std Dev = 0.0000\n",
            "Test Sample 851: Mean Prediction = 1.0000, Std Dev = 0.0000\n",
            "Test Sample 852: Mean Prediction = 0.0000, Std Dev = 0.0000\n",
            "Test Sample 853: Mean Prediction = 0.0000, Std Dev = 0.0000\n",
            "Test Sample 854: Mean Prediction = 0.0000, Std Dev = 0.0000\n",
            "Test Sample 855: Mean Prediction = 1.0000, Std Dev = 0.0000\n",
            "Test Sample 856: Mean Prediction = 0.0000, Std Dev = 0.0000\n",
            "Test Sample 857: Mean Prediction = 0.0000, Std Dev = 0.0000\n",
            "Test Sample 858: Mean Prediction = 0.0000, Std Dev = 0.0000\n",
            "Test Sample 859: Mean Prediction = 0.0000, Std Dev = 0.0000\n",
            "Test Sample 860: Mean Prediction = 0.0000, Std Dev = 0.0000\n",
            "Test Sample 861: Mean Prediction = 1.0000, Std Dev = 0.0000\n",
            "Test Sample 862: Mean Prediction = 0.0000, Std Dev = 0.0000\n",
            "Test Sample 863: Mean Prediction = 0.0000, Std Dev = 0.0000\n",
            "Test Sample 864: Mean Prediction = 0.0000, Std Dev = 0.0000\n",
            "Test Sample 865: Mean Prediction = 0.0000, Std Dev = 0.0000\n",
            "Test Sample 866: Mean Prediction = 1.0000, Std Dev = 0.0000\n",
            "Test Sample 867: Mean Prediction = 1.0000, Std Dev = 0.0000\n",
            "Test Sample 868: Mean Prediction = 0.0000, Std Dev = 0.0000\n",
            "Test Sample 869: Mean Prediction = 1.0000, Std Dev = 0.0000\n",
            "Test Sample 870: Mean Prediction = 1.0000, Std Dev = 0.0000\n",
            "Test Sample 871: Mean Prediction = 1.0000, Std Dev = 0.0000\n",
            "Test Sample 872: Mean Prediction = 1.0000, Std Dev = 0.0000\n",
            "Test Sample 873: Mean Prediction = 0.0000, Std Dev = 0.0000\n",
            "Test Sample 874: Mean Prediction = 1.0000, Std Dev = 0.0000\n",
            "Test Sample 875: Mean Prediction = 0.0000, Std Dev = 0.0000\n",
            "Test Sample 876: Mean Prediction = 1.0000, Std Dev = 0.0000\n",
            "Test Sample 877: Mean Prediction = 0.0000, Std Dev = 0.0000\n",
            "Test Sample 878: Mean Prediction = 1.0000, Std Dev = 0.0000\n",
            "Test Sample 879: Mean Prediction = 0.0000, Std Dev = 0.0000\n",
            "Test Sample 880: Mean Prediction = 1.0000, Std Dev = 0.0000\n",
            "Test Sample 881: Mean Prediction = 0.0000, Std Dev = 0.0000\n",
            "Test Sample 882: Mean Prediction = 0.8300, Std Dev = 0.3756\n",
            "Test Sample 883: Mean Prediction = 1.0000, Std Dev = 0.0000\n",
            "Test Sample 884: Mean Prediction = 0.0000, Std Dev = 0.0000\n",
            "Test Sample 885: Mean Prediction = 0.0000, Std Dev = 0.0000\n",
            "Test Sample 886: Mean Prediction = 0.0000, Std Dev = 0.0000\n",
            "Test Sample 887: Mean Prediction = 0.0000, Std Dev = 0.0000\n",
            "Test Sample 888: Mean Prediction = 0.0000, Std Dev = 0.0000\n",
            "Test Sample 889: Mean Prediction = 1.0000, Std Dev = 0.0000\n",
            "Test Sample 890: Mean Prediction = 1.0000, Std Dev = 0.0000\n",
            "Test Sample 891: Mean Prediction = 1.0000, Std Dev = 0.0000\n",
            "Test Sample 892: Mean Prediction = 0.0000, Std Dev = 0.0000\n",
            "Test Sample 893: Mean Prediction = 0.0000, Std Dev = 0.0000\n",
            "Test Sample 894: Mean Prediction = 1.0000, Std Dev = 0.0000\n",
            "Test Sample 895: Mean Prediction = 1.0000, Std Dev = 0.0000\n",
            "Test Sample 896: Mean Prediction = 1.0000, Std Dev = 0.0000\n",
            "Test Sample 897: Mean Prediction = 0.0000, Std Dev = 0.0000\n",
            "Test Sample 898: Mean Prediction = 0.0000, Std Dev = 0.0000\n",
            "Test Sample 899: Mean Prediction = 0.0000, Std Dev = 0.0000\n",
            "Test Sample 900: Mean Prediction = 0.0000, Std Dev = 0.0000\n",
            "Test Sample 901: Mean Prediction = 0.0000, Std Dev = 0.0000\n",
            "Test Sample 902: Mean Prediction = 1.0000, Std Dev = 0.0000\n",
            "Test Sample 903: Mean Prediction = 0.0000, Std Dev = 0.0000\n",
            "Test Sample 904: Mean Prediction = 0.0000, Std Dev = 0.0000\n",
            "Test Sample 905: Mean Prediction = 0.0000, Std Dev = 0.0000\n",
            "Test Sample 906: Mean Prediction = 0.0000, Std Dev = 0.0000\n",
            "Test Sample 907: Mean Prediction = 0.0000, Std Dev = 0.0000\n",
            "Test Sample 908: Mean Prediction = 0.0000, Std Dev = 0.0000\n",
            "Test Sample 909: Mean Prediction = 1.0000, Std Dev = 0.0000\n",
            "Test Sample 910: Mean Prediction = 0.0000, Std Dev = 0.0000\n",
            "Test Sample 911: Mean Prediction = 0.0000, Std Dev = 0.0000\n",
            "Test Sample 912: Mean Prediction = 0.3600, Std Dev = 0.4800\n",
            "Test Sample 913: Mean Prediction = 0.0000, Std Dev = 0.0000\n",
            "Test Sample 914: Mean Prediction = 1.0000, Std Dev = 0.0000\n",
            "Test Sample 915: Mean Prediction = 1.0000, Std Dev = 0.0000\n",
            "Test Sample 916: Mean Prediction = 1.0000, Std Dev = 0.0000\n",
            "Test Sample 917: Mean Prediction = 0.0000, Std Dev = 0.0000\n",
            "Test Sample 918: Mean Prediction = 1.0000, Std Dev = 0.0000\n",
            "Test Sample 919: Mean Prediction = 1.0000, Std Dev = 0.0000\n",
            "Test Sample 920: Mean Prediction = 0.0000, Std Dev = 0.0000\n",
            "Test Sample 921: Mean Prediction = 0.0500, Std Dev = 0.2179\n",
            "Test Sample 922: Mean Prediction = 0.0000, Std Dev = 0.0000\n",
            "Test Sample 923: Mean Prediction = 1.0000, Std Dev = 0.0000\n",
            "Test Sample 924: Mean Prediction = 1.0000, Std Dev = 0.0000\n",
            "Test Sample 925: Mean Prediction = 1.0000, Std Dev = 0.0000\n",
            "Test Sample 926: Mean Prediction = 0.0000, Std Dev = 0.0000\n",
            "Test Sample 927: Mean Prediction = 1.0000, Std Dev = 0.0000\n",
            "Test Sample 928: Mean Prediction = 0.0000, Std Dev = 0.0000\n",
            "Test Sample 929: Mean Prediction = 0.0000, Std Dev = 0.0000\n",
            "Test Sample 930: Mean Prediction = 0.0000, Std Dev = 0.0000\n",
            "Test Sample 931: Mean Prediction = 1.0000, Std Dev = 0.0000\n",
            "Test Sample 932: Mean Prediction = 0.0000, Std Dev = 0.0000\n",
            "Test Sample 933: Mean Prediction = 0.2400, Std Dev = 0.4271\n",
            "Test Sample 934: Mean Prediction = 0.0000, Std Dev = 0.0000\n",
            "Test Sample 935: Mean Prediction = 1.0000, Std Dev = 0.0000\n",
            "Test Sample 936: Mean Prediction = 0.0000, Std Dev = 0.0000\n",
            "Test Sample 937: Mean Prediction = 0.0000, Std Dev = 0.0000\n",
            "Test Sample 938: Mean Prediction = 1.0000, Std Dev = 0.0000\n",
            "Test Sample 939: Mean Prediction = 0.0000, Std Dev = 0.0000\n",
            "Test Sample 940: Mean Prediction = 1.0000, Std Dev = 0.0000\n",
            "Test Sample 941: Mean Prediction = 1.0000, Std Dev = 0.0000\n",
            "Test Sample 942: Mean Prediction = 1.0000, Std Dev = 0.0000\n",
            "Test Sample 943: Mean Prediction = 0.0000, Std Dev = 0.0000\n",
            "Test Sample 944: Mean Prediction = 1.0000, Std Dev = 0.0000\n",
            "Test Sample 945: Mean Prediction = 1.0000, Std Dev = 0.0000\n",
            "Test Sample 946: Mean Prediction = 0.0000, Std Dev = 0.0000\n",
            "Test Sample 947: Mean Prediction = 1.0000, Std Dev = 0.0000\n",
            "Test Sample 948: Mean Prediction = 1.0000, Std Dev = 0.0000\n",
            "Test Sample 949: Mean Prediction = 0.0000, Std Dev = 0.0000\n",
            "Test Sample 950: Mean Prediction = 1.0000, Std Dev = 0.0000\n",
            "Test Sample 951: Mean Prediction = 1.0000, Std Dev = 0.0000\n",
            "Test Sample 952: Mean Prediction = 0.0000, Std Dev = 0.0000\n",
            "Test Sample 953: Mean Prediction = 1.0000, Std Dev = 0.0000\n",
            "Test Sample 954: Mean Prediction = 1.0000, Std Dev = 0.0000\n",
            "Test Sample 955: Mean Prediction = 0.0000, Std Dev = 0.0000\n",
            "Test Sample 956: Mean Prediction = 1.0000, Std Dev = 0.0000\n",
            "Test Sample 957: Mean Prediction = 1.0000, Std Dev = 0.0000\n",
            "Test Sample 958: Mean Prediction = 1.0000, Std Dev = 0.0000\n",
            "Test Sample 959: Mean Prediction = 1.0000, Std Dev = 0.0000\n",
            "Test Sample 960: Mean Prediction = 0.0000, Std Dev = 0.0000\n",
            "Test Sample 961: Mean Prediction = 1.0000, Std Dev = 0.0000\n",
            "Test Sample 962: Mean Prediction = 1.0000, Std Dev = 0.0000\n",
            "Test Sample 963: Mean Prediction = 0.0000, Std Dev = 0.0000\n",
            "Test Sample 964: Mean Prediction = 0.0000, Std Dev = 0.0000\n",
            "Test Sample 965: Mean Prediction = 1.0000, Std Dev = 0.0000\n",
            "Test Sample 966: Mean Prediction = 0.0000, Std Dev = 0.0000\n",
            "Test Sample 967: Mean Prediction = 1.0000, Std Dev = 0.0000\n",
            "Test Sample 968: Mean Prediction = 1.0000, Std Dev = 0.0000\n",
            "Test Sample 969: Mean Prediction = 1.0000, Std Dev = 0.0000\n",
            "Test Sample 970: Mean Prediction = 0.0000, Std Dev = 0.0000\n",
            "Test Sample 971: Mean Prediction = 0.0000, Std Dev = 0.0000\n",
            "Test Sample 972: Mean Prediction = 0.0000, Std Dev = 0.0000\n",
            "Test Sample 973: Mean Prediction = 1.0000, Std Dev = 0.0000\n",
            "Test Sample 974: Mean Prediction = 0.0000, Std Dev = 0.0000\n",
            "Test Sample 975: Mean Prediction = 1.0000, Std Dev = 0.0000\n",
            "Test Sample 976: Mean Prediction = 0.0000, Std Dev = 0.0000\n",
            "Test Sample 977: Mean Prediction = 0.0000, Std Dev = 0.0000\n",
            "Test Sample 978: Mean Prediction = 1.0000, Std Dev = 0.0000\n",
            "Test Sample 979: Mean Prediction = 0.0000, Std Dev = 0.0000\n",
            "Test Sample 980: Mean Prediction = 1.0000, Std Dev = 0.0000\n",
            "Test Sample 981: Mean Prediction = 0.0000, Std Dev = 0.0000\n",
            "Test Sample 982: Mean Prediction = 0.0000, Std Dev = 0.0000\n",
            "Test Sample 983: Mean Prediction = 0.0000, Std Dev = 0.0000\n",
            "Test Sample 984: Mean Prediction = 1.0000, Std Dev = 0.0000\n",
            "Test Sample 985: Mean Prediction = 0.0000, Std Dev = 0.0000\n",
            "Test Sample 986: Mean Prediction = 0.0000, Std Dev = 0.0000\n",
            "Test Sample 987: Mean Prediction = 1.0000, Std Dev = 0.0000\n",
            "Test Sample 988: Mean Prediction = 1.0000, Std Dev = 0.0000\n",
            "Test Sample 989: Mean Prediction = 1.0000, Std Dev = 0.0000\n",
            "Test Sample 990: Mean Prediction = 0.0000, Std Dev = 0.0000\n",
            "Test Sample 991: Mean Prediction = 1.0000, Std Dev = 0.0000\n",
            "Test Sample 992: Mean Prediction = 1.0000, Std Dev = 0.0000\n",
            "Test Sample 993: Mean Prediction = 0.0000, Std Dev = 0.0000\n",
            "Test Sample 994: Mean Prediction = 0.0000, Std Dev = 0.0000\n",
            "Test Sample 995: Mean Prediction = 1.0000, Std Dev = 0.0000\n",
            "Test Sample 996: Mean Prediction = 0.0200, Std Dev = 0.1400\n",
            "Test Sample 997: Mean Prediction = 1.0000, Std Dev = 0.0000\n",
            "Test Sample 998: Mean Prediction = 0.0000, Std Dev = 0.0000\n",
            "Test Sample 999: Mean Prediction = 1.0000, Std Dev = 0.0000\n",
            "Test Sample 1000: Mean Prediction = 0.0000, Std Dev = 0.0000\n",
            "Test Sample 1001: Mean Prediction = 0.0000, Std Dev = 0.0000\n",
            "Test Sample 1002: Mean Prediction = 0.0000, Std Dev = 0.0000\n",
            "Test Sample 1003: Mean Prediction = 1.0000, Std Dev = 0.0000\n",
            "Test Sample 1004: Mean Prediction = 1.0000, Std Dev = 0.0000\n",
            "Test Sample 1005: Mean Prediction = 1.0000, Std Dev = 0.0000\n",
            "Test Sample 1006: Mean Prediction = 1.0000, Std Dev = 0.0000\n",
            "Test Sample 1007: Mean Prediction = 1.0000, Std Dev = 0.0000\n",
            "Test Sample 1008: Mean Prediction = 1.0000, Std Dev = 0.0000\n",
            "Test Sample 1009: Mean Prediction = 0.0000, Std Dev = 0.0000\n",
            "Test Sample 1010: Mean Prediction = 1.0000, Std Dev = 0.0000\n",
            "Test Sample 1011: Mean Prediction = 1.0000, Std Dev = 0.0000\n",
            "Test Sample 1012: Mean Prediction = 1.0000, Std Dev = 0.0000\n",
            "Test Sample 1013: Mean Prediction = 0.0000, Std Dev = 0.0000\n",
            "Test Sample 1014: Mean Prediction = 1.0000, Std Dev = 0.0000\n",
            "Test Sample 1015: Mean Prediction = 0.0000, Std Dev = 0.0000\n",
            "Test Sample 1016: Mean Prediction = 0.0000, Std Dev = 0.0000\n",
            "Test Sample 1017: Mean Prediction = 0.0000, Std Dev = 0.0000\n",
            "Test Sample 1018: Mean Prediction = 1.0000, Std Dev = 0.0000\n",
            "Test Sample 1019: Mean Prediction = 1.0000, Std Dev = 0.0000\n",
            "Test Sample 1020: Mean Prediction = 0.0000, Std Dev = 0.0000\n",
            "Test Sample 1021: Mean Prediction = 1.0000, Std Dev = 0.0000\n",
            "Test Sample 1022: Mean Prediction = 1.0000, Std Dev = 0.0000\n",
            "Test Sample 1023: Mean Prediction = 1.0000, Std Dev = 0.0000\n",
            "Test Sample 1024: Mean Prediction = 0.0000, Std Dev = 0.0000\n",
            "Test Sample 1025: Mean Prediction = 1.0000, Std Dev = 0.0000\n",
            "Test Sample 1026: Mean Prediction = 0.0000, Std Dev = 0.0000\n",
            "Test Sample 1027: Mean Prediction = 1.0000, Std Dev = 0.0000\n",
            "Test Sample 1028: Mean Prediction = 1.0000, Std Dev = 0.0000\n",
            "Test Sample 1029: Mean Prediction = 0.0000, Std Dev = 0.0000\n",
            "Test Sample 1030: Mean Prediction = 0.0000, Std Dev = 0.0000\n",
            "Test Sample 1031: Mean Prediction = 1.0000, Std Dev = 0.0000\n",
            "Test Sample 1032: Mean Prediction = 0.0000, Std Dev = 0.0000\n",
            "Test Sample 1033: Mean Prediction = 0.0000, Std Dev = 0.0000\n",
            "Test Sample 1034: Mean Prediction = 0.9000, Std Dev = 0.3000\n",
            "Test Sample 1035: Mean Prediction = 0.0000, Std Dev = 0.0000\n",
            "Test Sample 1036: Mean Prediction = 1.0000, Std Dev = 0.0000\n",
            "Test Sample 1037: Mean Prediction = 1.0000, Std Dev = 0.0000\n",
            "Test Sample 1038: Mean Prediction = 0.0000, Std Dev = 0.0000\n",
            "Test Sample 1039: Mean Prediction = 0.0000, Std Dev = 0.0000\n",
            "Test Sample 1040: Mean Prediction = 0.0000, Std Dev = 0.0000\n",
            "Test Sample 1041: Mean Prediction = 0.0000, Std Dev = 0.0000\n",
            "Test Sample 1042: Mean Prediction = 0.0000, Std Dev = 0.0000\n",
            "Test Sample 1043: Mean Prediction = 0.0000, Std Dev = 0.0000\n",
            "Test Sample 1044: Mean Prediction = 1.0000, Std Dev = 0.0000\n",
            "Test Sample 1045: Mean Prediction = 0.0000, Std Dev = 0.0000\n",
            "Test Sample 1046: Mean Prediction = 1.0000, Std Dev = 0.0000\n",
            "Test Sample 1047: Mean Prediction = 0.0000, Std Dev = 0.0000\n",
            "Test Sample 1048: Mean Prediction = 0.0000, Std Dev = 0.0000\n",
            "Test Sample 1049: Mean Prediction = 1.0000, Std Dev = 0.0000\n",
            "Test Sample 1050: Mean Prediction = 0.0000, Std Dev = 0.0000\n",
            "Test Sample 1051: Mean Prediction = 0.0000, Std Dev = 0.0000\n",
            "Test Sample 1052: Mean Prediction = 0.1900, Std Dev = 0.3923\n",
            "Test Sample 1053: Mean Prediction = 0.0000, Std Dev = 0.0000\n",
            "Test Sample 1054: Mean Prediction = 1.0000, Std Dev = 0.0000\n",
            "Test Sample 1055: Mean Prediction = 0.0000, Std Dev = 0.0000\n",
            "Test Sample 1056: Mean Prediction = 0.0000, Std Dev = 0.0000\n",
            "Test Sample 1057: Mean Prediction = 0.0000, Std Dev = 0.0000\n",
            "Test Sample 1058: Mean Prediction = 0.0000, Std Dev = 0.0000\n",
            "Test Sample 1059: Mean Prediction = 0.0000, Std Dev = 0.0000\n",
            "Test Sample 1060: Mean Prediction = 1.0000, Std Dev = 0.0000\n",
            "Test Sample 1061: Mean Prediction = 1.0000, Std Dev = 0.0000\n",
            "Test Sample 1062: Mean Prediction = 0.0000, Std Dev = 0.0000\n",
            "Test Sample 1063: Mean Prediction = 0.0000, Std Dev = 0.0000\n",
            "Test Sample 1064: Mean Prediction = 1.0000, Std Dev = 0.0000\n",
            "Test Sample 1065: Mean Prediction = 0.0000, Std Dev = 0.0000\n",
            "Test Sample 1066: Mean Prediction = 0.0000, Std Dev = 0.0000\n",
            "Test Sample 1067: Mean Prediction = 0.0000, Std Dev = 0.0000\n",
            "Test Sample 1068: Mean Prediction = 1.0000, Std Dev = 0.0000\n",
            "Test Sample 1069: Mean Prediction = 0.9800, Std Dev = 0.1400\n",
            "Test Sample 1070: Mean Prediction = 1.0000, Std Dev = 0.0000\n",
            "Test Sample 1071: Mean Prediction = 0.0000, Std Dev = 0.0000\n",
            "Test Sample 1072: Mean Prediction = 0.0000, Std Dev = 0.0000\n",
            "Test Sample 1073: Mean Prediction = 1.0000, Std Dev = 0.0000\n",
            "Test Sample 1074: Mean Prediction = 0.0000, Std Dev = 0.0000\n",
            "Test Sample 1075: Mean Prediction = 0.0000, Std Dev = 0.0000\n",
            "Test Sample 1076: Mean Prediction = 1.0000, Std Dev = 0.0000\n",
            "Test Sample 1077: Mean Prediction = 0.0000, Std Dev = 0.0000\n",
            "Test Sample 1078: Mean Prediction = 1.0000, Std Dev = 0.0000\n",
            "Test Sample 1079: Mean Prediction = 0.0000, Std Dev = 0.0000\n",
            "Test Sample 1080: Mean Prediction = 0.0000, Std Dev = 0.0000\n",
            "Test Sample 1081: Mean Prediction = 0.0000, Std Dev = 0.0000\n",
            "Test Sample 1082: Mean Prediction = 0.0000, Std Dev = 0.0000\n",
            "Test Sample 1083: Mean Prediction = 0.0000, Std Dev = 0.0000\n",
            "Test Sample 1084: Mean Prediction = 1.0000, Std Dev = 0.0000\n",
            "Test Sample 1085: Mean Prediction = 1.0000, Std Dev = 0.0000\n",
            "Test Sample 1086: Mean Prediction = 1.0000, Std Dev = 0.0000\n",
            "Test Sample 1087: Mean Prediction = 1.0000, Std Dev = 0.0000\n",
            "Test Sample 1088: Mean Prediction = 0.0000, Std Dev = 0.0000\n",
            "Test Sample 1089: Mean Prediction = 0.0000, Std Dev = 0.0000\n",
            "Test Sample 1090: Mean Prediction = 1.0000, Std Dev = 0.0000\n",
            "Test Sample 1091: Mean Prediction = 0.0000, Std Dev = 0.0000\n",
            "Test Sample 1092: Mean Prediction = 0.0000, Std Dev = 0.0000\n",
            "Test Sample 1093: Mean Prediction = 1.0000, Std Dev = 0.0000\n",
            "Test Sample 1094: Mean Prediction = 0.0000, Std Dev = 0.0000\n",
            "Test Sample 1095: Mean Prediction = 1.0000, Std Dev = 0.0000\n",
            "Test Sample 1096: Mean Prediction = 0.0000, Std Dev = 0.0000\n",
            "Test Sample 1097: Mean Prediction = 1.0000, Std Dev = 0.0000\n",
            "Test Sample 1098: Mean Prediction = 0.0000, Std Dev = 0.0000\n",
            "Test Sample 1099: Mean Prediction = 1.0000, Std Dev = 0.0000\n",
            "Test Sample 1100: Mean Prediction = 1.0000, Std Dev = 0.0000\n",
            "Test Sample 1101: Mean Prediction = 0.0000, Std Dev = 0.0000\n",
            "Test Sample 1102: Mean Prediction = 1.0000, Std Dev = 0.0000\n",
            "Test Sample 1103: Mean Prediction = 1.0000, Std Dev = 0.0000\n",
            "Test Sample 1104: Mean Prediction = 1.0000, Std Dev = 0.0000\n",
            "Test Sample 1105: Mean Prediction = 0.0000, Std Dev = 0.0000\n",
            "Test Sample 1106: Mean Prediction = 0.0000, Std Dev = 0.0000\n",
            "Test Sample 1107: Mean Prediction = 1.0000, Std Dev = 0.0000\n",
            "Test Sample 1108: Mean Prediction = 0.0000, Std Dev = 0.0000\n",
            "Test Sample 1109: Mean Prediction = 1.0000, Std Dev = 0.0000\n",
            "Test Sample 1110: Mean Prediction = 0.0000, Std Dev = 0.0000\n",
            "Test Sample 1111: Mean Prediction = 1.0000, Std Dev = 0.0000\n",
            "Test Sample 1112: Mean Prediction = 1.0000, Std Dev = 0.0000\n",
            "Test Sample 1113: Mean Prediction = 1.0000, Std Dev = 0.0000\n",
            "Test Sample 1114: Mean Prediction = 0.0000, Std Dev = 0.0000\n",
            "Test Sample 1115: Mean Prediction = 0.0000, Std Dev = 0.0000\n",
            "Test Sample 1116: Mean Prediction = 0.0000, Std Dev = 0.0000\n",
            "Test Sample 1117: Mean Prediction = 1.0000, Std Dev = 0.0000\n",
            "Test Sample 1118: Mean Prediction = 1.0000, Std Dev = 0.0000\n",
            "Test Sample 1119: Mean Prediction = 1.0000, Std Dev = 0.0000\n",
            "Test Sample 1120: Mean Prediction = 0.0000, Std Dev = 0.0000\n",
            "Test Sample 1121: Mean Prediction = 1.0000, Std Dev = 0.0000\n",
            "Test Sample 1122: Mean Prediction = 1.0000, Std Dev = 0.0000\n",
            "Test Sample 1123: Mean Prediction = 1.0000, Std Dev = 0.0000\n",
            "Test Sample 1124: Mean Prediction = 0.0000, Std Dev = 0.0000\n",
            "Test Sample 1125: Mean Prediction = 1.0000, Std Dev = 0.0000\n",
            "Test Sample 1126: Mean Prediction = 1.0000, Std Dev = 0.0000\n",
            "Test Sample 1127: Mean Prediction = 0.0000, Std Dev = 0.0000\n",
            "Test Sample 1128: Mean Prediction = 0.0000, Std Dev = 0.0000\n",
            "Test Sample 1129: Mean Prediction = 1.0000, Std Dev = 0.0000\n",
            "Test Sample 1130: Mean Prediction = 1.0000, Std Dev = 0.0000\n",
            "Test Sample 1131: Mean Prediction = 0.0000, Std Dev = 0.0000\n",
            "Test Sample 1132: Mean Prediction = 0.0000, Std Dev = 0.0000\n",
            "Test Sample 1133: Mean Prediction = 0.0000, Std Dev = 0.0000\n",
            "Test Sample 1134: Mean Prediction = 0.0000, Std Dev = 0.0000\n",
            "Test Sample 1135: Mean Prediction = 1.0000, Std Dev = 0.0000\n",
            "Test Sample 1136: Mean Prediction = 1.0000, Std Dev = 0.0000\n",
            "Test Sample 1137: Mean Prediction = 0.0000, Std Dev = 0.0000\n",
            "Test Sample 1138: Mean Prediction = 1.0000, Std Dev = 0.0000\n",
            "Test Sample 1139: Mean Prediction = 1.0000, Std Dev = 0.0000\n",
            "Test Sample 1140: Mean Prediction = 1.0000, Std Dev = 0.0000\n",
            "Test Sample 1141: Mean Prediction = 1.0000, Std Dev = 0.0000\n",
            "Test Sample 1142: Mean Prediction = 1.0000, Std Dev = 0.0000\n",
            "Test Sample 1143: Mean Prediction = 1.0000, Std Dev = 0.0000\n",
            "Test Sample 1144: Mean Prediction = 1.0000, Std Dev = 0.0000\n",
            "Test Sample 1145: Mean Prediction = 0.9500, Std Dev = 0.2179\n",
            "Test Sample 1146: Mean Prediction = 1.0000, Std Dev = 0.0000\n",
            "Test Sample 1147: Mean Prediction = 1.0000, Std Dev = 0.0000\n",
            "Test Sample 1148: Mean Prediction = 0.0000, Std Dev = 0.0000\n",
            "Test Sample 1149: Mean Prediction = 0.0000, Std Dev = 0.0000\n",
            "Test Sample 1150: Mean Prediction = 1.0000, Std Dev = 0.0000\n",
            "Test Sample 1151: Mean Prediction = 0.0000, Std Dev = 0.0000\n",
            "Test Sample 1152: Mean Prediction = 1.0000, Std Dev = 0.0000\n",
            "Test Sample 1153: Mean Prediction = 0.3800, Std Dev = 0.4854\n",
            "Test Sample 1154: Mean Prediction = 0.0000, Std Dev = 0.0000\n",
            "Test Sample 1155: Mean Prediction = 1.0000, Std Dev = 0.0000\n",
            "Test Sample 1156: Mean Prediction = 1.0000, Std Dev = 0.0000\n",
            "Test Sample 1157: Mean Prediction = 1.0000, Std Dev = 0.0000\n",
            "Test Sample 1158: Mean Prediction = 1.0000, Std Dev = 0.0000\n",
            "Test Sample 1159: Mean Prediction = 1.0000, Std Dev = 0.0000\n",
            "Test Sample 1160: Mean Prediction = 1.0000, Std Dev = 0.0000\n",
            "Test Sample 1161: Mean Prediction = 0.0000, Std Dev = 0.0000\n",
            "Test Sample 1162: Mean Prediction = 1.0000, Std Dev = 0.0000\n",
            "Test Sample 1163: Mean Prediction = 1.0000, Std Dev = 0.0000\n",
            "Test Sample 1164: Mean Prediction = 0.0000, Std Dev = 0.0000\n",
            "Test Sample 1165: Mean Prediction = 0.0000, Std Dev = 0.0000\n",
            "Test Sample 1166: Mean Prediction = 0.0000, Std Dev = 0.0000\n",
            "Test Sample 1167: Mean Prediction = 0.0000, Std Dev = 0.0000\n",
            "Test Sample 1168: Mean Prediction = 0.0000, Std Dev = 0.0000\n",
            "Test Sample 1169: Mean Prediction = 1.0000, Std Dev = 0.0000\n",
            "Test Sample 1170: Mean Prediction = 1.0000, Std Dev = 0.0000\n",
            "Test Sample 1171: Mean Prediction = 0.0000, Std Dev = 0.0000\n",
            "Test Sample 1172: Mean Prediction = 1.0000, Std Dev = 0.0000\n",
            "Test Sample 1173: Mean Prediction = 0.5800, Std Dev = 0.4936\n",
            "Test Sample 1174: Mean Prediction = 0.0000, Std Dev = 0.0000\n",
            "Test Sample 1175: Mean Prediction = 1.0000, Std Dev = 0.0000\n",
            "Test Sample 1176: Mean Prediction = 0.0000, Std Dev = 0.0000\n",
            "Test Sample 1177: Mean Prediction = 1.0000, Std Dev = 0.0000\n",
            "Test Sample 1178: Mean Prediction = 0.0000, Std Dev = 0.0000\n",
            "Test Sample 1179: Mean Prediction = 0.0000, Std Dev = 0.0000\n",
            "Test Sample 1180: Mean Prediction = 0.0000, Std Dev = 0.0000\n",
            "Test Sample 1181: Mean Prediction = 1.0000, Std Dev = 0.0000\n",
            "Test Sample 1182: Mean Prediction = 1.0000, Std Dev = 0.0000\n",
            "Test Sample 1183: Mean Prediction = 0.0000, Std Dev = 0.0000\n",
            "Test Sample 1184: Mean Prediction = 0.0000, Std Dev = 0.0000\n",
            "Test Sample 1185: Mean Prediction = 0.0000, Std Dev = 0.0000\n",
            "Test Sample 1186: Mean Prediction = 1.0000, Std Dev = 0.0000\n",
            "Test Sample 1187: Mean Prediction = 1.0000, Std Dev = 0.0000\n",
            "Test Sample 1188: Mean Prediction = 1.0000, Std Dev = 0.0000\n",
            "Test Sample 1189: Mean Prediction = 1.0000, Std Dev = 0.0000\n",
            "Test Sample 1190: Mean Prediction = 0.0000, Std Dev = 0.0000\n",
            "Test Sample 1191: Mean Prediction = 0.0000, Std Dev = 0.0000\n",
            "Test Sample 1192: Mean Prediction = 0.0000, Std Dev = 0.0000\n",
            "Test Sample 1193: Mean Prediction = 1.0000, Std Dev = 0.0000\n",
            "Test Sample 1194: Mean Prediction = 1.0000, Std Dev = 0.0000\n",
            "Test Sample 1195: Mean Prediction = 0.0000, Std Dev = 0.0000\n",
            "Test Sample 1196: Mean Prediction = 1.0000, Std Dev = 0.0000\n",
            "Test Sample 1197: Mean Prediction = 0.0000, Std Dev = 0.0000\n",
            "Test Sample 1198: Mean Prediction = 0.0000, Std Dev = 0.0000\n",
            "Test Sample 1199: Mean Prediction = 1.0000, Std Dev = 0.0000\n",
            "Test Sample 1200: Mean Prediction = 0.0000, Std Dev = 0.0000\n",
            "Test Sample 1201: Mean Prediction = 0.0000, Std Dev = 0.0000\n",
            "Test Sample 1202: Mean Prediction = 0.0000, Std Dev = 0.0000\n",
            "Test Sample 1203: Mean Prediction = 1.0000, Std Dev = 0.0000\n",
            "Test Sample 1204: Mean Prediction = 0.0000, Std Dev = 0.0000\n",
            "Test Sample 1205: Mean Prediction = 1.0000, Std Dev = 0.0000\n",
            "Test Sample 1206: Mean Prediction = 0.8200, Std Dev = 0.3842\n",
            "Test Sample 1207: Mean Prediction = 0.0000, Std Dev = 0.0000\n",
            "Test Sample 1208: Mean Prediction = 1.0000, Std Dev = 0.0000\n",
            "Test Sample 1209: Mean Prediction = 0.0000, Std Dev = 0.0000\n",
            "Test Sample 1210: Mean Prediction = 1.0000, Std Dev = 0.0000\n",
            "Test Sample 1211: Mean Prediction = 1.0000, Std Dev = 0.0000\n",
            "Test Sample 1212: Mean Prediction = 1.0000, Std Dev = 0.0000\n",
            "Test Sample 1213: Mean Prediction = 1.0000, Std Dev = 0.0000\n",
            "Test Sample 1214: Mean Prediction = 0.0000, Std Dev = 0.0000\n",
            "Test Sample 1215: Mean Prediction = 0.0000, Std Dev = 0.0000\n",
            "Test Sample 1216: Mean Prediction = 0.0000, Std Dev = 0.0000\n",
            "Test Sample 1217: Mean Prediction = 1.0000, Std Dev = 0.0000\n",
            "Test Sample 1218: Mean Prediction = 0.0000, Std Dev = 0.0000\n",
            "Test Sample 1219: Mean Prediction = 0.0000, Std Dev = 0.0000\n",
            "Test Sample 1220: Mean Prediction = 0.0000, Std Dev = 0.0000\n",
            "Test Sample 1221: Mean Prediction = 1.0000, Std Dev = 0.0000\n",
            "Test Sample 1222: Mean Prediction = 0.0000, Std Dev = 0.0000\n",
            "Test Sample 1223: Mean Prediction = 0.0000, Std Dev = 0.0000\n",
            "Test Sample 1224: Mean Prediction = 0.0000, Std Dev = 0.0000\n",
            "Test Sample 1225: Mean Prediction = 1.0000, Std Dev = 0.0000\n",
            "Test Sample 1226: Mean Prediction = 0.0000, Std Dev = 0.0000\n",
            "Test Sample 1227: Mean Prediction = 0.0000, Std Dev = 0.0000\n",
            "Test Sample 1228: Mean Prediction = 0.0000, Std Dev = 0.0000\n",
            "Test Sample 1229: Mean Prediction = 1.0000, Std Dev = 0.0000\n",
            "Test Sample 1230: Mean Prediction = 0.0000, Std Dev = 0.0000\n",
            "Test Sample 1231: Mean Prediction = 0.0000, Std Dev = 0.0000\n",
            "Test Sample 1232: Mean Prediction = 0.0000, Std Dev = 0.0000\n",
            "Test Sample 1233: Mean Prediction = 1.0000, Std Dev = 0.0000\n",
            "Test Sample 1234: Mean Prediction = 0.0000, Std Dev = 0.0000\n",
            "Test Sample 1235: Mean Prediction = 1.0000, Std Dev = 0.0000\n",
            "Test Sample 1236: Mean Prediction = 0.0000, Std Dev = 0.0000\n",
            "Test Sample 1237: Mean Prediction = 1.0000, Std Dev = 0.0000\n",
            "Test Sample 1238: Mean Prediction = 1.0000, Std Dev = 0.0000\n",
            "Test Sample 1239: Mean Prediction = 0.0000, Std Dev = 0.0000\n",
            "Test Sample 1240: Mean Prediction = 1.0000, Std Dev = 0.0000\n",
            "Test Sample 1241: Mean Prediction = 0.0000, Std Dev = 0.0000\n",
            "Test Sample 1242: Mean Prediction = 1.0000, Std Dev = 0.0000\n",
            "Test Sample 1243: Mean Prediction = 0.0000, Std Dev = 0.0000\n",
            "Test Sample 1244: Mean Prediction = 1.0000, Std Dev = 0.0000\n",
            "Test Sample 1245: Mean Prediction = 1.0000, Std Dev = 0.0000\n",
            "Test Sample 1246: Mean Prediction = 1.0000, Std Dev = 0.0000\n",
            "Test Sample 1247: Mean Prediction = 1.0000, Std Dev = 0.0000\n",
            "Test Sample 1248: Mean Prediction = 0.0000, Std Dev = 0.0000\n",
            "Test Sample 1249: Mean Prediction = 0.0000, Std Dev = 0.0000\n",
            "Test Sample 1250: Mean Prediction = 0.1000, Std Dev = 0.3000\n",
            "Test Sample 1251: Mean Prediction = 0.0000, Std Dev = 0.0000\n",
            "Test Sample 1252: Mean Prediction = 0.0000, Std Dev = 0.0000\n",
            "Test Sample 1253: Mean Prediction = 1.0000, Std Dev = 0.0000\n",
            "Test Sample 1254: Mean Prediction = 0.0000, Std Dev = 0.0000\n",
            "Test Sample 1255: Mean Prediction = 0.0000, Std Dev = 0.0000\n",
            "Test Sample 1256: Mean Prediction = 0.0000, Std Dev = 0.0000\n",
            "Test Sample 1257: Mean Prediction = 0.0000, Std Dev = 0.0000\n",
            "Test Sample 1258: Mean Prediction = 0.0000, Std Dev = 0.0000\n",
            "Test Sample 1259: Mean Prediction = 1.0000, Std Dev = 0.0000\n",
            "Test Sample 1260: Mean Prediction = 1.0000, Std Dev = 0.0000\n",
            "Test Sample 1261: Mean Prediction = 1.0000, Std Dev = 0.0000\n",
            "Test Sample 1262: Mean Prediction = 1.0000, Std Dev = 0.0000\n",
            "Test Sample 1263: Mean Prediction = 1.0000, Std Dev = 0.0000\n",
            "Test Sample 1264: Mean Prediction = 0.0000, Std Dev = 0.0000\n",
            "Test Sample 1265: Mean Prediction = 0.0000, Std Dev = 0.0000\n",
            "Test Sample 1266: Mean Prediction = 1.0000, Std Dev = 0.0000\n",
            "Test Sample 1267: Mean Prediction = 1.0000, Std Dev = 0.0000\n",
            "Test Sample 1268: Mean Prediction = 1.0000, Std Dev = 0.0000\n",
            "Test Sample 1269: Mean Prediction = 0.0000, Std Dev = 0.0000\n",
            "Test Sample 1270: Mean Prediction = 0.0000, Std Dev = 0.0000\n",
            "Test Sample 1271: Mean Prediction = 0.0000, Std Dev = 0.0000\n",
            "Test Sample 1272: Mean Prediction = 0.0000, Std Dev = 0.0000\n",
            "Test Sample 1273: Mean Prediction = 1.0000, Std Dev = 0.0000\n",
            "Test Sample 1274: Mean Prediction = 0.0000, Std Dev = 0.0000\n",
            "Test Sample 1275: Mean Prediction = 0.0000, Std Dev = 0.0000\n",
            "Test Sample 1276: Mean Prediction = 1.0000, Std Dev = 0.0000\n",
            "Test Sample 1277: Mean Prediction = 0.0000, Std Dev = 0.0000\n",
            "Test Sample 1278: Mean Prediction = 1.0000, Std Dev = 0.0000\n",
            "Test Sample 1279: Mean Prediction = 1.0000, Std Dev = 0.0000\n",
            "Test Sample 1280: Mean Prediction = 0.0000, Std Dev = 0.0000\n",
            "Test Sample 1281: Mean Prediction = 0.0000, Std Dev = 0.0000\n",
            "Test Sample 1282: Mean Prediction = 1.0000, Std Dev = 0.0000\n",
            "Test Sample 1283: Mean Prediction = 1.0000, Std Dev = 0.0000\n",
            "Test Sample 1284: Mean Prediction = 0.0000, Std Dev = 0.0000\n",
            "Test Sample 1285: Mean Prediction = 1.0000, Std Dev = 0.0000\n",
            "Test Sample 1286: Mean Prediction = 1.0000, Std Dev = 0.0000\n",
            "Test Sample 1287: Mean Prediction = 0.0000, Std Dev = 0.0000\n",
            "Test Sample 1288: Mean Prediction = 0.0000, Std Dev = 0.0000\n",
            "Test Sample 1289: Mean Prediction = 0.0000, Std Dev = 0.0000\n",
            "Test Sample 1290: Mean Prediction = 1.0000, Std Dev = 0.0000\n",
            "Test Sample 1291: Mean Prediction = 0.0000, Std Dev = 0.0000\n",
            "Test Sample 1292: Mean Prediction = 0.0000, Std Dev = 0.0000\n",
            "Test Sample 1293: Mean Prediction = 0.0000, Std Dev = 0.0000\n",
            "Test Sample 1294: Mean Prediction = 0.0000, Std Dev = 0.0000\n",
            "Test Sample 1295: Mean Prediction = 1.0000, Std Dev = 0.0000\n",
            "Test Sample 1296: Mean Prediction = 0.0000, Std Dev = 0.0000\n",
            "Test Sample 1297: Mean Prediction = 1.0000, Std Dev = 0.0000\n",
            "Test Sample 1298: Mean Prediction = 1.0000, Std Dev = 0.0000\n",
            "Test Sample 1299: Mean Prediction = 1.0000, Std Dev = 0.0000\n",
            "Test Sample 1300: Mean Prediction = 1.0000, Std Dev = 0.0000\n",
            "Test Sample 1301: Mean Prediction = 0.0000, Std Dev = 0.0000\n",
            "Test Sample 1302: Mean Prediction = 0.0000, Std Dev = 0.0000\n",
            "Test Sample 1303: Mean Prediction = 1.0000, Std Dev = 0.0000\n",
            "Test Sample 1304: Mean Prediction = 0.0000, Std Dev = 0.0000\n",
            "Test Sample 1305: Mean Prediction = 1.0000, Std Dev = 0.0000\n",
            "Test Sample 1306: Mean Prediction = 0.0000, Std Dev = 0.0000\n",
            "Test Sample 1307: Mean Prediction = 0.0000, Std Dev = 0.0000\n",
            "Test Sample 1308: Mean Prediction = 0.0000, Std Dev = 0.0000\n",
            "Test Sample 1309: Mean Prediction = 1.0000, Std Dev = 0.0000\n",
            "Test Sample 1310: Mean Prediction = 1.0000, Std Dev = 0.0000\n",
            "Test Sample 1311: Mean Prediction = 0.0000, Std Dev = 0.0000\n",
            "Test Sample 1312: Mean Prediction = 0.0000, Std Dev = 0.0000\n",
            "Test Sample 1313: Mean Prediction = 1.0000, Std Dev = 0.0000\n",
            "Test Sample 1314: Mean Prediction = 0.0000, Std Dev = 0.0000\n",
            "Test Sample 1315: Mean Prediction = 1.0000, Std Dev = 0.0000\n",
            "Test Sample 1316: Mean Prediction = 1.0000, Std Dev = 0.0000\n",
            "Test Sample 1317: Mean Prediction = 0.0000, Std Dev = 0.0000\n",
            "Test Sample 1318: Mean Prediction = 1.0000, Std Dev = 0.0000\n",
            "Test Sample 1319: Mean Prediction = 0.0000, Std Dev = 0.0000\n",
            "Test Sample 1320: Mean Prediction = 0.0000, Std Dev = 0.0000\n",
            "Test Sample 1321: Mean Prediction = 1.0000, Std Dev = 0.0000\n",
            "Test Sample 1322: Mean Prediction = 1.0000, Std Dev = 0.0000\n",
            "Test Sample 1323: Mean Prediction = 1.0000, Std Dev = 0.0000\n",
            "Test Sample 1324: Mean Prediction = 0.0000, Std Dev = 0.0000\n",
            "Test Sample 1325: Mean Prediction = 1.0000, Std Dev = 0.0000\n",
            "Test Sample 1326: Mean Prediction = 0.0000, Std Dev = 0.0000\n",
            "Test Sample 1327: Mean Prediction = 1.0000, Std Dev = 0.0000\n",
            "Test Sample 1328: Mean Prediction = 1.0000, Std Dev = 0.0000\n",
            "Test Sample 1329: Mean Prediction = 0.0000, Std Dev = 0.0000\n",
            "Test Sample 1330: Mean Prediction = 0.0000, Std Dev = 0.0000\n",
            "Test Sample 1331: Mean Prediction = 1.0000, Std Dev = 0.0000\n",
            "Test Sample 1332: Mean Prediction = 0.0000, Std Dev = 0.0000\n",
            "Test Sample 1333: Mean Prediction = 1.0000, Std Dev = 0.0000\n",
            "Test Sample 1334: Mean Prediction = 0.0000, Std Dev = 0.0000\n",
            "Test Sample 1335: Mean Prediction = 0.0000, Std Dev = 0.0000\n",
            "Test Sample 1336: Mean Prediction = 0.0000, Std Dev = 0.0000\n",
            "Test Sample 1337: Mean Prediction = 1.0000, Std Dev = 0.0000\n",
            "Test Sample 1338: Mean Prediction = 1.0000, Std Dev = 0.0000\n",
            "Test Sample 1339: Mean Prediction = 0.0000, Std Dev = 0.0000\n",
            "Test Sample 1340: Mean Prediction = 0.0000, Std Dev = 0.0000\n",
            "Test Sample 1341: Mean Prediction = 0.0000, Std Dev = 0.0000\n",
            "Test Sample 1342: Mean Prediction = 0.0000, Std Dev = 0.0000\n",
            "Test Sample 1343: Mean Prediction = 0.0000, Std Dev = 0.0000\n",
            "Test Sample 1344: Mean Prediction = 1.0000, Std Dev = 0.0000\n",
            "Test Sample 1345: Mean Prediction = 1.0000, Std Dev = 0.0000\n",
            "Test Sample 1346: Mean Prediction = 0.0000, Std Dev = 0.0000\n",
            "Test Sample 1347: Mean Prediction = 1.0000, Std Dev = 0.0000\n",
            "Test Sample 1348: Mean Prediction = 0.0000, Std Dev = 0.0000\n",
            "Test Sample 1349: Mean Prediction = 0.0000, Std Dev = 0.0000\n",
            "Test Sample 1350: Mean Prediction = 1.0000, Std Dev = 0.0000\n",
            "Test Sample 1351: Mean Prediction = 1.0000, Std Dev = 0.0000\n",
            "Test Sample 1352: Mean Prediction = 1.0000, Std Dev = 0.0000\n",
            "Test Sample 1353: Mean Prediction = 1.0000, Std Dev = 0.0000\n",
            "Test Sample 1354: Mean Prediction = 1.0000, Std Dev = 0.0000\n",
            "Test Sample 1355: Mean Prediction = 1.0000, Std Dev = 0.0000\n",
            "Test Sample 1356: Mean Prediction = 1.0000, Std Dev = 0.0000\n",
            "Test Sample 1357: Mean Prediction = 0.0000, Std Dev = 0.0000\n",
            "Test Sample 1358: Mean Prediction = 1.0000, Std Dev = 0.0000\n",
            "Test Sample 1359: Mean Prediction = 1.0000, Std Dev = 0.0000\n",
            "Test Sample 1360: Mean Prediction = 1.0000, Std Dev = 0.0000\n",
            "Test Sample 1361: Mean Prediction = 0.0000, Std Dev = 0.0000\n",
            "Test Sample 1362: Mean Prediction = 0.0000, Std Dev = 0.0000\n",
            "Test Sample 1363: Mean Prediction = 1.0000, Std Dev = 0.0000\n",
            "Test Sample 1364: Mean Prediction = 1.0000, Std Dev = 0.0000\n",
            "Test Sample 1365: Mean Prediction = 1.0000, Std Dev = 0.0000\n",
            "Test Sample 1366: Mean Prediction = 1.0000, Std Dev = 0.0000\n",
            "Test Sample 1367: Mean Prediction = 0.0000, Std Dev = 0.0000\n",
            "Test Sample 1368: Mean Prediction = 1.0000, Std Dev = 0.0000\n",
            "Test Sample 1369: Mean Prediction = 1.0000, Std Dev = 0.0000\n",
            "Test Sample 1370: Mean Prediction = 1.0000, Std Dev = 0.0000\n",
            "Test Sample 1371: Mean Prediction = 1.0000, Std Dev = 0.0000\n",
            "Test Sample 1372: Mean Prediction = 1.0000, Std Dev = 0.0000\n",
            "Test Sample 1373: Mean Prediction = 1.0000, Std Dev = 0.0000\n",
            "Test Sample 1374: Mean Prediction = 1.0000, Std Dev = 0.0000\n",
            "Test Sample 1375: Mean Prediction = 1.0000, Std Dev = 0.0000\n",
            "Test Sample 1376: Mean Prediction = 1.0000, Std Dev = 0.0000\n",
            "Test Sample 1377: Mean Prediction = 0.0000, Std Dev = 0.0000\n",
            "Test Sample 1378: Mean Prediction = 1.0000, Std Dev = 0.0000\n",
            "Test Sample 1379: Mean Prediction = 0.0000, Std Dev = 0.0000\n",
            "Test Sample 1380: Mean Prediction = 0.0000, Std Dev = 0.0000\n",
            "Test Sample 1381: Mean Prediction = 0.0000, Std Dev = 0.0000\n",
            "Test Sample 1382: Mean Prediction = 1.0000, Std Dev = 0.0000\n",
            "Test Sample 1383: Mean Prediction = 1.0000, Std Dev = 0.0000\n",
            "Test Sample 1384: Mean Prediction = 1.0000, Std Dev = 0.0000\n",
            "Test Sample 1385: Mean Prediction = 1.0000, Std Dev = 0.0000\n",
            "Test Sample 1386: Mean Prediction = 0.0000, Std Dev = 0.0000\n",
            "Test Sample 1387: Mean Prediction = 1.0000, Std Dev = 0.0000\n",
            "Test Sample 1388: Mean Prediction = 1.0000, Std Dev = 0.0000\n",
            "Test Sample 1389: Mean Prediction = 1.0000, Std Dev = 0.0000\n",
            "Test Sample 1390: Mean Prediction = 1.0000, Std Dev = 0.0000\n",
            "Test Sample 1391: Mean Prediction = 1.0000, Std Dev = 0.0000\n",
            "Test Sample 1392: Mean Prediction = 1.0000, Std Dev = 0.0000\n",
            "Test Sample 1393: Mean Prediction = 1.0000, Std Dev = 0.0000\n",
            "Test Sample 1394: Mean Prediction = 1.0000, Std Dev = 0.0000\n",
            "Test Sample 1395: Mean Prediction = 0.0000, Std Dev = 0.0000\n",
            "Test Sample 1396: Mean Prediction = 1.0000, Std Dev = 0.0000\n",
            "Test Sample 1397: Mean Prediction = 1.0000, Std Dev = 0.0000\n",
            "Test Sample 1398: Mean Prediction = 1.0000, Std Dev = 0.0000\n",
            "Test Sample 1399: Mean Prediction = 0.0000, Std Dev = 0.0000\n",
            "Test Sample 1400: Mean Prediction = 1.0000, Std Dev = 0.0000\n",
            "Test Sample 1401: Mean Prediction = 1.0000, Std Dev = 0.0000\n",
            "Test Sample 1402: Mean Prediction = 1.0000, Std Dev = 0.0000\n",
            "Test Sample 1403: Mean Prediction = 1.0000, Std Dev = 0.0000\n",
            "Test Sample 1404: Mean Prediction = 0.0000, Std Dev = 0.0000\n",
            "Test Sample 1405: Mean Prediction = 0.0000, Std Dev = 0.0000\n",
            "Test Sample 1406: Mean Prediction = 1.0000, Std Dev = 0.0000\n",
            "Test Sample 1407: Mean Prediction = 0.0000, Std Dev = 0.0000\n",
            "Test Sample 1408: Mean Prediction = 0.0000, Std Dev = 0.0000\n",
            "Test Sample 1409: Mean Prediction = 0.0000, Std Dev = 0.0000\n",
            "Test Sample 1410: Mean Prediction = 0.0100, Std Dev = 0.0995\n",
            "Test Sample 1411: Mean Prediction = 0.0000, Std Dev = 0.0000\n",
            "Test Sample 1412: Mean Prediction = 0.0000, Std Dev = 0.0000\n",
            "Test Sample 1413: Mean Prediction = 0.0000, Std Dev = 0.0000\n",
            "Test Sample 1414: Mean Prediction = 1.0000, Std Dev = 0.0000\n",
            "Test Sample 1415: Mean Prediction = 0.0000, Std Dev = 0.0000\n",
            "Test Sample 1416: Mean Prediction = 1.0000, Std Dev = 0.0000\n",
            "Test Sample 1417: Mean Prediction = 1.0000, Std Dev = 0.0000\n",
            "Test Sample 1418: Mean Prediction = 0.0000, Std Dev = 0.0000\n",
            "Test Sample 1419: Mean Prediction = 1.0000, Std Dev = 0.0000\n",
            "Test Sample 1420: Mean Prediction = 0.0000, Std Dev = 0.0000\n",
            "Test Sample 1421: Mean Prediction = 0.0000, Std Dev = 0.0000\n",
            "Test Sample 1422: Mean Prediction = 1.0000, Std Dev = 0.0000\n",
            "Test Sample 1423: Mean Prediction = 1.0000, Std Dev = 0.0000\n",
            "Test Sample 1424: Mean Prediction = 1.0000, Std Dev = 0.0000\n",
            "Test Sample 1425: Mean Prediction = 0.9900, Std Dev = 0.0995\n",
            "Test Sample 1426: Mean Prediction = 1.0000, Std Dev = 0.0000\n",
            "Test Sample 1427: Mean Prediction = 1.0000, Std Dev = 0.0000\n",
            "Test Sample 1428: Mean Prediction = 0.0000, Std Dev = 0.0000\n",
            "Test Sample 1429: Mean Prediction = 1.0000, Std Dev = 0.0000\n",
            "Test Sample 1430: Mean Prediction = 0.0000, Std Dev = 0.0000\n",
            "Test Sample 1431: Mean Prediction = 0.0000, Std Dev = 0.0000\n",
            "Test Sample 1432: Mean Prediction = 0.0000, Std Dev = 0.0000\n",
            "Test Sample 1433: Mean Prediction = 1.0000, Std Dev = 0.0000\n",
            "Test Sample 1434: Mean Prediction = 0.9700, Std Dev = 0.1706\n",
            "Test Sample 1435: Mean Prediction = 0.0000, Std Dev = 0.0000\n",
            "Test Sample 1436: Mean Prediction = 0.0000, Std Dev = 0.0000\n",
            "Test Sample 1437: Mean Prediction = 0.0000, Std Dev = 0.0000\n",
            "Test Sample 1438: Mean Prediction = 0.0000, Std Dev = 0.0000\n",
            "Test Sample 1439: Mean Prediction = 0.0000, Std Dev = 0.0000\n",
            "Test Sample 1440: Mean Prediction = 0.0000, Std Dev = 0.0000\n",
            "Test Sample 1441: Mean Prediction = 1.0000, Std Dev = 0.0000\n",
            "Test Sample 1442: Mean Prediction = 1.0000, Std Dev = 0.0000\n",
            "Test Sample 1443: Mean Prediction = 0.0000, Std Dev = 0.0000\n",
            "Test Sample 1444: Mean Prediction = 0.0000, Std Dev = 0.0000\n",
            "Test Sample 1445: Mean Prediction = 1.0000, Std Dev = 0.0000\n",
            "Test Sample 1446: Mean Prediction = 1.0000, Std Dev = 0.0000\n",
            "Test Sample 1447: Mean Prediction = 0.0000, Std Dev = 0.0000\n",
            "Test Sample 1448: Mean Prediction = 0.8100, Std Dev = 0.3923\n",
            "Test Sample 1449: Mean Prediction = 0.0000, Std Dev = 0.0000\n",
            "Test Sample 1450: Mean Prediction = 1.0000, Std Dev = 0.0000\n",
            "Test Sample 1451: Mean Prediction = 1.0000, Std Dev = 0.0000\n",
            "Test Sample 1452: Mean Prediction = 1.0000, Std Dev = 0.0000\n",
            "Test Sample 1453: Mean Prediction = 0.0000, Std Dev = 0.0000\n",
            "Test Sample 1454: Mean Prediction = 1.0000, Std Dev = 0.0000\n",
            "Test Sample 1455: Mean Prediction = 0.0000, Std Dev = 0.0000\n",
            "Test Sample 1456: Mean Prediction = 1.0000, Std Dev = 0.0000\n",
            "Test Sample 1457: Mean Prediction = 1.0000, Std Dev = 0.0000\n",
            "Test Sample 1458: Mean Prediction = 0.0000, Std Dev = 0.0000\n",
            "Test Sample 1459: Mean Prediction = 1.0000, Std Dev = 0.0000\n",
            "Test Sample 1460: Mean Prediction = 0.0000, Std Dev = 0.0000\n",
            "Test Sample 1461: Mean Prediction = 0.0000, Std Dev = 0.0000\n",
            "Test Sample 1462: Mean Prediction = 1.0000, Std Dev = 0.0000\n",
            "Test Sample 1463: Mean Prediction = 1.0000, Std Dev = 0.0000\n",
            "Test Sample 1464: Mean Prediction = 1.0000, Std Dev = 0.0000\n",
            "Test Sample 1465: Mean Prediction = 0.0000, Std Dev = 0.0000\n",
            "Test Sample 1466: Mean Prediction = 0.0000, Std Dev = 0.0000\n",
            "Test Sample 1467: Mean Prediction = 0.0000, Std Dev = 0.0000\n",
            "Test Sample 1468: Mean Prediction = 1.0000, Std Dev = 0.0000\n",
            "Test Sample 1469: Mean Prediction = 0.0000, Std Dev = 0.0000\n",
            "Test Sample 1470: Mean Prediction = 1.0000, Std Dev = 0.0000\n",
            "Test Sample 1471: Mean Prediction = 0.0000, Std Dev = 0.0000\n",
            "Test Sample 1472: Mean Prediction = 1.0000, Std Dev = 0.0000\n",
            "Test Sample 1473: Mean Prediction = 1.0000, Std Dev = 0.0000\n",
            "Test Sample 1474: Mean Prediction = 1.0000, Std Dev = 0.0000\n",
            "Test Sample 1475: Mean Prediction = 0.0000, Std Dev = 0.0000\n",
            "Test Sample 1476: Mean Prediction = 0.0000, Std Dev = 0.0000\n",
            "Test Sample 1477: Mean Prediction = 0.0000, Std Dev = 0.0000\n",
            "Test Sample 1478: Mean Prediction = 1.0000, Std Dev = 0.0000\n",
            "Test Sample 1479: Mean Prediction = 1.0000, Std Dev = 0.0000\n",
            "Test Sample 1480: Mean Prediction = 0.0000, Std Dev = 0.0000\n",
            "Test Sample 1481: Mean Prediction = 1.0000, Std Dev = 0.0000\n",
            "Test Sample 1482: Mean Prediction = 1.0000, Std Dev = 0.0000\n",
            "Test Sample 1483: Mean Prediction = 0.0000, Std Dev = 0.0000\n",
            "Test Sample 1484: Mean Prediction = 0.0000, Std Dev = 0.0000\n",
            "Test Sample 1485: Mean Prediction = 0.0000, Std Dev = 0.0000\n",
            "Test Sample 1486: Mean Prediction = 1.0000, Std Dev = 0.0000\n",
            "Test Sample 1487: Mean Prediction = 0.0000, Std Dev = 0.0000\n",
            "Test Sample 1488: Mean Prediction = 0.0000, Std Dev = 0.0000\n",
            "Test Sample 1489: Mean Prediction = 0.0000, Std Dev = 0.0000\n",
            "Test Sample 1490: Mean Prediction = 0.0000, Std Dev = 0.0000\n",
            "Test Sample 1491: Mean Prediction = 0.0000, Std Dev = 0.0000\n",
            "Test Sample 1492: Mean Prediction = 0.0000, Std Dev = 0.0000\n",
            "Test Sample 1493: Mean Prediction = 1.0000, Std Dev = 0.0000\n",
            "Test Sample 1494: Mean Prediction = 0.0000, Std Dev = 0.0000\n",
            "Test Sample 1495: Mean Prediction = 0.0000, Std Dev = 0.0000\n",
            "Test Sample 1496: Mean Prediction = 0.0000, Std Dev = 0.0000\n",
            "Test Sample 1497: Mean Prediction = 0.0000, Std Dev = 0.0000\n",
            "Test Sample 1498: Mean Prediction = 1.0000, Std Dev = 0.0000\n",
            "Test Sample 1499: Mean Prediction = 0.0000, Std Dev = 0.0000\n",
            "Test Sample 1500: Mean Prediction = 1.0000, Std Dev = 0.0000\n",
            "Test Sample 1501: Mean Prediction = 0.0000, Std Dev = 0.0000\n",
            "Test Sample 1502: Mean Prediction = 1.0000, Std Dev = 0.0000\n",
            "Test Sample 1503: Mean Prediction = 0.0000, Std Dev = 0.0000\n",
            "Test Sample 1504: Mean Prediction = 0.0000, Std Dev = 0.0000\n",
            "Test Sample 1505: Mean Prediction = 0.0000, Std Dev = 0.0000\n",
            "Test Sample 1506: Mean Prediction = 0.0000, Std Dev = 0.0000\n",
            "Test Sample 1507: Mean Prediction = 0.0000, Std Dev = 0.0000\n",
            "Test Sample 1508: Mean Prediction = 1.0000, Std Dev = 0.0000\n",
            "Test Sample 1509: Mean Prediction = 1.0000, Std Dev = 0.0000\n",
            "Test Sample 1510: Mean Prediction = 0.0000, Std Dev = 0.0000\n",
            "Test Sample 1511: Mean Prediction = 1.0000, Std Dev = 0.0000\n",
            "Test Sample 1512: Mean Prediction = 1.0000, Std Dev = 0.0000\n",
            "Test Sample 1513: Mean Prediction = 0.0000, Std Dev = 0.0000\n",
            "Test Sample 1514: Mean Prediction = 0.0000, Std Dev = 0.0000\n",
            "Test Sample 1515: Mean Prediction = 1.0000, Std Dev = 0.0000\n",
            "Test Sample 1516: Mean Prediction = 0.0000, Std Dev = 0.0000\n",
            "Test Sample 1517: Mean Prediction = 1.0000, Std Dev = 0.0000\n",
            "Test Sample 1518: Mean Prediction = 1.0000, Std Dev = 0.0000\n",
            "Test Sample 1519: Mean Prediction = 1.0000, Std Dev = 0.0000\n",
            "Test Sample 1520: Mean Prediction = 1.0000, Std Dev = 0.0000\n",
            "Test Sample 1521: Mean Prediction = 1.0000, Std Dev = 0.0000\n",
            "Test Sample 1522: Mean Prediction = 0.0000, Std Dev = 0.0000\n",
            "Test Sample 1523: Mean Prediction = 1.0000, Std Dev = 0.0000\n",
            "Test Sample 1524: Mean Prediction = 1.0000, Std Dev = 0.0000\n",
            "Test Sample 1525: Mean Prediction = 0.0000, Std Dev = 0.0000\n",
            "Test Sample 1526: Mean Prediction = 1.0000, Std Dev = 0.0000\n",
            "Test Sample 1527: Mean Prediction = 0.0000, Std Dev = 0.0000\n",
            "Test Sample 1528: Mean Prediction = 1.0000, Std Dev = 0.0000\n",
            "Test Sample 1529: Mean Prediction = 1.0000, Std Dev = 0.0000\n",
            "Test Sample 1530: Mean Prediction = 1.0000, Std Dev = 0.0000\n",
            "Test Sample 1531: Mean Prediction = 1.0000, Std Dev = 0.0000\n",
            "Test Sample 1532: Mean Prediction = 0.0000, Std Dev = 0.0000\n",
            "Test Sample 1533: Mean Prediction = 1.0000, Std Dev = 0.0000\n",
            "Test Sample 1534: Mean Prediction = 1.0000, Std Dev = 0.0000\n",
            "Test Sample 1535: Mean Prediction = 1.0000, Std Dev = 0.0000\n",
            "Test Sample 1536: Mean Prediction = 1.0000, Std Dev = 0.0000\n",
            "Test Sample 1537: Mean Prediction = 0.6900, Std Dev = 0.4625\n",
            "Test Sample 1538: Mean Prediction = 0.0000, Std Dev = 0.0000\n",
            "Test Sample 1539: Mean Prediction = 0.0000, Std Dev = 0.0000\n",
            "Test Sample 1540: Mean Prediction = 0.0000, Std Dev = 0.0000\n",
            "Test Sample 1541: Mean Prediction = 0.0000, Std Dev = 0.0000\n",
            "Test Sample 1542: Mean Prediction = 1.0000, Std Dev = 0.0000\n",
            "Test Sample 1543: Mean Prediction = 0.0000, Std Dev = 0.0000\n",
            "Test Sample 1544: Mean Prediction = 1.0000, Std Dev = 0.0000\n",
            "Test Sample 1545: Mean Prediction = 1.0000, Std Dev = 0.0000\n",
            "Test Sample 1546: Mean Prediction = 1.0000, Std Dev = 0.0000\n",
            "Test Sample 1547: Mean Prediction = 0.0000, Std Dev = 0.0000\n",
            "Test Sample 1548: Mean Prediction = 0.9500, Std Dev = 0.2179\n",
            "Test Sample 1549: Mean Prediction = 0.0000, Std Dev = 0.0000\n",
            "Test Sample 1550: Mean Prediction = 1.0000, Std Dev = 0.0000\n",
            "Test Sample 1551: Mean Prediction = 1.0000, Std Dev = 0.0000\n",
            "Test Sample 1552: Mean Prediction = 1.0000, Std Dev = 0.0000\n",
            "Test Sample 1553: Mean Prediction = 0.0000, Std Dev = 0.0000\n",
            "Test Sample 1554: Mean Prediction = 1.0000, Std Dev = 0.0000\n",
            "Test Sample 1555: Mean Prediction = 1.0000, Std Dev = 0.0000\n",
            "Test Sample 1556: Mean Prediction = 0.0000, Std Dev = 0.0000\n",
            "Test Sample 1557: Mean Prediction = 0.0000, Std Dev = 0.0000\n",
            "Test Sample 1558: Mean Prediction = 1.0000, Std Dev = 0.0000\n",
            "Test Sample 1559: Mean Prediction = 0.0000, Std Dev = 0.0000\n",
            "Test Sample 1560: Mean Prediction = 0.0000, Std Dev = 0.0000\n",
            "Test Sample 1561: Mean Prediction = 1.0000, Std Dev = 0.0000\n",
            "Test Sample 1562: Mean Prediction = 0.0000, Std Dev = 0.0000\n",
            "Test Sample 1563: Mean Prediction = 0.0000, Std Dev = 0.0000\n",
            "Test Sample 1564: Mean Prediction = 0.0000, Std Dev = 0.0000\n",
            "Test Sample 1565: Mean Prediction = 1.0000, Std Dev = 0.0000\n",
            "Test Sample 1566: Mean Prediction = 1.0000, Std Dev = 0.0000\n",
            "Test Sample 1567: Mean Prediction = 0.0000, Std Dev = 0.0000\n",
            "Test Sample 1568: Mean Prediction = 1.0000, Std Dev = 0.0000\n",
            "Test Sample 1569: Mean Prediction = 0.0000, Std Dev = 0.0000\n",
            "Test Sample 1570: Mean Prediction = 0.0000, Std Dev = 0.0000\n",
            "Test Sample 1571: Mean Prediction = 1.0000, Std Dev = 0.0000\n",
            "Test Sample 1572: Mean Prediction = 0.0000, Std Dev = 0.0000\n",
            "Test Sample 1573: Mean Prediction = 0.0000, Std Dev = 0.0000\n",
            "Test Sample 1574: Mean Prediction = 0.0000, Std Dev = 0.0000\n",
            "Test Sample 1575: Mean Prediction = 1.0000, Std Dev = 0.0000\n",
            "Test Sample 1576: Mean Prediction = 1.0000, Std Dev = 0.0000\n",
            "Test Sample 1577: Mean Prediction = 1.0000, Std Dev = 0.0000\n",
            "Test Sample 1578: Mean Prediction = 0.0000, Std Dev = 0.0000\n",
            "Test Sample 1579: Mean Prediction = 1.0000, Std Dev = 0.0000\n",
            "Test Sample 1580: Mean Prediction = 1.0000, Std Dev = 0.0000\n",
            "Test Sample 1581: Mean Prediction = 0.0000, Std Dev = 0.0000\n",
            "Test Sample 1582: Mean Prediction = 1.0000, Std Dev = 0.0000\n",
            "Test Sample 1583: Mean Prediction = 0.0000, Std Dev = 0.0000\n",
            "Test Sample 1584: Mean Prediction = 1.0000, Std Dev = 0.0000\n",
            "Test Sample 1585: Mean Prediction = 0.0100, Std Dev = 0.0995\n",
            "Test Sample 1586: Mean Prediction = 0.0000, Std Dev = 0.0000\n",
            "Test Sample 1587: Mean Prediction = 1.0000, Std Dev = 0.0000\n",
            "Test Sample 1588: Mean Prediction = 1.0000, Std Dev = 0.0000\n",
            "Test Sample 1589: Mean Prediction = 0.0000, Std Dev = 0.0000\n",
            "Test Sample 1590: Mean Prediction = 1.0000, Std Dev = 0.0000\n",
            "Test Sample 1591: Mean Prediction = 0.0000, Std Dev = 0.0000\n",
            "Test Sample 1592: Mean Prediction = 0.0000, Std Dev = 0.0000\n",
            "Test Sample 1593: Mean Prediction = 0.0000, Std Dev = 0.0000\n",
            "Test Sample 1594: Mean Prediction = 0.0000, Std Dev = 0.0000\n",
            "Test Sample 1595: Mean Prediction = 1.0000, Std Dev = 0.0000\n",
            "Test Sample 1596: Mean Prediction = 0.0000, Std Dev = 0.0000\n",
            "Test Sample 1597: Mean Prediction = 0.0000, Std Dev = 0.0000\n",
            "Test Sample 1598: Mean Prediction = 0.0000, Std Dev = 0.0000\n",
            "Test Sample 1599: Mean Prediction = 1.0000, Std Dev = 0.0000\n",
            "Test Sample 1600: Mean Prediction = 0.0000, Std Dev = 0.0000\n",
            "Test Sample 1601: Mean Prediction = 0.0000, Std Dev = 0.0000\n",
            "Test Sample 1602: Mean Prediction = 1.0000, Std Dev = 0.0000\n",
            "Test Sample 1603: Mean Prediction = 0.0000, Std Dev = 0.0000\n",
            "Test Sample 1604: Mean Prediction = 1.0000, Std Dev = 0.0000\n",
            "Test Sample 1605: Mean Prediction = 0.0000, Std Dev = 0.0000\n",
            "Test Sample 1606: Mean Prediction = 0.0000, Std Dev = 0.0000\n",
            "Test Sample 1607: Mean Prediction = 0.0000, Std Dev = 0.0000\n",
            "Test Sample 1608: Mean Prediction = 0.0000, Std Dev = 0.0000\n",
            "Test Sample 1609: Mean Prediction = 1.0000, Std Dev = 0.0000\n",
            "Test Sample 1610: Mean Prediction = 0.0000, Std Dev = 0.0000\n",
            "Test Sample 1611: Mean Prediction = 0.0000, Std Dev = 0.0000\n",
            "Test Sample 1612: Mean Prediction = 1.0000, Std Dev = 0.0000\n",
            "Test Sample 1613: Mean Prediction = 1.0000, Std Dev = 0.0000\n",
            "Test Sample 1614: Mean Prediction = 1.0000, Std Dev = 0.0000\n",
            "Test Sample 1615: Mean Prediction = 1.0000, Std Dev = 0.0000\n",
            "Test Sample 1616: Mean Prediction = 1.0000, Std Dev = 0.0000\n",
            "Test Sample 1617: Mean Prediction = 0.0000, Std Dev = 0.0000\n",
            "Test Sample 1618: Mean Prediction = 1.0000, Std Dev = 0.0000\n",
            "Test Sample 1619: Mean Prediction = 0.0000, Std Dev = 0.0000\n",
            "Test Sample 1620: Mean Prediction = 0.0000, Std Dev = 0.0000\n",
            "Test Sample 1621: Mean Prediction = 0.0000, Std Dev = 0.0000\n",
            "Test Sample 1622: Mean Prediction = 0.0000, Std Dev = 0.0000\n",
            "Test Sample 1623: Mean Prediction = 0.0000, Std Dev = 0.0000\n",
            "Test Sample 1624: Mean Prediction = 1.0000, Std Dev = 0.0000\n",
            "Test Sample 1625: Mean Prediction = 0.0000, Std Dev = 0.0000\n",
            "Test Sample 1626: Mean Prediction = 0.0000, Std Dev = 0.0000\n",
            "Test Sample 1627: Mean Prediction = 1.0000, Std Dev = 0.0000\n",
            "Test Sample 1628: Mean Prediction = 1.0000, Std Dev = 0.0000\n",
            "Test Sample 1629: Mean Prediction = 0.0000, Std Dev = 0.0000\n",
            "Test Sample 1630: Mean Prediction = 1.0000, Std Dev = 0.0000\n",
            "Test Sample 1631: Mean Prediction = 0.0000, Std Dev = 0.0000\n",
            "Test Sample 1632: Mean Prediction = 0.0000, Std Dev = 0.0000\n",
            "Test Sample 1633: Mean Prediction = 0.0000, Std Dev = 0.0000\n",
            "Test Sample 1634: Mean Prediction = 1.0000, Std Dev = 0.0000\n",
            "Test Sample 1635: Mean Prediction = 1.0000, Std Dev = 0.0000\n",
            "Test Sample 1636: Mean Prediction = 0.0000, Std Dev = 0.0000\n",
            "Test Sample 1637: Mean Prediction = 1.0000, Std Dev = 0.0000\n",
            "Test Sample 1638: Mean Prediction = 0.0000, Std Dev = 0.0000\n",
            "Test Sample 1639: Mean Prediction = 0.0000, Std Dev = 0.0000\n",
            "Test Sample 1640: Mean Prediction = 1.0000, Std Dev = 0.0000\n",
            "Test Sample 1641: Mean Prediction = 1.0000, Std Dev = 0.0000\n",
            "Test Sample 1642: Mean Prediction = 0.0000, Std Dev = 0.0000\n",
            "Test Sample 1643: Mean Prediction = 1.0000, Std Dev = 0.0000\n",
            "Test Sample 1644: Mean Prediction = 0.0000, Std Dev = 0.0000\n",
            "Test Sample 1645: Mean Prediction = 1.0000, Std Dev = 0.0000\n",
            "Test Sample 1646: Mean Prediction = 1.0000, Std Dev = 0.0000\n",
            "Test Sample 1647: Mean Prediction = 0.6900, Std Dev = 0.4625\n",
            "Test Sample 1648: Mean Prediction = 0.0000, Std Dev = 0.0000\n",
            "Test Sample 1649: Mean Prediction = 0.0000, Std Dev = 0.0000\n",
            "Test Sample 1650: Mean Prediction = 0.0000, Std Dev = 0.0000\n",
            "Test Sample 1651: Mean Prediction = 0.0000, Std Dev = 0.0000\n",
            "Test Sample 1652: Mean Prediction = 0.0000, Std Dev = 0.0000\n",
            "Test Sample 1653: Mean Prediction = 0.0000, Std Dev = 0.0000\n",
            "Test Sample 1654: Mean Prediction = 0.0000, Std Dev = 0.0000\n",
            "Test Sample 1655: Mean Prediction = 0.0000, Std Dev = 0.0000\n",
            "Test Sample 1656: Mean Prediction = 0.0000, Std Dev = 0.0000\n",
            "Test Sample 1657: Mean Prediction = 1.0000, Std Dev = 0.0000\n",
            "Test Sample 1658: Mean Prediction = 0.0000, Std Dev = 0.0000\n",
            "Test Sample 1659: Mean Prediction = 1.0000, Std Dev = 0.0000\n",
            "Test Sample 1660: Mean Prediction = 0.0000, Std Dev = 0.0000\n",
            "Test Sample 1661: Mean Prediction = 1.0000, Std Dev = 0.0000\n",
            "Test Sample 1662: Mean Prediction = 0.0000, Std Dev = 0.0000\n",
            "Test Sample 1663: Mean Prediction = 0.0000, Std Dev = 0.0000\n",
            "Test Sample 1664: Mean Prediction = 1.0000, Std Dev = 0.0000\n",
            "Test Sample 1665: Mean Prediction = 1.0000, Std Dev = 0.0000\n",
            "Test Sample 1666: Mean Prediction = 0.0000, Std Dev = 0.0000\n",
            "Test Sample 1667: Mean Prediction = 1.0000, Std Dev = 0.0000\n",
            "Test Sample 1668: Mean Prediction = 0.0000, Std Dev = 0.0000\n",
            "Test Sample 1669: Mean Prediction = 0.0000, Std Dev = 0.0000\n",
            "Test Sample 1670: Mean Prediction = 0.0000, Std Dev = 0.0000\n",
            "Test Sample 1671: Mean Prediction = 1.0000, Std Dev = 0.0000\n",
            "Test Sample 1672: Mean Prediction = 1.0000, Std Dev = 0.0000\n",
            "Test Sample 1673: Mean Prediction = 0.0000, Std Dev = 0.0000\n",
            "Test Sample 1674: Mean Prediction = 0.0000, Std Dev = 0.0000\n",
            "Test Sample 1675: Mean Prediction = 0.0000, Std Dev = 0.0000\n",
            "Test Sample 1676: Mean Prediction = 0.0000, Std Dev = 0.0000\n",
            "Test Sample 1677: Mean Prediction = 1.0000, Std Dev = 0.0000\n",
            "Test Sample 1678: Mean Prediction = 0.0000, Std Dev = 0.0000\n",
            "Test Sample 1679: Mean Prediction = 1.0000, Std Dev = 0.0000\n",
            "Test Sample 1680: Mean Prediction = 0.0000, Std Dev = 0.0000\n",
            "Test Sample 1681: Mean Prediction = 0.0000, Std Dev = 0.0000\n",
            "Test Sample 1682: Mean Prediction = 1.0000, Std Dev = 0.0000\n",
            "Test Sample 1683: Mean Prediction = 0.0000, Std Dev = 0.0000\n",
            "Test Sample 1684: Mean Prediction = 0.0000, Std Dev = 0.0000\n",
            "Test Sample 1685: Mean Prediction = 0.0000, Std Dev = 0.0000\n",
            "Test Sample 1686: Mean Prediction = 0.0000, Std Dev = 0.0000\n",
            "Test Sample 1687: Mean Prediction = 1.0000, Std Dev = 0.0000\n",
            "Test Sample 1688: Mean Prediction = 0.0000, Std Dev = 0.0000\n",
            "Test Sample 1689: Mean Prediction = 0.0000, Std Dev = 0.0000\n",
            "Test Sample 1690: Mean Prediction = 1.0000, Std Dev = 0.0000\n",
            "Test Sample 1691: Mean Prediction = 1.0000, Std Dev = 0.0000\n",
            "Test Sample 1692: Mean Prediction = 1.0000, Std Dev = 0.0000\n",
            "Test Sample 1693: Mean Prediction = 1.0000, Std Dev = 0.0000\n",
            "Test Sample 1694: Mean Prediction = 0.0000, Std Dev = 0.0000\n",
            "Test Sample 1695: Mean Prediction = 1.0000, Std Dev = 0.0000\n",
            "Test Sample 1696: Mean Prediction = 0.0000, Std Dev = 0.0000\n",
            "Test Sample 1697: Mean Prediction = 1.0000, Std Dev = 0.0000\n",
            "Test Sample 1698: Mean Prediction = 1.0000, Std Dev = 0.0000\n",
            "Test Sample 1699: Mean Prediction = 0.0000, Std Dev = 0.0000\n",
            "Test Sample 1700: Mean Prediction = 1.0000, Std Dev = 0.0000\n",
            "Test Sample 1701: Mean Prediction = 0.0000, Std Dev = 0.0000\n",
            "Test Sample 1702: Mean Prediction = 1.0000, Std Dev = 0.0000\n",
            "Test Sample 1703: Mean Prediction = 0.9900, Std Dev = 0.0995\n",
            "Test Sample 1704: Mean Prediction = 0.0000, Std Dev = 0.0000\n",
            "Test Sample 1705: Mean Prediction = 0.0000, Std Dev = 0.0000\n",
            "Test Sample 1706: Mean Prediction = 0.0000, Std Dev = 0.0000\n",
            "Test Sample 1707: Mean Prediction = 0.0000, Std Dev = 0.0000\n",
            "Test Sample 1708: Mean Prediction = 0.0000, Std Dev = 0.0000\n",
            "Test Sample 1709: Mean Prediction = 1.0000, Std Dev = 0.0000\n",
            "Test Sample 1710: Mean Prediction = 0.0000, Std Dev = 0.0000\n",
            "Test Sample 1711: Mean Prediction = 1.0000, Std Dev = 0.0000\n",
            "Test Sample 1712: Mean Prediction = 0.0000, Std Dev = 0.0000\n",
            "Test Sample 1713: Mean Prediction = 1.0000, Std Dev = 0.0000\n",
            "Test Sample 1714: Mean Prediction = 1.0000, Std Dev = 0.0000\n",
            "Test Sample 1715: Mean Prediction = 0.0000, Std Dev = 0.0000\n",
            "Test Sample 1716: Mean Prediction = 0.0000, Std Dev = 0.0000\n",
            "Test Sample 1717: Mean Prediction = 0.0000, Std Dev = 0.0000\n",
            "Test Sample 1718: Mean Prediction = 0.0000, Std Dev = 0.0000\n",
            "Test Sample 1719: Mean Prediction = 1.0000, Std Dev = 0.0000\n",
            "Test Sample 1720: Mean Prediction = 0.0000, Std Dev = 0.0000\n",
            "Test Sample 1721: Mean Prediction = 1.0000, Std Dev = 0.0000\n",
            "Test Sample 1722: Mean Prediction = 1.0000, Std Dev = 0.0000\n",
            "Test Sample 1723: Mean Prediction = 0.0000, Std Dev = 0.0000\n",
            "Test Sample 1724: Mean Prediction = 0.0400, Std Dev = 0.1960\n",
            "Test Sample 1725: Mean Prediction = 0.0000, Std Dev = 0.0000\n",
            "Test Sample 1726: Mean Prediction = 0.0000, Std Dev = 0.0000\n",
            "Test Sample 1727: Mean Prediction = 1.0000, Std Dev = 0.0000\n",
            "Test Sample 1728: Mean Prediction = 0.0000, Std Dev = 0.0000\n",
            "Test Sample 1729: Mean Prediction = 0.0000, Std Dev = 0.0000\n",
            "Test Sample 1730: Mean Prediction = 1.0000, Std Dev = 0.0000\n",
            "Test Sample 1731: Mean Prediction = 0.0000, Std Dev = 0.0000\n",
            "Test Sample 1732: Mean Prediction = 1.0000, Std Dev = 0.0000\n",
            "Test Sample 1733: Mean Prediction = 0.0000, Std Dev = 0.0000\n",
            "Test Sample 1734: Mean Prediction = 1.0000, Std Dev = 0.0000\n",
            "Test Sample 1735: Mean Prediction = 1.0000, Std Dev = 0.0000\n",
            "Test Sample 1736: Mean Prediction = 1.0000, Std Dev = 0.0000\n",
            "Test Sample 1737: Mean Prediction = 1.0000, Std Dev = 0.0000\n",
            "Test Sample 1738: Mean Prediction = 1.0000, Std Dev = 0.0000\n",
            "Test Sample 1739: Mean Prediction = 0.0000, Std Dev = 0.0000\n",
            "Test Sample 1740: Mean Prediction = 0.0000, Std Dev = 0.0000\n",
            "Test Sample 1741: Mean Prediction = 1.0000, Std Dev = 0.0000\n",
            "Test Sample 1742: Mean Prediction = 0.0000, Std Dev = 0.0000\n",
            "Test Sample 1743: Mean Prediction = 1.0000, Std Dev = 0.0000\n",
            "Test Sample 1744: Mean Prediction = 1.0000, Std Dev = 0.0000\n",
            "Test Sample 1745: Mean Prediction = 0.0000, Std Dev = 0.0000\n",
            "Test Sample 1746: Mean Prediction = 0.0000, Std Dev = 0.0000\n",
            "Test Sample 1747: Mean Prediction = 1.0000, Std Dev = 0.0000\n",
            "Test Sample 1748: Mean Prediction = 0.0000, Std Dev = 0.0000\n",
            "Test Sample 1749: Mean Prediction = 0.0000, Std Dev = 0.0000\n",
            "Test Sample 1750: Mean Prediction = 1.0000, Std Dev = 0.0000\n",
            "Test Sample 1751: Mean Prediction = 0.0000, Std Dev = 0.0000\n",
            "Test Sample 1752: Mean Prediction = 0.0000, Std Dev = 0.0000\n",
            "Test Sample 1753: Mean Prediction = 1.0000, Std Dev = 0.0000\n",
            "Test Sample 1754: Mean Prediction = 1.0000, Std Dev = 0.0000\n",
            "Test Sample 1755: Mean Prediction = 1.0000, Std Dev = 0.0000\n",
            "Test Sample 1756: Mean Prediction = 0.0000, Std Dev = 0.0000\n",
            "Test Sample 1757: Mean Prediction = 0.0000, Std Dev = 0.0000\n",
            "Test Sample 1758: Mean Prediction = 0.0000, Std Dev = 0.0000\n",
            "Test Sample 1759: Mean Prediction = 1.0000, Std Dev = 0.0000\n",
            "Test Sample 1760: Mean Prediction = 0.0000, Std Dev = 0.0000\n",
            "Test Sample 1761: Mean Prediction = 0.0000, Std Dev = 0.0000\n",
            "Test Sample 1762: Mean Prediction = 1.0000, Std Dev = 0.0000\n",
            "Test Sample 1763: Mean Prediction = 1.0000, Std Dev = 0.0000\n",
            "Test Sample 1764: Mean Prediction = 0.0000, Std Dev = 0.0000\n",
            "Test Sample 1765: Mean Prediction = 1.0000, Std Dev = 0.0000\n",
            "Test Sample 1766: Mean Prediction = 1.0000, Std Dev = 0.0000\n",
            "Test Sample 1767: Mean Prediction = 1.0000, Std Dev = 0.0000\n",
            "Test Sample 1768: Mean Prediction = 0.0000, Std Dev = 0.0000\n",
            "Test Sample 1769: Mean Prediction = 1.0000, Std Dev = 0.0000\n",
            "Test Sample 1770: Mean Prediction = 1.0000, Std Dev = 0.0000\n",
            "Test Sample 1771: Mean Prediction = 1.0000, Std Dev = 0.0000\n",
            "Test Sample 1772: Mean Prediction = 0.0000, Std Dev = 0.0000\n",
            "Test Sample 1773: Mean Prediction = 1.0000, Std Dev = 0.0000\n",
            "Test Sample 1774: Mean Prediction = 1.0000, Std Dev = 0.0000\n",
            "Test Sample 1775: Mean Prediction = 0.0000, Std Dev = 0.0000\n",
            "Test Sample 1776: Mean Prediction = 1.0000, Std Dev = 0.0000\n",
            "Test Sample 1777: Mean Prediction = 0.0000, Std Dev = 0.0000\n",
            "Test Sample 1778: Mean Prediction = 1.0000, Std Dev = 0.0000\n",
            "Test Sample 1779: Mean Prediction = 0.0000, Std Dev = 0.0000\n",
            "Test Sample 1780: Mean Prediction = 1.0000, Std Dev = 0.0000\n",
            "Test Sample 1781: Mean Prediction = 1.0000, Std Dev = 0.0000\n",
            "Test Sample 1782: Mean Prediction = 1.0000, Std Dev = 0.0000\n",
            "Test Sample 1783: Mean Prediction = 1.0000, Std Dev = 0.0000\n",
            "Test Sample 1784: Mean Prediction = 1.0000, Std Dev = 0.0000\n",
            "Test Sample 1785: Mean Prediction = 0.0000, Std Dev = 0.0000\n",
            "Test Sample 1786: Mean Prediction = 1.0000, Std Dev = 0.0000\n",
            "Test Sample 1787: Mean Prediction = 1.0000, Std Dev = 0.0000\n",
            "Test Sample 1788: Mean Prediction = 1.0000, Std Dev = 0.0000\n",
            "Test Sample 1789: Mean Prediction = 0.0000, Std Dev = 0.0000\n",
            "Test Sample 1790: Mean Prediction = 0.0000, Std Dev = 0.0000\n",
            "Test Sample 1791: Mean Prediction = 0.0000, Std Dev = 0.0000\n",
            "Test Sample 1792: Mean Prediction = 1.0000, Std Dev = 0.0000\n",
            "Test Sample 1793: Mean Prediction = 1.0000, Std Dev = 0.0000\n",
            "Test Sample 1794: Mean Prediction = 1.0000, Std Dev = 0.0000\n",
            "Test Sample 1795: Mean Prediction = 1.0000, Std Dev = 0.0000\n",
            "Test Sample 1796: Mean Prediction = 1.0000, Std Dev = 0.0000\n",
            "Test Sample 1797: Mean Prediction = 1.0000, Std Dev = 0.0000\n",
            "Test Sample 1798: Mean Prediction = 1.0000, Std Dev = 0.0000\n",
            "Test Sample 1799: Mean Prediction = 1.0000, Std Dev = 0.0000\n",
            "Test Sample 1800: Mean Prediction = 0.0000, Std Dev = 0.0000\n",
            "Test Sample 1801: Mean Prediction = 0.0000, Std Dev = 0.0000\n",
            "Test Sample 1802: Mean Prediction = 0.0000, Std Dev = 0.0000\n",
            "Test Sample 1803: Mean Prediction = 0.0000, Std Dev = 0.0000\n",
            "Test Sample 1804: Mean Prediction = 0.1300, Std Dev = 0.3363\n",
            "Test Sample 1805: Mean Prediction = 0.0000, Std Dev = 0.0000\n",
            "Test Sample 1806: Mean Prediction = 1.0000, Std Dev = 0.0000\n",
            "Test Sample 1807: Mean Prediction = 1.0000, Std Dev = 0.0000\n",
            "Test Sample 1808: Mean Prediction = 1.0000, Std Dev = 0.0000\n",
            "Test Sample 1809: Mean Prediction = 1.0000, Std Dev = 0.0000\n",
            "Test Sample 1810: Mean Prediction = 1.0000, Std Dev = 0.0000\n",
            "Test Sample 1811: Mean Prediction = 1.0000, Std Dev = 0.0000\n",
            "Test Sample 1812: Mean Prediction = 1.0000, Std Dev = 0.0000\n",
            "Test Sample 1813: Mean Prediction = 0.0000, Std Dev = 0.0000\n",
            "Test Sample 1814: Mean Prediction = 1.0000, Std Dev = 0.0000\n",
            "Test Sample 1815: Mean Prediction = 1.0000, Std Dev = 0.0000\n",
            "Test Sample 1816: Mean Prediction = 0.0000, Std Dev = 0.0000\n",
            "Test Sample 1817: Mean Prediction = 1.0000, Std Dev = 0.0000\n",
            "Test Sample 1818: Mean Prediction = 0.0000, Std Dev = 0.0000\n",
            "Test Sample 1819: Mean Prediction = 0.0000, Std Dev = 0.0000\n",
            "Test Sample 1820: Mean Prediction = 1.0000, Std Dev = 0.0000\n",
            "Test Sample 1821: Mean Prediction = 1.0000, Std Dev = 0.0000\n",
            "Test Sample 1822: Mean Prediction = 1.0000, Std Dev = 0.0000\n",
            "Test Sample 1823: Mean Prediction = 1.0000, Std Dev = 0.0000\n",
            "Test Sample 1824: Mean Prediction = 1.0000, Std Dev = 0.0000\n",
            "Test Sample 1825: Mean Prediction = 0.0000, Std Dev = 0.0000\n",
            "Test Sample 1826: Mean Prediction = 1.0000, Std Dev = 0.0000\n",
            "Test Sample 1827: Mean Prediction = 1.0000, Std Dev = 0.0000\n",
            "Test Sample 1828: Mean Prediction = 1.0000, Std Dev = 0.0000\n",
            "Test Sample 1829: Mean Prediction = 1.0000, Std Dev = 0.0000\n",
            "Test Sample 1830: Mean Prediction = 0.0000, Std Dev = 0.0000\n",
            "Test Sample 1831: Mean Prediction = 1.0000, Std Dev = 0.0000\n",
            "Test Sample 1832: Mean Prediction = 1.0000, Std Dev = 0.0000\n",
            "Test Sample 1833: Mean Prediction = 0.0000, Std Dev = 0.0000\n",
            "Test Sample 1834: Mean Prediction = 0.0000, Std Dev = 0.0000\n",
            "Test Sample 1835: Mean Prediction = 0.0000, Std Dev = 0.0000\n",
            "Test Sample 1836: Mean Prediction = 1.0000, Std Dev = 0.0000\n",
            "Test Sample 1837: Mean Prediction = 1.0000, Std Dev = 0.0000\n",
            "Test Sample 1838: Mean Prediction = 1.0000, Std Dev = 0.0000\n",
            "Test Sample 1839: Mean Prediction = 1.0000, Std Dev = 0.0000\n",
            "Test Sample 1840: Mean Prediction = 1.0000, Std Dev = 0.0000\n",
            "Test Sample 1841: Mean Prediction = 0.0000, Std Dev = 0.0000\n",
            "Test Sample 1842: Mean Prediction = 1.0000, Std Dev = 0.0000\n",
            "Test Sample 1843: Mean Prediction = 1.0000, Std Dev = 0.0000\n",
            "Test Sample 1844: Mean Prediction = 1.0000, Std Dev = 0.0000\n",
            "Test Sample 1845: Mean Prediction = 0.0000, Std Dev = 0.0000\n",
            "Test Sample 1846: Mean Prediction = 1.0000, Std Dev = 0.0000\n",
            "Test Sample 1847: Mean Prediction = 1.0000, Std Dev = 0.0000\n",
            "Test Sample 1848: Mean Prediction = 0.0000, Std Dev = 0.0000\n",
            "Test Sample 1849: Mean Prediction = 0.0000, Std Dev = 0.0000\n",
            "Test Sample 1850: Mean Prediction = 0.0000, Std Dev = 0.0000\n",
            "Test Sample 1851: Mean Prediction = 0.0000, Std Dev = 0.0000\n",
            "Test Sample 1852: Mean Prediction = 0.0000, Std Dev = 0.0000\n",
            "Test Sample 1853: Mean Prediction = 1.0000, Std Dev = 0.0000\n",
            "Test Sample 1854: Mean Prediction = 0.0000, Std Dev = 0.0000\n",
            "Test Sample 1855: Mean Prediction = 1.0000, Std Dev = 0.0000\n",
            "Test Sample 1856: Mean Prediction = 1.0000, Std Dev = 0.0000\n",
            "Test Sample 1857: Mean Prediction = 1.0000, Std Dev = 0.0000\n",
            "Test Sample 1858: Mean Prediction = 0.0000, Std Dev = 0.0000\n",
            "Test Sample 1859: Mean Prediction = 0.0000, Std Dev = 0.0000\n",
            "Test Sample 1860: Mean Prediction = 0.0000, Std Dev = 0.0000\n",
            "Test Sample 1861: Mean Prediction = 0.0000, Std Dev = 0.0000\n",
            "Test Sample 1862: Mean Prediction = 1.0000, Std Dev = 0.0000\n",
            "Test Sample 1863: Mean Prediction = 0.0000, Std Dev = 0.0000\n",
            "Test Sample 1864: Mean Prediction = 1.0000, Std Dev = 0.0000\n",
            "Test Sample 1865: Mean Prediction = 0.0000, Std Dev = 0.0000\n",
            "Test Sample 1866: Mean Prediction = 0.0000, Std Dev = 0.0000\n",
            "Test Sample 1867: Mean Prediction = 1.0000, Std Dev = 0.0000\n",
            "Test Sample 1868: Mean Prediction = 1.0000, Std Dev = 0.0000\n",
            "Test Sample 1869: Mean Prediction = 1.0000, Std Dev = 0.0000\n",
            "Test Sample 1870: Mean Prediction = 0.0000, Std Dev = 0.0000\n",
            "Test Sample 1871: Mean Prediction = 1.0000, Std Dev = 0.0000\n",
            "Test Sample 1872: Mean Prediction = 1.0000, Std Dev = 0.0000\n",
            "Test Sample 1873: Mean Prediction = 0.0000, Std Dev = 0.0000\n",
            "Test Sample 1874: Mean Prediction = 0.0000, Std Dev = 0.0000\n",
            "Test Sample 1875: Mean Prediction = 1.0000, Std Dev = 0.0000\n",
            "Test Sample 1876: Mean Prediction = 0.0000, Std Dev = 0.0000\n",
            "Test Sample 1877: Mean Prediction = 1.0000, Std Dev = 0.0000\n",
            "Test Sample 1878: Mean Prediction = 1.0000, Std Dev = 0.0000\n",
            "Test Sample 1879: Mean Prediction = 0.0000, Std Dev = 0.0000\n",
            "Test Sample 1880: Mean Prediction = 0.0000, Std Dev = 0.0000\n",
            "Test Sample 1881: Mean Prediction = 0.0000, Std Dev = 0.0000\n",
            "Test Sample 1882: Mean Prediction = 0.0000, Std Dev = 0.0000\n",
            "Test Sample 1883: Mean Prediction = 1.0000, Std Dev = 0.0000\n",
            "Test Sample 1884: Mean Prediction = 0.0000, Std Dev = 0.0000\n",
            "Test Sample 1885: Mean Prediction = 0.0000, Std Dev = 0.0000\n",
            "Test Sample 1886: Mean Prediction = 0.0000, Std Dev = 0.0000\n",
            "Test Sample 1887: Mean Prediction = 0.0000, Std Dev = 0.0000\n",
            "Test Sample 1888: Mean Prediction = 1.0000, Std Dev = 0.0000\n",
            "Test Sample 1889: Mean Prediction = 1.0000, Std Dev = 0.0000\n",
            "Test Sample 1890: Mean Prediction = 1.0000, Std Dev = 0.0000\n",
            "Test Sample 1891: Mean Prediction = 0.0000, Std Dev = 0.0000\n",
            "Test Sample 1892: Mean Prediction = 0.0000, Std Dev = 0.0000\n",
            "Test Sample 1893: Mean Prediction = 0.0000, Std Dev = 0.0000\n",
            "Test Sample 1894: Mean Prediction = 1.0000, Std Dev = 0.0000\n",
            "Test Sample 1895: Mean Prediction = 0.0000, Std Dev = 0.0000\n",
            "Test Sample 1896: Mean Prediction = 0.0000, Std Dev = 0.0000\n",
            "Test Sample 1897: Mean Prediction = 0.0000, Std Dev = 0.0000\n",
            "Test Sample 1898: Mean Prediction = 0.0000, Std Dev = 0.0000\n",
            "Test Sample 1899: Mean Prediction = 0.0000, Std Dev = 0.0000\n",
            "Test Sample 1900: Mean Prediction = 1.0000, Std Dev = 0.0000\n",
            "Test Sample 1901: Mean Prediction = 0.0000, Std Dev = 0.0000\n",
            "Test Sample 1902: Mean Prediction = 1.0000, Std Dev = 0.0000\n",
            "Test Sample 1903: Mean Prediction = 1.0000, Std Dev = 0.0000\n",
            "Test Sample 1904: Mean Prediction = 0.7500, Std Dev = 0.4330\n",
            "Test Sample 1905: Mean Prediction = 1.0000, Std Dev = 0.0000\n",
            "Test Sample 1906: Mean Prediction = 1.0000, Std Dev = 0.0000\n",
            "Test Sample 1907: Mean Prediction = 0.0000, Std Dev = 0.0000\n",
            "Test Sample 1908: Mean Prediction = 0.0000, Std Dev = 0.0000\n",
            "Test Sample 1909: Mean Prediction = 0.0000, Std Dev = 0.0000\n",
            "Test Sample 1910: Mean Prediction = 0.0000, Std Dev = 0.0000\n",
            "Test Sample 1911: Mean Prediction = 0.0000, Std Dev = 0.0000\n",
            "Test Sample 1912: Mean Prediction = 0.0000, Std Dev = 0.0000\n",
            "Test Sample 1913: Mean Prediction = 0.0000, Std Dev = 0.0000\n",
            "Test Sample 1914: Mean Prediction = 1.0000, Std Dev = 0.0000\n",
            "Test Sample 1915: Mean Prediction = 1.0000, Std Dev = 0.0000\n",
            "Test Sample 1916: Mean Prediction = 1.0000, Std Dev = 0.0000\n",
            "Test Sample 1917: Mean Prediction = 1.0000, Std Dev = 0.0000\n",
            "Test Sample 1918: Mean Prediction = 0.0000, Std Dev = 0.0000\n",
            "Test Sample 1919: Mean Prediction = 1.0000, Std Dev = 0.0000\n",
            "Test Sample 1920: Mean Prediction = 0.0000, Std Dev = 0.0000\n",
            "Test Sample 1921: Mean Prediction = 1.0000, Std Dev = 0.0000\n",
            "Test Sample 1922: Mean Prediction = 0.0000, Std Dev = 0.0000\n",
            "Test Sample 1923: Mean Prediction = 1.0000, Std Dev = 0.0000\n",
            "Test Sample 1924: Mean Prediction = 0.0000, Std Dev = 0.0000\n",
            "Test Sample 1925: Mean Prediction = 0.0000, Std Dev = 0.0000\n",
            "Test Sample 1926: Mean Prediction = 1.0000, Std Dev = 0.0000\n",
            "Test Sample 1927: Mean Prediction = 1.0000, Std Dev = 0.0000\n",
            "Test Sample 1928: Mean Prediction = 1.0000, Std Dev = 0.0000\n",
            "Test Sample 1929: Mean Prediction = 1.0000, Std Dev = 0.0000\n",
            "Test Sample 1930: Mean Prediction = 0.0000, Std Dev = 0.0000\n",
            "Test Sample 1931: Mean Prediction = 1.0000, Std Dev = 0.0000\n",
            "Test Sample 1932: Mean Prediction = 0.0000, Std Dev = 0.0000\n",
            "Test Sample 1933: Mean Prediction = 1.0000, Std Dev = 0.0000\n",
            "Test Sample 1934: Mean Prediction = 1.0000, Std Dev = 0.0000\n",
            "Test Sample 1935: Mean Prediction = 0.0000, Std Dev = 0.0000\n",
            "Test Sample 1936: Mean Prediction = 1.0000, Std Dev = 0.0000\n",
            "Test Sample 1937: Mean Prediction = 1.0000, Std Dev = 0.0000\n",
            "Test Sample 1938: Mean Prediction = 0.0000, Std Dev = 0.0000\n",
            "Test Sample 1939: Mean Prediction = 0.0000, Std Dev = 0.0000\n",
            "Test Sample 1940: Mean Prediction = 1.0000, Std Dev = 0.0000\n",
            "Test Sample 1941: Mean Prediction = 1.0000, Std Dev = 0.0000\n",
            "Test Sample 1942: Mean Prediction = 1.0000, Std Dev = 0.0000\n",
            "Test Sample 1943: Mean Prediction = 0.0000, Std Dev = 0.0000\n",
            "Test Sample 1944: Mean Prediction = 0.0000, Std Dev = 0.0000\n",
            "Test Sample 1945: Mean Prediction = 1.0000, Std Dev = 0.0000\n",
            "Test Sample 1946: Mean Prediction = 0.0000, Std Dev = 0.0000\n",
            "Test Sample 1947: Mean Prediction = 1.0000, Std Dev = 0.0000\n",
            "Test Sample 1948: Mean Prediction = 1.0000, Std Dev = 0.0000\n",
            "Test Sample 1949: Mean Prediction = 0.0000, Std Dev = 0.0000\n",
            "Test Sample 1950: Mean Prediction = 1.0000, Std Dev = 0.0000\n",
            "Test Sample 1951: Mean Prediction = 0.0000, Std Dev = 0.0000\n",
            "Test Sample 1952: Mean Prediction = 1.0000, Std Dev = 0.0000\n",
            "Test Sample 1953: Mean Prediction = 1.0000, Std Dev = 0.0000\n",
            "Test Sample 1954: Mean Prediction = 0.0000, Std Dev = 0.0000\n",
            "Test Sample 1955: Mean Prediction = 0.0000, Std Dev = 0.0000\n",
            "Test Sample 1956: Mean Prediction = 0.0000, Std Dev = 0.0000\n",
            "Test Sample 1957: Mean Prediction = 1.0000, Std Dev = 0.0000\n",
            "Test Sample 1958: Mean Prediction = 1.0000, Std Dev = 0.0000\n",
            "Test Sample 1959: Mean Prediction = 0.0400, Std Dev = 0.1960\n",
            "Test Sample 1960: Mean Prediction = 0.0000, Std Dev = 0.0000\n",
            "Test Sample 1961: Mean Prediction = 0.0000, Std Dev = 0.0000\n",
            "Test Sample 1962: Mean Prediction = 0.0000, Std Dev = 0.0000\n",
            "Test Sample 1963: Mean Prediction = 1.0000, Std Dev = 0.0000\n",
            "Test Sample 1964: Mean Prediction = 1.0000, Std Dev = 0.0000\n",
            "Test Sample 1965: Mean Prediction = 0.0000, Std Dev = 0.0000\n",
            "Test Sample 1966: Mean Prediction = 0.0000, Std Dev = 0.0000\n",
            "Test Sample 1967: Mean Prediction = 1.0000, Std Dev = 0.0000\n",
            "Test Sample 1968: Mean Prediction = 1.0000, Std Dev = 0.0000\n",
            "Test Sample 1969: Mean Prediction = 1.0000, Std Dev = 0.0000\n",
            "Test Sample 1970: Mean Prediction = 1.0000, Std Dev = 0.0000\n",
            "Test Sample 1971: Mean Prediction = 0.0000, Std Dev = 0.0000\n",
            "Test Sample 1972: Mean Prediction = 0.0000, Std Dev = 0.0000\n",
            "Test Sample 1973: Mean Prediction = 1.0000, Std Dev = 0.0000\n",
            "Test Sample 1974: Mean Prediction = 1.0000, Std Dev = 0.0000\n",
            "Test Sample 1975: Mean Prediction = 1.0000, Std Dev = 0.0000\n",
            "Test Sample 1976: Mean Prediction = 0.0000, Std Dev = 0.0000\n",
            "Test Sample 1977: Mean Prediction = 1.0000, Std Dev = 0.0000\n",
            "Test Sample 1978: Mean Prediction = 0.0000, Std Dev = 0.0000\n",
            "Test Sample 1979: Mean Prediction = 0.0000, Std Dev = 0.0000\n",
            "Test Sample 1980: Mean Prediction = 1.0000, Std Dev = 0.0000\n",
            "Test Sample 1981: Mean Prediction = 0.0000, Std Dev = 0.0000\n",
            "Test Sample 1982: Mean Prediction = 0.0000, Std Dev = 0.0000\n",
            "Test Sample 1983: Mean Prediction = 0.0000, Std Dev = 0.0000\n",
            "Test Sample 1984: Mean Prediction = 1.0000, Std Dev = 0.0000\n",
            "Test Sample 1985: Mean Prediction = 1.0000, Std Dev = 0.0000\n",
            "Test Sample 1986: Mean Prediction = 1.0000, Std Dev = 0.0000\n",
            "Test Sample 1987: Mean Prediction = 1.0000, Std Dev = 0.0000\n",
            "Test Sample 1988: Mean Prediction = 1.0000, Std Dev = 0.0000\n",
            "Test Sample 1989: Mean Prediction = 1.0000, Std Dev = 0.0000\n",
            "Test Sample 1990: Mean Prediction = 1.0000, Std Dev = 0.0000\n",
            "Test Sample 1991: Mean Prediction = 0.0000, Std Dev = 0.0000\n",
            "Test Sample 1992: Mean Prediction = 0.0000, Std Dev = 0.0000\n",
            "Test Sample 1993: Mean Prediction = 1.0000, Std Dev = 0.0000\n",
            "Test Sample 1994: Mean Prediction = 0.0000, Std Dev = 0.0000\n",
            "Test Sample 1995: Mean Prediction = 0.0000, Std Dev = 0.0000\n",
            "Test Sample 1996: Mean Prediction = 0.0000, Std Dev = 0.0000\n",
            "Test Sample 1997: Mean Prediction = 1.0000, Std Dev = 0.0000\n",
            "Test Sample 1998: Mean Prediction = 0.0000, Std Dev = 0.0000\n",
            "Test Sample 1999: Mean Prediction = 1.0000, Std Dev = 0.0000\n",
            "Test Sample 2000: Mean Prediction = 0.0000, Std Dev = 0.0000\n",
            "Test Sample 2001: Mean Prediction = 1.0000, Std Dev = 0.0000\n",
            "Test Sample 2002: Mean Prediction = 1.0000, Std Dev = 0.0000\n",
            "Test Sample 2003: Mean Prediction = 0.0000, Std Dev = 0.0000\n",
            "Test Sample 2004: Mean Prediction = 1.0000, Std Dev = 0.0000\n",
            "Test Sample 2005: Mean Prediction = 0.0000, Std Dev = 0.0000\n",
            "Test Sample 2006: Mean Prediction = 0.8800, Std Dev = 0.3250\n",
            "Test Sample 2007: Mean Prediction = 0.0000, Std Dev = 0.0000\n",
            "Test Sample 2008: Mean Prediction = 0.0000, Std Dev = 0.0000\n",
            "Test Sample 2009: Mean Prediction = 0.0000, Std Dev = 0.0000\n",
            "Test Sample 2010: Mean Prediction = 0.0000, Std Dev = 0.0000\n",
            "Test Sample 2011: Mean Prediction = 0.0000, Std Dev = 0.0000\n",
            "Test Sample 2012: Mean Prediction = 1.0000, Std Dev = 0.0000\n",
            "Test Sample 2013: Mean Prediction = 0.0000, Std Dev = 0.0000\n",
            "Test Sample 2014: Mean Prediction = 1.0000, Std Dev = 0.0000\n",
            "Test Sample 2015: Mean Prediction = 1.0000, Std Dev = 0.0000\n",
            "Test Sample 2016: Mean Prediction = 1.0000, Std Dev = 0.0000\n",
            "Test Sample 2017: Mean Prediction = 1.0000, Std Dev = 0.0000\n",
            "Test Sample 2018: Mean Prediction = 1.0000, Std Dev = 0.0000\n",
            "Test Sample 2019: Mean Prediction = 0.0000, Std Dev = 0.0000\n",
            "Test Sample 2020: Mean Prediction = 1.0000, Std Dev = 0.0000\n",
            "Test Sample 2021: Mean Prediction = 1.0000, Std Dev = 0.0000\n",
            "Test Sample 2022: Mean Prediction = 0.0000, Std Dev = 0.0000\n",
            "Test Sample 2023: Mean Prediction = 0.0000, Std Dev = 0.0000\n",
            "Test Sample 2024: Mean Prediction = 1.0000, Std Dev = 0.0000\n",
            "Test Sample 2025: Mean Prediction = 1.0000, Std Dev = 0.0000\n",
            "Test Sample 2026: Mean Prediction = 1.0000, Std Dev = 0.0000\n",
            "Test Sample 2027: Mean Prediction = 1.0000, Std Dev = 0.0000\n",
            "Test Sample 2028: Mean Prediction = 0.0000, Std Dev = 0.0000\n",
            "Test Sample 2029: Mean Prediction = 0.0000, Std Dev = 0.0000\n",
            "Test Sample 2030: Mean Prediction = 1.0000, Std Dev = 0.0000\n",
            "Test Sample 2031: Mean Prediction = 0.0000, Std Dev = 0.0000\n",
            "Test Sample 2032: Mean Prediction = 0.0000, Std Dev = 0.0000\n",
            "Test Sample 2033: Mean Prediction = 0.0200, Std Dev = 0.1400\n",
            "Test Sample 2034: Mean Prediction = 1.0000, Std Dev = 0.0000\n",
            "Test Sample 2035: Mean Prediction = 0.9900, Std Dev = 0.0995\n",
            "Test Sample 2036: Mean Prediction = 1.0000, Std Dev = 0.0000\n",
            "Test Sample 2037: Mean Prediction = 1.0000, Std Dev = 0.0000\n",
            "Test Sample 2038: Mean Prediction = 0.0000, Std Dev = 0.0000\n",
            "Test Sample 2039: Mean Prediction = 1.0000, Std Dev = 0.0000\n",
            "Test Sample 2040: Mean Prediction = 1.0000, Std Dev = 0.0000\n",
            "Test Sample 2041: Mean Prediction = 1.0000, Std Dev = 0.0000\n",
            "Test Sample 2042: Mean Prediction = 1.0000, Std Dev = 0.0000\n",
            "Test Sample 2043: Mean Prediction = 0.0000, Std Dev = 0.0000\n",
            "Test Sample 2044: Mean Prediction = 0.0000, Std Dev = 0.0000\n",
            "Test Sample 2045: Mean Prediction = 0.0000, Std Dev = 0.0000\n",
            "Test Sample 2046: Mean Prediction = 0.0000, Std Dev = 0.0000\n",
            "Test Sample 2047: Mean Prediction = 0.0000, Std Dev = 0.0000\n",
            "Test Sample 2048: Mean Prediction = 1.0000, Std Dev = 0.0000\n",
            "Test Sample 2049: Mean Prediction = 0.0000, Std Dev = 0.0000\n",
            "Test Sample 2050: Mean Prediction = 0.0000, Std Dev = 0.0000\n",
            "Test Sample 2051: Mean Prediction = 0.0000, Std Dev = 0.0000\n",
            "Test Sample 2052: Mean Prediction = 1.0000, Std Dev = 0.0000\n",
            "Test Sample 2053: Mean Prediction = 1.0000, Std Dev = 0.0000\n",
            "Test Sample 2054: Mean Prediction = 0.0000, Std Dev = 0.0000\n",
            "Test Sample 2055: Mean Prediction = 0.0000, Std Dev = 0.0000\n",
            "Test Sample 2056: Mean Prediction = 0.0000, Std Dev = 0.0000\n",
            "Test Sample 2057: Mean Prediction = 0.0000, Std Dev = 0.0000\n",
            "Test Sample 2058: Mean Prediction = 1.0000, Std Dev = 0.0000\n",
            "Test Sample 2059: Mean Prediction = 1.0000, Std Dev = 0.0000\n",
            "Test Sample 2060: Mean Prediction = 1.0000, Std Dev = 0.0000\n",
            "Test Sample 2061: Mean Prediction = 1.0000, Std Dev = 0.0000\n",
            "Test Sample 2062: Mean Prediction = 1.0000, Std Dev = 0.0000\n",
            "Test Sample 2063: Mean Prediction = 0.0000, Std Dev = 0.0000\n",
            "Test Sample 2064: Mean Prediction = 0.0000, Std Dev = 0.0000\n",
            "Test Sample 2065: Mean Prediction = 1.0000, Std Dev = 0.0000\n",
            "Test Sample 2066: Mean Prediction = 0.8500, Std Dev = 0.3571\n",
            "Test Sample 2067: Mean Prediction = 0.0000, Std Dev = 0.0000\n",
            "Test Sample 2068: Mean Prediction = 1.0000, Std Dev = 0.0000\n",
            "Test Sample 2069: Mean Prediction = 1.0000, Std Dev = 0.0000\n",
            "Test Sample 2070: Mean Prediction = 1.0000, Std Dev = 0.0000\n",
            "Test Sample 2071: Mean Prediction = 0.0000, Std Dev = 0.0000\n",
            "Test Sample 2072: Mean Prediction = 0.0000, Std Dev = 0.0000\n",
            "Test Sample 2073: Mean Prediction = 0.0000, Std Dev = 0.0000\n",
            "Test Sample 2074: Mean Prediction = 0.0000, Std Dev = 0.0000\n",
            "Test Sample 2075: Mean Prediction = 1.0000, Std Dev = 0.0000\n",
            "Test Sample 2076: Mean Prediction = 0.0000, Std Dev = 0.0000\n",
            "Test Sample 2077: Mean Prediction = 1.0000, Std Dev = 0.0000\n",
            "Test Sample 2078: Mean Prediction = 1.0000, Std Dev = 0.0000\n",
            "Test Sample 2079: Mean Prediction = 1.0000, Std Dev = 0.0000\n",
            "Test Sample 2080: Mean Prediction = 0.0000, Std Dev = 0.0000\n",
            "Test Sample 2081: Mean Prediction = 1.0000, Std Dev = 0.0000\n",
            "Test Sample 2082: Mean Prediction = 1.0000, Std Dev = 0.0000\n",
            "Test Sample 2083: Mean Prediction = 1.0000, Std Dev = 0.0000\n",
            "Test Sample 2084: Mean Prediction = 0.0000, Std Dev = 0.0000\n",
            "Test Sample 2085: Mean Prediction = 1.0000, Std Dev = 0.0000\n",
            "Test Sample 2086: Mean Prediction = 0.0000, Std Dev = 0.0000\n",
            "Test Sample 2087: Mean Prediction = 0.0000, Std Dev = 0.0000\n",
            "Test Sample 2088: Mean Prediction = 0.0000, Std Dev = 0.0000\n",
            "Test Sample 2089: Mean Prediction = 1.0000, Std Dev = 0.0000\n",
            "Test Sample 2090: Mean Prediction = 0.0000, Std Dev = 0.0000\n",
            "Test Sample 2091: Mean Prediction = 1.0000, Std Dev = 0.0000\n",
            "Test Sample 2092: Mean Prediction = 1.0000, Std Dev = 0.0000\n",
            "Test Sample 2093: Mean Prediction = 0.0000, Std Dev = 0.0000\n",
            "Test Sample 2094: Mean Prediction = 0.0000, Std Dev = 0.0000\n",
            "Test Sample 2095: Mean Prediction = 0.7600, Std Dev = 0.4271\n",
            "Test Sample 2096: Mean Prediction = 1.0000, Std Dev = 0.0000\n",
            "Test Sample 2097: Mean Prediction = 0.0000, Std Dev = 0.0000\n",
            "Test Sample 2098: Mean Prediction = 1.0000, Std Dev = 0.0000\n",
            "Test Sample 2099: Mean Prediction = 0.0000, Std Dev = 0.0000\n",
            "Test Sample 2100: Mean Prediction = 0.0000, Std Dev = 0.0000\n",
            "Test Sample 2101: Mean Prediction = 1.0000, Std Dev = 0.0000\n",
            "Test Sample 2102: Mean Prediction = 0.0000, Std Dev = 0.0000\n",
            "Test Sample 2103: Mean Prediction = 0.0000, Std Dev = 0.0000\n",
            "Test Sample 2104: Mean Prediction = 0.0200, Std Dev = 0.1400\n",
            "Test Sample 2105: Mean Prediction = 0.0000, Std Dev = 0.0000\n",
            "Test Sample 2106: Mean Prediction = 0.0000, Std Dev = 0.0000\n",
            "Test Sample 2107: Mean Prediction = 0.0000, Std Dev = 0.0000\n",
            "Test Sample 2108: Mean Prediction = 0.0000, Std Dev = 0.0000\n",
            "Test Sample 2109: Mean Prediction = 1.0000, Std Dev = 0.0000\n",
            "Test Sample 2110: Mean Prediction = 0.0000, Std Dev = 0.0000\n",
            "Test Sample 2111: Mean Prediction = 1.0000, Std Dev = 0.0000\n",
            "Test Sample 2112: Mean Prediction = 0.0000, Std Dev = 0.0000\n",
            "Test Sample 2113: Mean Prediction = 1.0000, Std Dev = 0.0000\n",
            "Test Sample 2114: Mean Prediction = 1.0000, Std Dev = 0.0000\n",
            "Test Sample 2115: Mean Prediction = 1.0000, Std Dev = 0.0000\n",
            "Test Sample 2116: Mean Prediction = 0.0000, Std Dev = 0.0000\n",
            "Test Sample 2117: Mean Prediction = 0.0000, Std Dev = 0.0000\n",
            "Test Sample 2118: Mean Prediction = 1.0000, Std Dev = 0.0000\n",
            "Test Sample 2119: Mean Prediction = 0.0000, Std Dev = 0.0000\n",
            "Test Sample 2120: Mean Prediction = 0.0000, Std Dev = 0.0000\n",
            "Test Sample 2121: Mean Prediction = 0.0000, Std Dev = 0.0000\n",
            "Test Sample 2122: Mean Prediction = 0.0000, Std Dev = 0.0000\n",
            "Test Sample 2123: Mean Prediction = 1.0000, Std Dev = 0.0000\n",
            "Test Sample 2124: Mean Prediction = 1.0000, Std Dev = 0.0000\n",
            "Test Sample 2125: Mean Prediction = 1.0000, Std Dev = 0.0000\n",
            "Test Sample 2126: Mean Prediction = 0.0900, Std Dev = 0.2862\n",
            "Test Sample 2127: Mean Prediction = 0.0000, Std Dev = 0.0000\n",
            "Test Sample 2128: Mean Prediction = 1.0000, Std Dev = 0.0000\n",
            "Test Sample 2129: Mean Prediction = 1.0000, Std Dev = 0.0000\n",
            "Test Sample 2130: Mean Prediction = 0.0100, Std Dev = 0.0995\n",
            "Test Sample 2131: Mean Prediction = 1.0000, Std Dev = 0.0000\n",
            "Test Sample 2132: Mean Prediction = 1.0000, Std Dev = 0.0000\n",
            "Test Sample 2133: Mean Prediction = 1.0000, Std Dev = 0.0000\n",
            "Test Sample 2134: Mean Prediction = 0.0000, Std Dev = 0.0000\n",
            "Test Sample 2135: Mean Prediction = 0.0000, Std Dev = 0.0000\n",
            "Test Sample 2136: Mean Prediction = 0.0000, Std Dev = 0.0000\n",
            "Test Sample 2137: Mean Prediction = 1.0000, Std Dev = 0.0000\n",
            "Test Sample 2138: Mean Prediction = 0.0000, Std Dev = 0.0000\n",
            "Test Sample 2139: Mean Prediction = 0.0000, Std Dev = 0.0000\n",
            "Test Sample 2140: Mean Prediction = 0.0000, Std Dev = 0.0000\n",
            "Test Sample 2141: Mean Prediction = 0.0000, Std Dev = 0.0000\n",
            "Test Sample 2142: Mean Prediction = 0.0000, Std Dev = 0.0000\n",
            "Test Sample 2143: Mean Prediction = 0.0000, Std Dev = 0.0000\n",
            "Test Sample 2144: Mean Prediction = 1.0000, Std Dev = 0.0000\n",
            "Test Sample 2145: Mean Prediction = 0.0000, Std Dev = 0.0000\n",
            "Test Sample 2146: Mean Prediction = 0.0000, Std Dev = 0.0000\n",
            "Test Sample 2147: Mean Prediction = 0.0000, Std Dev = 0.0000\n",
            "Test Sample 2148: Mean Prediction = 1.0000, Std Dev = 0.0000\n",
            "Test Sample 2149: Mean Prediction = 0.0000, Std Dev = 0.0000\n",
            "Test Sample 2150: Mean Prediction = 1.0000, Std Dev = 0.0000\n",
            "Test Sample 2151: Mean Prediction = 0.0000, Std Dev = 0.0000\n",
            "Test Sample 2152: Mean Prediction = 1.0000, Std Dev = 0.0000\n",
            "Test Sample 2153: Mean Prediction = 1.0000, Std Dev = 0.0000\n",
            "Test Sample 2154: Mean Prediction = 1.0000, Std Dev = 0.0000\n",
            "Test Sample 2155: Mean Prediction = 0.0000, Std Dev = 0.0000\n",
            "Test Sample 2156: Mean Prediction = 1.0000, Std Dev = 0.0000\n",
            "Test Sample 2157: Mean Prediction = 0.0000, Std Dev = 0.0000\n",
            "Test Sample 2158: Mean Prediction = 1.0000, Std Dev = 0.0000\n",
            "Test Sample 2159: Mean Prediction = 1.0000, Std Dev = 0.0000\n",
            "Test Sample 2160: Mean Prediction = 1.0000, Std Dev = 0.0000\n",
            "Test Sample 2161: Mean Prediction = 0.0000, Std Dev = 0.0000\n",
            "Test Sample 2162: Mean Prediction = 1.0000, Std Dev = 0.0000\n",
            "Test Sample 2163: Mean Prediction = 1.0000, Std Dev = 0.0000\n",
            "Test Sample 2164: Mean Prediction = 0.0000, Std Dev = 0.0000\n",
            "Test Sample 2165: Mean Prediction = 1.0000, Std Dev = 0.0000\n",
            "Test Sample 2166: Mean Prediction = 1.0000, Std Dev = 0.0000\n",
            "Test Sample 2167: Mean Prediction = 0.0000, Std Dev = 0.0000\n",
            "Test Sample 2168: Mean Prediction = 0.0000, Std Dev = 0.0000\n",
            "Test Sample 2169: Mean Prediction = 1.0000, Std Dev = 0.0000\n",
            "Test Sample 2170: Mean Prediction = 0.0000, Std Dev = 0.0000\n",
            "Test Sample 2171: Mean Prediction = 1.0000, Std Dev = 0.0000\n",
            "Test Sample 2172: Mean Prediction = 1.0000, Std Dev = 0.0000\n",
            "Test Sample 2173: Mean Prediction = 0.0100, Std Dev = 0.0995\n",
            "Test Sample 2174: Mean Prediction = 1.0000, Std Dev = 0.0000\n",
            "Test Sample 2175: Mean Prediction = 1.0000, Std Dev = 0.0000\n",
            "Test Sample 2176: Mean Prediction = 1.0000, Std Dev = 0.0000\n",
            "Test Sample 2177: Mean Prediction = 0.0000, Std Dev = 0.0000\n",
            "Test Sample 2178: Mean Prediction = 0.0000, Std Dev = 0.0000\n",
            "Test Sample 2179: Mean Prediction = 0.0000, Std Dev = 0.0000\n",
            "Test Sample 2180: Mean Prediction = 1.0000, Std Dev = 0.0000\n",
            "Test Sample 2181: Mean Prediction = 0.0000, Std Dev = 0.0000\n",
            "Test Sample 2182: Mean Prediction = 1.0000, Std Dev = 0.0000\n",
            "Test Sample 2183: Mean Prediction = 1.0000, Std Dev = 0.0000\n",
            "Test Sample 2184: Mean Prediction = 1.0000, Std Dev = 0.0000\n",
            "Test Sample 2185: Mean Prediction = 1.0000, Std Dev = 0.0000\n",
            "Test Sample 2186: Mean Prediction = 0.0000, Std Dev = 0.0000\n",
            "Test Sample 2187: Mean Prediction = 1.0000, Std Dev = 0.0000\n",
            "Test Sample 2188: Mean Prediction = 1.0000, Std Dev = 0.0000\n",
            "Test Sample 2189: Mean Prediction = 0.0000, Std Dev = 0.0000\n",
            "Test Sample 2190: Mean Prediction = 1.0000, Std Dev = 0.0000\n",
            "Test Sample 2191: Mean Prediction = 0.0000, Std Dev = 0.0000\n",
            "Test Sample 2192: Mean Prediction = 0.0000, Std Dev = 0.0000\n",
            "Test Sample 2193: Mean Prediction = 1.0000, Std Dev = 0.0000\n",
            "Test Sample 2194: Mean Prediction = 1.0000, Std Dev = 0.0000\n",
            "Test Sample 2195: Mean Prediction = 0.0000, Std Dev = 0.0000\n",
            "Test Sample 2196: Mean Prediction = 1.0000, Std Dev = 0.0000\n",
            "Test Sample 2197: Mean Prediction = 0.0000, Std Dev = 0.0000\n",
            "Test Sample 2198: Mean Prediction = 1.0000, Std Dev = 0.0000\n",
            "Test Sample 2199: Mean Prediction = 0.0000, Std Dev = 0.0000\n",
            "Test Sample 2200: Mean Prediction = 0.0000, Std Dev = 0.0000\n",
            "Test Sample 2201: Mean Prediction = 1.0000, Std Dev = 0.0000\n",
            "Test Sample 2202: Mean Prediction = 0.0000, Std Dev = 0.0000\n",
            "Test Sample 2203: Mean Prediction = 0.0000, Std Dev = 0.0000\n",
            "Test Sample 2204: Mean Prediction = 1.0000, Std Dev = 0.0000\n",
            "Test Sample 2205: Mean Prediction = 0.0000, Std Dev = 0.0000\n",
            "Test Sample 2206: Mean Prediction = 1.0000, Std Dev = 0.0000\n",
            "Test Sample 2207: Mean Prediction = 0.0000, Std Dev = 0.0000\n",
            "Test Sample 2208: Mean Prediction = 1.0000, Std Dev = 0.0000\n",
            "Test Sample 2209: Mean Prediction = 1.0000, Std Dev = 0.0000\n",
            "Test Sample 2210: Mean Prediction = 0.0000, Std Dev = 0.0000\n",
            "Test Sample 2211: Mean Prediction = 0.0700, Std Dev = 0.2551\n",
            "Test Sample 2212: Mean Prediction = 1.0000, Std Dev = 0.0000\n",
            "Test Sample 2213: Mean Prediction = 0.0000, Std Dev = 0.0000\n",
            "Test Sample 2214: Mean Prediction = 0.0000, Std Dev = 0.0000\n",
            "Test Sample 2215: Mean Prediction = 0.0000, Std Dev = 0.0000\n",
            "Test Sample 2216: Mean Prediction = 1.0000, Std Dev = 0.0000\n",
            "Test Sample 2217: Mean Prediction = 0.0000, Std Dev = 0.0000\n",
            "Test Sample 2218: Mean Prediction = 0.9800, Std Dev = 0.1400\n",
            "Test Sample 2219: Mean Prediction = 1.0000, Std Dev = 0.0000\n",
            "Test Sample 2220: Mean Prediction = 1.0000, Std Dev = 0.0000\n",
            "Test Sample 2221: Mean Prediction = 0.5900, Std Dev = 0.4918\n",
            "Test Sample 2222: Mean Prediction = 1.0000, Std Dev = 0.0000\n",
            "Test Sample 2223: Mean Prediction = 0.0000, Std Dev = 0.0000\n",
            "Test Sample 2224: Mean Prediction = 1.0000, Std Dev = 0.0000\n",
            "Test Sample 2225: Mean Prediction = 1.0000, Std Dev = 0.0000\n",
            "Test Sample 2226: Mean Prediction = 0.0000, Std Dev = 0.0000\n",
            "Test Sample 2227: Mean Prediction = 1.0000, Std Dev = 0.0000\n",
            "Test Sample 2228: Mean Prediction = 1.0000, Std Dev = 0.0000\n",
            "Test Sample 2229: Mean Prediction = 1.0000, Std Dev = 0.0000\n",
            "Test Sample 2230: Mean Prediction = 1.0000, Std Dev = 0.0000\n",
            "Test Sample 2231: Mean Prediction = 1.0000, Std Dev = 0.0000\n",
            "Test Sample 2232: Mean Prediction = 1.0000, Std Dev = 0.0000\n",
            "Test Sample 2233: Mean Prediction = 0.0000, Std Dev = 0.0000\n",
            "Test Sample 2234: Mean Prediction = 1.0000, Std Dev = 0.0000\n",
            "Test Sample 2235: Mean Prediction = 0.0000, Std Dev = 0.0000\n",
            "Test Sample 2236: Mean Prediction = 1.0000, Std Dev = 0.0000\n",
            "Test Sample 2237: Mean Prediction = 0.0000, Std Dev = 0.0000\n",
            "Test Sample 2238: Mean Prediction = 1.0000, Std Dev = 0.0000\n",
            "Test Sample 2239: Mean Prediction = 1.0000, Std Dev = 0.0000\n",
            "Test Sample 2240: Mean Prediction = 0.0000, Std Dev = 0.0000\n",
            "Test Sample 2241: Mean Prediction = 0.0000, Std Dev = 0.0000\n",
            "Test Sample 2242: Mean Prediction = 0.0000, Std Dev = 0.0000\n",
            "Test Sample 2243: Mean Prediction = 0.0000, Std Dev = 0.0000\n",
            "Test Sample 2244: Mean Prediction = 1.0000, Std Dev = 0.0000\n",
            "Test Sample 2245: Mean Prediction = 0.0000, Std Dev = 0.0000\n",
            "Test Sample 2246: Mean Prediction = 0.0000, Std Dev = 0.0000\n",
            "Test Sample 2247: Mean Prediction = 0.0000, Std Dev = 0.0000\n",
            "Test Sample 2248: Mean Prediction = 1.0000, Std Dev = 0.0000\n",
            "Test Sample 2249: Mean Prediction = 1.0000, Std Dev = 0.0000\n",
            "Test Sample 2250: Mean Prediction = 1.0000, Std Dev = 0.0000\n",
            "Test Sample 2251: Mean Prediction = 0.0000, Std Dev = 0.0000\n",
            "Test Sample 2252: Mean Prediction = 1.0000, Std Dev = 0.0000\n",
            "Test Sample 2253: Mean Prediction = 0.0000, Std Dev = 0.0000\n",
            "Test Sample 2254: Mean Prediction = 1.0000, Std Dev = 0.0000\n",
            "Test Sample 2255: Mean Prediction = 0.0000, Std Dev = 0.0000\n",
            "Test Sample 2256: Mean Prediction = 0.0000, Std Dev = 0.0000\n",
            "Test Sample 2257: Mean Prediction = 1.0000, Std Dev = 0.0000\n",
            "Test Sample 2258: Mean Prediction = 1.0000, Std Dev = 0.0000\n",
            "Test Sample 2259: Mean Prediction = 0.0000, Std Dev = 0.0000\n",
            "Test Sample 2260: Mean Prediction = 0.0000, Std Dev = 0.0000\n",
            "Test Sample 2261: Mean Prediction = 1.0000, Std Dev = 0.0000\n",
            "Test Sample 2262: Mean Prediction = 0.8400, Std Dev = 0.3666\n",
            "Test Sample 2263: Mean Prediction = 0.0000, Std Dev = 0.0000\n",
            "Test Sample 2264: Mean Prediction = 0.0000, Std Dev = 0.0000\n",
            "Test Sample 2265: Mean Prediction = 1.0000, Std Dev = 0.0000\n",
            "Test Sample 2266: Mean Prediction = 0.0000, Std Dev = 0.0000\n",
            "Test Sample 2267: Mean Prediction = 0.0000, Std Dev = 0.0000\n",
            "Test Sample 2268: Mean Prediction = 0.0000, Std Dev = 0.0000\n",
            "Test Sample 2269: Mean Prediction = 0.0000, Std Dev = 0.0000\n",
            "Test Sample 2270: Mean Prediction = 0.0000, Std Dev = 0.0000\n",
            "Test Sample 2271: Mean Prediction = 1.0000, Std Dev = 0.0000\n",
            "Test Sample 2272: Mean Prediction = 1.0000, Std Dev = 0.0000\n",
            "Test Sample 2273: Mean Prediction = 0.0000, Std Dev = 0.0000\n",
            "Test Sample 2274: Mean Prediction = 0.0000, Std Dev = 0.0000\n",
            "Test Sample 2275: Mean Prediction = 0.0000, Std Dev = 0.0000\n",
            "Test Sample 2276: Mean Prediction = 1.0000, Std Dev = 0.0000\n",
            "Test Sample 2277: Mean Prediction = 0.0000, Std Dev = 0.0000\n",
            "Test Sample 2278: Mean Prediction = 1.0000, Std Dev = 0.0000\n",
            "Test Sample 2279: Mean Prediction = 0.0000, Std Dev = 0.0000\n",
            "Test Sample 2280: Mean Prediction = 1.0000, Std Dev = 0.0000\n",
            "Test Sample 2281: Mean Prediction = 0.0000, Std Dev = 0.0000\n",
            "Test Sample 2282: Mean Prediction = 0.0000, Std Dev = 0.0000\n",
            "Test Sample 2283: Mean Prediction = 1.0000, Std Dev = 0.0000\n",
            "Test Sample 2284: Mean Prediction = 0.0000, Std Dev = 0.0000\n",
            "Test Sample 2285: Mean Prediction = 1.0000, Std Dev = 0.0000\n",
            "Test Sample 2286: Mean Prediction = 1.0000, Std Dev = 0.0000\n",
            "Test Sample 2287: Mean Prediction = 0.0000, Std Dev = 0.0000\n",
            "Test Sample 2288: Mean Prediction = 1.0000, Std Dev = 0.0000\n",
            "Test Sample 2289: Mean Prediction = 0.0000, Std Dev = 0.0000\n",
            "Test Sample 2290: Mean Prediction = 1.0000, Std Dev = 0.0000\n",
            "Test Sample 2291: Mean Prediction = 0.0000, Std Dev = 0.0000\n",
            "Test Sample 2292: Mean Prediction = 0.0000, Std Dev = 0.0000\n",
            "Test Sample 2293: Mean Prediction = 0.0000, Std Dev = 0.0000\n",
            "Test Sample 2294: Mean Prediction = 1.0000, Std Dev = 0.0000\n",
            "Test Sample 2295: Mean Prediction = 1.0000, Std Dev = 0.0000\n",
            "Test Sample 2296: Mean Prediction = 1.0000, Std Dev = 0.0000\n",
            "Test Sample 2297: Mean Prediction = 0.0000, Std Dev = 0.0000\n",
            "Test Sample 2298: Mean Prediction = 1.0000, Std Dev = 0.0000\n",
            "Test Sample 2299: Mean Prediction = 0.0000, Std Dev = 0.0000\n",
            "Test Sample 2300: Mean Prediction = 0.0000, Std Dev = 0.0000\n",
            "Test Sample 2301: Mean Prediction = 0.0000, Std Dev = 0.0000\n",
            "Test Sample 2302: Mean Prediction = 1.0000, Std Dev = 0.0000\n",
            "Test Sample 2303: Mean Prediction = 1.0000, Std Dev = 0.0000\n",
            "Test Sample 2304: Mean Prediction = 0.0000, Std Dev = 0.0000\n",
            "Test Sample 2305: Mean Prediction = 1.0000, Std Dev = 0.0000\n",
            "Test Sample 2306: Mean Prediction = 1.0000, Std Dev = 0.0000\n",
            "Test Sample 2307: Mean Prediction = 1.0000, Std Dev = 0.0000\n",
            "Test Sample 2308: Mean Prediction = 1.0000, Std Dev = 0.0000\n",
            "Test Sample 2309: Mean Prediction = 1.0000, Std Dev = 0.0000\n",
            "Test Sample 2310: Mean Prediction = 0.0000, Std Dev = 0.0000\n",
            "Test Sample 2311: Mean Prediction = 0.0000, Std Dev = 0.0000\n",
            "Test Sample 2312: Mean Prediction = 0.0000, Std Dev = 0.0000\n",
            "Test Sample 2313: Mean Prediction = 1.0000, Std Dev = 0.0000\n",
            "Test Sample 2314: Mean Prediction = 0.0000, Std Dev = 0.0000\n",
            "Test Sample 2315: Mean Prediction = 0.0000, Std Dev = 0.0000\n",
            "Test Sample 2316: Mean Prediction = 1.0000, Std Dev = 0.0000\n",
            "Test Sample 2317: Mean Prediction = 0.0000, Std Dev = 0.0000\n",
            "Test Sample 2318: Mean Prediction = 1.0000, Std Dev = 0.0000\n",
            "Test Sample 2319: Mean Prediction = 0.0200, Std Dev = 0.1400\n",
            "Test Sample 2320: Mean Prediction = 1.0000, Std Dev = 0.0000\n",
            "Test Sample 2321: Mean Prediction = 0.0000, Std Dev = 0.0000\n",
            "Test Sample 2322: Mean Prediction = 1.0000, Std Dev = 0.0000\n",
            "Test Sample 2323: Mean Prediction = 0.0000, Std Dev = 0.0000\n",
            "Test Sample 2324: Mean Prediction = 1.0000, Std Dev = 0.0000\n",
            "Test Sample 2325: Mean Prediction = 1.0000, Std Dev = 0.0000\n",
            "Test Sample 2326: Mean Prediction = 0.0000, Std Dev = 0.0000\n",
            "Test Sample 2327: Mean Prediction = 0.0000, Std Dev = 0.0000\n",
            "Test Sample 2328: Mean Prediction = 0.0000, Std Dev = 0.0000\n",
            "Test Sample 2329: Mean Prediction = 0.0000, Std Dev = 0.0000\n",
            "Test Sample 2330: Mean Prediction = 1.0000, Std Dev = 0.0000\n",
            "Test Sample 2331: Mean Prediction = 0.0000, Std Dev = 0.0000\n",
            "Test Sample 2332: Mean Prediction = 1.0000, Std Dev = 0.0000\n",
            "Test Sample 2333: Mean Prediction = 1.0000, Std Dev = 0.0000\n",
            "Test Sample 2334: Mean Prediction = 1.0000, Std Dev = 0.0000\n",
            "Test Sample 2335: Mean Prediction = 1.0000, Std Dev = 0.0000\n",
            "Test Sample 2336: Mean Prediction = 1.0000, Std Dev = 0.0000\n",
            "Test Sample 2337: Mean Prediction = 0.0000, Std Dev = 0.0000\n",
            "Test Sample 2338: Mean Prediction = 1.0000, Std Dev = 0.0000\n",
            "Test Sample 2339: Mean Prediction = 0.0000, Std Dev = 0.0000\n",
            "Test Sample 2340: Mean Prediction = 1.0000, Std Dev = 0.0000\n",
            "Test Sample 2341: Mean Prediction = 1.0000, Std Dev = 0.0000\n",
            "Test Sample 2342: Mean Prediction = 1.0000, Std Dev = 0.0000\n",
            "Test Sample 2343: Mean Prediction = 0.0000, Std Dev = 0.0000\n",
            "Test Sample 2344: Mean Prediction = 0.0000, Std Dev = 0.0000\n",
            "Test Sample 2345: Mean Prediction = 0.0000, Std Dev = 0.0000\n",
            "Test Sample 2346: Mean Prediction = 1.0000, Std Dev = 0.0000\n",
            "Test Sample 2347: Mean Prediction = 0.0000, Std Dev = 0.0000\n",
            "Test Sample 2348: Mean Prediction = 0.0000, Std Dev = 0.0000\n",
            "Test Sample 2349: Mean Prediction = 1.0000, Std Dev = 0.0000\n",
            "Test Sample 2350: Mean Prediction = 0.0000, Std Dev = 0.0000\n",
            "Test Sample 2351: Mean Prediction = 0.0000, Std Dev = 0.0000\n",
            "Test Sample 2352: Mean Prediction = 1.0000, Std Dev = 0.0000\n",
            "Test Sample 2353: Mean Prediction = 1.0000, Std Dev = 0.0000\n",
            "Test Sample 2354: Mean Prediction = 0.0000, Std Dev = 0.0000\n",
            "Test Sample 2355: Mean Prediction = 0.0000, Std Dev = 0.0000\n",
            "Test Sample 2356: Mean Prediction = 1.0000, Std Dev = 0.0000\n",
            "Test Sample 2357: Mean Prediction = 1.0000, Std Dev = 0.0000\n",
            "Test Sample 2358: Mean Prediction = 0.0000, Std Dev = 0.0000\n",
            "Test Sample 2359: Mean Prediction = 0.0000, Std Dev = 0.0000\n",
            "Test Sample 2360: Mean Prediction = 1.0000, Std Dev = 0.0000\n",
            "Test Sample 2361: Mean Prediction = 0.0000, Std Dev = 0.0000\n",
            "Test Sample 2362: Mean Prediction = 0.0000, Std Dev = 0.0000\n",
            "Test Sample 2363: Mean Prediction = 0.0000, Std Dev = 0.0000\n",
            "Test Sample 2364: Mean Prediction = 1.0000, Std Dev = 0.0000\n",
            "Test Sample 2365: Mean Prediction = 1.0000, Std Dev = 0.0000\n",
            "Test Sample 2366: Mean Prediction = 1.0000, Std Dev = 0.0000\n",
            "Test Sample 2367: Mean Prediction = 0.0000, Std Dev = 0.0000\n",
            "Test Sample 2368: Mean Prediction = 0.0000, Std Dev = 0.0000\n",
            "Test Sample 2369: Mean Prediction = 0.0000, Std Dev = 0.0000\n",
            "Test Sample 2370: Mean Prediction = 1.0000, Std Dev = 0.0000\n",
            "Test Sample 2371: Mean Prediction = 1.0000, Std Dev = 0.0000\n",
            "Test Sample 2372: Mean Prediction = 1.0000, Std Dev = 0.0000\n",
            "Test Sample 2373: Mean Prediction = 1.0000, Std Dev = 0.0000\n",
            "Test Sample 2374: Mean Prediction = 0.0000, Std Dev = 0.0000\n",
            "Test Sample 2375: Mean Prediction = 1.0000, Std Dev = 0.0000\n",
            "Test Sample 2376: Mean Prediction = 0.0000, Std Dev = 0.0000\n",
            "Test Sample 2377: Mean Prediction = 1.0000, Std Dev = 0.0000\n",
            "Test Sample 2378: Mean Prediction = 0.0000, Std Dev = 0.0000\n",
            "Test Sample 2379: Mean Prediction = 0.0000, Std Dev = 0.0000\n",
            "Test Sample 2380: Mean Prediction = 1.0000, Std Dev = 0.0000\n",
            "Test Sample 2381: Mean Prediction = 0.0000, Std Dev = 0.0000\n",
            "Test Sample 2382: Mean Prediction = 0.0000, Std Dev = 0.0000\n",
            "Test Sample 2383: Mean Prediction = 1.0000, Std Dev = 0.0000\n",
            "Test Sample 2384: Mean Prediction = 1.0000, Std Dev = 0.0000\n",
            "Test Sample 2385: Mean Prediction = 0.0000, Std Dev = 0.0000\n",
            "Test Sample 2386: Mean Prediction = 0.8000, Std Dev = 0.4000\n",
            "Test Sample 2387: Mean Prediction = 0.0000, Std Dev = 0.0000\n",
            "Test Sample 2388: Mean Prediction = 1.0000, Std Dev = 0.0000\n",
            "Test Sample 2389: Mean Prediction = 0.0000, Std Dev = 0.0000\n",
            "Test Sample 2390: Mean Prediction = 0.0000, Std Dev = 0.0000\n",
            "Test Sample 2391: Mean Prediction = 0.0000, Std Dev = 0.0000\n",
            "Test Sample 2392: Mean Prediction = 0.0000, Std Dev = 0.0000\n",
            "Test Sample 2393: Mean Prediction = 0.0000, Std Dev = 0.0000\n",
            "Test Sample 2394: Mean Prediction = 1.0000, Std Dev = 0.0000\n",
            "Test Sample 2395: Mean Prediction = 1.0000, Std Dev = 0.0000\n",
            "Test Sample 2396: Mean Prediction = 1.0000, Std Dev = 0.0000\n",
            "Test Sample 2397: Mean Prediction = 1.0000, Std Dev = 0.0000\n",
            "Test Sample 2398: Mean Prediction = 1.0000, Std Dev = 0.0000\n",
            "Test Sample 2399: Mean Prediction = 1.0000, Std Dev = 0.0000\n",
            "Test Sample 2400: Mean Prediction = 0.0000, Std Dev = 0.0000\n",
            "Test Sample 2401: Mean Prediction = 0.0000, Std Dev = 0.0000\n",
            "Test Sample 2402: Mean Prediction = 0.0000, Std Dev = 0.0000\n",
            "Test Sample 2403: Mean Prediction = 0.0000, Std Dev = 0.0000\n",
            "Test Sample 2404: Mean Prediction = 1.0000, Std Dev = 0.0000\n",
            "Test Sample 2405: Mean Prediction = 1.0000, Std Dev = 0.0000\n",
            "Test Sample 2406: Mean Prediction = 0.0000, Std Dev = 0.0000\n",
            "Test Sample 2407: Mean Prediction = 1.0000, Std Dev = 0.0000\n",
            "Test Sample 2408: Mean Prediction = 1.0000, Std Dev = 0.0000\n",
            "Test Sample 2409: Mean Prediction = 1.0000, Std Dev = 0.0000\n",
            "Test Sample 2410: Mean Prediction = 0.0000, Std Dev = 0.0000\n",
            "Test Sample 2411: Mean Prediction = 1.0000, Std Dev = 0.0000\n",
            "Test Sample 2412: Mean Prediction = 1.0000, Std Dev = 0.0000\n",
            "Test Sample 2413: Mean Prediction = 1.0000, Std Dev = 0.0000\n",
            "Test Sample 2414: Mean Prediction = 0.0000, Std Dev = 0.0000\n",
            "Test Sample 2415: Mean Prediction = 0.1800, Std Dev = 0.3842\n",
            "Test Sample 2416: Mean Prediction = 1.0000, Std Dev = 0.0000\n",
            "Test Sample 2417: Mean Prediction = 0.0000, Std Dev = 0.0000\n",
            "Test Sample 2418: Mean Prediction = 0.0000, Std Dev = 0.0000\n",
            "Test Sample 2419: Mean Prediction = 1.0000, Std Dev = 0.0000\n",
            "Test Sample 2420: Mean Prediction = 0.0000, Std Dev = 0.0000\n",
            "Test Sample 2421: Mean Prediction = 1.0000, Std Dev = 0.0000\n",
            "Test Sample 2422: Mean Prediction = 1.0000, Std Dev = 0.0000\n",
            "Test Sample 2423: Mean Prediction = 1.0000, Std Dev = 0.0000\n",
            "Test Sample 2424: Mean Prediction = 0.0000, Std Dev = 0.0000\n",
            "Test Sample 2425: Mean Prediction = 1.0000, Std Dev = 0.0000\n",
            "Test Sample 2426: Mean Prediction = 1.0000, Std Dev = 0.0000\n",
            "Test Sample 2427: Mean Prediction = 1.0000, Std Dev = 0.0000\n",
            "Test Sample 2428: Mean Prediction = 0.0000, Std Dev = 0.0000\n",
            "Test Sample 2429: Mean Prediction = 1.0000, Std Dev = 0.0000\n",
            "Test Sample 2430: Mean Prediction = 0.0000, Std Dev = 0.0000\n",
            "Test Sample 2431: Mean Prediction = 0.0000, Std Dev = 0.0000\n",
            "Test Sample 2432: Mean Prediction = 0.0000, Std Dev = 0.0000\n",
            "Test Sample 2433: Mean Prediction = 1.0000, Std Dev = 0.0000\n",
            "Test Sample 2434: Mean Prediction = 1.0000, Std Dev = 0.0000\n",
            "Test Sample 2435: Mean Prediction = 0.0000, Std Dev = 0.0000\n",
            "Test Sample 2436: Mean Prediction = 0.0000, Std Dev = 0.0000\n",
            "Test Sample 2437: Mean Prediction = 1.0000, Std Dev = 0.0000\n",
            "Test Sample 2438: Mean Prediction = 0.0000, Std Dev = 0.0000\n",
            "Test Sample 2439: Mean Prediction = 0.0000, Std Dev = 0.0000\n",
            "Test Sample 2440: Mean Prediction = 1.0000, Std Dev = 0.0000\n",
            "Test Sample 2441: Mean Prediction = 1.0000, Std Dev = 0.0000\n",
            "Test Sample 2442: Mean Prediction = 0.0000, Std Dev = 0.0000\n",
            "Test Sample 2443: Mean Prediction = 0.0000, Std Dev = 0.0000\n",
            "Test Sample 2444: Mean Prediction = 1.0000, Std Dev = 0.0000\n",
            "Test Sample 2445: Mean Prediction = 1.0000, Std Dev = 0.0000\n",
            "Test Sample 2446: Mean Prediction = 1.0000, Std Dev = 0.0000\n",
            "Test Sample 2447: Mean Prediction = 0.0000, Std Dev = 0.0000\n",
            "Test Sample 2448: Mean Prediction = 1.0000, Std Dev = 0.0000\n",
            "Test Sample 2449: Mean Prediction = 1.0000, Std Dev = 0.0000\n",
            "Test Sample 2450: Mean Prediction = 0.0000, Std Dev = 0.0000\n",
            "Test Sample 2451: Mean Prediction = 0.0000, Std Dev = 0.0000\n",
            "Test Sample 2452: Mean Prediction = 0.0000, Std Dev = 0.0000\n",
            "Test Sample 2453: Mean Prediction = 1.0000, Std Dev = 0.0000\n",
            "Test Sample 2454: Mean Prediction = 0.0000, Std Dev = 0.0000\n",
            "Test Sample 2455: Mean Prediction = 1.0000, Std Dev = 0.0000\n",
            "Test Sample 2456: Mean Prediction = 1.0000, Std Dev = 0.0000\n",
            "Test Sample 2457: Mean Prediction = 1.0000, Std Dev = 0.0000\n",
            "Test Sample 2458: Mean Prediction = 1.0000, Std Dev = 0.0000\n",
            "Test Sample 2459: Mean Prediction = 1.0000, Std Dev = 0.0000\n",
            "Test Sample 2460: Mean Prediction = 0.0000, Std Dev = 0.0000\n",
            "Test Sample 2461: Mean Prediction = 0.0000, Std Dev = 0.0000\n",
            "Test Sample 2462: Mean Prediction = 0.0000, Std Dev = 0.0000\n",
            "Test Sample 2463: Mean Prediction = 0.0000, Std Dev = 0.0000\n",
            "Test Sample 2464: Mean Prediction = 1.0000, Std Dev = 0.0000\n",
            "Test Sample 2465: Mean Prediction = 0.0000, Std Dev = 0.0000\n",
            "Test Sample 2466: Mean Prediction = 0.0000, Std Dev = 0.0000\n",
            "Test Sample 2467: Mean Prediction = 0.0000, Std Dev = 0.0000\n",
            "Test Sample 2468: Mean Prediction = 1.0000, Std Dev = 0.0000\n",
            "Test Sample 2469: Mean Prediction = 0.0000, Std Dev = 0.0000\n",
            "Test Sample 2470: Mean Prediction = 0.0000, Std Dev = 0.0000\n",
            "Test Sample 2471: Mean Prediction = 1.0000, Std Dev = 0.0000\n",
            "Test Sample 2472: Mean Prediction = 1.0000, Std Dev = 0.0000\n",
            "Test Sample 2473: Mean Prediction = 1.0000, Std Dev = 0.0000\n",
            "Test Sample 2474: Mean Prediction = 0.0000, Std Dev = 0.0000\n",
            "Test Sample 2475: Mean Prediction = 1.0000, Std Dev = 0.0000\n",
            "Test Sample 2476: Mean Prediction = 0.0000, Std Dev = 0.0000\n",
            "Test Sample 2477: Mean Prediction = 1.0000, Std Dev = 0.0000\n",
            "Test Sample 2478: Mean Prediction = 0.0000, Std Dev = 0.0000\n",
            "Test Sample 2479: Mean Prediction = 0.0000, Std Dev = 0.0000\n",
            "Test Sample 2480: Mean Prediction = 1.0000, Std Dev = 0.0000\n",
            "Test Sample 2481: Mean Prediction = 1.0000, Std Dev = 0.0000\n",
            "Test Sample 2482: Mean Prediction = 0.0000, Std Dev = 0.0000\n",
            "Test Sample 2483: Mean Prediction = 1.0000, Std Dev = 0.0000\n",
            "Average Mean Prediction: 0.4984\n",
            "Average Standard Deviation: 0.0079\n"
          ]
        },
        {
          "output_type": "display_data",
          "data": {
            "text/plain": [
              "<Figure size 1000x600 with 1 Axes>"
            ],
            "image/png": "[encoded data removed]"
          },
          "metadata": {}
        }
      ]
    },
    {
      "cell_type": "code",
      "source": [
        "import numpy as np\n",
        "from sklearn.datasets import load_iris\n",
        "from sklearn.model_selection import train_test_split\n",
        "import xgboost as xgb\n",
        "from sklearn.metrics import accuracy_score\n",
        "\n",
        "# Define the XGBoost model\n",
        "xgb_model = xgb.XGBClassifier(n_estimators=100, random_state=42)\n",
        "\n",
        "# Perform bootstrapping for uncertainty analysis\n",
        "n_bootstraps = 100\n",
        "bootstrap_preds = np.zeros((n_bootstraps, X_test.shape[0]))\n",
        "\n",
        "# Perform bootstrapping\n",
        "for i in range(n_bootstraps):\n",
        "    # Sample with replacement from the training data\n",
        "    X_bootstrap, _, y_bootstrap, _ = train_test_split(X_train, y_train, test_size=0.3, random_state=i)\n",
        "\n",
        "    # Re-fit the XGBoost model on the bootstrapped dataset\n",
        "    xgb_model.fit(X_bootstrap, y_bootstrap)\n",
        "\n",
        "    # Get predictions for the test set\n",
        "    bootstrap_preds[i] = xgb_model.predict(X_test)\n",
        "\n",
        "# Calculate the mean and standard deviation of predictions\n",
        "mean_preds = np.mean(bootstrap_preds, axis=0)  # Mean predictions\n",
        "std_preds = np.std(bootstrap_preds, axis=0)    # Standard deviation (uncertainty) of predictions\n",
        "\n",
        "# Calculate the overall average of mean predictions and standard deviations\n",
        "average_mean_prediction = np.mean(mean_preds)\n",
        "average_std_deviation = np.mean(std_preds)\n",
        "\n",
        "# Display the overall averages\n",
        "print(f\"Average Mean Prediction: {average_mean_prediction:.4f}\")\n",
        "print(f\"Average Standard Deviation: {average_std_deviation:.4f}\")\n",
        "\n",
        "# Visualize the uncertainty (standard deviation) as a bar plot\n",
        "plt.figure(figsize=(10, 6))\n",
        "plt.bar(range(len(std_preds)), std_preds, alpha=0.7, label=\"XGBoost Uncertainty (Std Dev)\")\n",
        "plt.title(\"Uncertainty in XGBoost Predictions (Standard Deviation)\")\n",
        "plt.ylabel(\"Standard Deviation of Predictions\")\n",
        "plt.xlabel(\"Test Samples\")\n",
        "plt.legend()\n",
        "plt.show()"
      ],
      "metadata": {
        "colab": {
          "base_uri": "https://localhost:8080/",
          "height": 599
        },
        "id": "qdn_yObgQvFE",
        "outputId": "11b320cc-6243-4f6b-c2bb-513cf2fe4c56"
      },
      "execution_count": null,
      "outputs": [
        {
          "output_type": "stream",
          "name": "stdout",
          "text": [
            "Average Mean Prediction: 0.4982\n",
            "Average Standard Deviation: 0.0100\n"
          ]
        },
        {
          "output_type": "display_data",
          "data": {
            "text/plain": [
              "<Figure size 1000x600 with 1 Axes>"
            ],
            "image/png": "[encoded data removed]"
          },
          "metadata": {}
        }
      ]
    },
    {
      "cell_type": "code",
      "source": [
        "pip install tensorflow"
      ],
      "metadata": {
        "colab": {
          "base_uri": "https://localhost:8080/"
        },
        "id": "JRjLcDifSx_I",
        "outputId": "21435498-5284-4ca1-f82d-95aa9ea46e2a"
      },
      "execution_count": null,
      "outputs": [
        {
          "output_type": "stream",
          "name": "stdout",
          "text": [
            "Requirement already satisfied: tensorflow in /usr/local/lib/python3.10/dist-packages (2.17.1)\n",
            "Requirement already satisfied: absl-py>=1.0.0 in /usr/local/lib/python3.10/dist-packages (from tensorflow) (1.4.0)\n",
            "Requirement already satisfied: astunparse>=1.6.0 in /usr/local/lib/python3.10/dist-packages (from tensorflow) (1.6.3)\n",
            "Requirement already satisfied: flatbuffers>=24.3.25 in /usr/local/lib/python3.10/dist-packages (from tensorflow) (24.3.25)\n",
            "Requirement already satisfied: gast!=0.5.0,!=0.5.1,!=0.5.2,>=0.2.1 in /usr/local/lib/python3.10/dist-packages (from tensorflow) (0.6.0)\n",
            "Requirement already satisfied: google-pasta>=0.1.1 in /usr/local/lib/python3.10/dist-packages (from tensorflow) (0.2.0)\n",
            "Requirement already satisfied: h5py>=3.10.0 in /usr/local/lib/python3.10/dist-packages (from tensorflow) (3.12.1)\n",
            "Requirement already satisfied: libclang>=13.0.0 in /usr/local/lib/python3.10/dist-packages (from tensorflow) (18.1.1)\n",
            "Requirement already satisfied: ml-dtypes<0.5.0,>=0.3.1 in /usr/local/lib/python3.10/dist-packages (from tensorflow) (0.4.1)\n",
            "Requirement already satisfied: opt-einsum>=2.3.2 in /usr/local/lib/python3.10/dist-packages (from tensorflow) (3.4.0)\n",
            "Requirement already satisfied: packaging in /usr/local/lib/python3.10/dist-packages (from tensorflow) (24.2)\n",
            "Requirement already satisfied: protobuf!=4.21.0,!=4.21.1,!=4.21.2,!=4.21.3,!=4.21.4,!=4.21.5,<5.0.0dev,>=3.20.3 in /usr/local/lib/python3.10/dist-packages (from tensorflow) (4.25.5)\n",
            "Requirement already satisfied: requests<3,>=2.21.0 in /usr/local/lib/python3.10/dist-packages (from tensorflow) (2.32.3)\n",
            "Requirement already satisfied: setuptools in /usr/local/lib/python3.10/dist-packages (from tensorflow) (75.1.0)\n",
            "Requirement already satisfied: six>=1.12.0 in /usr/local/lib/python3.10/dist-packages (from tensorflow) (1.16.0)\n",
            "Requirement already satisfied: termcolor>=1.1.0 in /usr/local/lib/python3.10/dist-packages (from tensorflow) (2.5.0)\n",
            "Requirement already satisfied: typing-extensions>=3.6.6 in /usr/local/lib/python3.10/dist-packages (from tensorflow) (4.12.2)\n",
            "Requirement already satisfied: wrapt>=1.11.0 in /usr/local/lib/python3.10/dist-packages (from tensorflow) (1.16.0)\n",
            "Requirement already satisfied: grpcio<2.0,>=1.24.3 in /usr/local/lib/python3.10/dist-packages (from tensorflow) (1.67.1)\n",
            "Requirement already satisfied: tensorboard<2.18,>=2.17 in /usr/local/lib/python3.10/dist-packages (from tensorflow) (2.17.1)\n",
            "Requirement already satisfied: keras>=3.2.0 in /usr/local/lib/python3.10/dist-packages (from tensorflow) (3.5.0)\n",
            "Requirement already satisfied: tensorflow-io-gcs-filesystem>=0.23.1 in /usr/local/lib/python3.10/dist-packages (from tensorflow) (0.37.1)\n",
            "Requirement already satisfied: numpy<2.0.0,>=1.23.5 in /usr/local/lib/python3.10/dist-packages (from tensorflow) (1.26.4)\n",
            "Requirement already satisfied: wheel<1.0,>=0.23.0 in /usr/local/lib/python3.10/dist-packages (from astunparse>=1.6.0->tensorflow) (0.45.0)\n",
            "Requirement already satisfied: rich in /usr/local/lib/python3.10/dist-packages (from keras>=3.2.0->tensorflow) (13.9.4)\n",
            "Requirement already satisfied: namex in /usr/local/lib/python3.10/dist-packages (from keras>=3.2.0->tensorflow) (0.0.8)\n",
            "Requirement already satisfied: optree in /usr/local/lib/python3.10/dist-packages (from keras>=3.2.0->tensorflow) (0.13.1)\n",
            "Requirement already satisfied: charset-normalizer<4,>=2 in /usr/local/lib/python3.10/dist-packages (from requests<3,>=2.21.0->tensorflow) (3.4.0)\n",
            "Requirement already satisfied: idna<4,>=2.5 in /usr/local/lib/python3.10/dist-packages (from requests<3,>=2.21.0->tensorflow) (3.10)\n",
            "Requirement already satisfied: urllib3<3,>=1.21.1 in /usr/local/lib/python3.10/dist-packages (from requests<3,>=2.21.0->tensorflow) (2.2.3)\n",
            "Requirement already satisfied: certifi>=2017.4.17 in /usr/local/lib/python3.10/dist-packages (from requests<3,>=2.21.0->tensorflow) (2024.8.30)\n",
            "Requirement already satisfied: markdown>=2.6.8 in /usr/local/lib/python3.10/dist-packages (from tensorboard<2.18,>=2.17->tensorflow) (3.7)\n",
            "Requirement already satisfied: tensorboard-data-server<0.8.0,>=0.7.0 in /usr/local/lib/python3.10/dist-packages (from tensorboard<2.18,>=2.17->tensorflow) (0.7.2)\n",
            "Requirement already satisfied: werkzeug>=1.0.1 in /usr/local/lib/python3.10/dist-packages (from tensorboard<2.18,>=2.17->tensorflow) (3.1.3)\n",
            "Requirement already satisfied: MarkupSafe>=2.1.1 in /usr/local/lib/python3.10/dist-packages (from werkzeug>=1.0.1->tensorboard<2.18,>=2.17->tensorflow) (3.0.2)\n",
            "Requirement already satisfied: markdown-it-py>=2.2.0 in /usr/local/lib/python3.10/dist-packages (from rich->keras>=3.2.0->tensorflow) (3.0.0)\n",
            "Requirement already satisfied: pygments<3.0.0,>=2.13.0 in /usr/local/lib/python3.10/dist-packages (from rich->keras>=3.2.0->tensorflow) (2.18.0)\n",
            "Requirement already satisfied: mdurl~=0.1 in /usr/local/lib/python3.10/dist-packages (from markdown-it-py>=2.2.0->rich->keras>=3.2.0->tensorflow) (0.1.2)\n"
          ]
        }
      ]
    },
    {
      "cell_type": "code",
      "source": [
        "pip install tensorflow keras"
      ],
      "metadata": {
        "colab": {
          "base_uri": "https://localhost:8080/"
        },
        "id": "mSS5TDSYTm7K",
        "outputId": "f9b6f210-fdd7-4d0e-ef75-783d5c1079fa"
      },
      "execution_count": null,
      "outputs": [
        {
          "output_type": "stream",
          "name": "stdout",
          "text": [
            "Requirement already satisfied: tensorflow in /usr/local/lib/python3.10/dist-packages (2.17.1)\n",
            "Requirement already satisfied: keras in /usr/local/lib/python3.10/dist-packages (3.5.0)\n",
            "Requirement already satisfied: absl-py>=1.0.0 in /usr/local/lib/python3.10/dist-packages (from tensorflow) (1.4.0)\n",
            "Requirement already satisfied: astunparse>=1.6.0 in /usr/local/lib/python3.10/dist-packages (from tensorflow) (1.6.3)\n",
            "Requirement already satisfied: flatbuffers>=24.3.25 in /usr/local/lib/python3.10/dist-packages (from tensorflow) (24.3.25)\n",
            "Requirement already satisfied: gast!=0.5.0,!=0.5.1,!=0.5.2,>=0.2.1 in /usr/local/lib/python3.10/dist-packages (from tensorflow) (0.6.0)\n",
            "Requirement already satisfied: google-pasta>=0.1.1 in /usr/local/lib/python3.10/dist-packages (from tensorflow) (0.2.0)\n",
            "Requirement already satisfied: h5py>=3.10.0 in /usr/local/lib/python3.10/dist-packages (from tensorflow) (3.12.1)\n",
            "Requirement already satisfied: libclang>=13.0.0 in /usr/local/lib/python3.10/dist-packages (from tensorflow) (18.1.1)\n",
            "Requirement already satisfied: ml-dtypes<0.5.0,>=0.3.1 in /usr/local/lib/python3.10/dist-packages (from tensorflow) (0.4.1)\n",
            "Requirement already satisfied: opt-einsum>=2.3.2 in /usr/local/lib/python3.10/dist-packages (from tensorflow) (3.4.0)\n",
            "Requirement already satisfied: packaging in /usr/local/lib/python3.10/dist-packages (from tensorflow) (24.2)\n",
            "Requirement already satisfied: protobuf!=4.21.0,!=4.21.1,!=4.21.2,!=4.21.3,!=4.21.4,!=4.21.5,<5.0.0dev,>=3.20.3 in /usr/local/lib/python3.10/dist-packages (from tensorflow) (4.25.5)\n",
            "Requirement already satisfied: requests<3,>=2.21.0 in /usr/local/lib/python3.10/dist-packages (from tensorflow) (2.32.3)\n",
            "Requirement already satisfied: setuptools in /usr/local/lib/python3.10/dist-packages (from tensorflow) (75.1.0)\n",
            "Requirement already satisfied: six>=1.12.0 in /usr/local/lib/python3.10/dist-packages (from tensorflow) (1.16.0)\n",
            "Requirement already satisfied: termcolor>=1.1.0 in /usr/local/lib/python3.10/dist-packages (from tensorflow) (2.5.0)\n",
            "Requirement already satisfied: typing-extensions>=3.6.6 in /usr/local/lib/python3.10/dist-packages (from tensorflow) (4.12.2)\n",
            "Requirement already satisfied: wrapt>=1.11.0 in /usr/local/lib/python3.10/dist-packages (from tensorflow) (1.16.0)\n",
            "Requirement already satisfied: grpcio<2.0,>=1.24.3 in /usr/local/lib/python3.10/dist-packages (from tensorflow) (1.67.1)\n",
            "Requirement already satisfied: tensorboard<2.18,>=2.17 in /usr/local/lib/python3.10/dist-packages (from tensorflow) (2.17.1)\n",
            "Requirement already satisfied: tensorflow-io-gcs-filesystem>=0.23.1 in /usr/local/lib/python3.10/dist-packages (from tensorflow) (0.37.1)\n",
            "Requirement already satisfied: numpy<2.0.0,>=1.23.5 in /usr/local/lib/python3.10/dist-packages (from tensorflow) (1.26.4)\n",
            "Requirement already satisfied: rich in /usr/local/lib/python3.10/dist-packages (from keras) (13.9.4)\n",
            "Requirement already satisfied: namex in /usr/local/lib/python3.10/dist-packages (from keras) (0.0.8)\n",
            "Requirement already satisfied: optree in /usr/local/lib/python3.10/dist-packages (from keras) (0.13.1)\n",
            "Requirement already satisfied: wheel<1.0,>=0.23.0 in /usr/local/lib/python3.10/dist-packages (from astunparse>=1.6.0->tensorflow) (0.45.0)\n",
            "Requirement already satisfied: charset-normalizer<4,>=2 in /usr/local/lib/python3.10/dist-packages (from requests<3,>=2.21.0->tensorflow) (3.4.0)\n",
            "Requirement already satisfied: idna<4,>=2.5 in /usr/local/lib/python3.10/dist-packages (from requests<3,>=2.21.0->tensorflow) (3.10)\n",
            "Requirement already satisfied: urllib3<3,>=1.21.1 in /usr/local/lib/python3.10/dist-packages (from requests<3,>=2.21.0->tensorflow) (2.2.3)\n",
            "Requirement already satisfied: certifi>=2017.4.17 in /usr/local/lib/python3.10/dist-packages (from requests<3,>=2.21.0->tensorflow) (2024.8.30)\n",
            "Requirement already satisfied: markdown>=2.6.8 in /usr/local/lib/python3.10/dist-packages (from tensorboard<2.18,>=2.17->tensorflow) (3.7)\n",
            "Requirement already satisfied: tensorboard-data-server<0.8.0,>=0.7.0 in /usr/local/lib/python3.10/dist-packages (from tensorboard<2.18,>=2.17->tensorflow) (0.7.2)\n",
            "Requirement already satisfied: werkzeug>=1.0.1 in /usr/local/lib/python3.10/dist-packages (from tensorboard<2.18,>=2.17->tensorflow) (3.1.3)\n",
            "Requirement already satisfied: markdown-it-py>=2.2.0 in /usr/local/lib/python3.10/dist-packages (from rich->keras) (3.0.0)\n",
            "Requirement already satisfied: pygments<3.0.0,>=2.13.0 in /usr/local/lib/python3.10/dist-packages (from rich->keras) (2.18.0)\n",
            "Requirement already satisfied: mdurl~=0.1 in /usr/local/lib/python3.10/dist-packages (from markdown-it-py>=2.2.0->rich->keras) (0.1.2)\n",
            "Requirement already satisfied: MarkupSafe>=2.1.1 in /usr/local/lib/python3.10/dist-packages (from werkzeug>=1.0.1->tensorboard<2.18,>=2.17->tensorflow) (3.0.2)\n"
          ]
        }
      ]
    },
    {
      "cell_type": "code",
      "source": [
        "pip install tensorflow keras"
      ],
      "metadata": {
        "colab": {
          "base_uri": "https://localhost:8080/"
        },
        "id": "3XmRj-yjW-yo",
        "outputId": "cde9b3b6-6d6d-4e57-a87d-213369835a01"
      },
      "execution_count": null,
      "outputs": [
        {
          "output_type": "stream",
          "name": "stdout",
          "text": [
            "Requirement already satisfied: tensorflow in /usr/local/lib/python3.10/dist-packages (2.17.1)\n",
            "Requirement already satisfied: keras in /usr/local/lib/python3.10/dist-packages (3.5.0)\n",
            "Requirement already satisfied: absl-py>=1.0.0 in /usr/local/lib/python3.10/dist-packages (from tensorflow) (1.4.0)\n",
            "Requirement already satisfied: astunparse>=1.6.0 in /usr/local/lib/python3.10/dist-packages (from tensorflow) (1.6.3)\n",
            "Requirement already satisfied: flatbuffers>=24.3.25 in /usr/local/lib/python3.10/dist-packages (from tensorflow) (24.3.25)\n",
            "Requirement already satisfied: gast!=0.5.0,!=0.5.1,!=0.5.2,>=0.2.1 in /usr/local/lib/python3.10/dist-packages (from tensorflow) (0.6.0)\n",
            "Requirement already satisfied: google-pasta>=0.1.1 in /usr/local/lib/python3.10/dist-packages (from tensorflow) (0.2.0)\n",
            "Requirement already satisfied: h5py>=3.10.0 in /usr/local/lib/python3.10/dist-packages (from tensorflow) (3.12.1)\n",
            "Requirement already satisfied: libclang>=13.0.0 in /usr/local/lib/python3.10/dist-packages (from tensorflow) (18.1.1)\n",
            "Requirement already satisfied: ml-dtypes<0.5.0,>=0.3.1 in /usr/local/lib/python3.10/dist-packages (from tensorflow) (0.4.1)\n",
            "Requirement already satisfied: opt-einsum>=2.3.2 in /usr/local/lib/python3.10/dist-packages (from tensorflow) (3.4.0)\n",
            "Requirement already satisfied: packaging in /usr/local/lib/python3.10/dist-packages (from tensorflow) (24.2)\n",
            "Requirement already satisfied: protobuf!=4.21.0,!=4.21.1,!=4.21.2,!=4.21.3,!=4.21.4,!=4.21.5,<5.0.0dev,>=3.20.3 in /usr/local/lib/python3.10/dist-packages (from tensorflow) (4.25.5)\n",
            "Requirement already satisfied: requests<3,>=2.21.0 in /usr/local/lib/python3.10/dist-packages (from tensorflow) (2.32.3)\n",
            "Requirement already satisfied: setuptools in /usr/local/lib/python3.10/dist-packages (from tensorflow) (75.1.0)\n",
            "Requirement already satisfied: six>=1.12.0 in /usr/local/lib/python3.10/dist-packages (from tensorflow) (1.16.0)\n",
            "Requirement already satisfied: termcolor>=1.1.0 in /usr/local/lib/python3.10/dist-packages (from tensorflow) (2.5.0)\n",
            "Requirement already satisfied: typing-extensions>=3.6.6 in /usr/local/lib/python3.10/dist-packages (from tensorflow) (4.12.2)\n",
            "Requirement already satisfied: wrapt>=1.11.0 in /usr/local/lib/python3.10/dist-packages (from tensorflow) (1.16.0)\n",
            "Requirement already satisfied: grpcio<2.0,>=1.24.3 in /usr/local/lib/python3.10/dist-packages (from tensorflow) (1.67.1)\n",
            "Requirement already satisfied: tensorboard<2.18,>=2.17 in /usr/local/lib/python3.10/dist-packages (from tensorflow) (2.17.1)\n",
            "Requirement already satisfied: tensorflow-io-gcs-filesystem>=0.23.1 in /usr/local/lib/python3.10/dist-packages (from tensorflow) (0.37.1)\n",
            "Requirement already satisfied: numpy<2.0.0,>=1.23.5 in /usr/local/lib/python3.10/dist-packages (from tensorflow) (1.26.4)\n",
            "Requirement already satisfied: rich in /usr/local/lib/python3.10/dist-packages (from keras) (13.9.4)\n",
            "Requirement already satisfied: namex in /usr/local/lib/python3.10/dist-packages (from keras) (0.0.8)\n",
            "Requirement already satisfied: optree in /usr/local/lib/python3.10/dist-packages (from keras) (0.13.1)\n",
            "Requirement already satisfied: wheel<1.0,>=0.23.0 in /usr/local/lib/python3.10/dist-packages (from astunparse>=1.6.0->tensorflow) (0.45.0)\n",
            "Requirement already satisfied: charset-normalizer<4,>=2 in /usr/local/lib/python3.10/dist-packages (from requests<3,>=2.21.0->tensorflow) (3.4.0)\n",
            "Requirement already satisfied: idna<4,>=2.5 in /usr/local/lib/python3.10/dist-packages (from requests<3,>=2.21.0->tensorflow) (3.10)\n",
            "Requirement already satisfied: urllib3<3,>=1.21.1 in /usr/local/lib/python3.10/dist-packages (from requests<3,>=2.21.0->tensorflow) (2.2.3)\n",
            "Requirement already satisfied: certifi>=2017.4.17 in /usr/local/lib/python3.10/dist-packages (from requests<3,>=2.21.0->tensorflow) (2024.8.30)\n",
            "Requirement already satisfied: markdown>=2.6.8 in /usr/local/lib/python3.10/dist-packages (from tensorboard<2.18,>=2.17->tensorflow) (3.7)\n",
            "Requirement already satisfied: tensorboard-data-server<0.8.0,>=0.7.0 in /usr/local/lib/python3.10/dist-packages (from tensorboard<2.18,>=2.17->tensorflow) (0.7.2)\n",
            "Requirement already satisfied: werkzeug>=1.0.1 in /usr/local/lib/python3.10/dist-packages (from tensorboard<2.18,>=2.17->tensorflow) (3.1.3)\n",
            "Requirement already satisfied: markdown-it-py>=2.2.0 in /usr/local/lib/python3.10/dist-packages (from rich->keras) (3.0.0)\n",
            "Requirement already satisfied: pygments<3.0.0,>=2.13.0 in /usr/local/lib/python3.10/dist-packages (from rich->keras) (2.18.0)\n",
            "Requirement already satisfied: mdurl~=0.1 in /usr/local/lib/python3.10/dist-packages (from markdown-it-py>=2.2.0->rich->keras) (0.1.2)\n",
            "Requirement already satisfied: MarkupSafe>=2.1.1 in /usr/local/lib/python3.10/dist-packages (from werkzeug>=1.0.1->tensorboard<2.18,>=2.17->tensorflow) (3.0.2)\n"
          ]
        }
      ]
    },
    {
      "cell_type": "code",
      "source": [
        "pip install --upgrade tensorflow"
      ],
      "metadata": {
        "colab": {
          "base_uri": "https://localhost:8080/"
        },
        "id": "Ea4ly5lnXnFb",
        "outputId": "5b4f8e5f-6070-4d0b-e624-be015930e43e"
      },
      "execution_count": null,
      "outputs": [
        {
          "output_type": "stream",
          "name": "stdout",
          "text": [
            "Requirement already satisfied: tensorflow in /usr/local/lib/python3.10/dist-packages (2.18.0)\n",
            "Requirement already satisfied: absl-py>=1.0.0 in /usr/local/lib/python3.10/dist-packages (from tensorflow) (1.4.0)\n",
            "Requirement already satisfied: astunparse>=1.6.0 in /usr/local/lib/python3.10/dist-packages (from tensorflow) (1.6.3)\n",
            "Requirement already satisfied: flatbuffers>=24.3.25 in /usr/local/lib/python3.10/dist-packages (from tensorflow) (24.3.25)\n",
            "Requirement already satisfied: gast!=0.5.0,!=0.5.1,!=0.5.2,>=0.2.1 in /usr/local/lib/python3.10/dist-packages (from tensorflow) (0.6.0)\n",
            "Requirement already satisfied: google-pasta>=0.1.1 in /usr/local/lib/python3.10/dist-packages (from tensorflow) (0.2.0)\n",
            "Requirement already satisfied: libclang>=13.0.0 in /usr/local/lib/python3.10/dist-packages (from tensorflow) (18.1.1)\n",
            "Requirement already satisfied: opt-einsum>=2.3.2 in /usr/local/lib/python3.10/dist-packages (from tensorflow) (3.4.0)\n",
            "Requirement already satisfied: packaging in /usr/local/lib/python3.10/dist-packages (from tensorflow) (24.2)\n",
            "Requirement already satisfied: protobuf!=4.21.0,!=4.21.1,!=4.21.2,!=4.21.3,!=4.21.4,!=4.21.5,<6.0.0dev,>=3.20.3 in /usr/local/lib/python3.10/dist-packages (from tensorflow) (4.25.5)\n",
            "Requirement already satisfied: requests<3,>=2.21.0 in /usr/local/lib/python3.10/dist-packages (from tensorflow) (2.32.3)\n",
            "Requirement already satisfied: setuptools in /usr/local/lib/python3.10/dist-packages (from tensorflow) (75.1.0)\n",
            "Requirement already satisfied: six>=1.12.0 in /usr/local/lib/python3.10/dist-packages (from tensorflow) (1.16.0)\n",
            "Requirement already satisfied: termcolor>=1.1.0 in /usr/local/lib/python3.10/dist-packages (from tensorflow) (2.5.0)\n",
            "Requirement already satisfied: typing-extensions>=3.6.6 in /usr/local/lib/python3.10/dist-packages (from tensorflow) (4.12.2)\n",
            "Requirement already satisfied: wrapt>=1.11.0 in /usr/local/lib/python3.10/dist-packages (from tensorflow) (1.16.0)\n",
            "Requirement already satisfied: grpcio<2.0,>=1.24.3 in /usr/local/lib/python3.10/dist-packages (from tensorflow) (1.67.1)\n",
            "Requirement already satisfied: tensorboard<2.19,>=2.18 in /usr/local/lib/python3.10/dist-packages (from tensorflow) (2.18.0)\n",
            "Requirement already satisfied: keras>=3.5.0 in /usr/local/lib/python3.10/dist-packages (from tensorflow) (3.5.0)\n",
            "Requirement already satisfied: numpy<2.1.0,>=1.26.0 in /usr/local/lib/python3.10/dist-packages (from tensorflow) (1.26.4)\n",
            "Requirement already satisfied: h5py>=3.11.0 in /usr/local/lib/python3.10/dist-packages (from tensorflow) (3.12.1)\n",
            "Requirement already satisfied: ml-dtypes<0.5.0,>=0.4.0 in /usr/local/lib/python3.10/dist-packages (from tensorflow) (0.4.1)\n",
            "Requirement already satisfied: tensorflow-io-gcs-filesystem>=0.23.1 in /usr/local/lib/python3.10/dist-packages (from tensorflow) (0.37.1)\n",
            "Requirement already satisfied: wheel<1.0,>=0.23.0 in /usr/local/lib/python3.10/dist-packages (from astunparse>=1.6.0->tensorflow) (0.45.0)\n",
            "Requirement already satisfied: rich in /usr/local/lib/python3.10/dist-packages (from keras>=3.5.0->tensorflow) (13.9.4)\n",
            "Requirement already satisfied: namex in /usr/local/lib/python3.10/dist-packages (from keras>=3.5.0->tensorflow) (0.0.8)\n",
            "Requirement already satisfied: optree in /usr/local/lib/python3.10/dist-packages (from keras>=3.5.0->tensorflow) (0.13.1)\n",
            "Requirement already satisfied: charset-normalizer<4,>=2 in /usr/local/lib/python3.10/dist-packages (from requests<3,>=2.21.0->tensorflow) (3.4.0)\n",
            "Requirement already satisfied: idna<4,>=2.5 in /usr/local/lib/python3.10/dist-packages (from requests<3,>=2.21.0->tensorflow) (3.10)\n",
            "Requirement already satisfied: urllib3<3,>=1.21.1 in /usr/local/lib/python3.10/dist-packages (from requests<3,>=2.21.0->tensorflow) (2.2.3)\n",
            "Requirement already satisfied: certifi>=2017.4.17 in /usr/local/lib/python3.10/dist-packages (from requests<3,>=2.21.0->tensorflow) (2024.8.30)\n",
            "Requirement already satisfied: markdown>=2.6.8 in /usr/local/lib/python3.10/dist-packages (from tensorboard<2.19,>=2.18->tensorflow) (3.7)\n",
            "Requirement already satisfied: tensorboard-data-server<0.8.0,>=0.7.0 in /usr/local/lib/python3.10/dist-packages (from tensorboard<2.19,>=2.18->tensorflow) (0.7.2)\n",
            "Requirement already satisfied: werkzeug>=1.0.1 in /usr/local/lib/python3.10/dist-packages (from tensorboard<2.19,>=2.18->tensorflow) (3.1.3)\n",
            "Requirement already satisfied: MarkupSafe>=2.1.1 in /usr/local/lib/python3.10/dist-packages (from werkzeug>=1.0.1->tensorboard<2.19,>=2.18->tensorflow) (3.0.2)\n",
            "Requirement already satisfied: markdown-it-py>=2.2.0 in /usr/local/lib/python3.10/dist-packages (from rich->keras>=3.5.0->tensorflow) (3.0.0)\n",
            "Requirement already satisfied: pygments<3.0.0,>=2.13.0 in /usr/local/lib/python3.10/dist-packages (from rich->keras>=3.5.0->tensorflow) (2.18.0)\n",
            "Requirement already satisfied: mdurl~=0.1 in /usr/local/lib/python3.10/dist-packages (from markdown-it-py>=2.2.0->rich->keras>=3.5.0->tensorflow) (0.1.2)\n"
          ]
        }
      ]
    },
    {
      "cell_type": "code",
      "source": [
        "import tensorflow as tf\n",
        "print(tf.__version__)  # Ensure it's 2.x or above"
      ],
      "metadata": {
        "colab": {
          "base_uri": "https://localhost:8080/"
        },
        "id": "kJqbjrp5Xrnr",
        "outputId": "dabf4509-7592-4f7a-ff32-a3aa6457c9d2"
      },
      "execution_count": null,
      "outputs": [
        {
          "output_type": "stream",
          "name": "stdout",
          "text": [
            "2.18.0\n"
          ]
        }
      ]
    },
    {
      "cell_type": "code",
      "source": [
        "import numpy as np\n",
        "from sklearn.datasets import load_iris\n",
        "from sklearn.model_selection import train_test_split\n",
        "from sklearn.metrics import accuracy_score\n",
        "from tensorflow.keras.models import Sequential\n",
        "from tensorflow.keras.layers import Dense\n",
        "#from tensorflow.keras.wrappers.scikit_learn import KerasClassifier  # Correct import\n",
        "\n",
        "# Define the neural network model\n",
        "def create_model():\n",
        "    model = Sequential()\n",
        "    model.add(Dense(units=128, activation='relu', input_shape=(X_train.shape[1],)))\n",
        "    model.add(Dense(units=128, activation='relu'))\n",
        "    model.add(Dense(units=1, activation='sigmoid'))\n",
        "    model.compile(optimizer='adam', loss='binary_crossentropy', metrics=['accuracy'])\n",
        "    return model\n",
        "\n",
        "# Initialize the model\n",
        "best_nn = create_model()\n",
        "\n",
        "# Train the model\n",
        "nn_model = best_nn.fit(X_train, y_train, epochs=10, batch_size=64, verbose=1)\n",
        "\n",
        "# Perform bootstrapping for uncertainty analysis\n",
        "n_bootstraps = 100\n",
        "bootstrap_preds = np.zeros((n_bootstraps, X_test.shape[0]))\n",
        "\n",
        "for i in range(n_bootstraps):\n",
        "    # Sample with replacement from the training data\n",
        "    X_bootstrap, _, y_bootstrap, _ = train_test_split(X_train, y_train, test_size=0.3, random_state=i)\n",
        "\n",
        "    # Fit the neural network on the bootstrapped dataset\n",
        "    nn_model.fit(X_bootstrap, y_bootstrap)\n",
        "\n",
        "    # Get predictions for the test set\n",
        "    bootstrap_preds[i] = nn_model.predict(X_test).flatten()\n",
        "\n",
        "# Calculate the mean and standard deviation of predictions\n",
        "mean_preds = np.mean(bootstrap_preds, axis=0)  # Mean predictions\n",
        "std_preds = np.std(bootstrap_preds, axis=0)    # Standard deviation (uncertainty) of predictions\n",
        "\n",
        "# Calculate the overall average of mean predictions and standard deviations\n",
        "average_mean_prediction = np.mean(mean_preds)\n",
        "average_std_deviation = np.mean(std_preds)\n",
        "\n",
        "# Display the overall averages\n",
        "print(f\"Average Mean Prediction: {average_mean_prediction:.4f}\")\n",
        "print(f\"Average Standard Deviation: {average_std_deviation:.4f}\")"
      ],
      "metadata": {
        "colab": {
          "base_uri": "https://localhost:8080/",
          "height": 612
        },
        "id": "Yu-5tDs1X0pX",
        "outputId": "86ec5b32-e81b-480b-fe85-90b78063c841"
      },
      "execution_count": null,
      "outputs": [
        {
          "output_type": "stream",
          "name": "stdout",
          "text": [
            "Epoch 1/10\n"
          ]
        },
        {
          "output_type": "stream",
          "name": "stderr",
          "text": [
            "/usr/local/lib/python3.10/dist-packages/keras/src/layers/core/dense.py:87: UserWarning: Do not pass an `input_shape`/`input_dim` argument to a layer. When using Sequential models, prefer using an `Input(shape)` object as the first layer in the model instead.\n",
            "  super().__init__(activity_regularizer=activity_regularizer, **kwargs)\n"
          ]
        },
        {
          "output_type": "stream",
          "name": "stdout",
          "text": [
            "\u001b[1m156/156\u001b[0m \u001b[32m━━━━━━━━━━━━━━━━━━━━\u001b[0m\u001b[37m\u001b[0m \u001b[1m2s\u001b[0m 3ms/step - accuracy: 0.5794 - loss: 12160.6758\n",
            "Epoch 2/10\n",
            "\u001b[1m156/156\u001b[0m \u001b[32m━━━━━━━━━━━━━━━━━━━━\u001b[0m\u001b[37m\u001b[0m \u001b[1m1s\u001b[0m 3ms/step - accuracy: 0.5991 - loss: 12668.9531\n",
            "Epoch 3/10\n",
            "\u001b[1m156/156\u001b[0m \u001b[32m━━━━━━━━━━━━━━━━━━━━\u001b[0m\u001b[37m\u001b[0m \u001b[1m0s\u001b[0m 3ms/step - accuracy: 0.6536 - loss: 17174.7129\n",
            "Epoch 4/10\n",
            "\u001b[1m156/156\u001b[0m \u001b[32m━━━━━━━━━━━━━━━━━━━━\u001b[0m\u001b[37m\u001b[0m \u001b[1m1s\u001b[0m 2ms/step - accuracy: 0.6310 - loss: 28953.6113\n",
            "Epoch 5/10\n",
            "\u001b[1m156/156\u001b[0m \u001b[32m━━━━━━━━━━━━━━━━━━━━\u001b[0m\u001b[37m\u001b[0m \u001b[1m1s\u001b[0m 3ms/step - accuracy: 0.6768 - loss: 21580.2031\n",
            "Epoch 6/10\n",
            "\u001b[1m156/156\u001b[0m \u001b[32m━━━━━━━━━━━━━━━━━━━━\u001b[0m\u001b[37m\u001b[0m \u001b[1m0s\u001b[0m 2ms/step - accuracy: 0.6871 - loss: 15451.2412\n",
            "Epoch 7/10\n",
            "\u001b[1m156/156\u001b[0m \u001b[32m━━━━━━━━━━━━━━━━━━━━\u001b[0m\u001b[37m\u001b[0m \u001b[1m0s\u001b[0m 2ms/step - accuracy: 0.7118 - loss: 12377.2812\n",
            "Epoch 8/10\n",
            "\u001b[1m156/156\u001b[0m \u001b[32m━━━━━━━━━━━━━━━━━━━━\u001b[0m\u001b[37m\u001b[0m \u001b[1m0s\u001b[0m 2ms/step - accuracy: 0.6703 - loss: 162569.5781\n",
            "Epoch 9/10\n",
            "\u001b[1m156/156\u001b[0m \u001b[32m━━━━━━━━━━━━━━━━━━━━\u001b[0m\u001b[37m\u001b[0m \u001b[1m1s\u001b[0m 2ms/step - accuracy: 0.6944 - loss: 55344.5156\n",
            "Epoch 10/10\n",
            "\u001b[1m156/156\u001b[0m \u001b[32m━━━━━━━━━━━━━━━━━━━━\u001b[0m\u001b[37m\u001b[0m \u001b[1m0s\u001b[0m 2ms/step - accuracy: 0.6729 - loss: 180227.8438\n"
          ]
        },
        {
          "output_type": "error",
          "ename": "AttributeError",
          "evalue": "'History' object has no attribute 'fit'",
          "traceback": [
            "\u001b[0;31m---------------------------------------------------------------------------\u001b[0m",
            "\u001b[0;31mAttributeError\u001b[0m                            Traceback (most recent call last)",
            "\u001b[0;32m<ipython-input-10-edb2a3c1b0c8>\u001b[0m in \u001b[0;36m<cell line: 28>\u001b[0;34m()\u001b[0m\n\u001b[1;32m     31\u001b[0m \u001b[0;34m\u001b[0m\u001b[0m\n\u001b[1;32m     32\u001b[0m     \u001b[0;31m# Fit the neural network on the bootstrapped dataset\u001b[0m\u001b[0;34m\u001b[0m\u001b[0;34m\u001b[0m\u001b[0m\n\u001b[0;32m---> 33\u001b[0;31m     \u001b[0mnn_model\u001b[0m\u001b[0;34m.\u001b[0m\u001b[0mfit\u001b[0m\u001b[0;34m(\u001b[0m\u001b[0mX_bootstrap\u001b[0m\u001b[0;34m,\u001b[0m \u001b[0my_bootstrap\u001b[0m\u001b[0;34m)\u001b[0m\u001b[0;34m\u001b[0m\u001b[0;34m\u001b[0m\u001b[0m\n\u001b[0m\u001b[1;32m     34\u001b[0m \u001b[0;34m\u001b[0m\u001b[0m\n\u001b[1;32m     35\u001b[0m     \u001b[0;31m# Get predictions for the test set\u001b[0m\u001b[0;34m\u001b[0m\u001b[0;34m\u001b[0m\u001b[0m\n",
            "\u001b[0;31mAttributeError\u001b[0m: 'History' object has no attribute 'fit'"
          ]
        }
      ]
    },
    {
      "cell_type": "code",
      "source": [
        "import numpy as np\n",
        "from sklearn.model_selection import train_test_split\n",
        "from sklearn.metrics import accuracy_score\n",
        "from tensorflow.keras.models import Sequential\n",
        "from tensorflow.keras.layers import Dense\n",
        "\n",
        "\n",
        "# Define the neural network model\n",
        "def create_model():\n",
        "    model = Sequential()\n",
        "    model.add(Dense(units=128, activation='relu', input_shape=(X_train.shape[1],)))\n",
        "    model.add(Dense(units=128, activation='relu'))\n",
        "    model.add(Dense(units=1, activation='sigmoid'))\n",
        "    model.compile(optimizer='adam', loss='binary_crossentropy', metrics=['accuracy'])\n",
        "    return model\n",
        "\n",
        "# Initialize and train the model\n",
        "best_nn = create_model()\n",
        "best_nn.fit(X_train, y_train, epochs=10, batch_size=64, verbose=1)\n",
        "\n",
        "# Perform bootstrapping for uncertainty analysis\n",
        "n_bootstraps = 100\n",
        "bootstrap_preds = np.zeros((n_bootstraps, X_test.shape[0]))\n",
        "\n",
        "for i in range(n_bootstraps):\n",
        "    # Sample with replacement from the training data\n",
        "    X_bootstrap, _, y_bootstrap, _ = train_test_split(X_train, y_train, test_size=0.2, random_state=i)\n",
        "\n",
        "    # Reinitialize and fit the neural network on the bootstrapped dataset\n",
        "    bootstrap_nn = create_model()  # Create a fresh model for each bootstrap\n",
        "    bootstrap_nn.fit(X_bootstrap, y_bootstrap, epochs=10, batch_size=64, verbose=0)\n",
        "\n",
        "    # Get predictions for the test set\n",
        "    bootstrap_preds[i] = bootstrap_nn.predict(X_test).flatten()\n",
        "\n",
        "# Calculate the mean and standard deviation of predictions\n",
        "mean_preds = np.mean(bootstrap_preds, axis=0)  # Mean predictions\n",
        "std_preds = np.std(bootstrap_preds, axis=0)    # Standard deviation (uncertainty) of predictions\n",
        "\n",
        "# Calculate the overall average of mean predictions and standard deviations\n",
        "average_mean_prediction = np.mean(mean_preds)\n",
        "average_std_deviation = np.mean(std_preds)\n",
        "\n",
        "# Display the overall averages\n",
        "print(f\"Average Mean Prediction: {average_mean_prediction:.4f}\")\n",
        "print(f\"Average Standard Deviation: {average_std_deviation:.4f}\")"
      ],
      "metadata": {
        "colab": {
          "base_uri": "https://localhost:8080/"
        },
        "id": "YPYIw3Q4avIp",
        "outputId": "0131823b-a28e-498c-ad26-811a74a05249"
      },
      "execution_count": null,
      "outputs": [
        {
          "output_type": "stream",
          "name": "stdout",
          "text": [
            "Epoch 1/10\n"
          ]
        },
        {
          "output_type": "stream",
          "name": "stderr",
          "text": [
            "/usr/local/lib/python3.10/dist-packages/keras/src/layers/core/dense.py:87: UserWarning: Do not pass an `input_shape`/`input_dim` argument to a layer. When using Sequential models, prefer using an `Input(shape)` object as the first layer in the model instead.\n",
            "  super().__init__(activity_regularizer=activity_regularizer, **kwargs)\n"
          ]
        },
        {
          "output_type": "stream",
          "name": "stdout",
          "text": [
            "\u001b[1m156/156\u001b[0m \u001b[32m━━━━━━━━━━━━━━━━━━━━\u001b[0m\u001b[37m\u001b[0m \u001b[1m1s\u001b[0m 2ms/step - accuracy: 0.6159 - loss: 58542.0078\n",
            "Epoch 2/10\n",
            "\u001b[1m156/156\u001b[0m \u001b[32m━━━━━━━━━━━━━━━━━━━━\u001b[0m\u001b[37m\u001b[0m \u001b[1m0s\u001b[0m 2ms/step - accuracy: 0.6233 - loss: 54358.3867\n",
            "Epoch 3/10\n",
            "\u001b[1m156/156\u001b[0m \u001b[32m━━━━━━━━━━━━━━━━━━━━\u001b[0m\u001b[37m\u001b[0m \u001b[1m0s\u001b[0m 2ms/step - accuracy: 0.6390 - loss: 14302.6699\n",
            "Epoch 4/10\n",
            "\u001b[1m156/156\u001b[0m \u001b[32m━━━━━━━━━━━━━━━━━━━━\u001b[0m\u001b[37m\u001b[0m \u001b[1m0s\u001b[0m 2ms/step - accuracy: 0.6536 - loss: 10396.0127\n",
            "Epoch 5/10\n",
            "\u001b[1m156/156\u001b[0m \u001b[32m━━━━━━━━━━━━━━━━━━━━\u001b[0m\u001b[37m\u001b[0m \u001b[1m0s\u001b[0m 2ms/step - accuracy: 0.6567 - loss: 6702.4116\n",
            "Epoch 6/10\n",
            "\u001b[1m156/156\u001b[0m \u001b[32m━━━━━━━━━━━━━━━━━━━━\u001b[0m\u001b[37m\u001b[0m \u001b[1m0s\u001b[0m 2ms/step - accuracy: 0.6621 - loss: 27728.2969\n",
            "Epoch 7/10\n",
            "\u001b[1m156/156\u001b[0m \u001b[32m━━━━━━━━━━━━━━━━━━━━\u001b[0m\u001b[37m\u001b[0m \u001b[1m0s\u001b[0m 2ms/step - accuracy: 0.7203 - loss: 1212.2477\n",
            "Epoch 8/10\n",
            "\u001b[1m156/156\u001b[0m \u001b[32m━━━━━━━━━━━━━━━━━━━━\u001b[0m\u001b[37m\u001b[0m \u001b[1m0s\u001b[0m 2ms/step - accuracy: 0.6514 - loss: 13782.7412\n",
            "Epoch 9/10\n",
            "\u001b[1m156/156\u001b[0m \u001b[32m━━━━━━━━━━━━━━━━━━━━\u001b[0m\u001b[37m\u001b[0m \u001b[1m0s\u001b[0m 3ms/step - accuracy: 0.6610 - loss: 46826.4180\n",
            "Epoch 10/10\n",
            "\u001b[1m156/156\u001b[0m \u001b[32m━━━━━━━━━━━━━━━━━━━━\u001b[0m\u001b[37m\u001b[0m \u001b[1m1s\u001b[0m 3ms/step - accuracy: 0.7055 - loss: 25522.6055\n"
          ]
        },
        {
          "output_type": "stream",
          "name": "stderr",
          "text": [
            "/usr/local/lib/python3.10/dist-packages/keras/src/layers/core/dense.py:87: UserWarning: Do not pass an `input_shape`/`input_dim` argument to a layer. When using Sequential models, prefer using an `Input(shape)` object as the first layer in the model instead.\n",
            "  super().__init__(activity_regularizer=activity_regularizer, **kwargs)\n"
          ]
        },
        {
          "output_type": "stream",
          "name": "stdout",
          "text": [
            "\u001b[1m78/78\u001b[0m \u001b[32m━━━━━━━━━━━━━━━━━━━━\u001b[0m\u001b[37m\u001b[0m \u001b[1m0s\u001b[0m 2ms/step\n"
          ]
        },
        {
          "output_type": "stream",
          "name": "stderr",
          "text": [
            "/usr/local/lib/python3.10/dist-packages/keras/src/layers/core/dense.py:87: UserWarning: Do not pass an `input_shape`/`input_dim` argument to a layer. When using Sequential models, prefer using an `Input(shape)` object as the first layer in the model instead.\n",
            "  super().__init__(activity_regularizer=activity_regularizer, **kwargs)\n"
          ]
        },
        {
          "output_type": "stream",
          "name": "stdout",
          "text": [
            "\u001b[1m78/78\u001b[0m \u001b[32m━━━━━━━━━━━━━━━━━━━━\u001b[0m\u001b[37m\u001b[0m \u001b[1m0s\u001b[0m 2ms/step\n"
          ]
        },
        {
          "output_type": "stream",
          "name": "stderr",
          "text": [
            "/usr/local/lib/python3.10/dist-packages/keras/src/layers/core/dense.py:87: UserWarning: Do not pass an `input_shape`/`input_dim` argument to a layer. When using Sequential models, prefer using an `Input(shape)` object as the first layer in the model instead.\n",
            "  super().__init__(activity_regularizer=activity_regularizer, **kwargs)\n"
          ]
        },
        {
          "output_type": "stream",
          "name": "stdout",
          "text": [
            "\u001b[1m78/78\u001b[0m \u001b[32m━━━━━━━━━━━━━━━━━━━━\u001b[0m\u001b[37m\u001b[0m \u001b[1m0s\u001b[0m 2ms/step\n"
          ]
        },
        {
          "output_type": "stream",
          "name": "stderr",
          "text": [
            "/usr/local/lib/python3.10/dist-packages/keras/src/layers/core/dense.py:87: UserWarning: Do not pass an `input_shape`/`input_dim` argument to a layer. When using Sequential models, prefer using an `Input(shape)` object as the first layer in the model instead.\n",
            "  super().__init__(activity_regularizer=activity_regularizer, **kwargs)\n"
          ]
        },
        {
          "output_type": "stream",
          "name": "stdout",
          "text": [
            "\u001b[1m78/78\u001b[0m \u001b[32m━━━━━━━━━━━━━━━━━━━━\u001b[0m\u001b[37m\u001b[0m \u001b[1m0s\u001b[0m 2ms/step\n"
          ]
        },
        {
          "output_type": "stream",
          "name": "stderr",
          "text": [
            "/usr/local/lib/python3.10/dist-packages/keras/src/layers/core/dense.py:87: UserWarning: Do not pass an `input_shape`/`input_dim` argument to a layer. When using Sequential models, prefer using an `Input(shape)` object as the first layer in the model instead.\n",
            "  super().__init__(activity_regularizer=activity_regularizer, **kwargs)\n"
          ]
        },
        {
          "output_type": "stream",
          "name": "stdout",
          "text": [
            "\u001b[1m78/78\u001b[0m \u001b[32m━━━━━━━━━━━━━━━━━━━━\u001b[0m\u001b[37m\u001b[0m \u001b[1m0s\u001b[0m 2ms/step\n"
          ]
        },
        {
          "output_type": "stream",
          "name": "stderr",
          "text": [
            "/usr/local/lib/python3.10/dist-packages/keras/src/layers/core/dense.py:87: UserWarning: Do not pass an `input_shape`/`input_dim` argument to a layer. When using Sequential models, prefer using an `Input(shape)` object as the first layer in the model instead.\n",
            "  super().__init__(activity_regularizer=activity_regularizer, **kwargs)\n"
          ]
        },
        {
          "output_type": "stream",
          "name": "stdout",
          "text": [
            "\u001b[1m78/78\u001b[0m \u001b[32m━━━━━━━━━━━━━━━━━━━━\u001b[0m\u001b[37m\u001b[0m \u001b[1m0s\u001b[0m 2ms/step\n"
          ]
        },
        {
          "output_type": "stream",
          "name": "stderr",
          "text": [
            "/usr/local/lib/python3.10/dist-packages/keras/src/layers/core/dense.py:87: UserWarning: Do not pass an `input_shape`/`input_dim` argument to a layer. When using Sequential models, prefer using an `Input(shape)` object as the first layer in the model instead.\n",
            "  super().__init__(activity_regularizer=activity_regularizer, **kwargs)\n"
          ]
        },
        {
          "output_type": "stream",
          "name": "stdout",
          "text": [
            "\u001b[1m78/78\u001b[0m \u001b[32m━━━━━━━━━━━━━━━━━━━━\u001b[0m\u001b[37m\u001b[0m \u001b[1m0s\u001b[0m 2ms/step\n"
          ]
        },
        {
          "output_type": "stream",
          "name": "stderr",
          "text": [
            "/usr/local/lib/python3.10/dist-packages/keras/src/layers/core/dense.py:87: UserWarning: Do not pass an `input_shape`/`input_dim` argument to a layer. When using Sequential models, prefer using an `Input(shape)` object as the first layer in the model instead.\n",
            "  super().__init__(activity_regularizer=activity_regularizer, **kwargs)\n"
          ]
        },
        {
          "output_type": "stream",
          "name": "stdout",
          "text": [
            "\u001b[1m78/78\u001b[0m \u001b[32m━━━━━━━━━━━━━━━━━━━━\u001b[0m\u001b[37m\u001b[0m \u001b[1m0s\u001b[0m 2ms/step\n"
          ]
        },
        {
          "output_type": "stream",
          "name": "stderr",
          "text": [
            "/usr/local/lib/python3.10/dist-packages/keras/src/layers/core/dense.py:87: UserWarning: Do not pass an `input_shape`/`input_dim` argument to a layer. When using Sequential models, prefer using an `Input(shape)` object as the first layer in the model instead.\n",
            "  super().__init__(activity_regularizer=activity_regularizer, **kwargs)\n"
          ]
        },
        {
          "output_type": "stream",
          "name": "stdout",
          "text": [
            "\u001b[1m78/78\u001b[0m \u001b[32m━━━━━━━━━━━━━━━━━━━━\u001b[0m\u001b[37m\u001b[0m \u001b[1m0s\u001b[0m 2ms/step\n"
          ]
        },
        {
          "output_type": "stream",
          "name": "stderr",
          "text": [
            "/usr/local/lib/python3.10/dist-packages/keras/src/layers/core/dense.py:87: UserWarning: Do not pass an `input_shape`/`input_dim` argument to a layer. When using Sequential models, prefer using an `Input(shape)` object as the first layer in the model instead.\n",
            "  super().__init__(activity_regularizer=activity_regularizer, **kwargs)\n"
          ]
        },
        {
          "output_type": "stream",
          "name": "stdout",
          "text": [
            "\u001b[1m78/78\u001b[0m \u001b[32m━━━━━━━━━━━━━━━━━━━━\u001b[0m\u001b[37m\u001b[0m \u001b[1m1s\u001b[0m 6ms/step\n"
          ]
        },
        {
          "output_type": "stream",
          "name": "stderr",
          "text": [
            "/usr/local/lib/python3.10/dist-packages/keras/src/layers/core/dense.py:87: UserWarning: Do not pass an `input_shape`/`input_dim` argument to a layer. When using Sequential models, prefer using an `Input(shape)` object as the first layer in the model instead.\n",
            "  super().__init__(activity_regularizer=activity_regularizer, **kwargs)\n"
          ]
        },
        {
          "output_type": "stream",
          "name": "stdout",
          "text": [
            "\u001b[1m78/78\u001b[0m \u001b[32m━━━━━━━━━━━━━━━━━━━━\u001b[0m\u001b[37m\u001b[0m \u001b[1m0s\u001b[0m 2ms/step\n"
          ]
        },
        {
          "output_type": "stream",
          "name": "stderr",
          "text": [
            "/usr/local/lib/python3.10/dist-packages/keras/src/layers/core/dense.py:87: UserWarning: Do not pass an `input_shape`/`input_dim` argument to a layer. When using Sequential models, prefer using an `Input(shape)` object as the first layer in the model instead.\n",
            "  super().__init__(activity_regularizer=activity_regularizer, **kwargs)\n"
          ]
        },
        {
          "output_type": "stream",
          "name": "stdout",
          "text": [
            "\u001b[1m78/78\u001b[0m \u001b[32m━━━━━━━━━━━━━━━━━━━━\u001b[0m\u001b[37m\u001b[0m \u001b[1m0s\u001b[0m 2ms/step\n"
          ]
        },
        {
          "output_type": "stream",
          "name": "stderr",
          "text": [
            "/usr/local/lib/python3.10/dist-packages/keras/src/layers/core/dense.py:87: UserWarning: Do not pass an `input_shape`/`input_dim` argument to a layer. When using Sequential models, prefer using an `Input(shape)` object as the first layer in the model instead.\n",
            "  super().__init__(activity_regularizer=activity_regularizer, **kwargs)\n"
          ]
        },
        {
          "output_type": "stream",
          "name": "stdout",
          "text": [
            "\u001b[1m78/78\u001b[0m \u001b[32m━━━━━━━━━━━━━━━━━━━━\u001b[0m\u001b[37m\u001b[0m \u001b[1m0s\u001b[0m 2ms/step\n"
          ]
        },
        {
          "output_type": "stream",
          "name": "stderr",
          "text": [
            "/usr/local/lib/python3.10/dist-packages/keras/src/layers/core/dense.py:87: UserWarning: Do not pass an `input_shape`/`input_dim` argument to a layer. When using Sequential models, prefer using an `Input(shape)` object as the first layer in the model instead.\n",
            "  super().__init__(activity_regularizer=activity_regularizer, **kwargs)\n"
          ]
        },
        {
          "output_type": "stream",
          "name": "stdout",
          "text": [
            "\u001b[1m78/78\u001b[0m \u001b[32m━━━━━━━━━━━━━━━━━━━━\u001b[0m\u001b[37m\u001b[0m \u001b[1m0s\u001b[0m 2ms/step\n"
          ]
        },
        {
          "output_type": "stream",
          "name": "stderr",
          "text": [
            "/usr/local/lib/python3.10/dist-packages/keras/src/layers/core/dense.py:87: UserWarning: Do not pass an `input_shape`/`input_dim` argument to a layer. When using Sequential models, prefer using an `Input(shape)` object as the first layer in the model instead.\n",
            "  super().__init__(activity_regularizer=activity_regularizer, **kwargs)\n"
          ]
        },
        {
          "output_type": "stream",
          "name": "stdout",
          "text": [
            "\u001b[1m78/78\u001b[0m \u001b[32m━━━━━━━━━━━━━━━━━━━━\u001b[0m\u001b[37m\u001b[0m \u001b[1m0s\u001b[0m 2ms/step\n"
          ]
        },
        {
          "output_type": "stream",
          "name": "stderr",
          "text": [
            "/usr/local/lib/python3.10/dist-packages/keras/src/layers/core/dense.py:87: UserWarning: Do not pass an `input_shape`/`input_dim` argument to a layer. When using Sequential models, prefer using an `Input(shape)` object as the first layer in the model instead.\n",
            "  super().__init__(activity_regularizer=activity_regularizer, **kwargs)\n"
          ]
        },
        {
          "output_type": "stream",
          "name": "stdout",
          "text": [
            "\u001b[1m78/78\u001b[0m \u001b[32m━━━━━━━━━━━━━━━━━━━━\u001b[0m\u001b[37m\u001b[0m \u001b[1m0s\u001b[0m 2ms/step\n"
          ]
        },
        {
          "output_type": "stream",
          "name": "stderr",
          "text": [
            "/usr/local/lib/python3.10/dist-packages/keras/src/layers/core/dense.py:87: UserWarning: Do not pass an `input_shape`/`input_dim` argument to a layer. When using Sequential models, prefer using an `Input(shape)` object as the first layer in the model instead.\n",
            "  super().__init__(activity_regularizer=activity_regularizer, **kwargs)\n"
          ]
        },
        {
          "output_type": "stream",
          "name": "stdout",
          "text": [
            "\u001b[1m78/78\u001b[0m \u001b[32m━━━━━━━━━━━━━━━━━━━━\u001b[0m\u001b[37m\u001b[0m \u001b[1m0s\u001b[0m 2ms/step\n"
          ]
        },
        {
          "output_type": "stream",
          "name": "stderr",
          "text": [
            "/usr/local/lib/python3.10/dist-packages/keras/src/layers/core/dense.py:87: UserWarning: Do not pass an `input_shape`/`input_dim` argument to a layer. When using Sequential models, prefer using an `Input(shape)` object as the first layer in the model instead.\n",
            "  super().__init__(activity_regularizer=activity_regularizer, **kwargs)\n"
          ]
        },
        {
          "output_type": "stream",
          "name": "stdout",
          "text": [
            "\u001b[1m78/78\u001b[0m \u001b[32m━━━━━━━━━━━━━━━━━━━━\u001b[0m\u001b[37m\u001b[0m \u001b[1m0s\u001b[0m 2ms/step\n"
          ]
        },
        {
          "output_type": "stream",
          "name": "stderr",
          "text": [
            "/usr/local/lib/python3.10/dist-packages/keras/src/layers/core/dense.py:87: UserWarning: Do not pass an `input_shape`/`input_dim` argument to a layer. When using Sequential models, prefer using an `Input(shape)` object as the first layer in the model instead.\n",
            "  super().__init__(activity_regularizer=activity_regularizer, **kwargs)\n"
          ]
        },
        {
          "output_type": "stream",
          "name": "stdout",
          "text": [
            "\u001b[1m78/78\u001b[0m \u001b[32m━━━━━━━━━━━━━━━━━━━━\u001b[0m\u001b[37m\u001b[0m \u001b[1m0s\u001b[0m 2ms/step\n"
          ]
        },
        {
          "output_type": "stream",
          "name": "stderr",
          "text": [
            "/usr/local/lib/python3.10/dist-packages/keras/src/layers/core/dense.py:87: UserWarning: Do not pass an `input_shape`/`input_dim` argument to a layer. When using Sequential models, prefer using an `Input(shape)` object as the first layer in the model instead.\n",
            "  super().__init__(activity_regularizer=activity_regularizer, **kwargs)\n"
          ]
        },
        {
          "output_type": "stream",
          "name": "stdout",
          "text": [
            "\u001b[1m78/78\u001b[0m \u001b[32m━━━━━━━━━━━━━━━━━━━━\u001b[0m\u001b[37m\u001b[0m \u001b[1m0s\u001b[0m 2ms/step\n"
          ]
        },
        {
          "output_type": "stream",
          "name": "stderr",
          "text": [
            "/usr/local/lib/python3.10/dist-packages/keras/src/layers/core/dense.py:87: UserWarning: Do not pass an `input_shape`/`input_dim` argument to a layer. When using Sequential models, prefer using an `Input(shape)` object as the first layer in the model instead.\n",
            "  super().__init__(activity_regularizer=activity_regularizer, **kwargs)\n"
          ]
        },
        {
          "output_type": "stream",
          "name": "stdout",
          "text": [
            "\u001b[1m78/78\u001b[0m \u001b[32m━━━━━━━━━━━━━━━━━━━━\u001b[0m\u001b[37m\u001b[0m \u001b[1m0s\u001b[0m 2ms/step\n"
          ]
        },
        {
          "output_type": "stream",
          "name": "stderr",
          "text": [
            "/usr/local/lib/python3.10/dist-packages/keras/src/layers/core/dense.py:87: UserWarning: Do not pass an `input_shape`/`input_dim` argument to a layer. When using Sequential models, prefer using an `Input(shape)` object as the first layer in the model instead.\n",
            "  super().__init__(activity_regularizer=activity_regularizer, **kwargs)\n"
          ]
        },
        {
          "output_type": "stream",
          "name": "stdout",
          "text": [
            "\u001b[1m78/78\u001b[0m \u001b[32m━━━━━━━━━━━━━━━━━━━━\u001b[0m\u001b[37m\u001b[0m \u001b[1m0s\u001b[0m 2ms/step\n"
          ]
        },
        {
          "output_type": "stream",
          "name": "stderr",
          "text": [
            "/usr/local/lib/python3.10/dist-packages/keras/src/layers/core/dense.py:87: UserWarning: Do not pass an `input_shape`/`input_dim` argument to a layer. When using Sequential models, prefer using an `Input(shape)` object as the first layer in the model instead.\n",
            "  super().__init__(activity_regularizer=activity_regularizer, **kwargs)\n"
          ]
        },
        {
          "output_type": "stream",
          "name": "stdout",
          "text": [
            "\u001b[1m78/78\u001b[0m \u001b[32m━━━━━━━━━━━━━━━━━━━━\u001b[0m\u001b[37m\u001b[0m \u001b[1m0s\u001b[0m 2ms/step\n"
          ]
        },
        {
          "output_type": "stream",
          "name": "stderr",
          "text": [
            "/usr/local/lib/python3.10/dist-packages/keras/src/layers/core/dense.py:87: UserWarning: Do not pass an `input_shape`/`input_dim` argument to a layer. When using Sequential models, prefer using an `Input(shape)` object as the first layer in the model instead.\n",
            "  super().__init__(activity_regularizer=activity_regularizer, **kwargs)\n"
          ]
        },
        {
          "output_type": "stream",
          "name": "stdout",
          "text": [
            "\u001b[1m78/78\u001b[0m \u001b[32m━━━━━━━━━━━━━━━━━━━━\u001b[0m\u001b[37m\u001b[0m \u001b[1m0s\u001b[0m 2ms/step\n"
          ]
        },
        {
          "output_type": "stream",
          "name": "stderr",
          "text": [
            "/usr/local/lib/python3.10/dist-packages/keras/src/layers/core/dense.py:87: UserWarning: Do not pass an `input_shape`/`input_dim` argument to a layer. When using Sequential models, prefer using an `Input(shape)` object as the first layer in the model instead.\n",
            "  super().__init__(activity_regularizer=activity_regularizer, **kwargs)\n"
          ]
        },
        {
          "output_type": "stream",
          "name": "stdout",
          "text": [
            "\u001b[1m78/78\u001b[0m \u001b[32m━━━━━━━━━━━━━━━━━━━━\u001b[0m\u001b[37m\u001b[0m \u001b[1m0s\u001b[0m 2ms/step\n"
          ]
        },
        {
          "output_type": "stream",
          "name": "stderr",
          "text": [
            "/usr/local/lib/python3.10/dist-packages/keras/src/layers/core/dense.py:87: UserWarning: Do not pass an `input_shape`/`input_dim` argument to a layer. When using Sequential models, prefer using an `Input(shape)` object as the first layer in the model instead.\n",
            "  super().__init__(activity_regularizer=activity_regularizer, **kwargs)\n"
          ]
        },
        {
          "output_type": "stream",
          "name": "stdout",
          "text": [
            "\u001b[1m78/78\u001b[0m \u001b[32m━━━━━━━━━━━━━━━━━━━━\u001b[0m\u001b[37m\u001b[0m \u001b[1m0s\u001b[0m 2ms/step\n"
          ]
        },
        {
          "output_type": "stream",
          "name": "stderr",
          "text": [
            "/usr/local/lib/python3.10/dist-packages/keras/src/layers/core/dense.py:87: UserWarning: Do not pass an `input_shape`/`input_dim` argument to a layer. When using Sequential models, prefer using an `Input(shape)` object as the first layer in the model instead.\n",
            "  super().__init__(activity_regularizer=activity_regularizer, **kwargs)\n"
          ]
        },
        {
          "output_type": "stream",
          "name": "stdout",
          "text": [
            "\u001b[1m78/78\u001b[0m \u001b[32m━━━━━━━━━━━━━━━━━━━━\u001b[0m\u001b[37m\u001b[0m \u001b[1m0s\u001b[0m 2ms/step\n"
          ]
        },
        {
          "output_type": "stream",
          "name": "stderr",
          "text": [
            "/usr/local/lib/python3.10/dist-packages/keras/src/layers/core/dense.py:87: UserWarning: Do not pass an `input_shape`/`input_dim` argument to a layer. When using Sequential models, prefer using an `Input(shape)` object as the first layer in the model instead.\n",
            "  super().__init__(activity_regularizer=activity_regularizer, **kwargs)\n"
          ]
        },
        {
          "output_type": "stream",
          "name": "stdout",
          "text": [
            "\u001b[1m78/78\u001b[0m \u001b[32m━━━━━━━━━━━━━━━━━━━━\u001b[0m\u001b[37m\u001b[0m \u001b[1m0s\u001b[0m 2ms/step\n"
          ]
        },
        {
          "output_type": "stream",
          "name": "stderr",
          "text": [
            "/usr/local/lib/python3.10/dist-packages/keras/src/layers/core/dense.py:87: UserWarning: Do not pass an `input_shape`/`input_dim` argument to a layer. When using Sequential models, prefer using an `Input(shape)` object as the first layer in the model instead.\n",
            "  super().__init__(activity_regularizer=activity_regularizer, **kwargs)\n"
          ]
        },
        {
          "output_type": "stream",
          "name": "stdout",
          "text": [
            "\u001b[1m78/78\u001b[0m \u001b[32m━━━━━━━━━━━━━━━━━━━━\u001b[0m\u001b[37m\u001b[0m \u001b[1m0s\u001b[0m 2ms/step\n"
          ]
        },
        {
          "output_type": "stream",
          "name": "stderr",
          "text": [
            "/usr/local/lib/python3.10/dist-packages/keras/src/layers/core/dense.py:87: UserWarning: Do not pass an `input_shape`/`input_dim` argument to a layer. When using Sequential models, prefer using an `Input(shape)` object as the first layer in the model instead.\n",
            "  super().__init__(activity_regularizer=activity_regularizer, **kwargs)\n"
          ]
        },
        {
          "output_type": "stream",
          "name": "stdout",
          "text": [
            "\u001b[1m78/78\u001b[0m \u001b[32m━━━━━━━━━━━━━━━━━━━━\u001b[0m\u001b[37m\u001b[0m \u001b[1m0s\u001b[0m 2ms/step\n"
          ]
        },
        {
          "output_type": "stream",
          "name": "stderr",
          "text": [
            "/usr/local/lib/python3.10/dist-packages/keras/src/layers/core/dense.py:87: UserWarning: Do not pass an `input_shape`/`input_dim` argument to a layer. When using Sequential models, prefer using an `Input(shape)` object as the first layer in the model instead.\n",
            "  super().__init__(activity_regularizer=activity_regularizer, **kwargs)\n"
          ]
        },
        {
          "output_type": "stream",
          "name": "stdout",
          "text": [
            "\u001b[1m78/78\u001b[0m \u001b[32m━━━━━━━━━━━━━━━━━━━━\u001b[0m\u001b[37m\u001b[0m \u001b[1m0s\u001b[0m 2ms/step\n"
          ]
        },
        {
          "output_type": "stream",
          "name": "stderr",
          "text": [
            "/usr/local/lib/python3.10/dist-packages/keras/src/layers/core/dense.py:87: UserWarning: Do not pass an `input_shape`/`input_dim` argument to a layer. When using Sequential models, prefer using an `Input(shape)` object as the first layer in the model instead.\n",
            "  super().__init__(activity_regularizer=activity_regularizer, **kwargs)\n"
          ]
        },
        {
          "output_type": "stream",
          "name": "stdout",
          "text": [
            "\u001b[1m78/78\u001b[0m \u001b[32m━━━━━━━━━━━━━━━━━━━━\u001b[0m\u001b[37m\u001b[0m \u001b[1m0s\u001b[0m 2ms/step\n"
          ]
        },
        {
          "output_type": "stream",
          "name": "stderr",
          "text": [
            "/usr/local/lib/python3.10/dist-packages/keras/src/layers/core/dense.py:87: UserWarning: Do not pass an `input_shape`/`input_dim` argument to a layer. When using Sequential models, prefer using an `Input(shape)` object as the first layer in the model instead.\n",
            "  super().__init__(activity_regularizer=activity_regularizer, **kwargs)\n"
          ]
        },
        {
          "output_type": "stream",
          "name": "stdout",
          "text": [
            "\u001b[1m78/78\u001b[0m \u001b[32m━━━━━━━━━━━━━━━━━━━━\u001b[0m\u001b[37m\u001b[0m \u001b[1m0s\u001b[0m 3ms/step\n"
          ]
        },
        {
          "output_type": "stream",
          "name": "stderr",
          "text": [
            "/usr/local/lib/python3.10/dist-packages/keras/src/layers/core/dense.py:87: UserWarning: Do not pass an `input_shape`/`input_dim` argument to a layer. When using Sequential models, prefer using an `Input(shape)` object as the first layer in the model instead.\n",
            "  super().__init__(activity_regularizer=activity_regularizer, **kwargs)\n"
          ]
        },
        {
          "output_type": "stream",
          "name": "stdout",
          "text": [
            "\u001b[1m78/78\u001b[0m \u001b[32m━━━━━━━━━━━━━━━━━━━━\u001b[0m\u001b[37m\u001b[0m \u001b[1m0s\u001b[0m 2ms/step\n"
          ]
        },
        {
          "output_type": "stream",
          "name": "stderr",
          "text": [
            "/usr/local/lib/python3.10/dist-packages/keras/src/layers/core/dense.py:87: UserWarning: Do not pass an `input_shape`/`input_dim` argument to a layer. When using Sequential models, prefer using an `Input(shape)` object as the first layer in the model instead.\n",
            "  super().__init__(activity_regularizer=activity_regularizer, **kwargs)\n"
          ]
        },
        {
          "output_type": "stream",
          "name": "stdout",
          "text": [
            "\u001b[1m78/78\u001b[0m \u001b[32m━━━━━━━━━━━━━━━━━━━━\u001b[0m\u001b[37m\u001b[0m \u001b[1m0s\u001b[0m 2ms/step\n"
          ]
        },
        {
          "output_type": "stream",
          "name": "stderr",
          "text": [
            "/usr/local/lib/python3.10/dist-packages/keras/src/layers/core/dense.py:87: UserWarning: Do not pass an `input_shape`/`input_dim` argument to a layer. When using Sequential models, prefer using an `Input(shape)` object as the first layer in the model instead.\n",
            "  super().__init__(activity_regularizer=activity_regularizer, **kwargs)\n"
          ]
        },
        {
          "output_type": "stream",
          "name": "stdout",
          "text": [
            "\u001b[1m78/78\u001b[0m \u001b[32m━━━━━━━━━━━━━━━━━━━━\u001b[0m\u001b[37m\u001b[0m \u001b[1m0s\u001b[0m 2ms/step\n"
          ]
        },
        {
          "output_type": "stream",
          "name": "stderr",
          "text": [
            "/usr/local/lib/python3.10/dist-packages/keras/src/layers/core/dense.py:87: UserWarning: Do not pass an `input_shape`/`input_dim` argument to a layer. When using Sequential models, prefer using an `Input(shape)` object as the first layer in the model instead.\n",
            "  super().__init__(activity_regularizer=activity_regularizer, **kwargs)\n"
          ]
        },
        {
          "output_type": "stream",
          "name": "stdout",
          "text": [
            "\u001b[1m78/78\u001b[0m \u001b[32m━━━━━━━━━━━━━━━━━━━━\u001b[0m\u001b[37m\u001b[0m \u001b[1m0s\u001b[0m 2ms/step\n"
          ]
        },
        {
          "output_type": "stream",
          "name": "stderr",
          "text": [
            "/usr/local/lib/python3.10/dist-packages/keras/src/layers/core/dense.py:87: UserWarning: Do not pass an `input_shape`/`input_dim` argument to a layer. When using Sequential models, prefer using an `Input(shape)` object as the first layer in the model instead.\n",
            "  super().__init__(activity_regularizer=activity_regularizer, **kwargs)\n"
          ]
        },
        {
          "output_type": "stream",
          "name": "stdout",
          "text": [
            "\u001b[1m78/78\u001b[0m \u001b[32m━━━━━━━━━━━━━━━━━━━━\u001b[0m\u001b[37m\u001b[0m \u001b[1m0s\u001b[0m 2ms/step\n"
          ]
        },
        {
          "output_type": "stream",
          "name": "stderr",
          "text": [
            "/usr/local/lib/python3.10/dist-packages/keras/src/layers/core/dense.py:87: UserWarning: Do not pass an `input_shape`/`input_dim` argument to a layer. When using Sequential models, prefer using an `Input(shape)` object as the first layer in the model instead.\n",
            "  super().__init__(activity_regularizer=activity_regularizer, **kwargs)\n"
          ]
        },
        {
          "output_type": "stream",
          "name": "stdout",
          "text": [
            "\u001b[1m78/78\u001b[0m \u001b[32m━━━━━━━━━━━━━━━━━━━━\u001b[0m\u001b[37m\u001b[0m \u001b[1m0s\u001b[0m 2ms/step\n"
          ]
        },
        {
          "output_type": "stream",
          "name": "stderr",
          "text": [
            "/usr/local/lib/python3.10/dist-packages/keras/src/layers/core/dense.py:87: UserWarning: Do not pass an `input_shape`/`input_dim` argument to a layer. When using Sequential models, prefer using an `Input(shape)` object as the first layer in the model instead.\n",
            "  super().__init__(activity_regularizer=activity_regularizer, **kwargs)\n"
          ]
        },
        {
          "output_type": "stream",
          "name": "stdout",
          "text": [
            "\u001b[1m78/78\u001b[0m \u001b[32m━━━━━━━━━━━━━━━━━━━━\u001b[0m\u001b[37m\u001b[0m \u001b[1m0s\u001b[0m 2ms/step\n"
          ]
        },
        {
          "output_type": "stream",
          "name": "stderr",
          "text": [
            "/usr/local/lib/python3.10/dist-packages/keras/src/layers/core/dense.py:87: UserWarning: Do not pass an `input_shape`/`input_dim` argument to a layer. When using Sequential models, prefer using an `Input(shape)` object as the first layer in the model instead.\n",
            "  super().__init__(activity_regularizer=activity_regularizer, **kwargs)\n"
          ]
        },
        {
          "output_type": "stream",
          "name": "stdout",
          "text": [
            "\u001b[1m78/78\u001b[0m \u001b[32m━━━━━━━━━━━━━━━━━━━━\u001b[0m\u001b[37m\u001b[0m \u001b[1m0s\u001b[0m 2ms/step\n"
          ]
        },
        {
          "output_type": "stream",
          "name": "stderr",
          "text": [
            "/usr/local/lib/python3.10/dist-packages/keras/src/layers/core/dense.py:87: UserWarning: Do not pass an `input_shape`/`input_dim` argument to a layer. When using Sequential models, prefer using an `Input(shape)` object as the first layer in the model instead.\n",
            "  super().__init__(activity_regularizer=activity_regularizer, **kwargs)\n"
          ]
        },
        {
          "output_type": "stream",
          "name": "stdout",
          "text": [
            "\u001b[1m78/78\u001b[0m \u001b[32m━━━━━━━━━━━━━━━━━━━━\u001b[0m\u001b[37m\u001b[0m \u001b[1m0s\u001b[0m 3ms/step\n"
          ]
        },
        {
          "output_type": "stream",
          "name": "stderr",
          "text": [
            "/usr/local/lib/python3.10/dist-packages/keras/src/layers/core/dense.py:87: UserWarning: Do not pass an `input_shape`/`input_dim` argument to a layer. When using Sequential models, prefer using an `Input(shape)` object as the first layer in the model instead.\n",
            "  super().__init__(activity_regularizer=activity_regularizer, **kwargs)\n"
          ]
        },
        {
          "output_type": "stream",
          "name": "stdout",
          "text": [
            "\u001b[1m78/78\u001b[0m \u001b[32m━━━━━━━━━━━━━━━━━━━━\u001b[0m\u001b[37m\u001b[0m \u001b[1m0s\u001b[0m 2ms/step\n"
          ]
        },
        {
          "output_type": "stream",
          "name": "stderr",
          "text": [
            "/usr/local/lib/python3.10/dist-packages/keras/src/layers/core/dense.py:87: UserWarning: Do not pass an `input_shape`/`input_dim` argument to a layer. When using Sequential models, prefer using an `Input(shape)` object as the first layer in the model instead.\n",
            "  super().__init__(activity_regularizer=activity_regularizer, **kwargs)\n"
          ]
        },
        {
          "output_type": "stream",
          "name": "stdout",
          "text": [
            "\u001b[1m78/78\u001b[0m \u001b[32m━━━━━━━━━━━━━━━━━━━━\u001b[0m\u001b[37m\u001b[0m \u001b[1m0s\u001b[0m 2ms/step\n"
          ]
        },
        {
          "output_type": "stream",
          "name": "stderr",
          "text": [
            "/usr/local/lib/python3.10/dist-packages/keras/src/layers/core/dense.py:87: UserWarning: Do not pass an `input_shape`/`input_dim` argument to a layer. When using Sequential models, prefer using an `Input(shape)` object as the first layer in the model instead.\n",
            "  super().__init__(activity_regularizer=activity_regularizer, **kwargs)\n"
          ]
        },
        {
          "output_type": "stream",
          "name": "stdout",
          "text": [
            "\u001b[1m78/78\u001b[0m \u001b[32m━━━━━━━━━━━━━━━━━━━━\u001b[0m\u001b[37m\u001b[0m \u001b[1m0s\u001b[0m 2ms/step\n"
          ]
        },
        {
          "output_type": "stream",
          "name": "stderr",
          "text": [
            "/usr/local/lib/python3.10/dist-packages/keras/src/layers/core/dense.py:87: UserWarning: Do not pass an `input_shape`/`input_dim` argument to a layer. When using Sequential models, prefer using an `Input(shape)` object as the first layer in the model instead.\n",
            "  super().__init__(activity_regularizer=activity_regularizer, **kwargs)\n"
          ]
        },
        {
          "output_type": "stream",
          "name": "stdout",
          "text": [
            "\u001b[1m78/78\u001b[0m \u001b[32m━━━━━━━━━━━━━━━━━━━━\u001b[0m\u001b[37m\u001b[0m \u001b[1m0s\u001b[0m 2ms/step\n"
          ]
        },
        {
          "output_type": "stream",
          "name": "stderr",
          "text": [
            "/usr/local/lib/python3.10/dist-packages/keras/src/layers/core/dense.py:87: UserWarning: Do not pass an `input_shape`/`input_dim` argument to a layer. When using Sequential models, prefer using an `Input(shape)` object as the first layer in the model instead.\n",
            "  super().__init__(activity_regularizer=activity_regularizer, **kwargs)\n"
          ]
        },
        {
          "output_type": "stream",
          "name": "stdout",
          "text": [
            "\u001b[1m78/78\u001b[0m \u001b[32m━━━━━━━━━━━━━━━━━━━━\u001b[0m\u001b[37m\u001b[0m \u001b[1m0s\u001b[0m 2ms/step\n"
          ]
        },
        {
          "output_type": "stream",
          "name": "stderr",
          "text": [
            "/usr/local/lib/python3.10/dist-packages/keras/src/layers/core/dense.py:87: UserWarning: Do not pass an `input_shape`/`input_dim` argument to a layer. When using Sequential models, prefer using an `Input(shape)` object as the first layer in the model instead.\n",
            "  super().__init__(activity_regularizer=activity_regularizer, **kwargs)\n"
          ]
        },
        {
          "output_type": "stream",
          "name": "stdout",
          "text": [
            "\u001b[1m78/78\u001b[0m \u001b[32m━━━━━━━━━━━━━━━━━━━━\u001b[0m\u001b[37m\u001b[0m \u001b[1m0s\u001b[0m 2ms/step\n"
          ]
        },
        {
          "output_type": "stream",
          "name": "stderr",
          "text": [
            "/usr/local/lib/python3.10/dist-packages/keras/src/layers/core/dense.py:87: UserWarning: Do not pass an `input_shape`/`input_dim` argument to a layer. When using Sequential models, prefer using an `Input(shape)` object as the first layer in the model instead.\n",
            "  super().__init__(activity_regularizer=activity_regularizer, **kwargs)\n"
          ]
        },
        {
          "output_type": "stream",
          "name": "stdout",
          "text": [
            "\u001b[1m78/78\u001b[0m \u001b[32m━━━━━━━━━━━━━━━━━━━━\u001b[0m\u001b[37m\u001b[0m \u001b[1m0s\u001b[0m 2ms/step\n"
          ]
        },
        {
          "output_type": "stream",
          "name": "stderr",
          "text": [
            "/usr/local/lib/python3.10/dist-packages/keras/src/layers/core/dense.py:87: UserWarning: Do not pass an `input_shape`/`input_dim` argument to a layer. When using Sequential models, prefer using an `Input(shape)` object as the first layer in the model instead.\n",
            "  super().__init__(activity_regularizer=activity_regularizer, **kwargs)\n"
          ]
        },
        {
          "output_type": "stream",
          "name": "stdout",
          "text": [
            "\u001b[1m78/78\u001b[0m \u001b[32m━━━━━━━━━━━━━━━━━━━━\u001b[0m\u001b[37m\u001b[0m \u001b[1m0s\u001b[0m 2ms/step\n"
          ]
        },
        {
          "output_type": "stream",
          "name": "stderr",
          "text": [
            "/usr/local/lib/python3.10/dist-packages/keras/src/layers/core/dense.py:87: UserWarning: Do not pass an `input_shape`/`input_dim` argument to a layer. When using Sequential models, prefer using an `Input(shape)` object as the first layer in the model instead.\n",
            "  super().__init__(activity_regularizer=activity_regularizer, **kwargs)\n"
          ]
        },
        {
          "output_type": "stream",
          "name": "stdout",
          "text": [
            "\u001b[1m78/78\u001b[0m \u001b[32m━━━━━━━━━━━━━━━━━━━━\u001b[0m\u001b[37m\u001b[0m \u001b[1m0s\u001b[0m 2ms/step\n"
          ]
        },
        {
          "output_type": "stream",
          "name": "stderr",
          "text": [
            "/usr/local/lib/python3.10/dist-packages/keras/src/layers/core/dense.py:87: UserWarning: Do not pass an `input_shape`/`input_dim` argument to a layer. When using Sequential models, prefer using an `Input(shape)` object as the first layer in the model instead.\n",
            "  super().__init__(activity_regularizer=activity_regularizer, **kwargs)\n"
          ]
        },
        {
          "output_type": "stream",
          "name": "stdout",
          "text": [
            "\u001b[1m78/78\u001b[0m \u001b[32m━━━━━━━━━━━━━━━━━━━━\u001b[0m\u001b[37m\u001b[0m \u001b[1m0s\u001b[0m 2ms/step\n"
          ]
        },
        {
          "output_type": "stream",
          "name": "stderr",
          "text": [
            "/usr/local/lib/python3.10/dist-packages/keras/src/layers/core/dense.py:87: UserWarning: Do not pass an `input_shape`/`input_dim` argument to a layer. When using Sequential models, prefer using an `Input(shape)` object as the first layer in the model instead.\n",
            "  super().__init__(activity_regularizer=activity_regularizer, **kwargs)\n"
          ]
        },
        {
          "output_type": "stream",
          "name": "stdout",
          "text": [
            "\u001b[1m78/78\u001b[0m \u001b[32m━━━━━━━━━━━━━━━━━━━━\u001b[0m\u001b[37m\u001b[0m \u001b[1m0s\u001b[0m 2ms/step\n"
          ]
        },
        {
          "output_type": "stream",
          "name": "stderr",
          "text": [
            "/usr/local/lib/python3.10/dist-packages/keras/src/layers/core/dense.py:87: UserWarning: Do not pass an `input_shape`/`input_dim` argument to a layer. When using Sequential models, prefer using an `Input(shape)` object as the first layer in the model instead.\n",
            "  super().__init__(activity_regularizer=activity_regularizer, **kwargs)\n"
          ]
        },
        {
          "output_type": "stream",
          "name": "stdout",
          "text": [
            "\u001b[1m78/78\u001b[0m \u001b[32m━━━━━━━━━━━━━━━━━━━━\u001b[0m\u001b[37m\u001b[0m \u001b[1m0s\u001b[0m 2ms/step\n"
          ]
        },
        {
          "output_type": "stream",
          "name": "stderr",
          "text": [
            "/usr/local/lib/python3.10/dist-packages/keras/src/layers/core/dense.py:87: UserWarning: Do not pass an `input_shape`/`input_dim` argument to a layer. When using Sequential models, prefer using an `Input(shape)` object as the first layer in the model instead.\n",
            "  super().__init__(activity_regularizer=activity_regularizer, **kwargs)\n"
          ]
        },
        {
          "output_type": "stream",
          "name": "stdout",
          "text": [
            "\u001b[1m78/78\u001b[0m \u001b[32m━━━━━━━━━━━━━━━━━━━━\u001b[0m\u001b[37m\u001b[0m \u001b[1m0s\u001b[0m 2ms/step\n"
          ]
        },
        {
          "output_type": "stream",
          "name": "stderr",
          "text": [
            "/usr/local/lib/python3.10/dist-packages/keras/src/layers/core/dense.py:87: UserWarning: Do not pass an `input_shape`/`input_dim` argument to a layer. When using Sequential models, prefer using an `Input(shape)` object as the first layer in the model instead.\n",
            "  super().__init__(activity_regularizer=activity_regularizer, **kwargs)\n"
          ]
        },
        {
          "output_type": "stream",
          "name": "stdout",
          "text": [
            "\u001b[1m78/78\u001b[0m \u001b[32m━━━━━━━━━━━━━━━━━━━━\u001b[0m\u001b[37m\u001b[0m \u001b[1m0s\u001b[0m 2ms/step\n"
          ]
        },
        {
          "output_type": "stream",
          "name": "stderr",
          "text": [
            "/usr/local/lib/python3.10/dist-packages/keras/src/layers/core/dense.py:87: UserWarning: Do not pass an `input_shape`/`input_dim` argument to a layer. When using Sequential models, prefer using an `Input(shape)` object as the first layer in the model instead.\n",
            "  super().__init__(activity_regularizer=activity_regularizer, **kwargs)\n"
          ]
        },
        {
          "output_type": "stream",
          "name": "stdout",
          "text": [
            "\u001b[1m78/78\u001b[0m \u001b[32m━━━━━━━━━━━━━━━━━━━━\u001b[0m\u001b[37m\u001b[0m \u001b[1m0s\u001b[0m 2ms/step\n"
          ]
        },
        {
          "output_type": "stream",
          "name": "stderr",
          "text": [
            "/usr/local/lib/python3.10/dist-packages/keras/src/layers/core/dense.py:87: UserWarning: Do not pass an `input_shape`/`input_dim` argument to a layer. When using Sequential models, prefer using an `Input(shape)` object as the first layer in the model instead.\n",
            "  super().__init__(activity_regularizer=activity_regularizer, **kwargs)\n"
          ]
        },
        {
          "output_type": "stream",
          "name": "stdout",
          "text": [
            "\u001b[1m78/78\u001b[0m \u001b[32m━━━━━━━━━━━━━━━━━━━━\u001b[0m\u001b[37m\u001b[0m \u001b[1m0s\u001b[0m 2ms/step\n"
          ]
        },
        {
          "output_type": "stream",
          "name": "stderr",
          "text": [
            "/usr/local/lib/python3.10/dist-packages/keras/src/layers/core/dense.py:87: UserWarning: Do not pass an `input_shape`/`input_dim` argument to a layer. When using Sequential models, prefer using an `Input(shape)` object as the first layer in the model instead.\n",
            "  super().__init__(activity_regularizer=activity_regularizer, **kwargs)\n"
          ]
        },
        {
          "output_type": "stream",
          "name": "stdout",
          "text": [
            "\u001b[1m78/78\u001b[0m \u001b[32m━━━━━━━━━━━━━━━━━━━━\u001b[0m\u001b[37m\u001b[0m \u001b[1m0s\u001b[0m 2ms/step\n"
          ]
        },
        {
          "output_type": "stream",
          "name": "stderr",
          "text": [
            "/usr/local/lib/python3.10/dist-packages/keras/src/layers/core/dense.py:87: UserWarning: Do not pass an `input_shape`/`input_dim` argument to a layer. When using Sequential models, prefer using an `Input(shape)` object as the first layer in the model instead.\n",
            "  super().__init__(activity_regularizer=activity_regularizer, **kwargs)\n"
          ]
        },
        {
          "output_type": "stream",
          "name": "stdout",
          "text": [
            "\u001b[1m78/78\u001b[0m \u001b[32m━━━━━━━━━━━━━━━━━━━━\u001b[0m\u001b[37m\u001b[0m \u001b[1m0s\u001b[0m 2ms/step\n"
          ]
        },
        {
          "output_type": "stream",
          "name": "stderr",
          "text": [
            "/usr/local/lib/python3.10/dist-packages/keras/src/layers/core/dense.py:87: UserWarning: Do not pass an `input_shape`/`input_dim` argument to a layer. When using Sequential models, prefer using an `Input(shape)` object as the first layer in the model instead.\n",
            "  super().__init__(activity_regularizer=activity_regularizer, **kwargs)\n"
          ]
        },
        {
          "output_type": "stream",
          "name": "stdout",
          "text": [
            "\u001b[1m78/78\u001b[0m \u001b[32m━━━━━━━━━━━━━━━━━━━━\u001b[0m\u001b[37m\u001b[0m \u001b[1m0s\u001b[0m 2ms/step\n"
          ]
        },
        {
          "output_type": "stream",
          "name": "stderr",
          "text": [
            "/usr/local/lib/python3.10/dist-packages/keras/src/layers/core/dense.py:87: UserWarning: Do not pass an `input_shape`/`input_dim` argument to a layer. When using Sequential models, prefer using an `Input(shape)` object as the first layer in the model instead.\n",
            "  super().__init__(activity_regularizer=activity_regularizer, **kwargs)\n"
          ]
        },
        {
          "output_type": "stream",
          "name": "stdout",
          "text": [
            "\u001b[1m78/78\u001b[0m \u001b[32m━━━━━━━━━━━━━━━━━━━━\u001b[0m\u001b[37m\u001b[0m \u001b[1m0s\u001b[0m 2ms/step\n"
          ]
        },
        {
          "output_type": "stream",
          "name": "stderr",
          "text": [
            "/usr/local/lib/python3.10/dist-packages/keras/src/layers/core/dense.py:87: UserWarning: Do not pass an `input_shape`/`input_dim` argument to a layer. When using Sequential models, prefer using an `Input(shape)` object as the first layer in the model instead.\n",
            "  super().__init__(activity_regularizer=activity_regularizer, **kwargs)\n"
          ]
        },
        {
          "output_type": "stream",
          "name": "stdout",
          "text": [
            "\u001b[1m78/78\u001b[0m \u001b[32m━━━━━━━━━━━━━━━━━━━━\u001b[0m\u001b[37m\u001b[0m \u001b[1m0s\u001b[0m 2ms/step\n"
          ]
        },
        {
          "output_type": "stream",
          "name": "stderr",
          "text": [
            "/usr/local/lib/python3.10/dist-packages/keras/src/layers/core/dense.py:87: UserWarning: Do not pass an `input_shape`/`input_dim` argument to a layer. When using Sequential models, prefer using an `Input(shape)` object as the first layer in the model instead.\n",
            "  super().__init__(activity_regularizer=activity_regularizer, **kwargs)\n"
          ]
        },
        {
          "output_type": "stream",
          "name": "stdout",
          "text": [
            "\u001b[1m78/78\u001b[0m \u001b[32m━━━━━━━━━━━━━━━━━━━━\u001b[0m\u001b[37m\u001b[0m \u001b[1m0s\u001b[0m 2ms/step\n"
          ]
        },
        {
          "output_type": "stream",
          "name": "stderr",
          "text": [
            "/usr/local/lib/python3.10/dist-packages/keras/src/layers/core/dense.py:87: UserWarning: Do not pass an `input_shape`/`input_dim` argument to a layer. When using Sequential models, prefer using an `Input(shape)` object as the first layer in the model instead.\n",
            "  super().__init__(activity_regularizer=activity_regularizer, **kwargs)\n"
          ]
        },
        {
          "output_type": "stream",
          "name": "stdout",
          "text": [
            "\u001b[1m78/78\u001b[0m \u001b[32m━━━━━━━━━━━━━━━━━━━━\u001b[0m\u001b[37m\u001b[0m \u001b[1m0s\u001b[0m 2ms/step\n"
          ]
        },
        {
          "output_type": "stream",
          "name": "stderr",
          "text": [
            "/usr/local/lib/python3.10/dist-packages/keras/src/layers/core/dense.py:87: UserWarning: Do not pass an `input_shape`/`input_dim` argument to a layer. When using Sequential models, prefer using an `Input(shape)` object as the first layer in the model instead.\n",
            "  super().__init__(activity_regularizer=activity_regularizer, **kwargs)\n"
          ]
        },
        {
          "output_type": "stream",
          "name": "stdout",
          "text": [
            "\u001b[1m78/78\u001b[0m \u001b[32m━━━━━━━━━━━━━━━━━━━━\u001b[0m\u001b[37m\u001b[0m \u001b[1m0s\u001b[0m 2ms/step\n"
          ]
        },
        {
          "output_type": "stream",
          "name": "stderr",
          "text": [
            "/usr/local/lib/python3.10/dist-packages/keras/src/layers/core/dense.py:87: UserWarning: Do not pass an `input_shape`/`input_dim` argument to a layer. When using Sequential models, prefer using an `Input(shape)` object as the first layer in the model instead.\n",
            "  super().__init__(activity_regularizer=activity_regularizer, **kwargs)\n"
          ]
        },
        {
          "output_type": "stream",
          "name": "stdout",
          "text": [
            "\u001b[1m78/78\u001b[0m \u001b[32m━━━━━━━━━━━━━━━━━━━━\u001b[0m\u001b[37m\u001b[0m \u001b[1m0s\u001b[0m 2ms/step\n"
          ]
        },
        {
          "output_type": "stream",
          "name": "stderr",
          "text": [
            "/usr/local/lib/python3.10/dist-packages/keras/src/layers/core/dense.py:87: UserWarning: Do not pass an `input_shape`/`input_dim` argument to a layer. When using Sequential models, prefer using an `Input(shape)` object as the first layer in the model instead.\n",
            "  super().__init__(activity_regularizer=activity_regularizer, **kwargs)\n"
          ]
        },
        {
          "output_type": "stream",
          "name": "stdout",
          "text": [
            "\u001b[1m78/78\u001b[0m \u001b[32m━━━━━━━━━━━━━━━━━━━━\u001b[0m\u001b[37m\u001b[0m \u001b[1m0s\u001b[0m 2ms/step\n"
          ]
        },
        {
          "output_type": "stream",
          "name": "stderr",
          "text": [
            "/usr/local/lib/python3.10/dist-packages/keras/src/layers/core/dense.py:87: UserWarning: Do not pass an `input_shape`/`input_dim` argument to a layer. When using Sequential models, prefer using an `Input(shape)` object as the first layer in the model instead.\n",
            "  super().__init__(activity_regularizer=activity_regularizer, **kwargs)\n"
          ]
        },
        {
          "output_type": "stream",
          "name": "stdout",
          "text": [
            "\u001b[1m78/78\u001b[0m \u001b[32m━━━━━━━━━━━━━━━━━━━━\u001b[0m\u001b[37m\u001b[0m \u001b[1m0s\u001b[0m 2ms/step\n"
          ]
        },
        {
          "output_type": "stream",
          "name": "stderr",
          "text": [
            "/usr/local/lib/python3.10/dist-packages/keras/src/layers/core/dense.py:87: UserWarning: Do not pass an `input_shape`/`input_dim` argument to a layer. When using Sequential models, prefer using an `Input(shape)` object as the first layer in the model instead.\n",
            "  super().__init__(activity_regularizer=activity_regularizer, **kwargs)\n"
          ]
        },
        {
          "output_type": "stream",
          "name": "stdout",
          "text": [
            "\u001b[1m78/78\u001b[0m \u001b[32m━━━━━━━━━━━━━━━━━━━━\u001b[0m\u001b[37m\u001b[0m \u001b[1m0s\u001b[0m 2ms/step\n"
          ]
        },
        {
          "output_type": "stream",
          "name": "stderr",
          "text": [
            "/usr/local/lib/python3.10/dist-packages/keras/src/layers/core/dense.py:87: UserWarning: Do not pass an `input_shape`/`input_dim` argument to a layer. When using Sequential models, prefer using an `Input(shape)` object as the first layer in the model instead.\n",
            "  super().__init__(activity_regularizer=activity_regularizer, **kwargs)\n"
          ]
        },
        {
          "output_type": "stream",
          "name": "stdout",
          "text": [
            "\u001b[1m78/78\u001b[0m \u001b[32m━━━━━━━━━━━━━━━━━━━━\u001b[0m\u001b[37m\u001b[0m \u001b[1m0s\u001b[0m 2ms/step\n"
          ]
        },
        {
          "output_type": "stream",
          "name": "stderr",
          "text": [
            "/usr/local/lib/python3.10/dist-packages/keras/src/layers/core/dense.py:87: UserWarning: Do not pass an `input_shape`/`input_dim` argument to a layer. When using Sequential models, prefer using an `Input(shape)` object as the first layer in the model instead.\n",
            "  super().__init__(activity_regularizer=activity_regularizer, **kwargs)\n"
          ]
        },
        {
          "output_type": "stream",
          "name": "stdout",
          "text": [
            "\u001b[1m78/78\u001b[0m \u001b[32m━━━━━━━━━━━━━━━━━━━━\u001b[0m\u001b[37m\u001b[0m \u001b[1m0s\u001b[0m 2ms/step\n"
          ]
        },
        {
          "output_type": "stream",
          "name": "stderr",
          "text": [
            "/usr/local/lib/python3.10/dist-packages/keras/src/layers/core/dense.py:87: UserWarning: Do not pass an `input_shape`/`input_dim` argument to a layer. When using Sequential models, prefer using an `Input(shape)` object as the first layer in the model instead.\n",
            "  super().__init__(activity_regularizer=activity_regularizer, **kwargs)\n"
          ]
        },
        {
          "output_type": "stream",
          "name": "stdout",
          "text": [
            "\u001b[1m78/78\u001b[0m \u001b[32m━━━━━━━━━━━━━━━━━━━━\u001b[0m\u001b[37m\u001b[0m \u001b[1m0s\u001b[0m 3ms/step\n"
          ]
        },
        {
          "output_type": "stream",
          "name": "stderr",
          "text": [
            "/usr/local/lib/python3.10/dist-packages/keras/src/layers/core/dense.py:87: UserWarning: Do not pass an `input_shape`/`input_dim` argument to a layer. When using Sequential models, prefer using an `Input(shape)` object as the first layer in the model instead.\n",
            "  super().__init__(activity_regularizer=activity_regularizer, **kwargs)\n"
          ]
        },
        {
          "output_type": "stream",
          "name": "stdout",
          "text": [
            "\u001b[1m78/78\u001b[0m \u001b[32m━━━━━━━━━━━━━━━━━━━━\u001b[0m\u001b[37m\u001b[0m \u001b[1m0s\u001b[0m 2ms/step\n"
          ]
        },
        {
          "output_type": "stream",
          "name": "stderr",
          "text": [
            "/usr/local/lib/python3.10/dist-packages/keras/src/layers/core/dense.py:87: UserWarning: Do not pass an `input_shape`/`input_dim` argument to a layer. When using Sequential models, prefer using an `Input(shape)` object as the first layer in the model instead.\n",
            "  super().__init__(activity_regularizer=activity_regularizer, **kwargs)\n"
          ]
        },
        {
          "output_type": "stream",
          "name": "stdout",
          "text": [
            "\u001b[1m78/78\u001b[0m \u001b[32m━━━━━━━━━━━━━━━━━━━━\u001b[0m\u001b[37m\u001b[0m \u001b[1m0s\u001b[0m 2ms/step\n"
          ]
        },
        {
          "output_type": "stream",
          "name": "stderr",
          "text": [
            "/usr/local/lib/python3.10/dist-packages/keras/src/layers/core/dense.py:87: UserWarning: Do not pass an `input_shape`/`input_dim` argument to a layer. When using Sequential models, prefer using an `Input(shape)` object as the first layer in the model instead.\n",
            "  super().__init__(activity_regularizer=activity_regularizer, **kwargs)\n"
          ]
        },
        {
          "output_type": "stream",
          "name": "stdout",
          "text": [
            "\u001b[1m78/78\u001b[0m \u001b[32m━━━━━━━━━━━━━━━━━━━━\u001b[0m\u001b[37m\u001b[0m \u001b[1m0s\u001b[0m 2ms/step\n"
          ]
        },
        {
          "output_type": "stream",
          "name": "stderr",
          "text": [
            "/usr/local/lib/python3.10/dist-packages/keras/src/layers/core/dense.py:87: UserWarning: Do not pass an `input_shape`/`input_dim` argument to a layer. When using Sequential models, prefer using an `Input(shape)` object as the first layer in the model instead.\n",
            "  super().__init__(activity_regularizer=activity_regularizer, **kwargs)\n"
          ]
        },
        {
          "output_type": "stream",
          "name": "stdout",
          "text": [
            "\u001b[1m78/78\u001b[0m \u001b[32m━━━━━━━━━━━━━━━━━━━━\u001b[0m\u001b[37m\u001b[0m \u001b[1m0s\u001b[0m 2ms/step\n"
          ]
        },
        {
          "output_type": "stream",
          "name": "stderr",
          "text": [
            "/usr/local/lib/python3.10/dist-packages/keras/src/layers/core/dense.py:87: UserWarning: Do not pass an `input_shape`/`input_dim` argument to a layer. When using Sequential models, prefer using an `Input(shape)` object as the first layer in the model instead.\n",
            "  super().__init__(activity_regularizer=activity_regularizer, **kwargs)\n"
          ]
        },
        {
          "output_type": "stream",
          "name": "stdout",
          "text": [
            "\u001b[1m78/78\u001b[0m \u001b[32m━━━━━━━━━━━━━━━━━━━━\u001b[0m\u001b[37m\u001b[0m \u001b[1m0s\u001b[0m 2ms/step\n"
          ]
        },
        {
          "output_type": "stream",
          "name": "stderr",
          "text": [
            "/usr/local/lib/python3.10/dist-packages/keras/src/layers/core/dense.py:87: UserWarning: Do not pass an `input_shape`/`input_dim` argument to a layer. When using Sequential models, prefer using an `Input(shape)` object as the first layer in the model instead.\n",
            "  super().__init__(activity_regularizer=activity_regularizer, **kwargs)\n"
          ]
        },
        {
          "output_type": "stream",
          "name": "stdout",
          "text": [
            "\u001b[1m78/78\u001b[0m \u001b[32m━━━━━━━━━━━━━━━━━━━━\u001b[0m\u001b[37m\u001b[0m \u001b[1m0s\u001b[0m 2ms/step\n"
          ]
        },
        {
          "output_type": "stream",
          "name": "stderr",
          "text": [
            "/usr/local/lib/python3.10/dist-packages/keras/src/layers/core/dense.py:87: UserWarning: Do not pass an `input_shape`/`input_dim` argument to a layer. When using Sequential models, prefer using an `Input(shape)` object as the first layer in the model instead.\n",
            "  super().__init__(activity_regularizer=activity_regularizer, **kwargs)\n"
          ]
        },
        {
          "output_type": "stream",
          "name": "stdout",
          "text": [
            "\u001b[1m78/78\u001b[0m \u001b[32m━━━━━━━━━━━━━━━━━━━━\u001b[0m\u001b[37m\u001b[0m \u001b[1m0s\u001b[0m 2ms/step\n"
          ]
        },
        {
          "output_type": "stream",
          "name": "stderr",
          "text": [
            "/usr/local/lib/python3.10/dist-packages/keras/src/layers/core/dense.py:87: UserWarning: Do not pass an `input_shape`/`input_dim` argument to a layer. When using Sequential models, prefer using an `Input(shape)` object as the first layer in the model instead.\n",
            "  super().__init__(activity_regularizer=activity_regularizer, **kwargs)\n"
          ]
        },
        {
          "output_type": "stream",
          "name": "stdout",
          "text": [
            "\u001b[1m78/78\u001b[0m \u001b[32m━━━━━━━━━━━━━━━━━━━━\u001b[0m\u001b[37m\u001b[0m \u001b[1m0s\u001b[0m 2ms/step\n"
          ]
        },
        {
          "output_type": "stream",
          "name": "stderr",
          "text": [
            "/usr/local/lib/python3.10/dist-packages/keras/src/layers/core/dense.py:87: UserWarning: Do not pass an `input_shape`/`input_dim` argument to a layer. When using Sequential models, prefer using an `Input(shape)` object as the first layer in the model instead.\n",
            "  super().__init__(activity_regularizer=activity_regularizer, **kwargs)\n"
          ]
        },
        {
          "output_type": "stream",
          "name": "stdout",
          "text": [
            "\u001b[1m78/78\u001b[0m \u001b[32m━━━━━━━━━━━━━━━━━━━━\u001b[0m\u001b[37m\u001b[0m \u001b[1m0s\u001b[0m 2ms/step\n"
          ]
        },
        {
          "output_type": "stream",
          "name": "stderr",
          "text": [
            "/usr/local/lib/python3.10/dist-packages/keras/src/layers/core/dense.py:87: UserWarning: Do not pass an `input_shape`/`input_dim` argument to a layer. When using Sequential models, prefer using an `Input(shape)` object as the first layer in the model instead.\n",
            "  super().__init__(activity_regularizer=activity_regularizer, **kwargs)\n"
          ]
        },
        {
          "output_type": "stream",
          "name": "stdout",
          "text": [
            "\u001b[1m78/78\u001b[0m \u001b[32m━━━━━━━━━━━━━━━━━━━━\u001b[0m\u001b[37m\u001b[0m \u001b[1m0s\u001b[0m 2ms/step\n"
          ]
        },
        {
          "output_type": "stream",
          "name": "stderr",
          "text": [
            "/usr/local/lib/python3.10/dist-packages/keras/src/layers/core/dense.py:87: UserWarning: Do not pass an `input_shape`/`input_dim` argument to a layer. When using Sequential models, prefer using an `Input(shape)` object as the first layer in the model instead.\n",
            "  super().__init__(activity_regularizer=activity_regularizer, **kwargs)\n"
          ]
        },
        {
          "output_type": "stream",
          "name": "stdout",
          "text": [
            "\u001b[1m78/78\u001b[0m \u001b[32m━━━━━━━━━━━━━━━━━━━━\u001b[0m\u001b[37m\u001b[0m \u001b[1m0s\u001b[0m 2ms/step\n"
          ]
        },
        {
          "output_type": "stream",
          "name": "stderr",
          "text": [
            "/usr/local/lib/python3.10/dist-packages/keras/src/layers/core/dense.py:87: UserWarning: Do not pass an `input_shape`/`input_dim` argument to a layer. When using Sequential models, prefer using an `Input(shape)` object as the first layer in the model instead.\n",
            "  super().__init__(activity_regularizer=activity_regularizer, **kwargs)\n"
          ]
        },
        {
          "output_type": "stream",
          "name": "stdout",
          "text": [
            "\u001b[1m78/78\u001b[0m \u001b[32m━━━━━━━━━━━━━━━━━━━━\u001b[0m\u001b[37m\u001b[0m \u001b[1m0s\u001b[0m 2ms/step\n"
          ]
        },
        {
          "output_type": "stream",
          "name": "stderr",
          "text": [
            "/usr/local/lib/python3.10/dist-packages/keras/src/layers/core/dense.py:87: UserWarning: Do not pass an `input_shape`/`input_dim` argument to a layer. When using Sequential models, prefer using an `Input(shape)` object as the first layer in the model instead.\n",
            "  super().__init__(activity_regularizer=activity_regularizer, **kwargs)\n"
          ]
        },
        {
          "output_type": "stream",
          "name": "stdout",
          "text": [
            "\u001b[1m78/78\u001b[0m \u001b[32m━━━━━━━━━━━━━━━━━━━━\u001b[0m\u001b[37m\u001b[0m \u001b[1m0s\u001b[0m 2ms/step\n"
          ]
        },
        {
          "output_type": "stream",
          "name": "stderr",
          "text": [
            "/usr/local/lib/python3.10/dist-packages/keras/src/layers/core/dense.py:87: UserWarning: Do not pass an `input_shape`/`input_dim` argument to a layer. When using Sequential models, prefer using an `Input(shape)` object as the first layer in the model instead.\n",
            "  super().__init__(activity_regularizer=activity_regularizer, **kwargs)\n"
          ]
        },
        {
          "output_type": "stream",
          "name": "stdout",
          "text": [
            "\u001b[1m78/78\u001b[0m \u001b[32m━━━━━━━━━━━━━━━━━━━━\u001b[0m\u001b[37m\u001b[0m \u001b[1m0s\u001b[0m 2ms/step\n"
          ]
        },
        {
          "output_type": "stream",
          "name": "stderr",
          "text": [
            "/usr/local/lib/python3.10/dist-packages/keras/src/layers/core/dense.py:87: UserWarning: Do not pass an `input_shape`/`input_dim` argument to a layer. When using Sequential models, prefer using an `Input(shape)` object as the first layer in the model instead.\n",
            "  super().__init__(activity_regularizer=activity_regularizer, **kwargs)\n"
          ]
        },
        {
          "output_type": "stream",
          "name": "stdout",
          "text": [
            "\u001b[1m78/78\u001b[0m \u001b[32m━━━━━━━━━━━━━━━━━━━━\u001b[0m\u001b[37m\u001b[0m \u001b[1m0s\u001b[0m 2ms/step\n"
          ]
        },
        {
          "output_type": "stream",
          "name": "stderr",
          "text": [
            "/usr/local/lib/python3.10/dist-packages/keras/src/layers/core/dense.py:87: UserWarning: Do not pass an `input_shape`/`input_dim` argument to a layer. When using Sequential models, prefer using an `Input(shape)` object as the first layer in the model instead.\n",
            "  super().__init__(activity_regularizer=activity_regularizer, **kwargs)\n"
          ]
        },
        {
          "output_type": "stream",
          "name": "stdout",
          "text": [
            "\u001b[1m78/78\u001b[0m \u001b[32m━━━━━━━━━━━━━━━━━━━━\u001b[0m\u001b[37m\u001b[0m \u001b[1m0s\u001b[0m 2ms/step\n"
          ]
        },
        {
          "output_type": "stream",
          "name": "stderr",
          "text": [
            "/usr/local/lib/python3.10/dist-packages/keras/src/layers/core/dense.py:87: UserWarning: Do not pass an `input_shape`/`input_dim` argument to a layer. When using Sequential models, prefer using an `Input(shape)` object as the first layer in the model instead.\n",
            "  super().__init__(activity_regularizer=activity_regularizer, **kwargs)\n"
          ]
        },
        {
          "output_type": "stream",
          "name": "stdout",
          "text": [
            "\u001b[1m78/78\u001b[0m \u001b[32m━━━━━━━━━━━━━━━━━━━━\u001b[0m\u001b[37m\u001b[0m \u001b[1m0s\u001b[0m 2ms/step\n"
          ]
        },
        {
          "output_type": "stream",
          "name": "stderr",
          "text": [
            "/usr/local/lib/python3.10/dist-packages/keras/src/layers/core/dense.py:87: UserWarning: Do not pass an `input_shape`/`input_dim` argument to a layer. When using Sequential models, prefer using an `Input(shape)` object as the first layer in the model instead.\n",
            "  super().__init__(activity_regularizer=activity_regularizer, **kwargs)\n"
          ]
        },
        {
          "output_type": "stream",
          "name": "stdout",
          "text": [
            "\u001b[1m78/78\u001b[0m \u001b[32m━━━━━━━━━━━━━━━━━━━━\u001b[0m\u001b[37m\u001b[0m \u001b[1m0s\u001b[0m 2ms/step\n"
          ]
        },
        {
          "output_type": "stream",
          "name": "stderr",
          "text": [
            "/usr/local/lib/python3.10/dist-packages/keras/src/layers/core/dense.py:87: UserWarning: Do not pass an `input_shape`/`input_dim` argument to a layer. When using Sequential models, prefer using an `Input(shape)` object as the first layer in the model instead.\n",
            "  super().__init__(activity_regularizer=activity_regularizer, **kwargs)\n"
          ]
        },
        {
          "output_type": "stream",
          "name": "stdout",
          "text": [
            "\u001b[1m78/78\u001b[0m \u001b[32m━━━━━━━━━━━━━━━━━━━━\u001b[0m\u001b[37m\u001b[0m \u001b[1m0s\u001b[0m 2ms/step\n"
          ]
        },
        {
          "output_type": "stream",
          "name": "stderr",
          "text": [
            "/usr/local/lib/python3.10/dist-packages/keras/src/layers/core/dense.py:87: UserWarning: Do not pass an `input_shape`/`input_dim` argument to a layer. When using Sequential models, prefer using an `Input(shape)` object as the first layer in the model instead.\n",
            "  super().__init__(activity_regularizer=activity_regularizer, **kwargs)\n"
          ]
        },
        {
          "output_type": "stream",
          "name": "stdout",
          "text": [
            "\u001b[1m78/78\u001b[0m \u001b[32m━━━━━━━━━━━━━━━━━━━━\u001b[0m\u001b[37m\u001b[0m \u001b[1m0s\u001b[0m 2ms/step\n"
          ]
        },
        {
          "output_type": "stream",
          "name": "stderr",
          "text": [
            "/usr/local/lib/python3.10/dist-packages/keras/src/layers/core/dense.py:87: UserWarning: Do not pass an `input_shape`/`input_dim` argument to a layer. When using Sequential models, prefer using an `Input(shape)` object as the first layer in the model instead.\n",
            "  super().__init__(activity_regularizer=activity_regularizer, **kwargs)\n"
          ]
        },
        {
          "output_type": "stream",
          "name": "stdout",
          "text": [
            "\u001b[1m78/78\u001b[0m \u001b[32m━━━━━━━━━━━━━━━━━━━━\u001b[0m\u001b[37m\u001b[0m \u001b[1m0s\u001b[0m 2ms/step\n"
          ]
        },
        {
          "output_type": "stream",
          "name": "stderr",
          "text": [
            "/usr/local/lib/python3.10/dist-packages/keras/src/layers/core/dense.py:87: UserWarning: Do not pass an `input_shape`/`input_dim` argument to a layer. When using Sequential models, prefer using an `Input(shape)` object as the first layer in the model instead.\n",
            "  super().__init__(activity_regularizer=activity_regularizer, **kwargs)\n"
          ]
        },
        {
          "output_type": "stream",
          "name": "stdout",
          "text": [
            "\u001b[1m78/78\u001b[0m \u001b[32m━━━━━━━━━━━━━━━━━━━━\u001b[0m\u001b[37m\u001b[0m \u001b[1m0s\u001b[0m 2ms/step\n"
          ]
        },
        {
          "output_type": "stream",
          "name": "stderr",
          "text": [
            "/usr/local/lib/python3.10/dist-packages/keras/src/layers/core/dense.py:87: UserWarning: Do not pass an `input_shape`/`input_dim` argument to a layer. When using Sequential models, prefer using an `Input(shape)` object as the first layer in the model instead.\n",
            "  super().__init__(activity_regularizer=activity_regularizer, **kwargs)\n"
          ]
        },
        {
          "output_type": "stream",
          "name": "stdout",
          "text": [
            "\u001b[1m78/78\u001b[0m \u001b[32m━━━━━━━━━━━━━━━━━━━━\u001b[0m\u001b[37m\u001b[0m \u001b[1m0s\u001b[0m 2ms/step\n"
          ]
        },
        {
          "output_type": "stream",
          "name": "stderr",
          "text": [
            "/usr/local/lib/python3.10/dist-packages/keras/src/layers/core/dense.py:87: UserWarning: Do not pass an `input_shape`/`input_dim` argument to a layer. When using Sequential models, prefer using an `Input(shape)` object as the first layer in the model instead.\n",
            "  super().__init__(activity_regularizer=activity_regularizer, **kwargs)\n"
          ]
        },
        {
          "output_type": "stream",
          "name": "stdout",
          "text": [
            "\u001b[1m78/78\u001b[0m \u001b[32m━━━━━━━━━━━━━━━━━━━━\u001b[0m\u001b[37m\u001b[0m \u001b[1m0s\u001b[0m 2ms/step\n"
          ]
        },
        {
          "output_type": "stream",
          "name": "stderr",
          "text": [
            "/usr/local/lib/python3.10/dist-packages/keras/src/layers/core/dense.py:87: UserWarning: Do not pass an `input_shape`/`input_dim` argument to a layer. When using Sequential models, prefer using an `Input(shape)` object as the first layer in the model instead.\n",
            "  super().__init__(activity_regularizer=activity_regularizer, **kwargs)\n"
          ]
        },
        {
          "output_type": "stream",
          "name": "stdout",
          "text": [
            "\u001b[1m78/78\u001b[0m \u001b[32m━━━━━━━━━━━━━━━━━━━━\u001b[0m\u001b[37m\u001b[0m \u001b[1m0s\u001b[0m 2ms/step\n"
          ]
        },
        {
          "output_type": "stream",
          "name": "stderr",
          "text": [
            "/usr/local/lib/python3.10/dist-packages/keras/src/layers/core/dense.py:87: UserWarning: Do not pass an `input_shape`/`input_dim` argument to a layer. When using Sequential models, prefer using an `Input(shape)` object as the first layer in the model instead.\n",
            "  super().__init__(activity_regularizer=activity_regularizer, **kwargs)\n"
          ]
        },
        {
          "output_type": "stream",
          "name": "stdout",
          "text": [
            "\u001b[1m78/78\u001b[0m \u001b[32m━━━━━━━━━━━━━━━━━━━━\u001b[0m\u001b[37m\u001b[0m \u001b[1m0s\u001b[0m 2ms/step\n"
          ]
        },
        {
          "output_type": "stream",
          "name": "stderr",
          "text": [
            "/usr/local/lib/python3.10/dist-packages/keras/src/layers/core/dense.py:87: UserWarning: Do not pass an `input_shape`/`input_dim` argument to a layer. When using Sequential models, prefer using an `Input(shape)` object as the first layer in the model instead.\n",
            "  super().__init__(activity_regularizer=activity_regularizer, **kwargs)\n"
          ]
        },
        {
          "output_type": "stream",
          "name": "stdout",
          "text": [
            "\u001b[1m78/78\u001b[0m \u001b[32m━━━━━━━━━━━━━━━━━━━━\u001b[0m\u001b[37m\u001b[0m \u001b[1m0s\u001b[0m 2ms/step\n",
            "Average Mean Prediction: 0.3121\n",
            "Average Standard Deviation: 0.2378\n"
          ]
        }
      ]
    },
    {
      "cell_type": "code",
      "source": [
        "import numpy as np\n",
        "from sklearn.model_selection import train_test_split\n",
        "from sklearn.ensemble import RandomForestClassifier\n",
        "from xgboost import XGBClassifier\n",
        "from sklearn.linear_model import ElasticNet\n",
        "from sklearn.ensemble import StackingClassifier\n",
        "from sklearn.metrics import accuracy_score\n",
        "from tensorflow.keras.models import Sequential\n",
        "from tensorflow.keras.layers import Dense\n",
        "\n",
        "\n",
        "# Define Random Forest and XGBoost models\n",
        "rf_model = RandomForestClassifier(n_estimators=100, random_state=42)\n",
        "xgb_model = XGBClassifier(n_estimators=100, use_label_encoder=False, eval_metric='logloss', random_state=42)\n",
        "\n",
        "# Define the Neural Network model\n",
        "def create_nn_model():\n",
        "    model = Sequential()\n",
        "    model.add(Dense(units=128, activation='relu', input_shape=(X_train.shape[1],)))\n",
        "    model.add(Dense(units=128, activation='relu'))\n",
        "    model.add(Dense(units=1, activation='sigmoid'))\n",
        "    model.compile(optimizer='adam', loss='binary_crossentropy', metrics=['accuracy'])\n",
        "    return model\n",
        "\n",
        "nn_model = create_nn_model()\n",
        "\n",
        "# Train Neural Network on the training set\n",
        "nn_model.fit(X_train, y_train, epochs=10, batch_size=64, verbose=0)\n",
        "\n",
        "# Generate predictions from the neural network to use in stacking\n",
        "nn_preds_train = nn_model.predict(X_train).flatten()\n",
        "nn_preds_test = nn_model.predict(X_test).flatten()\n",
        "\n",
        "# Add NN predictions as a feature to X_train and X_test\n",
        "X_train_stack = np.hstack([X_train, nn_preds_train.reshape(-1, 1)])\n",
        "X_test_stack = np.hstack([X_test, nn_preds_test.reshape(-1, 1)])\n",
        "\n",
        "# Combine RF and XGB predictions as additional features\n",
        "rf_model.fit(X_train, y_train)\n",
        "xgb_model.fit(X_train, y_train)\n",
        "\n",
        "rf_preds_train = rf_model.predict_proba(X_train)[:, 1]\n",
        "rf_preds_test = rf_model.predict_proba(X_test)[:, 1]\n",
        "xgb_preds_train = xgb_model.predict_proba(X_train)[:, 1]\n",
        "xgb_preds_test = xgb_model.predict_proba(X_test)[:, 1]\n",
        "\n",
        "# Create the final stacking dataset\n",
        "X_train_final = np.hstack([X_train_stack, rf_preds_train.reshape(-1, 1), xgb_preds_train.reshape(-1, 1)])\n",
        "X_test_final = np.hstack([X_test_stack, rf_preds_test.reshape(-1, 1), xgb_preds_test.reshape(-1, 1)])\n",
        "\n",
        "# Meta-model (ElasticNet)\n",
        "meta_model = ElasticNet(alpha=0.5, l1_ratio=0.5, random_state=42)\n",
        "meta_model.fit(X_train_final, y_train)\n",
        "\n",
        "# Predict using the stacking model\n",
        "stacking_preds = meta_model.predict(X_test_final)\n",
        "stacking_preds_binary = (stacking_preds > 0.5).astype(int)\n",
        "\n",
        "# Evaluate accuracy of the stacking model\n",
        "accuracy = accuracy_score(y_test, stacking_preds_binary)\n",
        "print(f\"Stacking Model Accuracy: {accuracy:.4f}\")\n",
        "\n",
        "# Perform bootstrapping for uncertainty analysis\n",
        "n_bootstraps = 100\n",
        "bootstrap_preds = np.zeros((n_bootstraps, X_test.shape[0]))\n",
        "\n",
        "for i in range(n_bootstraps):\n",
        "    # Sample with replacement from the training data\n",
        "    X_bootstrap, _, y_bootstrap, _ = train_test_split(X_train_final, y_train, test_size=0.3, random_state=i)\n",
        "\n",
        "    # Fit the meta-model on the bootstrapped dataset\n",
        "    meta_model.fit(X_bootstrap, y_bootstrap)\n",
        "\n",
        "    # Get predictions for the test set\n",
        "    bootstrap_preds[i] = meta_model.predict(X_test_final)\n",
        "\n",
        "# Calculate the mean and standard deviation of predictions\n",
        "mean_preds = np.mean(bootstrap_preds, axis=0)  # Mean predictions\n",
        "std_preds = np.std(bootstrap_preds, axis=0)    # Standard deviation (uncertainty) of predictions\n",
        "\n",
        "# Calculate the overall average of mean predictions and standard deviations\n",
        "average_mean_prediction = np.mean(mean_preds)\n",
        "average_std_deviation = np.mean(std_preds)\n",
        "\n",
        "# Display the results\n",
        "print(f\"Average Mean Prediction: {average_mean_prediction:.4f}\")\n",
        "print(f\"Average Standard Deviation: {average_std_deviation:.4f}\")\n"
      ],
      "metadata": {
        "colab": {
          "base_uri": "https://localhost:8080/"
        },
        "id": "Mw0D84oae4nr",
        "outputId": "aa71aa8a-19eb-4f33-856f-3c1d211778ea"
      },
      "execution_count": null,
      "outputs": [
        {
          "output_type": "stream",
          "name": "stderr",
          "text": [
            "/usr/local/lib/python3.10/dist-packages/keras/src/layers/core/dense.py:87: UserWarning: Do not pass an `input_shape`/`input_dim` argument to a layer. When using Sequential models, prefer using an `Input(shape)` object as the first layer in the model instead.\n",
            "  super().__init__(activity_regularizer=activity_regularizer, **kwargs)\n"
          ]
        },
        {
          "output_type": "stream",
          "name": "stdout",
          "text": [
            "\u001b[1m311/311\u001b[0m \u001b[32m━━━━━━━━━━━━━━━━━━━━\u001b[0m\u001b[37m\u001b[0m \u001b[1m1s\u001b[0m 2ms/step\n",
            "\u001b[1m78/78\u001b[0m \u001b[32m━━━━━━━━━━━━━━━━━━━━\u001b[0m\u001b[37m\u001b[0m \u001b[1m0s\u001b[0m 2ms/step\n"
          ]
        },
        {
          "output_type": "stream",
          "name": "stderr",
          "text": [
            "/usr/local/lib/python3.10/dist-packages/xgboost/core.py:158: UserWarning: [10:19:15] WARNING: /workspace/src/learner.cc:740: \n",
            "Parameters: { \"use_label_encoder\" } are not used.\n",
            "\n",
            "  warnings.warn(smsg, UserWarning)\n"
          ]
        },
        {
          "output_type": "stream",
          "name": "stdout",
          "text": [
            "Stacking Model Accuracy: 0.6851\n",
            "Average Mean Prediction: 0.5113\n",
            "Average Standard Deviation: 0.0057\n"
          ]
        }
      ]
    },
    {
      "cell_type": "markdown",
      "source": [
        "## **17 columns**"
      ],
      "metadata": {
        "id": "NYDLlW0cf8G2"
      }
    },
    {
      "cell_type": "code",
      "source": [
        "import numpy as np\n",
        "import matplotlib.pyplot as plt\n",
        "from sklearn.model_selection import train_test_split\n",
        "from sklearn.ensemble import RandomForestClassifier\n",
        "from sklearn.metrics import accuracy_score\n",
        "\n",
        "# Define the Random Forest model\n",
        "rf_model = RandomForestClassifier(n_estimators=100, random_state=42)\n",
        "\n",
        "# Fit the Random Forest model\n",
        "rf_model.fit(X_train, y_train)\n",
        "\n",
        "# Perform bootstrapping for uncertainty analysis\n",
        "n_bootstraps = 100\n",
        "bootstrap_preds = np.zeros((n_bootstraps, X_test.shape[0]))\n",
        "\n",
        "# Perform bootstrapping\n",
        "for i in range(n_bootstraps):\n",
        "    # Sample with replacement from the training data\n",
        "    X_bootstrap, _, y_bootstrap, _ = train_test_split(X_train, y_train, test_size=0.3, random_state=i)\n",
        "\n",
        "    # Re-fit the Random Forest model on the bootstrapped dataset\n",
        "    rf_model.fit(X_bootstrap, y_bootstrap)\n",
        "\n",
        "    # Get predictions for the test set\n",
        "    bootstrap_preds[i] = rf_model.predict(X_test)\n",
        "\n",
        "# Calculate the mean and standard deviation of predictions\n",
        "mean_preds = np.mean(bootstrap_preds, axis=0)  # Mean predictions\n",
        "std_preds = np.std(bootstrap_preds, axis=0)    # Standard deviation (uncertainty) of predictions\n",
        "\n",
        "# Display the results for each test sample\n",
        "print(\"Uncertainty Analysis for Test Samples (Random Forest):\")\n",
        "for idx, (mean, std) in enumerate(zip(mean_preds, std_preds)):\n",
        "    print(f\"Test Sample {idx + 1}: Mean Prediction = {mean:.4f}, Std Dev = {std:.4f}\")\n",
        "\n",
        "# Calculate the overall average of mean predictions and standard deviations\n",
        "average_mean_prediction = np.mean(mean_preds)\n",
        "average_std_deviation = np.mean(std_preds)\n",
        "\n",
        "# Display the overall averages\n",
        "print(f\"Average Mean Prediction: {average_mean_prediction:.4f}\")\n",
        "print(f\"Average Standard Deviation: {average_std_deviation:.4f}\")\n",
        "\n",
        "# Visualize the uncertainty (standard deviation) as a bar plot\n",
        "plt.figure(figsize=(10, 6))\n",
        "plt.bar(range(len(std_preds)), std_preds, alpha=0.7, label=\"Random Forest Uncertainty (Std Dev)\")\n",
        "plt.title(\"Uncertainty in Random Forest Predictions (Standard Deviation)\")\n",
        "plt.ylabel(\"Standard Deviation of Predictions\")\n",
        "plt.xlabel(\"Test Samples\")\n",
        "plt.legend()\n",
        "plt.show()"
      ],
      "metadata": {
        "id": "FUxWUETmfc6W",
        "colab": {
          "base_uri": "https://localhost:8080/",
          "height": 1000
        },
        "outputId": "f92ce927-39af-4d6a-d692-41225de2df4b"
      },
      "execution_count": null,
      "outputs": [
        {
          "output_type": "stream",
          "name": "stdout",
          "text": [
            "Uncertainty Analysis for Test Samples (Random Forest):\n",
            "Test Sample 1: Mean Prediction = 1.0000, Std Dev = 0.0000\n",
            "Test Sample 2: Mean Prediction = 1.0000, Std Dev = 0.0000\n",
            "Test Sample 3: Mean Prediction = 1.0000, Std Dev = 0.0000\n",
            "Test Sample 4: Mean Prediction = 0.0000, Std Dev = 0.0000\n",
            "Test Sample 5: Mean Prediction = 1.0000, Std Dev = 0.0000\n",
            "Test Sample 6: Mean Prediction = 0.0000, Std Dev = 0.0000\n",
            "Test Sample 7: Mean Prediction = 1.0000, Std Dev = 0.0000\n",
            "Test Sample 8: Mean Prediction = 1.0000, Std Dev = 0.0000\n",
            "Test Sample 9: Mean Prediction = 1.0000, Std Dev = 0.0000\n",
            "Test Sample 10: Mean Prediction = 0.0000, Std Dev = 0.0000\n",
            "Test Sample 11: Mean Prediction = 0.0000, Std Dev = 0.0000\n",
            "Test Sample 12: Mean Prediction = 0.0000, Std Dev = 0.0000\n",
            "Test Sample 13: Mean Prediction = 1.0000, Std Dev = 0.0000\n",
            "Test Sample 14: Mean Prediction = 0.0000, Std Dev = 0.0000\n",
            "Test Sample 15: Mean Prediction = 0.0000, Std Dev = 0.0000\n",
            "Test Sample 16: Mean Prediction = 1.0000, Std Dev = 0.0000\n",
            "Test Sample 17: Mean Prediction = 0.0000, Std Dev = 0.0000\n",
            "Test Sample 18: Mean Prediction = 0.0000, Std Dev = 0.0000\n",
            "Test Sample 19: Mean Prediction = 0.0000, Std Dev = 0.0000\n",
            "Test Sample 20: Mean Prediction = 0.0000, Std Dev = 0.0000\n",
            "Test Sample 21: Mean Prediction = 0.0000, Std Dev = 0.0000\n",
            "Test Sample 22: Mean Prediction = 0.0000, Std Dev = 0.0000\n",
            "Test Sample 23: Mean Prediction = 0.0000, Std Dev = 0.0000\n",
            "Test Sample 24: Mean Prediction = 1.0000, Std Dev = 0.0000\n",
            "Test Sample 25: Mean Prediction = 0.0000, Std Dev = 0.0000\n",
            "Test Sample 26: Mean Prediction = 0.0000, Std Dev = 0.0000\n",
            "Test Sample 27: Mean Prediction = 0.0000, Std Dev = 0.0000\n",
            "Test Sample 28: Mean Prediction = 1.0000, Std Dev = 0.0000\n",
            "Test Sample 29: Mean Prediction = 0.0000, Std Dev = 0.0000\n",
            "Test Sample 30: Mean Prediction = 1.0000, Std Dev = 0.0000\n",
            "Test Sample 31: Mean Prediction = 0.2400, Std Dev = 0.4271\n",
            "Test Sample 32: Mean Prediction = 1.0000, Std Dev = 0.0000\n",
            "Test Sample 33: Mean Prediction = 1.0000, Std Dev = 0.0000\n",
            "Test Sample 34: Mean Prediction = 0.0000, Std Dev = 0.0000\n",
            "Test Sample 35: Mean Prediction = 1.0000, Std Dev = 0.0000\n",
            "Test Sample 36: Mean Prediction = 1.0000, Std Dev = 0.0000\n",
            "Test Sample 37: Mean Prediction = 0.9800, Std Dev = 0.1400\n",
            "Test Sample 38: Mean Prediction = 0.0000, Std Dev = 0.0000\n",
            "Test Sample 39: Mean Prediction = 0.0000, Std Dev = 0.0000\n",
            "Test Sample 40: Mean Prediction = 0.0000, Std Dev = 0.0000\n",
            "Test Sample 41: Mean Prediction = 0.2500, Std Dev = 0.4330\n",
            "Test Sample 42: Mean Prediction = 1.0000, Std Dev = 0.0000\n",
            "Test Sample 43: Mean Prediction = 0.0000, Std Dev = 0.0000\n",
            "Test Sample 44: Mean Prediction = 1.0000, Std Dev = 0.0000\n",
            "Test Sample 45: Mean Prediction = 0.0000, Std Dev = 0.0000\n",
            "Test Sample 46: Mean Prediction = 1.0000, Std Dev = 0.0000\n",
            "Test Sample 47: Mean Prediction = 1.0000, Std Dev = 0.0000\n",
            "Test Sample 48: Mean Prediction = 1.0000, Std Dev = 0.0000\n",
            "Test Sample 49: Mean Prediction = 1.0000, Std Dev = 0.0000\n",
            "Test Sample 50: Mean Prediction = 0.0000, Std Dev = 0.0000\n",
            "Test Sample 51: Mean Prediction = 1.0000, Std Dev = 0.0000\n",
            "Test Sample 52: Mean Prediction = 1.0000, Std Dev = 0.0000\n",
            "Test Sample 53: Mean Prediction = 0.0000, Std Dev = 0.0000\n",
            "Test Sample 54: Mean Prediction = 0.0000, Std Dev = 0.0000\n",
            "Test Sample 55: Mean Prediction = 0.0000, Std Dev = 0.0000\n",
            "Test Sample 56: Mean Prediction = 0.0000, Std Dev = 0.0000\n",
            "Test Sample 57: Mean Prediction = 0.0000, Std Dev = 0.0000\n",
            "Test Sample 58: Mean Prediction = 1.0000, Std Dev = 0.0000\n",
            "Test Sample 59: Mean Prediction = 0.0000, Std Dev = 0.0000\n",
            "Test Sample 60: Mean Prediction = 0.0000, Std Dev = 0.0000\n",
            "Test Sample 61: Mean Prediction = 1.0000, Std Dev = 0.0000\n",
            "Test Sample 62: Mean Prediction = 0.0000, Std Dev = 0.0000\n",
            "Test Sample 63: Mean Prediction = 1.0000, Std Dev = 0.0000\n",
            "Test Sample 64: Mean Prediction = 0.0000, Std Dev = 0.0000\n",
            "Test Sample 65: Mean Prediction = 0.0000, Std Dev = 0.0000\n",
            "Test Sample 66: Mean Prediction = 1.0000, Std Dev = 0.0000\n",
            "Test Sample 67: Mean Prediction = 1.0000, Std Dev = 0.0000\n",
            "Test Sample 68: Mean Prediction = 0.0000, Std Dev = 0.0000\n",
            "Test Sample 69: Mean Prediction = 0.0000, Std Dev = 0.0000\n",
            "Test Sample 70: Mean Prediction = 1.0000, Std Dev = 0.0000\n",
            "Test Sample 71: Mean Prediction = 0.0000, Std Dev = 0.0000\n",
            "Test Sample 72: Mean Prediction = 0.0000, Std Dev = 0.0000\n",
            "Test Sample 73: Mean Prediction = 0.0000, Std Dev = 0.0000\n",
            "Test Sample 74: Mean Prediction = 0.0000, Std Dev = 0.0000\n",
            "Test Sample 75: Mean Prediction = 0.0000, Std Dev = 0.0000\n",
            "Test Sample 76: Mean Prediction = 0.0000, Std Dev = 0.0000\n",
            "Test Sample 77: Mean Prediction = 0.0000, Std Dev = 0.0000\n",
            "Test Sample 78: Mean Prediction = 0.0000, Std Dev = 0.0000\n",
            "Test Sample 79: Mean Prediction = 1.0000, Std Dev = 0.0000\n",
            "Test Sample 80: Mean Prediction = 0.0000, Std Dev = 0.0000\n",
            "Test Sample 81: Mean Prediction = 1.0000, Std Dev = 0.0000\n",
            "Test Sample 82: Mean Prediction = 1.0000, Std Dev = 0.0000\n",
            "Test Sample 83: Mean Prediction = 0.0000, Std Dev = 0.0000\n",
            "Test Sample 84: Mean Prediction = 1.0000, Std Dev = 0.0000\n",
            "Test Sample 85: Mean Prediction = 1.0000, Std Dev = 0.0000\n",
            "Test Sample 86: Mean Prediction = 1.0000, Std Dev = 0.0000\n",
            "Test Sample 87: Mean Prediction = 1.0000, Std Dev = 0.0000\n",
            "Test Sample 88: Mean Prediction = 0.0000, Std Dev = 0.0000\n",
            "Test Sample 89: Mean Prediction = 1.0000, Std Dev = 0.0000\n",
            "Test Sample 90: Mean Prediction = 1.0000, Std Dev = 0.0000\n",
            "Test Sample 91: Mean Prediction = 1.0000, Std Dev = 0.0000\n",
            "Test Sample 92: Mean Prediction = 1.0000, Std Dev = 0.0000\n",
            "Test Sample 93: Mean Prediction = 0.0000, Std Dev = 0.0000\n",
            "Test Sample 94: Mean Prediction = 0.0000, Std Dev = 0.0000\n",
            "Test Sample 95: Mean Prediction = 1.0000, Std Dev = 0.0000\n",
            "Test Sample 96: Mean Prediction = 1.0000, Std Dev = 0.0000\n",
            "Test Sample 97: Mean Prediction = 0.0000, Std Dev = 0.0000\n",
            "Test Sample 98: Mean Prediction = 1.0000, Std Dev = 0.0000\n",
            "Test Sample 99: Mean Prediction = 1.0000, Std Dev = 0.0000\n",
            "Test Sample 100: Mean Prediction = 0.0000, Std Dev = 0.0000\n",
            "Test Sample 101: Mean Prediction = 1.0000, Std Dev = 0.0000\n",
            "Test Sample 102: Mean Prediction = 0.0000, Std Dev = 0.0000\n",
            "Test Sample 103: Mean Prediction = 0.0000, Std Dev = 0.0000\n",
            "Test Sample 104: Mean Prediction = 1.0000, Std Dev = 0.0000\n",
            "Test Sample 105: Mean Prediction = 0.0000, Std Dev = 0.0000\n",
            "Test Sample 106: Mean Prediction = 1.0000, Std Dev = 0.0000\n",
            "Test Sample 107: Mean Prediction = 0.0000, Std Dev = 0.0000\n",
            "Test Sample 108: Mean Prediction = 1.0000, Std Dev = 0.0000\n",
            "Test Sample 109: Mean Prediction = 0.0000, Std Dev = 0.0000\n",
            "Test Sample 110: Mean Prediction = 0.0000, Std Dev = 0.0000\n",
            "Test Sample 111: Mean Prediction = 1.0000, Std Dev = 0.0000\n",
            "Test Sample 112: Mean Prediction = 0.0000, Std Dev = 0.0000\n",
            "Test Sample 113: Mean Prediction = 0.0000, Std Dev = 0.0000\n",
            "Test Sample 114: Mean Prediction = 1.0000, Std Dev = 0.0000\n",
            "Test Sample 115: Mean Prediction = 1.0000, Std Dev = 0.0000\n",
            "Test Sample 116: Mean Prediction = 0.0000, Std Dev = 0.0000\n",
            "Test Sample 117: Mean Prediction = 1.0000, Std Dev = 0.0000\n",
            "Test Sample 118: Mean Prediction = 1.0000, Std Dev = 0.0000\n",
            "Test Sample 119: Mean Prediction = 0.0000, Std Dev = 0.0000\n",
            "Test Sample 120: Mean Prediction = 0.0000, Std Dev = 0.0000\n",
            "Test Sample 121: Mean Prediction = 0.0000, Std Dev = 0.0000\n",
            "Test Sample 122: Mean Prediction = 1.0000, Std Dev = 0.0000\n",
            "Test Sample 123: Mean Prediction = 0.0000, Std Dev = 0.0000\n",
            "Test Sample 124: Mean Prediction = 1.0000, Std Dev = 0.0000\n",
            "Test Sample 125: Mean Prediction = 1.0000, Std Dev = 0.0000\n",
            "Test Sample 126: Mean Prediction = 1.0000, Std Dev = 0.0000\n",
            "Test Sample 127: Mean Prediction = 0.0000, Std Dev = 0.0000\n",
            "Test Sample 128: Mean Prediction = 0.0000, Std Dev = 0.0000\n",
            "Test Sample 129: Mean Prediction = 1.0000, Std Dev = 0.0000\n",
            "Test Sample 130: Mean Prediction = 0.0000, Std Dev = 0.0000\n",
            "Test Sample 131: Mean Prediction = 1.0000, Std Dev = 0.0000\n",
            "Test Sample 132: Mean Prediction = 0.0000, Std Dev = 0.0000\n",
            "Test Sample 133: Mean Prediction = 0.0000, Std Dev = 0.0000\n",
            "Test Sample 134: Mean Prediction = 0.0000, Std Dev = 0.0000\n",
            "Test Sample 135: Mean Prediction = 1.0000, Std Dev = 0.0000\n",
            "Test Sample 136: Mean Prediction = 0.0000, Std Dev = 0.0000\n",
            "Test Sample 137: Mean Prediction = 1.0000, Std Dev = 0.0000\n",
            "Test Sample 138: Mean Prediction = 1.0000, Std Dev = 0.0000\n",
            "Test Sample 139: Mean Prediction = 0.0000, Std Dev = 0.0000\n",
            "Test Sample 140: Mean Prediction = 0.0000, Std Dev = 0.0000\n",
            "Test Sample 141: Mean Prediction = 0.0000, Std Dev = 0.0000\n",
            "Test Sample 142: Mean Prediction = 0.0000, Std Dev = 0.0000\n",
            "Test Sample 143: Mean Prediction = 0.0000, Std Dev = 0.0000\n",
            "Test Sample 144: Mean Prediction = 0.0000, Std Dev = 0.0000\n",
            "Test Sample 145: Mean Prediction = 1.0000, Std Dev = 0.0000\n",
            "Test Sample 146: Mean Prediction = 1.0000, Std Dev = 0.0000\n",
            "Test Sample 147: Mean Prediction = 1.0000, Std Dev = 0.0000\n",
            "Test Sample 148: Mean Prediction = 0.0000, Std Dev = 0.0000\n",
            "Test Sample 149: Mean Prediction = 1.0000, Std Dev = 0.0000\n",
            "Test Sample 150: Mean Prediction = 0.9900, Std Dev = 0.0995\n",
            "Test Sample 151: Mean Prediction = 1.0000, Std Dev = 0.0000\n",
            "Test Sample 152: Mean Prediction = 0.0000, Std Dev = 0.0000\n",
            "Test Sample 153: Mean Prediction = 1.0000, Std Dev = 0.0000\n",
            "Test Sample 154: Mean Prediction = 0.0000, Std Dev = 0.0000\n",
            "Test Sample 155: Mean Prediction = 1.0000, Std Dev = 0.0000\n",
            "Test Sample 156: Mean Prediction = 1.0000, Std Dev = 0.0000\n",
            "Test Sample 157: Mean Prediction = 1.0000, Std Dev = 0.0000\n",
            "Test Sample 158: Mean Prediction = 0.0000, Std Dev = 0.0000\n",
            "Test Sample 159: Mean Prediction = 1.0000, Std Dev = 0.0000\n",
            "Test Sample 160: Mean Prediction = 0.0000, Std Dev = 0.0000\n",
            "Test Sample 161: Mean Prediction = 1.0000, Std Dev = 0.0000\n",
            "Test Sample 162: Mean Prediction = 0.0000, Std Dev = 0.0000\n",
            "Test Sample 163: Mean Prediction = 1.0000, Std Dev = 0.0000\n",
            "Test Sample 164: Mean Prediction = 1.0000, Std Dev = 0.0000\n",
            "Test Sample 165: Mean Prediction = 0.0000, Std Dev = 0.0000\n",
            "Test Sample 166: Mean Prediction = 1.0000, Std Dev = 0.0000\n",
            "Test Sample 167: Mean Prediction = 0.0000, Std Dev = 0.0000\n",
            "Test Sample 168: Mean Prediction = 1.0000, Std Dev = 0.0000\n",
            "Test Sample 169: Mean Prediction = 0.0000, Std Dev = 0.0000\n",
            "Test Sample 170: Mean Prediction = 1.0000, Std Dev = 0.0000\n",
            "Test Sample 171: Mean Prediction = 1.0000, Std Dev = 0.0000\n",
            "Test Sample 172: Mean Prediction = 1.0000, Std Dev = 0.0000\n",
            "Test Sample 173: Mean Prediction = 0.0000, Std Dev = 0.0000\n",
            "Test Sample 174: Mean Prediction = 0.0000, Std Dev = 0.0000\n",
            "Test Sample 175: Mean Prediction = 0.0000, Std Dev = 0.0000\n",
            "Test Sample 176: Mean Prediction = 0.0000, Std Dev = 0.0000\n",
            "Test Sample 177: Mean Prediction = 0.0000, Std Dev = 0.0000\n",
            "Test Sample 178: Mean Prediction = 1.0000, Std Dev = 0.0000\n",
            "Test Sample 179: Mean Prediction = 1.0000, Std Dev = 0.0000\n",
            "Test Sample 180: Mean Prediction = 0.0000, Std Dev = 0.0000\n",
            "Test Sample 181: Mean Prediction = 1.0000, Std Dev = 0.0000\n",
            "Test Sample 182: Mean Prediction = 0.0000, Std Dev = 0.0000\n",
            "Test Sample 183: Mean Prediction = 0.0000, Std Dev = 0.0000\n",
            "Test Sample 184: Mean Prediction = 1.0000, Std Dev = 0.0000\n",
            "Test Sample 185: Mean Prediction = 0.0000, Std Dev = 0.0000\n",
            "Test Sample 186: Mean Prediction = 1.0000, Std Dev = 0.0000\n",
            "Test Sample 187: Mean Prediction = 0.0000, Std Dev = 0.0000\n",
            "Test Sample 188: Mean Prediction = 1.0000, Std Dev = 0.0000\n",
            "Test Sample 189: Mean Prediction = 0.0000, Std Dev = 0.0000\n",
            "Test Sample 190: Mean Prediction = 0.0000, Std Dev = 0.0000\n",
            "Test Sample 191: Mean Prediction = 0.0000, Std Dev = 0.0000\n",
            "Test Sample 192: Mean Prediction = 0.0000, Std Dev = 0.0000\n",
            "Test Sample 193: Mean Prediction = 1.0000, Std Dev = 0.0000\n",
            "Test Sample 194: Mean Prediction = 0.0000, Std Dev = 0.0000\n",
            "Test Sample 195: Mean Prediction = 0.0000, Std Dev = 0.0000\n",
            "Test Sample 196: Mean Prediction = 1.0000, Std Dev = 0.0000\n",
            "Test Sample 197: Mean Prediction = 0.0000, Std Dev = 0.0000\n",
            "Test Sample 198: Mean Prediction = 1.0000, Std Dev = 0.0000\n",
            "Test Sample 199: Mean Prediction = 1.0000, Std Dev = 0.0000\n",
            "Test Sample 200: Mean Prediction = 0.0000, Std Dev = 0.0000\n",
            "Test Sample 201: Mean Prediction = 1.0000, Std Dev = 0.0000\n",
            "Test Sample 202: Mean Prediction = 0.0000, Std Dev = 0.0000\n",
            "Test Sample 203: Mean Prediction = 1.0000, Std Dev = 0.0000\n",
            "Test Sample 204: Mean Prediction = 1.0000, Std Dev = 0.0000\n",
            "Test Sample 205: Mean Prediction = 0.0000, Std Dev = 0.0000\n",
            "Test Sample 206: Mean Prediction = 0.0000, Std Dev = 0.0000\n",
            "Test Sample 207: Mean Prediction = 1.0000, Std Dev = 0.0000\n",
            "Test Sample 208: Mean Prediction = 1.0000, Std Dev = 0.0000\n",
            "Test Sample 209: Mean Prediction = 0.0000, Std Dev = 0.0000\n",
            "Test Sample 210: Mean Prediction = 0.0000, Std Dev = 0.0000\n",
            "Test Sample 211: Mean Prediction = 0.0000, Std Dev = 0.0000\n",
            "Test Sample 212: Mean Prediction = 0.0000, Std Dev = 0.0000\n",
            "Test Sample 213: Mean Prediction = 1.0000, Std Dev = 0.0000\n",
            "Test Sample 214: Mean Prediction = 0.0000, Std Dev = 0.0000\n",
            "Test Sample 215: Mean Prediction = 0.0000, Std Dev = 0.0000\n",
            "Test Sample 216: Mean Prediction = 1.0000, Std Dev = 0.0000\n",
            "Test Sample 217: Mean Prediction = 1.0000, Std Dev = 0.0000\n",
            "Test Sample 218: Mean Prediction = 0.0000, Std Dev = 0.0000\n",
            "Test Sample 219: Mean Prediction = 0.0000, Std Dev = 0.0000\n",
            "Test Sample 220: Mean Prediction = 1.0000, Std Dev = 0.0000\n",
            "Test Sample 221: Mean Prediction = 1.0000, Std Dev = 0.0000\n",
            "Test Sample 222: Mean Prediction = 0.0000, Std Dev = 0.0000\n",
            "Test Sample 223: Mean Prediction = 0.0000, Std Dev = 0.0000\n",
            "Test Sample 224: Mean Prediction = 1.0000, Std Dev = 0.0000\n",
            "Test Sample 225: Mean Prediction = 0.0000, Std Dev = 0.0000\n",
            "Test Sample 226: Mean Prediction = 0.0000, Std Dev = 0.0000\n",
            "Test Sample 227: Mean Prediction = 0.0000, Std Dev = 0.0000\n",
            "Test Sample 228: Mean Prediction = 1.0000, Std Dev = 0.0000\n",
            "Test Sample 229: Mean Prediction = 1.0000, Std Dev = 0.0000\n",
            "Test Sample 230: Mean Prediction = 0.0000, Std Dev = 0.0000\n",
            "Test Sample 231: Mean Prediction = 1.0000, Std Dev = 0.0000\n",
            "Test Sample 232: Mean Prediction = 1.0000, Std Dev = 0.0000\n",
            "Test Sample 233: Mean Prediction = 1.0000, Std Dev = 0.0000\n",
            "Test Sample 234: Mean Prediction = 1.0000, Std Dev = 0.0000\n",
            "Test Sample 235: Mean Prediction = 1.0000, Std Dev = 0.0000\n",
            "Test Sample 236: Mean Prediction = 1.0000, Std Dev = 0.0000\n",
            "Test Sample 237: Mean Prediction = 0.0000, Std Dev = 0.0000\n",
            "Test Sample 238: Mean Prediction = 0.0000, Std Dev = 0.0000\n",
            "Test Sample 239: Mean Prediction = 1.0000, Std Dev = 0.0000\n",
            "Test Sample 240: Mean Prediction = 1.0000, Std Dev = 0.0000\n",
            "Test Sample 241: Mean Prediction = 0.0000, Std Dev = 0.0000\n",
            "Test Sample 242: Mean Prediction = 0.0000, Std Dev = 0.0000\n",
            "Test Sample 243: Mean Prediction = 1.0000, Std Dev = 0.0000\n",
            "Test Sample 244: Mean Prediction = 1.0000, Std Dev = 0.0000\n",
            "Test Sample 245: Mean Prediction = 0.0000, Std Dev = 0.0000\n",
            "Test Sample 246: Mean Prediction = 1.0000, Std Dev = 0.0000\n",
            "Test Sample 247: Mean Prediction = 1.0000, Std Dev = 0.0000\n",
            "Test Sample 248: Mean Prediction = 1.0000, Std Dev = 0.0000\n",
            "Test Sample 249: Mean Prediction = 1.0000, Std Dev = 0.0000\n",
            "Test Sample 250: Mean Prediction = 1.0000, Std Dev = 0.0000\n",
            "Test Sample 251: Mean Prediction = 1.0000, Std Dev = 0.0000\n",
            "Test Sample 252: Mean Prediction = 0.0000, Std Dev = 0.0000\n",
            "Test Sample 253: Mean Prediction = 1.0000, Std Dev = 0.0000\n",
            "Test Sample 254: Mean Prediction = 0.0000, Std Dev = 0.0000\n",
            "Test Sample 255: Mean Prediction = 0.0000, Std Dev = 0.0000\n",
            "Test Sample 256: Mean Prediction = 1.0000, Std Dev = 0.0000\n",
            "Test Sample 257: Mean Prediction = 1.0000, Std Dev = 0.0000\n",
            "Test Sample 258: Mean Prediction = 1.0000, Std Dev = 0.0000\n",
            "Test Sample 259: Mean Prediction = 0.0000, Std Dev = 0.0000\n",
            "Test Sample 260: Mean Prediction = 1.0000, Std Dev = 0.0000\n",
            "Test Sample 261: Mean Prediction = 1.0000, Std Dev = 0.0000\n",
            "Test Sample 262: Mean Prediction = 1.0000, Std Dev = 0.0000\n",
            "Test Sample 263: Mean Prediction = 0.0000, Std Dev = 0.0000\n",
            "Test Sample 264: Mean Prediction = 1.0000, Std Dev = 0.0000\n",
            "Test Sample 265: Mean Prediction = 1.0000, Std Dev = 0.0000\n",
            "Test Sample 266: Mean Prediction = 1.0000, Std Dev = 0.0000\n",
            "Test Sample 267: Mean Prediction = 0.0000, Std Dev = 0.0000\n",
            "Test Sample 268: Mean Prediction = 0.0000, Std Dev = 0.0000\n",
            "Test Sample 269: Mean Prediction = 1.0000, Std Dev = 0.0000\n",
            "Test Sample 270: Mean Prediction = 1.0000, Std Dev = 0.0000\n",
            "Test Sample 271: Mean Prediction = 1.0000, Std Dev = 0.0000\n",
            "Test Sample 272: Mean Prediction = 1.0000, Std Dev = 0.0000\n",
            "Test Sample 273: Mean Prediction = 1.0000, Std Dev = 0.0000\n",
            "Test Sample 274: Mean Prediction = 1.0000, Std Dev = 0.0000\n",
            "Test Sample 275: Mean Prediction = 1.0000, Std Dev = 0.0000\n",
            "Test Sample 276: Mean Prediction = 0.0000, Std Dev = 0.0000\n",
            "Test Sample 277: Mean Prediction = 1.0000, Std Dev = 0.0000\n",
            "Test Sample 278: Mean Prediction = 0.0000, Std Dev = 0.0000\n",
            "Test Sample 279: Mean Prediction = 0.0000, Std Dev = 0.0000\n",
            "Test Sample 280: Mean Prediction = 0.0000, Std Dev = 0.0000\n",
            "Test Sample 281: Mean Prediction = 1.0000, Std Dev = 0.0000\n",
            "Test Sample 282: Mean Prediction = 1.0000, Std Dev = 0.0000\n",
            "Test Sample 283: Mean Prediction = 0.0000, Std Dev = 0.0000\n",
            "Test Sample 284: Mean Prediction = 1.0000, Std Dev = 0.0000\n",
            "Test Sample 285: Mean Prediction = 0.0000, Std Dev = 0.0000\n",
            "Test Sample 286: Mean Prediction = 0.0000, Std Dev = 0.0000\n",
            "Test Sample 287: Mean Prediction = 0.0000, Std Dev = 0.0000\n",
            "Test Sample 288: Mean Prediction = 0.1400, Std Dev = 0.3470\n",
            "Test Sample 289: Mean Prediction = 0.0000, Std Dev = 0.0000\n",
            "Test Sample 290: Mean Prediction = 1.0000, Std Dev = 0.0000\n",
            "Test Sample 291: Mean Prediction = 1.0000, Std Dev = 0.0000\n",
            "Test Sample 292: Mean Prediction = 0.0000, Std Dev = 0.0000\n",
            "Test Sample 293: Mean Prediction = 1.0000, Std Dev = 0.0000\n",
            "Test Sample 294: Mean Prediction = 1.0000, Std Dev = 0.0000\n",
            "Test Sample 295: Mean Prediction = 0.0000, Std Dev = 0.0000\n",
            "Test Sample 296: Mean Prediction = 1.0000, Std Dev = 0.0000\n",
            "Test Sample 297: Mean Prediction = 0.0000, Std Dev = 0.0000\n",
            "Test Sample 298: Mean Prediction = 0.0000, Std Dev = 0.0000\n",
            "Test Sample 299: Mean Prediction = 0.0000, Std Dev = 0.0000\n",
            "Test Sample 300: Mean Prediction = 0.0000, Std Dev = 0.0000\n",
            "Test Sample 301: Mean Prediction = 1.0000, Std Dev = 0.0000\n",
            "Test Sample 302: Mean Prediction = 0.0000, Std Dev = 0.0000\n",
            "Test Sample 303: Mean Prediction = 1.0000, Std Dev = 0.0000\n",
            "Test Sample 304: Mean Prediction = 0.0000, Std Dev = 0.0000\n",
            "Test Sample 305: Mean Prediction = 1.0000, Std Dev = 0.0000\n",
            "Test Sample 306: Mean Prediction = 1.0000, Std Dev = 0.0000\n",
            "Test Sample 307: Mean Prediction = 1.0000, Std Dev = 0.0000\n",
            "Test Sample 308: Mean Prediction = 1.0000, Std Dev = 0.0000\n",
            "Test Sample 309: Mean Prediction = 1.0000, Std Dev = 0.0000\n",
            "Test Sample 310: Mean Prediction = 1.0000, Std Dev = 0.0000\n",
            "Test Sample 311: Mean Prediction = 0.0000, Std Dev = 0.0000\n",
            "Test Sample 312: Mean Prediction = 0.0000, Std Dev = 0.0000\n",
            "Test Sample 313: Mean Prediction = 1.0000, Std Dev = 0.0000\n",
            "Test Sample 314: Mean Prediction = 0.0000, Std Dev = 0.0000\n",
            "Test Sample 315: Mean Prediction = 0.0000, Std Dev = 0.0000\n",
            "Test Sample 316: Mean Prediction = 1.0000, Std Dev = 0.0000\n",
            "Test Sample 317: Mean Prediction = 0.0000, Std Dev = 0.0000\n",
            "Test Sample 318: Mean Prediction = 0.0000, Std Dev = 0.0000\n",
            "Test Sample 319: Mean Prediction = 1.0000, Std Dev = 0.0000\n",
            "Test Sample 320: Mean Prediction = 1.0000, Std Dev = 0.0000\n",
            "Test Sample 321: Mean Prediction = 0.0000, Std Dev = 0.0000\n",
            "Test Sample 322: Mean Prediction = 1.0000, Std Dev = 0.0000\n",
            "Test Sample 323: Mean Prediction = 0.0000, Std Dev = 0.0000\n",
            "Test Sample 324: Mean Prediction = 0.0000, Std Dev = 0.0000\n",
            "Test Sample 325: Mean Prediction = 1.0000, Std Dev = 0.0000\n",
            "Test Sample 326: Mean Prediction = 1.0000, Std Dev = 0.0000\n",
            "Test Sample 327: Mean Prediction = 0.0000, Std Dev = 0.0000\n",
            "Test Sample 328: Mean Prediction = 0.0000, Std Dev = 0.0000\n",
            "Test Sample 329: Mean Prediction = 1.0000, Std Dev = 0.0000\n",
            "Test Sample 330: Mean Prediction = 0.0000, Std Dev = 0.0000\n",
            "Test Sample 331: Mean Prediction = 0.0000, Std Dev = 0.0000\n",
            "Test Sample 332: Mean Prediction = 1.0000, Std Dev = 0.0000\n",
            "Test Sample 333: Mean Prediction = 1.0000, Std Dev = 0.0000\n",
            "Test Sample 334: Mean Prediction = 0.0000, Std Dev = 0.0000\n",
            "Test Sample 335: Mean Prediction = 0.7800, Std Dev = 0.4142\n",
            "Test Sample 336: Mean Prediction = 1.0000, Std Dev = 0.0000\n",
            "Test Sample 337: Mean Prediction = 0.0000, Std Dev = 0.0000\n",
            "Test Sample 338: Mean Prediction = 0.0000, Std Dev = 0.0000\n",
            "Test Sample 339: Mean Prediction = 0.0000, Std Dev = 0.0000\n",
            "Test Sample 340: Mean Prediction = 1.0000, Std Dev = 0.0000\n",
            "Test Sample 341: Mean Prediction = 0.0000, Std Dev = 0.0000\n",
            "Test Sample 342: Mean Prediction = 1.0000, Std Dev = 0.0000\n",
            "Test Sample 343: Mean Prediction = 0.0000, Std Dev = 0.0000\n",
            "Test Sample 344: Mean Prediction = 1.0000, Std Dev = 0.0000\n",
            "Test Sample 345: Mean Prediction = 0.0000, Std Dev = 0.0000\n",
            "Test Sample 346: Mean Prediction = 1.0000, Std Dev = 0.0000\n",
            "Test Sample 347: Mean Prediction = 1.0000, Std Dev = 0.0000\n",
            "Test Sample 348: Mean Prediction = 1.0000, Std Dev = 0.0000\n",
            "Test Sample 349: Mean Prediction = 0.0000, Std Dev = 0.0000\n",
            "Test Sample 350: Mean Prediction = 1.0000, Std Dev = 0.0000\n",
            "Test Sample 351: Mean Prediction = 1.0000, Std Dev = 0.0000\n",
            "Test Sample 352: Mean Prediction = 0.0000, Std Dev = 0.0000\n",
            "Test Sample 353: Mean Prediction = 1.0000, Std Dev = 0.0000\n",
            "Test Sample 354: Mean Prediction = 0.0000, Std Dev = 0.0000\n",
            "Test Sample 355: Mean Prediction = 1.0000, Std Dev = 0.0000\n",
            "Test Sample 356: Mean Prediction = 0.0000, Std Dev = 0.0000\n",
            "Test Sample 357: Mean Prediction = 0.0000, Std Dev = 0.0000\n",
            "Test Sample 358: Mean Prediction = 0.0000, Std Dev = 0.0000\n",
            "Test Sample 359: Mean Prediction = 1.0000, Std Dev = 0.0000\n",
            "Test Sample 360: Mean Prediction = 0.0000, Std Dev = 0.0000\n",
            "Test Sample 361: Mean Prediction = 0.0000, Std Dev = 0.0000\n",
            "Test Sample 362: Mean Prediction = 1.0000, Std Dev = 0.0000\n",
            "Test Sample 363: Mean Prediction = 0.0000, Std Dev = 0.0000\n",
            "Test Sample 364: Mean Prediction = 1.0000, Std Dev = 0.0000\n",
            "Test Sample 365: Mean Prediction = 1.0000, Std Dev = 0.0000\n",
            "Test Sample 366: Mean Prediction = 1.0000, Std Dev = 0.0000\n",
            "Test Sample 367: Mean Prediction = 0.0000, Std Dev = 0.0000\n",
            "Test Sample 368: Mean Prediction = 1.0000, Std Dev = 0.0000\n",
            "Test Sample 369: Mean Prediction = 0.0000, Std Dev = 0.0000\n",
            "Test Sample 370: Mean Prediction = 0.0000, Std Dev = 0.0000\n",
            "Test Sample 371: Mean Prediction = 0.0000, Std Dev = 0.0000\n",
            "Test Sample 372: Mean Prediction = 0.0000, Std Dev = 0.0000\n",
            "Test Sample 373: Mean Prediction = 0.0000, Std Dev = 0.0000\n",
            "Test Sample 374: Mean Prediction = 1.0000, Std Dev = 0.0000\n",
            "Test Sample 375: Mean Prediction = 0.0000, Std Dev = 0.0000\n",
            "Test Sample 376: Mean Prediction = 0.0000, Std Dev = 0.0000\n",
            "Test Sample 377: Mean Prediction = 1.0000, Std Dev = 0.0000\n",
            "Test Sample 378: Mean Prediction = 1.0000, Std Dev = 0.0000\n",
            "Test Sample 379: Mean Prediction = 0.0000, Std Dev = 0.0000\n",
            "Test Sample 380: Mean Prediction = 1.0000, Std Dev = 0.0000\n",
            "Test Sample 381: Mean Prediction = 0.0000, Std Dev = 0.0000\n",
            "Test Sample 382: Mean Prediction = 1.0000, Std Dev = 0.0000\n",
            "Test Sample 383: Mean Prediction = 1.0000, Std Dev = 0.0000\n",
            "Test Sample 384: Mean Prediction = 0.0000, Std Dev = 0.0000\n",
            "Test Sample 385: Mean Prediction = 0.8300, Std Dev = 0.3756\n",
            "Test Sample 386: Mean Prediction = 1.0000, Std Dev = 0.0000\n",
            "Test Sample 387: Mean Prediction = 1.0000, Std Dev = 0.0000\n",
            "Test Sample 388: Mean Prediction = 1.0000, Std Dev = 0.0000\n",
            "Test Sample 389: Mean Prediction = 1.0000, Std Dev = 0.0000\n",
            "Test Sample 390: Mean Prediction = 1.0000, Std Dev = 0.0000\n",
            "Test Sample 391: Mean Prediction = 1.0000, Std Dev = 0.0000\n",
            "Test Sample 392: Mean Prediction = 1.0000, Std Dev = 0.0000\n",
            "Test Sample 393: Mean Prediction = 0.0000, Std Dev = 0.0000\n",
            "Test Sample 394: Mean Prediction = 0.0000, Std Dev = 0.0000\n",
            "Test Sample 395: Mean Prediction = 1.0000, Std Dev = 0.0000\n",
            "Test Sample 396: Mean Prediction = 0.0600, Std Dev = 0.2375\n",
            "Test Sample 397: Mean Prediction = 0.0000, Std Dev = 0.0000\n",
            "Test Sample 398: Mean Prediction = 1.0000, Std Dev = 0.0000\n",
            "Test Sample 399: Mean Prediction = 0.0000, Std Dev = 0.0000\n",
            "Test Sample 400: Mean Prediction = 0.0000, Std Dev = 0.0000\n",
            "Test Sample 401: Mean Prediction = 1.0000, Std Dev = 0.0000\n",
            "Test Sample 402: Mean Prediction = 1.0000, Std Dev = 0.0000\n",
            "Test Sample 403: Mean Prediction = 1.0000, Std Dev = 0.0000\n",
            "Test Sample 404: Mean Prediction = 0.0000, Std Dev = 0.0000\n",
            "Test Sample 405: Mean Prediction = 0.0000, Std Dev = 0.0000\n",
            "Test Sample 406: Mean Prediction = 1.0000, Std Dev = 0.0000\n",
            "Test Sample 407: Mean Prediction = 0.0000, Std Dev = 0.0000\n",
            "Test Sample 408: Mean Prediction = 1.0000, Std Dev = 0.0000\n",
            "Test Sample 409: Mean Prediction = 0.0000, Std Dev = 0.0000\n",
            "Test Sample 410: Mean Prediction = 1.0000, Std Dev = 0.0000\n",
            "Test Sample 411: Mean Prediction = 0.0000, Std Dev = 0.0000\n",
            "Test Sample 412: Mean Prediction = 1.0000, Std Dev = 0.0000\n",
            "Test Sample 413: Mean Prediction = 0.0000, Std Dev = 0.0000\n",
            "Test Sample 414: Mean Prediction = 0.0000, Std Dev = 0.0000\n",
            "Test Sample 415: Mean Prediction = 1.0000, Std Dev = 0.0000\n",
            "Test Sample 416: Mean Prediction = 0.0000, Std Dev = 0.0000\n",
            "Test Sample 417: Mean Prediction = 1.0000, Std Dev = 0.0000\n",
            "Test Sample 418: Mean Prediction = 0.0000, Std Dev = 0.0000\n",
            "Test Sample 419: Mean Prediction = 0.0000, Std Dev = 0.0000\n",
            "Test Sample 420: Mean Prediction = 0.0000, Std Dev = 0.0000\n",
            "Test Sample 421: Mean Prediction = 0.0000, Std Dev = 0.0000\n",
            "Test Sample 422: Mean Prediction = 0.0000, Std Dev = 0.0000\n",
            "Test Sample 423: Mean Prediction = 1.0000, Std Dev = 0.0000\n",
            "Test Sample 424: Mean Prediction = 0.0000, Std Dev = 0.0000\n",
            "Test Sample 425: Mean Prediction = 0.0000, Std Dev = 0.0000\n",
            "Test Sample 426: Mean Prediction = 0.0000, Std Dev = 0.0000\n",
            "Test Sample 427: Mean Prediction = 0.0000, Std Dev = 0.0000\n",
            "Test Sample 428: Mean Prediction = 1.0000, Std Dev = 0.0000\n",
            "Test Sample 429: Mean Prediction = 1.0000, Std Dev = 0.0000\n",
            "Test Sample 430: Mean Prediction = 1.0000, Std Dev = 0.0000\n",
            "Test Sample 431: Mean Prediction = 1.0000, Std Dev = 0.0000\n",
            "Test Sample 432: Mean Prediction = 0.0000, Std Dev = 0.0000\n",
            "Test Sample 433: Mean Prediction = 1.0000, Std Dev = 0.0000\n",
            "Test Sample 434: Mean Prediction = 1.0000, Std Dev = 0.0000\n",
            "Test Sample 435: Mean Prediction = 1.0000, Std Dev = 0.0000\n",
            "Test Sample 436: Mean Prediction = 1.0000, Std Dev = 0.0000\n",
            "Test Sample 437: Mean Prediction = 0.0000, Std Dev = 0.0000\n",
            "Test Sample 438: Mean Prediction = 1.0000, Std Dev = 0.0000\n",
            "Test Sample 439: Mean Prediction = 0.0000, Std Dev = 0.0000\n",
            "Test Sample 440: Mean Prediction = 1.0000, Std Dev = 0.0000\n",
            "Test Sample 441: Mean Prediction = 1.0000, Std Dev = 0.0000\n",
            "Test Sample 442: Mean Prediction = 0.0000, Std Dev = 0.0000\n",
            "Test Sample 443: Mean Prediction = 0.0000, Std Dev = 0.0000\n",
            "Test Sample 444: Mean Prediction = 1.0000, Std Dev = 0.0000\n",
            "Test Sample 445: Mean Prediction = 1.0000, Std Dev = 0.0000\n",
            "Test Sample 446: Mean Prediction = 0.0000, Std Dev = 0.0000\n",
            "Test Sample 447: Mean Prediction = 0.0000, Std Dev = 0.0000\n",
            "Test Sample 448: Mean Prediction = 1.0000, Std Dev = 0.0000\n",
            "Test Sample 449: Mean Prediction = 0.0000, Std Dev = 0.0000\n",
            "Test Sample 450: Mean Prediction = 1.0000, Std Dev = 0.0000\n",
            "Test Sample 451: Mean Prediction = 0.0000, Std Dev = 0.0000\n",
            "Test Sample 452: Mean Prediction = 0.0000, Std Dev = 0.0000\n",
            "Test Sample 453: Mean Prediction = 1.0000, Std Dev = 0.0000\n",
            "Test Sample 454: Mean Prediction = 1.0000, Std Dev = 0.0000\n",
            "Test Sample 455: Mean Prediction = 0.0000, Std Dev = 0.0000\n",
            "Test Sample 456: Mean Prediction = 0.0000, Std Dev = 0.0000\n",
            "Test Sample 457: Mean Prediction = 0.0000, Std Dev = 0.0000\n",
            "Test Sample 458: Mean Prediction = 0.9800, Std Dev = 0.1400\n",
            "Test Sample 459: Mean Prediction = 1.0000, Std Dev = 0.0000\n",
            "Test Sample 460: Mean Prediction = 1.0000, Std Dev = 0.0000\n",
            "Test Sample 461: Mean Prediction = 0.0000, Std Dev = 0.0000\n",
            "Test Sample 462: Mean Prediction = 1.0000, Std Dev = 0.0000\n",
            "Test Sample 463: Mean Prediction = 0.0000, Std Dev = 0.0000\n",
            "Test Sample 464: Mean Prediction = 1.0000, Std Dev = 0.0000\n",
            "Test Sample 465: Mean Prediction = 1.0000, Std Dev = 0.0000\n",
            "Test Sample 466: Mean Prediction = 1.0000, Std Dev = 0.0000\n",
            "Test Sample 467: Mean Prediction = 1.0000, Std Dev = 0.0000\n",
            "Test Sample 468: Mean Prediction = 1.0000, Std Dev = 0.0000\n",
            "Test Sample 469: Mean Prediction = 0.0000, Std Dev = 0.0000\n",
            "Test Sample 470: Mean Prediction = 1.0000, Std Dev = 0.0000\n",
            "Test Sample 471: Mean Prediction = 0.0000, Std Dev = 0.0000\n",
            "Test Sample 472: Mean Prediction = 0.0000, Std Dev = 0.0000\n",
            "Test Sample 473: Mean Prediction = 1.0000, Std Dev = 0.0000\n",
            "Test Sample 474: Mean Prediction = 1.0000, Std Dev = 0.0000\n",
            "Test Sample 475: Mean Prediction = 0.0000, Std Dev = 0.0000\n",
            "Test Sample 476: Mean Prediction = 1.0000, Std Dev = 0.0000\n",
            "Test Sample 477: Mean Prediction = 0.0000, Std Dev = 0.0000\n",
            "Test Sample 478: Mean Prediction = 0.0000, Std Dev = 0.0000\n",
            "Test Sample 479: Mean Prediction = 0.0000, Std Dev = 0.0000\n",
            "Test Sample 480: Mean Prediction = 0.0000, Std Dev = 0.0000\n",
            "Test Sample 481: Mean Prediction = 0.0000, Std Dev = 0.0000\n",
            "Test Sample 482: Mean Prediction = 0.0000, Std Dev = 0.0000\n",
            "Test Sample 483: Mean Prediction = 0.0000, Std Dev = 0.0000\n",
            "Test Sample 484: Mean Prediction = 1.0000, Std Dev = 0.0000\n",
            "Test Sample 485: Mean Prediction = 0.0000, Std Dev = 0.0000\n",
            "Test Sample 486: Mean Prediction = 1.0000, Std Dev = 0.0000\n",
            "Test Sample 487: Mean Prediction = 1.0000, Std Dev = 0.0000\n",
            "Test Sample 488: Mean Prediction = 1.0000, Std Dev = 0.0000\n",
            "Test Sample 489: Mean Prediction = 1.0000, Std Dev = 0.0000\n",
            "Test Sample 490: Mean Prediction = 0.0000, Std Dev = 0.0000\n",
            "Test Sample 491: Mean Prediction = 0.1600, Std Dev = 0.3666\n",
            "Test Sample 492: Mean Prediction = 0.0000, Std Dev = 0.0000\n",
            "Test Sample 493: Mean Prediction = 1.0000, Std Dev = 0.0000\n",
            "Test Sample 494: Mean Prediction = 1.0000, Std Dev = 0.0000\n",
            "Test Sample 495: Mean Prediction = 0.0000, Std Dev = 0.0000\n",
            "Test Sample 496: Mean Prediction = 1.0000, Std Dev = 0.0000\n",
            "Test Sample 497: Mean Prediction = 0.0000, Std Dev = 0.0000\n",
            "Test Sample 498: Mean Prediction = 1.0000, Std Dev = 0.0000\n",
            "Test Sample 499: Mean Prediction = 0.6600, Std Dev = 0.4737\n",
            "Test Sample 500: Mean Prediction = 1.0000, Std Dev = 0.0000\n",
            "Test Sample 501: Mean Prediction = 0.0000, Std Dev = 0.0000\n",
            "Test Sample 502: Mean Prediction = 0.0000, Std Dev = 0.0000\n",
            "Test Sample 503: Mean Prediction = 0.0000, Std Dev = 0.0000\n",
            "Test Sample 504: Mean Prediction = 0.0100, Std Dev = 0.0995\n",
            "Test Sample 505: Mean Prediction = 0.0000, Std Dev = 0.0000\n",
            "Test Sample 506: Mean Prediction = 1.0000, Std Dev = 0.0000\n",
            "Test Sample 507: Mean Prediction = 1.0000, Std Dev = 0.0000\n",
            "Test Sample 508: Mean Prediction = 0.0000, Std Dev = 0.0000\n",
            "Test Sample 509: Mean Prediction = 1.0000, Std Dev = 0.0000\n",
            "Test Sample 510: Mean Prediction = 1.0000, Std Dev = 0.0000\n",
            "Test Sample 511: Mean Prediction = 0.0000, Std Dev = 0.0000\n",
            "Test Sample 512: Mean Prediction = 1.0000, Std Dev = 0.0000\n",
            "Test Sample 513: Mean Prediction = 0.0000, Std Dev = 0.0000\n",
            "Test Sample 514: Mean Prediction = 0.0000, Std Dev = 0.0000\n",
            "Test Sample 515: Mean Prediction = 1.0000, Std Dev = 0.0000\n",
            "Test Sample 516: Mean Prediction = 0.0000, Std Dev = 0.0000\n",
            "Test Sample 517: Mean Prediction = 1.0000, Std Dev = 0.0000\n",
            "Test Sample 518: Mean Prediction = 0.0000, Std Dev = 0.0000\n",
            "Test Sample 519: Mean Prediction = 1.0000, Std Dev = 0.0000\n",
            "Test Sample 520: Mean Prediction = 0.0000, Std Dev = 0.0000\n",
            "Test Sample 521: Mean Prediction = 1.0000, Std Dev = 0.0000\n",
            "Test Sample 522: Mean Prediction = 0.0000, Std Dev = 0.0000\n",
            "Test Sample 523: Mean Prediction = 0.0000, Std Dev = 0.0000\n",
            "Test Sample 524: Mean Prediction = 0.0000, Std Dev = 0.0000\n",
            "Test Sample 525: Mean Prediction = 1.0000, Std Dev = 0.0000\n",
            "Test Sample 526: Mean Prediction = 0.0000, Std Dev = 0.0000\n",
            "Test Sample 527: Mean Prediction = 0.0000, Std Dev = 0.0000\n",
            "Test Sample 528: Mean Prediction = 1.0000, Std Dev = 0.0000\n",
            "Test Sample 529: Mean Prediction = 0.0000, Std Dev = 0.0000\n",
            "Test Sample 530: Mean Prediction = 1.0000, Std Dev = 0.0000\n",
            "Test Sample 531: Mean Prediction = 0.0000, Std Dev = 0.0000\n",
            "Test Sample 532: Mean Prediction = 1.0000, Std Dev = 0.0000\n",
            "Test Sample 533: Mean Prediction = 1.0000, Std Dev = 0.0000\n",
            "Test Sample 534: Mean Prediction = 1.0000, Std Dev = 0.0000\n",
            "Test Sample 535: Mean Prediction = 1.0000, Std Dev = 0.0000\n",
            "Test Sample 536: Mean Prediction = 0.0000, Std Dev = 0.0000\n",
            "Test Sample 537: Mean Prediction = 0.0000, Std Dev = 0.0000\n",
            "Test Sample 538: Mean Prediction = 0.0000, Std Dev = 0.0000\n",
            "Test Sample 539: Mean Prediction = 0.0000, Std Dev = 0.0000\n",
            "Test Sample 540: Mean Prediction = 0.0000, Std Dev = 0.0000\n",
            "Test Sample 541: Mean Prediction = 0.0000, Std Dev = 0.0000\n",
            "Test Sample 542: Mean Prediction = 1.0000, Std Dev = 0.0000\n",
            "Test Sample 543: Mean Prediction = 0.0000, Std Dev = 0.0000\n",
            "Test Sample 544: Mean Prediction = 0.0000, Std Dev = 0.0000\n",
            "Test Sample 545: Mean Prediction = 0.0000, Std Dev = 0.0000\n",
            "Test Sample 546: Mean Prediction = 0.0000, Std Dev = 0.0000\n",
            "Test Sample 547: Mean Prediction = 0.0000, Std Dev = 0.0000\n",
            "Test Sample 548: Mean Prediction = 1.0000, Std Dev = 0.0000\n",
            "Test Sample 549: Mean Prediction = 0.0000, Std Dev = 0.0000\n",
            "Test Sample 550: Mean Prediction = 0.0000, Std Dev = 0.0000\n",
            "Test Sample 551: Mean Prediction = 1.0000, Std Dev = 0.0000\n",
            "Test Sample 552: Mean Prediction = 1.0000, Std Dev = 0.0000\n",
            "Test Sample 553: Mean Prediction = 0.0000, Std Dev = 0.0000\n",
            "Test Sample 554: Mean Prediction = 1.0000, Std Dev = 0.0000\n",
            "Test Sample 555: Mean Prediction = 1.0000, Std Dev = 0.0000\n",
            "Test Sample 556: Mean Prediction = 1.0000, Std Dev = 0.0000\n",
            "Test Sample 557: Mean Prediction = 1.0000, Std Dev = 0.0000\n",
            "Test Sample 558: Mean Prediction = 0.0000, Std Dev = 0.0000\n",
            "Test Sample 559: Mean Prediction = 1.0000, Std Dev = 0.0000\n",
            "Test Sample 560: Mean Prediction = 0.0000, Std Dev = 0.0000\n",
            "Test Sample 561: Mean Prediction = 1.0000, Std Dev = 0.0000\n",
            "Test Sample 562: Mean Prediction = 0.0000, Std Dev = 0.0000\n",
            "Test Sample 563: Mean Prediction = 1.0000, Std Dev = 0.0000\n",
            "Test Sample 564: Mean Prediction = 1.0000, Std Dev = 0.0000\n",
            "Test Sample 565: Mean Prediction = 0.0000, Std Dev = 0.0000\n",
            "Test Sample 566: Mean Prediction = 1.0000, Std Dev = 0.0000\n",
            "Test Sample 567: Mean Prediction = 0.9900, Std Dev = 0.0995\n",
            "Test Sample 568: Mean Prediction = 0.0000, Std Dev = 0.0000\n",
            "Test Sample 569: Mean Prediction = 0.0000, Std Dev = 0.0000\n",
            "Test Sample 570: Mean Prediction = 0.0000, Std Dev = 0.0000\n",
            "Test Sample 571: Mean Prediction = 1.0000, Std Dev = 0.0000\n",
            "Test Sample 572: Mean Prediction = 0.0000, Std Dev = 0.0000\n",
            "Test Sample 573: Mean Prediction = 1.0000, Std Dev = 0.0000\n",
            "Test Sample 574: Mean Prediction = 1.0000, Std Dev = 0.0000\n",
            "Test Sample 575: Mean Prediction = 0.8700, Std Dev = 0.3363\n",
            "Test Sample 576: Mean Prediction = 0.0000, Std Dev = 0.0000\n",
            "Test Sample 577: Mean Prediction = 0.0000, Std Dev = 0.0000\n",
            "Test Sample 578: Mean Prediction = 0.0000, Std Dev = 0.0000\n",
            "Test Sample 579: Mean Prediction = 0.0000, Std Dev = 0.0000\n",
            "Test Sample 580: Mean Prediction = 1.0000, Std Dev = 0.0000\n",
            "Test Sample 581: Mean Prediction = 1.0000, Std Dev = 0.0000\n",
            "Test Sample 582: Mean Prediction = 0.0000, Std Dev = 0.0000\n",
            "Test Sample 583: Mean Prediction = 1.0000, Std Dev = 0.0000\n",
            "Test Sample 584: Mean Prediction = 0.0000, Std Dev = 0.0000\n",
            "Test Sample 585: Mean Prediction = 1.0000, Std Dev = 0.0000\n",
            "Test Sample 586: Mean Prediction = 0.0000, Std Dev = 0.0000\n",
            "Test Sample 587: Mean Prediction = 1.0000, Std Dev = 0.0000\n",
            "Test Sample 588: Mean Prediction = 0.0000, Std Dev = 0.0000\n",
            "Test Sample 589: Mean Prediction = 0.0000, Std Dev = 0.0000\n",
            "Test Sample 590: Mean Prediction = 0.0000, Std Dev = 0.0000\n",
            "Test Sample 591: Mean Prediction = 1.0000, Std Dev = 0.0000\n",
            "Test Sample 592: Mean Prediction = 0.0000, Std Dev = 0.0000\n",
            "Test Sample 593: Mean Prediction = 0.0000, Std Dev = 0.0000\n",
            "Test Sample 594: Mean Prediction = 1.0000, Std Dev = 0.0000\n",
            "Test Sample 595: Mean Prediction = 1.0000, Std Dev = 0.0000\n",
            "Test Sample 596: Mean Prediction = 1.0000, Std Dev = 0.0000\n",
            "Test Sample 597: Mean Prediction = 0.0000, Std Dev = 0.0000\n",
            "Test Sample 598: Mean Prediction = 1.0000, Std Dev = 0.0000\n",
            "Test Sample 599: Mean Prediction = 1.0000, Std Dev = 0.0000\n",
            "Test Sample 600: Mean Prediction = 0.0000, Std Dev = 0.0000\n",
            "Test Sample 601: Mean Prediction = 1.0000, Std Dev = 0.0000\n",
            "Test Sample 602: Mean Prediction = 1.0000, Std Dev = 0.0000\n",
            "Test Sample 603: Mean Prediction = 1.0000, Std Dev = 0.0000\n",
            "Test Sample 604: Mean Prediction = 0.0000, Std Dev = 0.0000\n",
            "Test Sample 605: Mean Prediction = 1.0000, Std Dev = 0.0000\n",
            "Test Sample 606: Mean Prediction = 1.0000, Std Dev = 0.0000\n",
            "Test Sample 607: Mean Prediction = 0.0000, Std Dev = 0.0000\n",
            "Test Sample 608: Mean Prediction = 1.0000, Std Dev = 0.0000\n",
            "Test Sample 609: Mean Prediction = 0.0000, Std Dev = 0.0000\n",
            "Test Sample 610: Mean Prediction = 0.0000, Std Dev = 0.0000\n",
            "Test Sample 611: Mean Prediction = 0.0000, Std Dev = 0.0000\n",
            "Test Sample 612: Mean Prediction = 1.0000, Std Dev = 0.0000\n",
            "Test Sample 613: Mean Prediction = 1.0000, Std Dev = 0.0000\n",
            "Test Sample 614: Mean Prediction = 0.0000, Std Dev = 0.0000\n",
            "Test Sample 615: Mean Prediction = 1.0000, Std Dev = 0.0000\n",
            "Test Sample 616: Mean Prediction = 0.0000, Std Dev = 0.0000\n",
            "Test Sample 617: Mean Prediction = 1.0000, Std Dev = 0.0000\n",
            "Test Sample 618: Mean Prediction = 0.0000, Std Dev = 0.0000\n",
            "Test Sample 619: Mean Prediction = 1.0000, Std Dev = 0.0000\n",
            "Test Sample 620: Mean Prediction = 1.0000, Std Dev = 0.0000\n",
            "Test Sample 621: Mean Prediction = 0.0000, Std Dev = 0.0000\n",
            "Test Sample 622: Mean Prediction = 1.0000, Std Dev = 0.0000\n",
            "Test Sample 623: Mean Prediction = 1.0000, Std Dev = 0.0000\n",
            "Test Sample 624: Mean Prediction = 0.0000, Std Dev = 0.0000\n",
            "Test Sample 625: Mean Prediction = 0.0000, Std Dev = 0.0000\n",
            "Test Sample 626: Mean Prediction = 0.0000, Std Dev = 0.0000\n",
            "Test Sample 627: Mean Prediction = 1.0000, Std Dev = 0.0000\n",
            "Test Sample 628: Mean Prediction = 0.0000, Std Dev = 0.0000\n",
            "Test Sample 629: Mean Prediction = 0.0000, Std Dev = 0.0000\n",
            "Test Sample 630: Mean Prediction = 0.0000, Std Dev = 0.0000\n",
            "Test Sample 631: Mean Prediction = 0.0000, Std Dev = 0.0000\n",
            "Test Sample 632: Mean Prediction = 1.0000, Std Dev = 0.0000\n",
            "Test Sample 633: Mean Prediction = 0.0000, Std Dev = 0.0000\n",
            "Test Sample 634: Mean Prediction = 1.0000, Std Dev = 0.0000\n",
            "Test Sample 635: Mean Prediction = 1.0000, Std Dev = 0.0000\n",
            "Test Sample 636: Mean Prediction = 0.9500, Std Dev = 0.2179\n",
            "Test Sample 637: Mean Prediction = 1.0000, Std Dev = 0.0000\n",
            "Test Sample 638: Mean Prediction = 0.0000, Std Dev = 0.0000\n",
            "Test Sample 639: Mean Prediction = 0.0000, Std Dev = 0.0000\n",
            "Test Sample 640: Mean Prediction = 1.0000, Std Dev = 0.0000\n",
            "Test Sample 641: Mean Prediction = 1.0000, Std Dev = 0.0000\n",
            "Test Sample 642: Mean Prediction = 0.4200, Std Dev = 0.4936\n",
            "Test Sample 643: Mean Prediction = 0.0600, Std Dev = 0.2375\n",
            "Test Sample 644: Mean Prediction = 0.0000, Std Dev = 0.0000\n",
            "Test Sample 645: Mean Prediction = 0.0000, Std Dev = 0.0000\n",
            "Test Sample 646: Mean Prediction = 0.0000, Std Dev = 0.0000\n",
            "Test Sample 647: Mean Prediction = 1.0000, Std Dev = 0.0000\n",
            "Test Sample 648: Mean Prediction = 1.0000, Std Dev = 0.0000\n",
            "Test Sample 649: Mean Prediction = 0.0000, Std Dev = 0.0000\n",
            "Test Sample 650: Mean Prediction = 1.0000, Std Dev = 0.0000\n",
            "Test Sample 651: Mean Prediction = 0.0000, Std Dev = 0.0000\n",
            "Test Sample 652: Mean Prediction = 0.0000, Std Dev = 0.0000\n",
            "Test Sample 653: Mean Prediction = 0.2900, Std Dev = 0.4538\n",
            "Test Sample 654: Mean Prediction = 1.0000, Std Dev = 0.0000\n",
            "Test Sample 655: Mean Prediction = 1.0000, Std Dev = 0.0000\n",
            "Test Sample 656: Mean Prediction = 1.0000, Std Dev = 0.0000\n",
            "Test Sample 657: Mean Prediction = 1.0000, Std Dev = 0.0000\n",
            "Test Sample 658: Mean Prediction = 0.0000, Std Dev = 0.0000\n",
            "Test Sample 659: Mean Prediction = 1.0000, Std Dev = 0.0000\n",
            "Test Sample 660: Mean Prediction = 1.0000, Std Dev = 0.0000\n",
            "Test Sample 661: Mean Prediction = 1.0000, Std Dev = 0.0000\n",
            "Test Sample 662: Mean Prediction = 1.0000, Std Dev = 0.0000\n",
            "Test Sample 663: Mean Prediction = 1.0000, Std Dev = 0.0000\n",
            "Test Sample 664: Mean Prediction = 0.0000, Std Dev = 0.0000\n",
            "Test Sample 665: Mean Prediction = 0.0000, Std Dev = 0.0000\n",
            "Test Sample 666: Mean Prediction = 0.0000, Std Dev = 0.0000\n",
            "Test Sample 667: Mean Prediction = 0.0000, Std Dev = 0.0000\n",
            "Test Sample 668: Mean Prediction = 0.0000, Std Dev = 0.0000\n",
            "Test Sample 669: Mean Prediction = 0.0000, Std Dev = 0.0000\n",
            "Test Sample 670: Mean Prediction = 0.0000, Std Dev = 0.0000\n",
            "Test Sample 671: Mean Prediction = 1.0000, Std Dev = 0.0000\n",
            "Test Sample 672: Mean Prediction = 0.0000, Std Dev = 0.0000\n",
            "Test Sample 673: Mean Prediction = 1.0000, Std Dev = 0.0000\n",
            "Test Sample 674: Mean Prediction = 1.0000, Std Dev = 0.0000\n",
            "Test Sample 675: Mean Prediction = 1.0000, Std Dev = 0.0000\n",
            "Test Sample 676: Mean Prediction = 1.0000, Std Dev = 0.0000\n",
            "Test Sample 677: Mean Prediction = 0.0000, Std Dev = 0.0000\n",
            "Test Sample 678: Mean Prediction = 0.0000, Std Dev = 0.0000\n",
            "Test Sample 679: Mean Prediction = 0.0000, Std Dev = 0.0000\n",
            "Test Sample 680: Mean Prediction = 1.0000, Std Dev = 0.0000\n",
            "Test Sample 681: Mean Prediction = 0.0000, Std Dev = 0.0000\n",
            "Test Sample 682: Mean Prediction = 1.0000, Std Dev = 0.0000\n",
            "Test Sample 683: Mean Prediction = 0.0000, Std Dev = 0.0000\n",
            "Test Sample 684: Mean Prediction = 1.0000, Std Dev = 0.0000\n",
            "Test Sample 685: Mean Prediction = 1.0000, Std Dev = 0.0000\n",
            "Test Sample 686: Mean Prediction = 0.0000, Std Dev = 0.0000\n",
            "Test Sample 687: Mean Prediction = 0.0000, Std Dev = 0.0000\n",
            "Test Sample 688: Mean Prediction = 1.0000, Std Dev = 0.0000\n",
            "Test Sample 689: Mean Prediction = 0.0000, Std Dev = 0.0000\n",
            "Test Sample 690: Mean Prediction = 0.0000, Std Dev = 0.0000\n",
            "Test Sample 691: Mean Prediction = 1.0000, Std Dev = 0.0000\n",
            "Test Sample 692: Mean Prediction = 1.0000, Std Dev = 0.0000\n",
            "Test Sample 693: Mean Prediction = 0.0000, Std Dev = 0.0000\n",
            "Test Sample 694: Mean Prediction = 0.0000, Std Dev = 0.0000\n",
            "Test Sample 695: Mean Prediction = 1.0000, Std Dev = 0.0000\n",
            "Test Sample 696: Mean Prediction = 1.0000, Std Dev = 0.0000\n",
            "Test Sample 697: Mean Prediction = 0.0000, Std Dev = 0.0000\n",
            "Test Sample 698: Mean Prediction = 0.0000, Std Dev = 0.0000\n",
            "Test Sample 699: Mean Prediction = 0.0000, Std Dev = 0.0000\n",
            "Test Sample 700: Mean Prediction = 1.0000, Std Dev = 0.0000\n",
            "Test Sample 701: Mean Prediction = 0.0000, Std Dev = 0.0000\n",
            "Test Sample 702: Mean Prediction = 0.0000, Std Dev = 0.0000\n",
            "Test Sample 703: Mean Prediction = 1.0000, Std Dev = 0.0000\n",
            "Test Sample 704: Mean Prediction = 0.0000, Std Dev = 0.0000\n",
            "Test Sample 705: Mean Prediction = 1.0000, Std Dev = 0.0000\n",
            "Test Sample 706: Mean Prediction = 0.0000, Std Dev = 0.0000\n",
            "Test Sample 707: Mean Prediction = 0.0000, Std Dev = 0.0000\n",
            "Test Sample 708: Mean Prediction = 0.0000, Std Dev = 0.0000\n",
            "Test Sample 709: Mean Prediction = 0.0000, Std Dev = 0.0000\n",
            "Test Sample 710: Mean Prediction = 1.0000, Std Dev = 0.0000\n",
            "Test Sample 711: Mean Prediction = 0.0000, Std Dev = 0.0000\n",
            "Test Sample 712: Mean Prediction = 1.0000, Std Dev = 0.0000\n",
            "Test Sample 713: Mean Prediction = 0.0000, Std Dev = 0.0000\n",
            "Test Sample 714: Mean Prediction = 0.0000, Std Dev = 0.0000\n",
            "Test Sample 715: Mean Prediction = 0.0000, Std Dev = 0.0000\n",
            "Test Sample 716: Mean Prediction = 0.0000, Std Dev = 0.0000\n",
            "Test Sample 717: Mean Prediction = 0.0000, Std Dev = 0.0000\n",
            "Test Sample 718: Mean Prediction = 1.0000, Std Dev = 0.0000\n",
            "Test Sample 719: Mean Prediction = 1.0000, Std Dev = 0.0000\n",
            "Test Sample 720: Mean Prediction = 0.0000, Std Dev = 0.0000\n",
            "Test Sample 721: Mean Prediction = 1.0000, Std Dev = 0.0000\n",
            "Test Sample 722: Mean Prediction = 1.0000, Std Dev = 0.0000\n",
            "Test Sample 723: Mean Prediction = 0.0000, Std Dev = 0.0000\n",
            "Test Sample 724: Mean Prediction = 1.0000, Std Dev = 0.0000\n",
            "Test Sample 725: Mean Prediction = 1.0000, Std Dev = 0.0000\n",
            "Test Sample 726: Mean Prediction = 1.0000, Std Dev = 0.0000\n",
            "Test Sample 727: Mean Prediction = 1.0000, Std Dev = 0.0000\n",
            "Test Sample 728: Mean Prediction = 0.0000, Std Dev = 0.0000\n",
            "Test Sample 729: Mean Prediction = 1.0000, Std Dev = 0.0000\n",
            "Test Sample 730: Mean Prediction = 0.0000, Std Dev = 0.0000\n",
            "Test Sample 731: Mean Prediction = 1.0000, Std Dev = 0.0000\n",
            "Test Sample 732: Mean Prediction = 1.0000, Std Dev = 0.0000\n",
            "Test Sample 733: Mean Prediction = 1.0000, Std Dev = 0.0000\n",
            "Test Sample 734: Mean Prediction = 0.0000, Std Dev = 0.0000\n",
            "Test Sample 735: Mean Prediction = 0.0000, Std Dev = 0.0000\n",
            "Test Sample 736: Mean Prediction = 1.0000, Std Dev = 0.0000\n",
            "Test Sample 737: Mean Prediction = 0.0000, Std Dev = 0.0000\n",
            "Test Sample 738: Mean Prediction = 0.0000, Std Dev = 0.0000\n",
            "Test Sample 739: Mean Prediction = 0.0000, Std Dev = 0.0000\n",
            "Test Sample 740: Mean Prediction = 0.0000, Std Dev = 0.0000\n",
            "Test Sample 741: Mean Prediction = 1.0000, Std Dev = 0.0000\n",
            "Test Sample 742: Mean Prediction = 0.0000, Std Dev = 0.0000\n",
            "Test Sample 743: Mean Prediction = 0.0000, Std Dev = 0.0000\n",
            "Test Sample 744: Mean Prediction = 1.0000, Std Dev = 0.0000\n",
            "Test Sample 745: Mean Prediction = 1.0000, Std Dev = 0.0000\n",
            "Test Sample 746: Mean Prediction = 1.0000, Std Dev = 0.0000\n",
            "Test Sample 747: Mean Prediction = 1.0000, Std Dev = 0.0000\n",
            "Test Sample 748: Mean Prediction = 0.0000, Std Dev = 0.0000\n",
            "Test Sample 749: Mean Prediction = 0.0000, Std Dev = 0.0000\n",
            "Test Sample 750: Mean Prediction = 0.0000, Std Dev = 0.0000\n",
            "Test Sample 751: Mean Prediction = 1.0000, Std Dev = 0.0000\n",
            "Test Sample 752: Mean Prediction = 1.0000, Std Dev = 0.0000\n",
            "Test Sample 753: Mean Prediction = 1.0000, Std Dev = 0.0000\n",
            "Test Sample 754: Mean Prediction = 0.0000, Std Dev = 0.0000\n",
            "Test Sample 755: Mean Prediction = 1.0000, Std Dev = 0.0000\n",
            "Test Sample 756: Mean Prediction = 0.0000, Std Dev = 0.0000\n",
            "Test Sample 757: Mean Prediction = 1.0000, Std Dev = 0.0000\n",
            "Test Sample 758: Mean Prediction = 1.0000, Std Dev = 0.0000\n",
            "Test Sample 759: Mean Prediction = 0.0000, Std Dev = 0.0000\n",
            "Test Sample 760: Mean Prediction = 1.0000, Std Dev = 0.0000\n",
            "Test Sample 761: Mean Prediction = 1.0000, Std Dev = 0.0000\n",
            "Test Sample 762: Mean Prediction = 0.0000, Std Dev = 0.0000\n",
            "Test Sample 763: Mean Prediction = 1.0000, Std Dev = 0.0000\n",
            "Test Sample 764: Mean Prediction = 0.0000, Std Dev = 0.0000\n",
            "Test Sample 765: Mean Prediction = 0.0000, Std Dev = 0.0000\n",
            "Test Sample 766: Mean Prediction = 1.0000, Std Dev = 0.0000\n",
            "Test Sample 767: Mean Prediction = 1.0000, Std Dev = 0.0000\n",
            "Test Sample 768: Mean Prediction = 1.0000, Std Dev = 0.0000\n",
            "Test Sample 769: Mean Prediction = 0.0000, Std Dev = 0.0000\n",
            "Test Sample 770: Mean Prediction = 0.0000, Std Dev = 0.0000\n",
            "Test Sample 771: Mean Prediction = 1.0000, Std Dev = 0.0000\n",
            "Test Sample 772: Mean Prediction = 1.0000, Std Dev = 0.0000\n",
            "Test Sample 773: Mean Prediction = 1.0000, Std Dev = 0.0000\n",
            "Test Sample 774: Mean Prediction = 0.0000, Std Dev = 0.0000\n",
            "Test Sample 775: Mean Prediction = 1.0000, Std Dev = 0.0000\n",
            "Test Sample 776: Mean Prediction = 1.0000, Std Dev = 0.0000\n",
            "Test Sample 777: Mean Prediction = 1.0000, Std Dev = 0.0000\n",
            "Test Sample 778: Mean Prediction = 0.0000, Std Dev = 0.0000\n",
            "Test Sample 779: Mean Prediction = 0.0000, Std Dev = 0.0000\n",
            "Test Sample 780: Mean Prediction = 1.0000, Std Dev = 0.0000\n",
            "Test Sample 781: Mean Prediction = 0.0800, Std Dev = 0.2713\n",
            "Test Sample 782: Mean Prediction = 1.0000, Std Dev = 0.0000\n",
            "Test Sample 783: Mean Prediction = 0.0000, Std Dev = 0.0000\n",
            "Test Sample 784: Mean Prediction = 0.0000, Std Dev = 0.0000\n",
            "Test Sample 785: Mean Prediction = 0.0000, Std Dev = 0.0000\n",
            "Test Sample 786: Mean Prediction = 1.0000, Std Dev = 0.0000\n",
            "Test Sample 787: Mean Prediction = 0.0000, Std Dev = 0.0000\n",
            "Test Sample 788: Mean Prediction = 1.0000, Std Dev = 0.0000\n",
            "Test Sample 789: Mean Prediction = 0.2000, Std Dev = 0.4000\n",
            "Test Sample 790: Mean Prediction = 1.0000, Std Dev = 0.0000\n",
            "Test Sample 791: Mean Prediction = 1.0000, Std Dev = 0.0000\n",
            "Test Sample 792: Mean Prediction = 1.0000, Std Dev = 0.0000\n",
            "Test Sample 793: Mean Prediction = 1.0000, Std Dev = 0.0000\n",
            "Test Sample 794: Mean Prediction = 1.0000, Std Dev = 0.0000\n",
            "Test Sample 795: Mean Prediction = 1.0000, Std Dev = 0.0000\n",
            "Test Sample 796: Mean Prediction = 1.0000, Std Dev = 0.0000\n",
            "Test Sample 797: Mean Prediction = 0.0000, Std Dev = 0.0000\n",
            "Test Sample 798: Mean Prediction = 1.0000, Std Dev = 0.0000\n",
            "Test Sample 799: Mean Prediction = 0.0000, Std Dev = 0.0000\n",
            "Test Sample 800: Mean Prediction = 1.0000, Std Dev = 0.0000\n",
            "Test Sample 801: Mean Prediction = 1.0000, Std Dev = 0.0000\n",
            "Test Sample 802: Mean Prediction = 0.0000, Std Dev = 0.0000\n",
            "Test Sample 803: Mean Prediction = 0.9400, Std Dev = 0.2375\n",
            "Test Sample 804: Mean Prediction = 1.0000, Std Dev = 0.0000\n",
            "Test Sample 805: Mean Prediction = 1.0000, Std Dev = 0.0000\n",
            "Test Sample 806: Mean Prediction = 1.0000, Std Dev = 0.0000\n",
            "Test Sample 807: Mean Prediction = 0.0000, Std Dev = 0.0000\n",
            "Test Sample 808: Mean Prediction = 1.0000, Std Dev = 0.0000\n",
            "Test Sample 809: Mean Prediction = 0.0000, Std Dev = 0.0000\n",
            "Test Sample 810: Mean Prediction = 0.0000, Std Dev = 0.0000\n",
            "Test Sample 811: Mean Prediction = 0.0000, Std Dev = 0.0000\n",
            "Test Sample 812: Mean Prediction = 0.0000, Std Dev = 0.0000\n",
            "Test Sample 813: Mean Prediction = 1.0000, Std Dev = 0.0000\n",
            "Test Sample 814: Mean Prediction = 1.0000, Std Dev = 0.0000\n",
            "Test Sample 815: Mean Prediction = 0.0000, Std Dev = 0.0000\n",
            "Test Sample 816: Mean Prediction = 0.0000, Std Dev = 0.0000\n",
            "Test Sample 817: Mean Prediction = 0.0000, Std Dev = 0.0000\n",
            "Test Sample 818: Mean Prediction = 1.0000, Std Dev = 0.0000\n",
            "Test Sample 819: Mean Prediction = 1.0000, Std Dev = 0.0000\n",
            "Test Sample 820: Mean Prediction = 1.0000, Std Dev = 0.0000\n",
            "Test Sample 821: Mean Prediction = 0.0000, Std Dev = 0.0000\n",
            "Test Sample 822: Mean Prediction = 0.0000, Std Dev = 0.0000\n",
            "Test Sample 823: Mean Prediction = 1.0000, Std Dev = 0.0000\n",
            "Test Sample 824: Mean Prediction = 0.4000, Std Dev = 0.4899\n",
            "Test Sample 825: Mean Prediction = 0.0000, Std Dev = 0.0000\n",
            "Test Sample 826: Mean Prediction = 0.0000, Std Dev = 0.0000\n",
            "Test Sample 827: Mean Prediction = 0.0000, Std Dev = 0.0000\n",
            "Test Sample 828: Mean Prediction = 1.0000, Std Dev = 0.0000\n",
            "Test Sample 829: Mean Prediction = 0.0000, Std Dev = 0.0000\n",
            "Test Sample 830: Mean Prediction = 1.0000, Std Dev = 0.0000\n",
            "Test Sample 831: Mean Prediction = 0.0000, Std Dev = 0.0000\n",
            "Test Sample 832: Mean Prediction = 1.0000, Std Dev = 0.0000\n",
            "Test Sample 833: Mean Prediction = 1.0000, Std Dev = 0.0000\n",
            "Test Sample 834: Mean Prediction = 1.0000, Std Dev = 0.0000\n",
            "Test Sample 835: Mean Prediction = 0.0000, Std Dev = 0.0000\n",
            "Test Sample 836: Mean Prediction = 0.0000, Std Dev = 0.0000\n",
            "Test Sample 837: Mean Prediction = 1.0000, Std Dev = 0.0000\n",
            "Test Sample 838: Mean Prediction = 1.0000, Std Dev = 0.0000\n",
            "Test Sample 839: Mean Prediction = 1.0000, Std Dev = 0.0000\n",
            "Test Sample 840: Mean Prediction = 0.0000, Std Dev = 0.0000\n",
            "Test Sample 841: Mean Prediction = 0.0000, Std Dev = 0.0000\n",
            "Test Sample 842: Mean Prediction = 0.0000, Std Dev = 0.0000\n",
            "Test Sample 843: Mean Prediction = 1.0000, Std Dev = 0.0000\n",
            "Test Sample 844: Mean Prediction = 0.0000, Std Dev = 0.0000\n",
            "Test Sample 845: Mean Prediction = 0.0000, Std Dev = 0.0000\n",
            "Test Sample 846: Mean Prediction = 1.0000, Std Dev = 0.0000\n",
            "Test Sample 847: Mean Prediction = 0.0000, Std Dev = 0.0000\n",
            "Test Sample 848: Mean Prediction = 0.0000, Std Dev = 0.0000\n",
            "Test Sample 849: Mean Prediction = 0.0000, Std Dev = 0.0000\n",
            "Test Sample 850: Mean Prediction = 0.0000, Std Dev = 0.0000\n",
            "Test Sample 851: Mean Prediction = 1.0000, Std Dev = 0.0000\n",
            "Test Sample 852: Mean Prediction = 0.0000, Std Dev = 0.0000\n",
            "Test Sample 853: Mean Prediction = 0.0000, Std Dev = 0.0000\n",
            "Test Sample 854: Mean Prediction = 0.0000, Std Dev = 0.0000\n",
            "Test Sample 855: Mean Prediction = 1.0000, Std Dev = 0.0000\n",
            "Test Sample 856: Mean Prediction = 0.0000, Std Dev = 0.0000\n",
            "Test Sample 857: Mean Prediction = 0.0000, Std Dev = 0.0000\n",
            "Test Sample 858: Mean Prediction = 0.0000, Std Dev = 0.0000\n",
            "Test Sample 859: Mean Prediction = 0.0000, Std Dev = 0.0000\n",
            "Test Sample 860: Mean Prediction = 0.0000, Std Dev = 0.0000\n",
            "Test Sample 861: Mean Prediction = 1.0000, Std Dev = 0.0000\n",
            "Test Sample 862: Mean Prediction = 0.0000, Std Dev = 0.0000\n",
            "Test Sample 863: Mean Prediction = 0.0000, Std Dev = 0.0000\n",
            "Test Sample 864: Mean Prediction = 0.0000, Std Dev = 0.0000\n",
            "Test Sample 865: Mean Prediction = 0.0000, Std Dev = 0.0000\n",
            "Test Sample 866: Mean Prediction = 1.0000, Std Dev = 0.0000\n",
            "Test Sample 867: Mean Prediction = 1.0000, Std Dev = 0.0000\n",
            "Test Sample 868: Mean Prediction = 0.0000, Std Dev = 0.0000\n",
            "Test Sample 869: Mean Prediction = 1.0000, Std Dev = 0.0000\n",
            "Test Sample 870: Mean Prediction = 1.0000, Std Dev = 0.0000\n",
            "Test Sample 871: Mean Prediction = 1.0000, Std Dev = 0.0000\n",
            "Test Sample 872: Mean Prediction = 1.0000, Std Dev = 0.0000\n",
            "Test Sample 873: Mean Prediction = 0.0000, Std Dev = 0.0000\n",
            "Test Sample 874: Mean Prediction = 1.0000, Std Dev = 0.0000\n",
            "Test Sample 875: Mean Prediction = 0.0000, Std Dev = 0.0000\n",
            "Test Sample 876: Mean Prediction = 1.0000, Std Dev = 0.0000\n",
            "Test Sample 877: Mean Prediction = 0.0000, Std Dev = 0.0000\n",
            "Test Sample 878: Mean Prediction = 1.0000, Std Dev = 0.0000\n",
            "Test Sample 879: Mean Prediction = 0.0000, Std Dev = 0.0000\n",
            "Test Sample 880: Mean Prediction = 1.0000, Std Dev = 0.0000\n",
            "Test Sample 881: Mean Prediction = 0.0000, Std Dev = 0.0000\n",
            "Test Sample 882: Mean Prediction = 0.9000, Std Dev = 0.3000\n",
            "Test Sample 883: Mean Prediction = 1.0000, Std Dev = 0.0000\n",
            "Test Sample 884: Mean Prediction = 0.0000, Std Dev = 0.0000\n",
            "Test Sample 885: Mean Prediction = 0.0000, Std Dev = 0.0000\n",
            "Test Sample 886: Mean Prediction = 0.0000, Std Dev = 0.0000\n",
            "Test Sample 887: Mean Prediction = 0.0000, Std Dev = 0.0000\n",
            "Test Sample 888: Mean Prediction = 0.0000, Std Dev = 0.0000\n",
            "Test Sample 889: Mean Prediction = 1.0000, Std Dev = 0.0000\n",
            "Test Sample 890: Mean Prediction = 1.0000, Std Dev = 0.0000\n",
            "Test Sample 891: Mean Prediction = 1.0000, Std Dev = 0.0000\n",
            "Test Sample 892: Mean Prediction = 0.0000, Std Dev = 0.0000\n",
            "Test Sample 893: Mean Prediction = 0.0000, Std Dev = 0.0000\n",
            "Test Sample 894: Mean Prediction = 1.0000, Std Dev = 0.0000\n",
            "Test Sample 895: Mean Prediction = 1.0000, Std Dev = 0.0000\n",
            "Test Sample 896: Mean Prediction = 1.0000, Std Dev = 0.0000\n",
            "Test Sample 897: Mean Prediction = 0.0000, Std Dev = 0.0000\n",
            "Test Sample 898: Mean Prediction = 0.0000, Std Dev = 0.0000\n",
            "Test Sample 899: Mean Prediction = 0.0000, Std Dev = 0.0000\n",
            "Test Sample 900: Mean Prediction = 0.0000, Std Dev = 0.0000\n",
            "Test Sample 901: Mean Prediction = 0.0000, Std Dev = 0.0000\n",
            "Test Sample 902: Mean Prediction = 1.0000, Std Dev = 0.0000\n",
            "Test Sample 903: Mean Prediction = 0.0000, Std Dev = 0.0000\n",
            "Test Sample 904: Mean Prediction = 0.0000, Std Dev = 0.0000\n",
            "Test Sample 905: Mean Prediction = 0.0000, Std Dev = 0.0000\n",
            "Test Sample 906: Mean Prediction = 0.0000, Std Dev = 0.0000\n",
            "Test Sample 907: Mean Prediction = 0.0000, Std Dev = 0.0000\n",
            "Test Sample 908: Mean Prediction = 0.0000, Std Dev = 0.0000\n",
            "Test Sample 909: Mean Prediction = 1.0000, Std Dev = 0.0000\n",
            "Test Sample 910: Mean Prediction = 0.0000, Std Dev = 0.0000\n",
            "Test Sample 911: Mean Prediction = 0.0000, Std Dev = 0.0000\n",
            "Test Sample 912: Mean Prediction = 0.7200, Std Dev = 0.4490\n",
            "Test Sample 913: Mean Prediction = 0.0000, Std Dev = 0.0000\n",
            "Test Sample 914: Mean Prediction = 1.0000, Std Dev = 0.0000\n",
            "Test Sample 915: Mean Prediction = 1.0000, Std Dev = 0.0000\n",
            "Test Sample 916: Mean Prediction = 1.0000, Std Dev = 0.0000\n",
            "Test Sample 917: Mean Prediction = 0.0000, Std Dev = 0.0000\n",
            "Test Sample 918: Mean Prediction = 1.0000, Std Dev = 0.0000\n",
            "Test Sample 919: Mean Prediction = 1.0000, Std Dev = 0.0000\n",
            "Test Sample 920: Mean Prediction = 0.0000, Std Dev = 0.0000\n",
            "Test Sample 921: Mean Prediction = 0.0000, Std Dev = 0.0000\n",
            "Test Sample 922: Mean Prediction = 0.0000, Std Dev = 0.0000\n",
            "Test Sample 923: Mean Prediction = 1.0000, Std Dev = 0.0000\n",
            "Test Sample 924: Mean Prediction = 1.0000, Std Dev = 0.0000\n",
            "Test Sample 925: Mean Prediction = 1.0000, Std Dev = 0.0000\n",
            "Test Sample 926: Mean Prediction = 0.0000, Std Dev = 0.0000\n",
            "Test Sample 927: Mean Prediction = 1.0000, Std Dev = 0.0000\n",
            "Test Sample 928: Mean Prediction = 0.0000, Std Dev = 0.0000\n",
            "Test Sample 929: Mean Prediction = 0.0000, Std Dev = 0.0000\n",
            "Test Sample 930: Mean Prediction = 0.0000, Std Dev = 0.0000\n",
            "Test Sample 931: Mean Prediction = 1.0000, Std Dev = 0.0000\n",
            "Test Sample 932: Mean Prediction = 0.0000, Std Dev = 0.0000\n",
            "Test Sample 933: Mean Prediction = 0.2600, Std Dev = 0.4386\n",
            "Test Sample 934: Mean Prediction = 0.0000, Std Dev = 0.0000\n",
            "Test Sample 935: Mean Prediction = 1.0000, Std Dev = 0.0000\n",
            "Test Sample 936: Mean Prediction = 0.0000, Std Dev = 0.0000\n",
            "Test Sample 937: Mean Prediction = 0.0000, Std Dev = 0.0000\n",
            "Test Sample 938: Mean Prediction = 1.0000, Std Dev = 0.0000\n",
            "Test Sample 939: Mean Prediction = 0.0000, Std Dev = 0.0000\n",
            "Test Sample 940: Mean Prediction = 1.0000, Std Dev = 0.0000\n",
            "Test Sample 941: Mean Prediction = 1.0000, Std Dev = 0.0000\n",
            "Test Sample 942: Mean Prediction = 1.0000, Std Dev = 0.0000\n",
            "Test Sample 943: Mean Prediction = 0.0000, Std Dev = 0.0000\n",
            "Test Sample 944: Mean Prediction = 1.0000, Std Dev = 0.0000\n",
            "Test Sample 945: Mean Prediction = 1.0000, Std Dev = 0.0000\n",
            "Test Sample 946: Mean Prediction = 0.0000, Std Dev = 0.0000\n",
            "Test Sample 947: Mean Prediction = 1.0000, Std Dev = 0.0000\n",
            "Test Sample 948: Mean Prediction = 1.0000, Std Dev = 0.0000\n",
            "Test Sample 949: Mean Prediction = 0.0000, Std Dev = 0.0000\n",
            "Test Sample 950: Mean Prediction = 1.0000, Std Dev = 0.0000\n",
            "Test Sample 951: Mean Prediction = 1.0000, Std Dev = 0.0000\n",
            "Test Sample 952: Mean Prediction = 0.0000, Std Dev = 0.0000\n",
            "Test Sample 953: Mean Prediction = 1.0000, Std Dev = 0.0000\n",
            "Test Sample 954: Mean Prediction = 1.0000, Std Dev = 0.0000\n",
            "Test Sample 955: Mean Prediction = 0.0000, Std Dev = 0.0000\n",
            "Test Sample 956: Mean Prediction = 1.0000, Std Dev = 0.0000\n",
            "Test Sample 957: Mean Prediction = 1.0000, Std Dev = 0.0000\n",
            "Test Sample 958: Mean Prediction = 1.0000, Std Dev = 0.0000\n",
            "Test Sample 959: Mean Prediction = 1.0000, Std Dev = 0.0000\n",
            "Test Sample 960: Mean Prediction = 0.0000, Std Dev = 0.0000\n",
            "Test Sample 961: Mean Prediction = 1.0000, Std Dev = 0.0000\n",
            "Test Sample 962: Mean Prediction = 1.0000, Std Dev = 0.0000\n",
            "Test Sample 963: Mean Prediction = 0.0000, Std Dev = 0.0000\n",
            "Test Sample 964: Mean Prediction = 0.0000, Std Dev = 0.0000\n",
            "Test Sample 965: Mean Prediction = 1.0000, Std Dev = 0.0000\n",
            "Test Sample 966: Mean Prediction = 0.0000, Std Dev = 0.0000\n",
            "Test Sample 967: Mean Prediction = 1.0000, Std Dev = 0.0000\n",
            "Test Sample 968: Mean Prediction = 1.0000, Std Dev = 0.0000\n",
            "Test Sample 969: Mean Prediction = 1.0000, Std Dev = 0.0000\n",
            "Test Sample 970: Mean Prediction = 0.0000, Std Dev = 0.0000\n",
            "Test Sample 971: Mean Prediction = 0.0000, Std Dev = 0.0000\n",
            "Test Sample 972: Mean Prediction = 0.0000, Std Dev = 0.0000\n",
            "Test Sample 973: Mean Prediction = 1.0000, Std Dev = 0.0000\n",
            "Test Sample 974: Mean Prediction = 0.0000, Std Dev = 0.0000\n",
            "Test Sample 975: Mean Prediction = 1.0000, Std Dev = 0.0000\n",
            "Test Sample 976: Mean Prediction = 0.0000, Std Dev = 0.0000\n",
            "Test Sample 977: Mean Prediction = 0.0000, Std Dev = 0.0000\n",
            "Test Sample 978: Mean Prediction = 1.0000, Std Dev = 0.0000\n",
            "Test Sample 979: Mean Prediction = 0.0000, Std Dev = 0.0000\n",
            "Test Sample 980: Mean Prediction = 1.0000, Std Dev = 0.0000\n",
            "Test Sample 981: Mean Prediction = 0.0000, Std Dev = 0.0000\n",
            "Test Sample 982: Mean Prediction = 0.0000, Std Dev = 0.0000\n",
            "Test Sample 983: Mean Prediction = 0.8400, Std Dev = 0.3666\n",
            "Test Sample 984: Mean Prediction = 1.0000, Std Dev = 0.0000\n",
            "Test Sample 985: Mean Prediction = 0.0000, Std Dev = 0.0000\n",
            "Test Sample 986: Mean Prediction = 0.0000, Std Dev = 0.0000\n",
            "Test Sample 987: Mean Prediction = 1.0000, Std Dev = 0.0000\n",
            "Test Sample 988: Mean Prediction = 1.0000, Std Dev = 0.0000\n",
            "Test Sample 989: Mean Prediction = 1.0000, Std Dev = 0.0000\n",
            "Test Sample 990: Mean Prediction = 0.0000, Std Dev = 0.0000\n",
            "Test Sample 991: Mean Prediction = 1.0000, Std Dev = 0.0000\n",
            "Test Sample 992: Mean Prediction = 1.0000, Std Dev = 0.0000\n",
            "Test Sample 993: Mean Prediction = 0.0000, Std Dev = 0.0000\n",
            "Test Sample 994: Mean Prediction = 0.0000, Std Dev = 0.0000\n",
            "Test Sample 995: Mean Prediction = 1.0000, Std Dev = 0.0000\n",
            "Test Sample 996: Mean Prediction = 0.0000, Std Dev = 0.0000\n",
            "Test Sample 997: Mean Prediction = 1.0000, Std Dev = 0.0000\n",
            "Test Sample 998: Mean Prediction = 0.0000, Std Dev = 0.0000\n",
            "Test Sample 999: Mean Prediction = 1.0000, Std Dev = 0.0000\n",
            "Test Sample 1000: Mean Prediction = 0.0000, Std Dev = 0.0000\n",
            "Test Sample 1001: Mean Prediction = 0.0000, Std Dev = 0.0000\n",
            "Test Sample 1002: Mean Prediction = 0.0000, Std Dev = 0.0000\n",
            "Test Sample 1003: Mean Prediction = 1.0000, Std Dev = 0.0000\n",
            "Test Sample 1004: Mean Prediction = 1.0000, Std Dev = 0.0000\n",
            "Test Sample 1005: Mean Prediction = 1.0000, Std Dev = 0.0000\n",
            "Test Sample 1006: Mean Prediction = 1.0000, Std Dev = 0.0000\n",
            "Test Sample 1007: Mean Prediction = 1.0000, Std Dev = 0.0000\n",
            "Test Sample 1008: Mean Prediction = 1.0000, Std Dev = 0.0000\n",
            "Test Sample 1009: Mean Prediction = 0.0000, Std Dev = 0.0000\n",
            "Test Sample 1010: Mean Prediction = 1.0000, Std Dev = 0.0000\n",
            "Test Sample 1011: Mean Prediction = 1.0000, Std Dev = 0.0000\n",
            "Test Sample 1012: Mean Prediction = 1.0000, Std Dev = 0.0000\n",
            "Test Sample 1013: Mean Prediction = 0.0000, Std Dev = 0.0000\n",
            "Test Sample 1014: Mean Prediction = 1.0000, Std Dev = 0.0000\n",
            "Test Sample 1015: Mean Prediction = 0.0000, Std Dev = 0.0000\n",
            "Test Sample 1016: Mean Prediction = 0.0000, Std Dev = 0.0000\n",
            "Test Sample 1017: Mean Prediction = 0.0000, Std Dev = 0.0000\n",
            "Test Sample 1018: Mean Prediction = 1.0000, Std Dev = 0.0000\n",
            "Test Sample 1019: Mean Prediction = 1.0000, Std Dev = 0.0000\n",
            "Test Sample 1020: Mean Prediction = 0.0000, Std Dev = 0.0000\n",
            "Test Sample 1021: Mean Prediction = 1.0000, Std Dev = 0.0000\n",
            "Test Sample 1022: Mean Prediction = 1.0000, Std Dev = 0.0000\n",
            "Test Sample 1023: Mean Prediction = 1.0000, Std Dev = 0.0000\n",
            "Test Sample 1024: Mean Prediction = 0.0000, Std Dev = 0.0000\n",
            "Test Sample 1025: Mean Prediction = 1.0000, Std Dev = 0.0000\n",
            "Test Sample 1026: Mean Prediction = 0.0000, Std Dev = 0.0000\n",
            "Test Sample 1027: Mean Prediction = 1.0000, Std Dev = 0.0000\n",
            "Test Sample 1028: Mean Prediction = 1.0000, Std Dev = 0.0000\n",
            "Test Sample 1029: Mean Prediction = 0.0000, Std Dev = 0.0000\n",
            "Test Sample 1030: Mean Prediction = 0.0000, Std Dev = 0.0000\n",
            "Test Sample 1031: Mean Prediction = 1.0000, Std Dev = 0.0000\n",
            "Test Sample 1032: Mean Prediction = 0.0000, Std Dev = 0.0000\n",
            "Test Sample 1033: Mean Prediction = 0.0000, Std Dev = 0.0000\n",
            "Test Sample 1034: Mean Prediction = 0.8800, Std Dev = 0.3250\n",
            "Test Sample 1035: Mean Prediction = 0.0000, Std Dev = 0.0000\n",
            "Test Sample 1036: Mean Prediction = 1.0000, Std Dev = 0.0000\n",
            "Test Sample 1037: Mean Prediction = 1.0000, Std Dev = 0.0000\n",
            "Test Sample 1038: Mean Prediction = 0.0000, Std Dev = 0.0000\n",
            "Test Sample 1039: Mean Prediction = 0.0000, Std Dev = 0.0000\n",
            "Test Sample 1040: Mean Prediction = 0.0000, Std Dev = 0.0000\n",
            "Test Sample 1041: Mean Prediction = 0.0000, Std Dev = 0.0000\n",
            "Test Sample 1042: Mean Prediction = 0.0000, Std Dev = 0.0000\n",
            "Test Sample 1043: Mean Prediction = 0.0000, Std Dev = 0.0000\n",
            "Test Sample 1044: Mean Prediction = 1.0000, Std Dev = 0.0000\n",
            "Test Sample 1045: Mean Prediction = 0.0000, Std Dev = 0.0000\n",
            "Test Sample 1046: Mean Prediction = 1.0000, Std Dev = 0.0000\n",
            "Test Sample 1047: Mean Prediction = 0.0000, Std Dev = 0.0000\n",
            "Test Sample 1048: Mean Prediction = 0.0000, Std Dev = 0.0000\n",
            "Test Sample 1049: Mean Prediction = 1.0000, Std Dev = 0.0000\n",
            "Test Sample 1050: Mean Prediction = 0.0000, Std Dev = 0.0000\n",
            "Test Sample 1051: Mean Prediction = 0.0000, Std Dev = 0.0000\n",
            "Test Sample 1052: Mean Prediction = 0.5600, Std Dev = 0.4964\n",
            "Test Sample 1053: Mean Prediction = 0.0000, Std Dev = 0.0000\n",
            "Test Sample 1054: Mean Prediction = 1.0000, Std Dev = 0.0000\n",
            "Test Sample 1055: Mean Prediction = 0.0000, Std Dev = 0.0000\n",
            "Test Sample 1056: Mean Prediction = 0.0000, Std Dev = 0.0000\n",
            "Test Sample 1057: Mean Prediction = 0.0000, Std Dev = 0.0000\n",
            "Test Sample 1058: Mean Prediction = 0.0000, Std Dev = 0.0000\n",
            "Test Sample 1059: Mean Prediction = 0.0000, Std Dev = 0.0000\n",
            "Test Sample 1060: Mean Prediction = 1.0000, Std Dev = 0.0000\n",
            "Test Sample 1061: Mean Prediction = 1.0000, Std Dev = 0.0000\n",
            "Test Sample 1062: Mean Prediction = 0.0000, Std Dev = 0.0000\n",
            "Test Sample 1063: Mean Prediction = 0.0000, Std Dev = 0.0000\n",
            "Test Sample 1064: Mean Prediction = 1.0000, Std Dev = 0.0000\n",
            "Test Sample 1065: Mean Prediction = 0.0000, Std Dev = 0.0000\n",
            "Test Sample 1066: Mean Prediction = 0.0000, Std Dev = 0.0000\n",
            "Test Sample 1067: Mean Prediction = 0.0000, Std Dev = 0.0000\n",
            "Test Sample 1068: Mean Prediction = 1.0000, Std Dev = 0.0000\n",
            "Test Sample 1069: Mean Prediction = 1.0000, Std Dev = 0.0000\n",
            "Test Sample 1070: Mean Prediction = 1.0000, Std Dev = 0.0000\n",
            "Test Sample 1071: Mean Prediction = 0.0000, Std Dev = 0.0000\n",
            "Test Sample 1072: Mean Prediction = 0.0000, Std Dev = 0.0000\n",
            "Test Sample 1073: Mean Prediction = 1.0000, Std Dev = 0.0000\n",
            "Test Sample 1074: Mean Prediction = 0.0000, Std Dev = 0.0000\n",
            "Test Sample 1075: Mean Prediction = 0.0000, Std Dev = 0.0000\n",
            "Test Sample 1076: Mean Prediction = 1.0000, Std Dev = 0.0000\n",
            "Test Sample 1077: Mean Prediction = 0.0000, Std Dev = 0.0000\n",
            "Test Sample 1078: Mean Prediction = 1.0000, Std Dev = 0.0000\n",
            "Test Sample 1079: Mean Prediction = 0.0000, Std Dev = 0.0000\n",
            "Test Sample 1080: Mean Prediction = 0.0000, Std Dev = 0.0000\n",
            "Test Sample 1081: Mean Prediction = 0.0000, Std Dev = 0.0000\n",
            "Test Sample 1082: Mean Prediction = 0.0000, Std Dev = 0.0000\n",
            "Test Sample 1083: Mean Prediction = 0.0000, Std Dev = 0.0000\n",
            "Test Sample 1084: Mean Prediction = 1.0000, Std Dev = 0.0000\n",
            "Test Sample 1085: Mean Prediction = 1.0000, Std Dev = 0.0000\n",
            "Test Sample 1086: Mean Prediction = 1.0000, Std Dev = 0.0000\n",
            "Test Sample 1087: Mean Prediction = 1.0000, Std Dev = 0.0000\n",
            "Test Sample 1088: Mean Prediction = 0.0400, Std Dev = 0.1960\n",
            "Test Sample 1089: Mean Prediction = 0.0000, Std Dev = 0.0000\n",
            "Test Sample 1090: Mean Prediction = 1.0000, Std Dev = 0.0000\n",
            "Test Sample 1091: Mean Prediction = 0.0000, Std Dev = 0.0000\n",
            "Test Sample 1092: Mean Prediction = 0.0000, Std Dev = 0.0000\n",
            "Test Sample 1093: Mean Prediction = 1.0000, Std Dev = 0.0000\n",
            "Test Sample 1094: Mean Prediction = 0.0000, Std Dev = 0.0000\n",
            "Test Sample 1095: Mean Prediction = 1.0000, Std Dev = 0.0000\n",
            "Test Sample 1096: Mean Prediction = 0.0000, Std Dev = 0.0000\n",
            "Test Sample 1097: Mean Prediction = 1.0000, Std Dev = 0.0000\n",
            "Test Sample 1098: Mean Prediction = 0.0000, Std Dev = 0.0000\n",
            "Test Sample 1099: Mean Prediction = 1.0000, Std Dev = 0.0000\n",
            "Test Sample 1100: Mean Prediction = 1.0000, Std Dev = 0.0000\n",
            "Test Sample 1101: Mean Prediction = 0.0000, Std Dev = 0.0000\n",
            "Test Sample 1102: Mean Prediction = 1.0000, Std Dev = 0.0000\n",
            "Test Sample 1103: Mean Prediction = 1.0000, Std Dev = 0.0000\n",
            "Test Sample 1104: Mean Prediction = 1.0000, Std Dev = 0.0000\n",
            "Test Sample 1105: Mean Prediction = 0.0000, Std Dev = 0.0000\n",
            "Test Sample 1106: Mean Prediction = 0.0000, Std Dev = 0.0000\n",
            "Test Sample 1107: Mean Prediction = 1.0000, Std Dev = 0.0000\n",
            "Test Sample 1108: Mean Prediction = 0.0000, Std Dev = 0.0000\n",
            "Test Sample 1109: Mean Prediction = 1.0000, Std Dev = 0.0000\n",
            "Test Sample 1110: Mean Prediction = 0.0000, Std Dev = 0.0000\n",
            "Test Sample 1111: Mean Prediction = 1.0000, Std Dev = 0.0000\n",
            "Test Sample 1112: Mean Prediction = 1.0000, Std Dev = 0.0000\n",
            "Test Sample 1113: Mean Prediction = 1.0000, Std Dev = 0.0000\n",
            "Test Sample 1114: Mean Prediction = 0.0000, Std Dev = 0.0000\n",
            "Test Sample 1115: Mean Prediction = 0.0000, Std Dev = 0.0000\n",
            "Test Sample 1116: Mean Prediction = 0.0000, Std Dev = 0.0000\n",
            "Test Sample 1117: Mean Prediction = 1.0000, Std Dev = 0.0000\n",
            "Test Sample 1118: Mean Prediction = 1.0000, Std Dev = 0.0000\n",
            "Test Sample 1119: Mean Prediction = 1.0000, Std Dev = 0.0000\n",
            "Test Sample 1120: Mean Prediction = 0.0000, Std Dev = 0.0000\n",
            "Test Sample 1121: Mean Prediction = 1.0000, Std Dev = 0.0000\n",
            "Test Sample 1122: Mean Prediction = 1.0000, Std Dev = 0.0000\n",
            "Test Sample 1123: Mean Prediction = 1.0000, Std Dev = 0.0000\n",
            "Test Sample 1124: Mean Prediction = 0.0000, Std Dev = 0.0000\n",
            "Test Sample 1125: Mean Prediction = 1.0000, Std Dev = 0.0000\n",
            "Test Sample 1126: Mean Prediction = 1.0000, Std Dev = 0.0000\n",
            "Test Sample 1127: Mean Prediction = 0.0000, Std Dev = 0.0000\n",
            "Test Sample 1128: Mean Prediction = 0.0000, Std Dev = 0.0000\n",
            "Test Sample 1129: Mean Prediction = 1.0000, Std Dev = 0.0000\n",
            "Test Sample 1130: Mean Prediction = 1.0000, Std Dev = 0.0000\n",
            "Test Sample 1131: Mean Prediction = 0.0000, Std Dev = 0.0000\n",
            "Test Sample 1132: Mean Prediction = 0.0000, Std Dev = 0.0000\n",
            "Test Sample 1133: Mean Prediction = 0.0000, Std Dev = 0.0000\n",
            "Test Sample 1134: Mean Prediction = 0.0000, Std Dev = 0.0000\n",
            "Test Sample 1135: Mean Prediction = 1.0000, Std Dev = 0.0000\n",
            "Test Sample 1136: Mean Prediction = 1.0000, Std Dev = 0.0000\n",
            "Test Sample 1137: Mean Prediction = 0.0000, Std Dev = 0.0000\n",
            "Test Sample 1138: Mean Prediction = 1.0000, Std Dev = 0.0000\n",
            "Test Sample 1139: Mean Prediction = 1.0000, Std Dev = 0.0000\n",
            "Test Sample 1140: Mean Prediction = 1.0000, Std Dev = 0.0000\n",
            "Test Sample 1141: Mean Prediction = 1.0000, Std Dev = 0.0000\n",
            "Test Sample 1142: Mean Prediction = 1.0000, Std Dev = 0.0000\n",
            "Test Sample 1143: Mean Prediction = 1.0000, Std Dev = 0.0000\n",
            "Test Sample 1144: Mean Prediction = 1.0000, Std Dev = 0.0000\n",
            "Test Sample 1145: Mean Prediction = 0.9200, Std Dev = 0.2713\n",
            "Test Sample 1146: Mean Prediction = 1.0000, Std Dev = 0.0000\n",
            "Test Sample 1147: Mean Prediction = 1.0000, Std Dev = 0.0000\n",
            "Test Sample 1148: Mean Prediction = 0.0000, Std Dev = 0.0000\n",
            "Test Sample 1149: Mean Prediction = 0.0000, Std Dev = 0.0000\n",
            "Test Sample 1150: Mean Prediction = 1.0000, Std Dev = 0.0000\n",
            "Test Sample 1151: Mean Prediction = 0.0000, Std Dev = 0.0000\n",
            "Test Sample 1152: Mean Prediction = 1.0000, Std Dev = 0.0000\n",
            "Test Sample 1153: Mean Prediction = 0.6700, Std Dev = 0.4702\n",
            "Test Sample 1154: Mean Prediction = 0.0000, Std Dev = 0.0000\n",
            "Test Sample 1155: Mean Prediction = 1.0000, Std Dev = 0.0000\n",
            "Test Sample 1156: Mean Prediction = 1.0000, Std Dev = 0.0000\n",
            "Test Sample 1157: Mean Prediction = 1.0000, Std Dev = 0.0000\n",
            "Test Sample 1158: Mean Prediction = 1.0000, Std Dev = 0.0000\n",
            "Test Sample 1159: Mean Prediction = 1.0000, Std Dev = 0.0000\n",
            "Test Sample 1160: Mean Prediction = 1.0000, Std Dev = 0.0000\n",
            "Test Sample 1161: Mean Prediction = 0.0000, Std Dev = 0.0000\n",
            "Test Sample 1162: Mean Prediction = 1.0000, Std Dev = 0.0000\n",
            "Test Sample 1163: Mean Prediction = 1.0000, Std Dev = 0.0000\n",
            "Test Sample 1164: Mean Prediction = 0.0000, Std Dev = 0.0000\n",
            "Test Sample 1165: Mean Prediction = 0.0000, Std Dev = 0.0000\n",
            "Test Sample 1166: Mean Prediction = 0.0000, Std Dev = 0.0000\n",
            "Test Sample 1167: Mean Prediction = 0.0000, Std Dev = 0.0000\n",
            "Test Sample 1168: Mean Prediction = 0.0000, Std Dev = 0.0000\n",
            "Test Sample 1169: Mean Prediction = 1.0000, Std Dev = 0.0000\n",
            "Test Sample 1170: Mean Prediction = 1.0000, Std Dev = 0.0000\n",
            "Test Sample 1171: Mean Prediction = 0.0000, Std Dev = 0.0000\n",
            "Test Sample 1172: Mean Prediction = 1.0000, Std Dev = 0.0000\n",
            "Test Sample 1173: Mean Prediction = 0.2100, Std Dev = 0.4073\n",
            "Test Sample 1174: Mean Prediction = 0.0000, Std Dev = 0.0000\n",
            "Test Sample 1175: Mean Prediction = 1.0000, Std Dev = 0.0000\n",
            "Test Sample 1176: Mean Prediction = 0.0000, Std Dev = 0.0000\n",
            "Test Sample 1177: Mean Prediction = 1.0000, Std Dev = 0.0000\n",
            "Test Sample 1178: Mean Prediction = 0.0000, Std Dev = 0.0000\n",
            "Test Sample 1179: Mean Prediction = 0.0000, Std Dev = 0.0000\n",
            "Test Sample 1180: Mean Prediction = 0.0000, Std Dev = 0.0000\n",
            "Test Sample 1181: Mean Prediction = 1.0000, Std Dev = 0.0000\n",
            "Test Sample 1182: Mean Prediction = 1.0000, Std Dev = 0.0000\n",
            "Test Sample 1183: Mean Prediction = 0.0000, Std Dev = 0.0000\n",
            "Test Sample 1184: Mean Prediction = 0.0000, Std Dev = 0.0000\n",
            "Test Sample 1185: Mean Prediction = 0.0000, Std Dev = 0.0000\n",
            "Test Sample 1186: Mean Prediction = 1.0000, Std Dev = 0.0000\n",
            "Test Sample 1187: Mean Prediction = 1.0000, Std Dev = 0.0000\n",
            "Test Sample 1188: Mean Prediction = 1.0000, Std Dev = 0.0000\n",
            "Test Sample 1189: Mean Prediction = 1.0000, Std Dev = 0.0000\n",
            "Test Sample 1190: Mean Prediction = 0.0000, Std Dev = 0.0000\n",
            "Test Sample 1191: Mean Prediction = 0.0000, Std Dev = 0.0000\n",
            "Test Sample 1192: Mean Prediction = 0.0000, Std Dev = 0.0000\n",
            "Test Sample 1193: Mean Prediction = 1.0000, Std Dev = 0.0000\n",
            "Test Sample 1194: Mean Prediction = 1.0000, Std Dev = 0.0000\n",
            "Test Sample 1195: Mean Prediction = 0.0000, Std Dev = 0.0000\n",
            "Test Sample 1196: Mean Prediction = 1.0000, Std Dev = 0.0000\n",
            "Test Sample 1197: Mean Prediction = 0.0000, Std Dev = 0.0000\n",
            "Test Sample 1198: Mean Prediction = 0.0000, Std Dev = 0.0000\n",
            "Test Sample 1199: Mean Prediction = 1.0000, Std Dev = 0.0000\n",
            "Test Sample 1200: Mean Prediction = 0.0000, Std Dev = 0.0000\n",
            "Test Sample 1201: Mean Prediction = 0.0000, Std Dev = 0.0000\n",
            "Test Sample 1202: Mean Prediction = 0.0000, Std Dev = 0.0000\n",
            "Test Sample 1203: Mean Prediction = 1.0000, Std Dev = 0.0000\n",
            "Test Sample 1204: Mean Prediction = 0.0000, Std Dev = 0.0000\n",
            "Test Sample 1205: Mean Prediction = 1.0000, Std Dev = 0.0000\n",
            "Test Sample 1206: Mean Prediction = 0.9200, Std Dev = 0.2713\n",
            "Test Sample 1207: Mean Prediction = 0.0000, Std Dev = 0.0000\n",
            "Test Sample 1208: Mean Prediction = 1.0000, Std Dev = 0.0000\n",
            "Test Sample 1209: Mean Prediction = 0.0000, Std Dev = 0.0000\n",
            "Test Sample 1210: Mean Prediction = 1.0000, Std Dev = 0.0000\n",
            "Test Sample 1211: Mean Prediction = 1.0000, Std Dev = 0.0000\n",
            "Test Sample 1212: Mean Prediction = 1.0000, Std Dev = 0.0000\n",
            "Test Sample 1213: Mean Prediction = 1.0000, Std Dev = 0.0000\n",
            "Test Sample 1214: Mean Prediction = 0.0000, Std Dev = 0.0000\n",
            "Test Sample 1215: Mean Prediction = 0.0000, Std Dev = 0.0000\n",
            "Test Sample 1216: Mean Prediction = 0.0000, Std Dev = 0.0000\n",
            "Test Sample 1217: Mean Prediction = 1.0000, Std Dev = 0.0000\n",
            "Test Sample 1218: Mean Prediction = 0.0000, Std Dev = 0.0000\n",
            "Test Sample 1219: Mean Prediction = 0.0000, Std Dev = 0.0000\n",
            "Test Sample 1220: Mean Prediction = 0.0000, Std Dev = 0.0000\n",
            "Test Sample 1221: Mean Prediction = 0.9300, Std Dev = 0.2551\n",
            "Test Sample 1222: Mean Prediction = 0.0000, Std Dev = 0.0000\n",
            "Test Sample 1223: Mean Prediction = 0.0000, Std Dev = 0.0000\n",
            "Test Sample 1224: Mean Prediction = 0.0000, Std Dev = 0.0000\n",
            "Test Sample 1225: Mean Prediction = 1.0000, Std Dev = 0.0000\n",
            "Test Sample 1226: Mean Prediction = 0.0000, Std Dev = 0.0000\n",
            "Test Sample 1227: Mean Prediction = 0.0000, Std Dev = 0.0000\n",
            "Test Sample 1228: Mean Prediction = 0.0000, Std Dev = 0.0000\n",
            "Test Sample 1229: Mean Prediction = 1.0000, Std Dev = 0.0000\n",
            "Test Sample 1230: Mean Prediction = 0.0000, Std Dev = 0.0000\n",
            "Test Sample 1231: Mean Prediction = 0.0000, Std Dev = 0.0000\n",
            "Test Sample 1232: Mean Prediction = 0.0000, Std Dev = 0.0000\n",
            "Test Sample 1233: Mean Prediction = 1.0000, Std Dev = 0.0000\n",
            "Test Sample 1234: Mean Prediction = 0.0000, Std Dev = 0.0000\n",
            "Test Sample 1235: Mean Prediction = 1.0000, Std Dev = 0.0000\n",
            "Test Sample 1236: Mean Prediction = 0.0000, Std Dev = 0.0000\n",
            "Test Sample 1237: Mean Prediction = 1.0000, Std Dev = 0.0000\n",
            "Test Sample 1238: Mean Prediction = 1.0000, Std Dev = 0.0000\n",
            "Test Sample 1239: Mean Prediction = 0.0000, Std Dev = 0.0000\n",
            "Test Sample 1240: Mean Prediction = 1.0000, Std Dev = 0.0000\n",
            "Test Sample 1241: Mean Prediction = 0.0000, Std Dev = 0.0000\n",
            "Test Sample 1242: Mean Prediction = 1.0000, Std Dev = 0.0000\n",
            "Test Sample 1243: Mean Prediction = 0.0000, Std Dev = 0.0000\n",
            "Test Sample 1244: Mean Prediction = 1.0000, Std Dev = 0.0000\n",
            "Test Sample 1245: Mean Prediction = 1.0000, Std Dev = 0.0000\n",
            "Test Sample 1246: Mean Prediction = 1.0000, Std Dev = 0.0000\n",
            "Test Sample 1247: Mean Prediction = 1.0000, Std Dev = 0.0000\n",
            "Test Sample 1248: Mean Prediction = 0.0000, Std Dev = 0.0000\n",
            "Test Sample 1249: Mean Prediction = 0.0000, Std Dev = 0.0000\n",
            "Test Sample 1250: Mean Prediction = 0.0000, Std Dev = 0.0000\n",
            "Test Sample 1251: Mean Prediction = 0.0000, Std Dev = 0.0000\n",
            "Test Sample 1252: Mean Prediction = 0.0000, Std Dev = 0.0000\n",
            "Test Sample 1253: Mean Prediction = 1.0000, Std Dev = 0.0000\n",
            "Test Sample 1254: Mean Prediction = 0.0000, Std Dev = 0.0000\n",
            "Test Sample 1255: Mean Prediction = 0.0000, Std Dev = 0.0000\n",
            "Test Sample 1256: Mean Prediction = 0.0000, Std Dev = 0.0000\n",
            "Test Sample 1257: Mean Prediction = 0.0000, Std Dev = 0.0000\n",
            "Test Sample 1258: Mean Prediction = 0.0000, Std Dev = 0.0000\n",
            "Test Sample 1259: Mean Prediction = 1.0000, Std Dev = 0.0000\n",
            "Test Sample 1260: Mean Prediction = 1.0000, Std Dev = 0.0000\n",
            "Test Sample 1261: Mean Prediction = 1.0000, Std Dev = 0.0000\n",
            "Test Sample 1262: Mean Prediction = 1.0000, Std Dev = 0.0000\n",
            "Test Sample 1263: Mean Prediction = 1.0000, Std Dev = 0.0000\n",
            "Test Sample 1264: Mean Prediction = 0.0000, Std Dev = 0.0000\n",
            "Test Sample 1265: Mean Prediction = 0.0000, Std Dev = 0.0000\n",
            "Test Sample 1266: Mean Prediction = 1.0000, Std Dev = 0.0000\n",
            "Test Sample 1267: Mean Prediction = 1.0000, Std Dev = 0.0000\n",
            "Test Sample 1268: Mean Prediction = 1.0000, Std Dev = 0.0000\n",
            "Test Sample 1269: Mean Prediction = 0.0000, Std Dev = 0.0000\n",
            "Test Sample 1270: Mean Prediction = 0.0000, Std Dev = 0.0000\n",
            "Test Sample 1271: Mean Prediction = 0.0000, Std Dev = 0.0000\n",
            "Test Sample 1272: Mean Prediction = 0.0000, Std Dev = 0.0000\n",
            "Test Sample 1273: Mean Prediction = 1.0000, Std Dev = 0.0000\n",
            "Test Sample 1274: Mean Prediction = 0.0000, Std Dev = 0.0000\n",
            "Test Sample 1275: Mean Prediction = 0.0000, Std Dev = 0.0000\n",
            "Test Sample 1276: Mean Prediction = 1.0000, Std Dev = 0.0000\n",
            "Test Sample 1277: Mean Prediction = 0.0000, Std Dev = 0.0000\n",
            "Test Sample 1278: Mean Prediction = 1.0000, Std Dev = 0.0000\n",
            "Test Sample 1279: Mean Prediction = 1.0000, Std Dev = 0.0000\n",
            "Test Sample 1280: Mean Prediction = 0.0000, Std Dev = 0.0000\n",
            "Test Sample 1281: Mean Prediction = 0.0000, Std Dev = 0.0000\n",
            "Test Sample 1282: Mean Prediction = 1.0000, Std Dev = 0.0000\n",
            "Test Sample 1283: Mean Prediction = 1.0000, Std Dev = 0.0000\n",
            "Test Sample 1284: Mean Prediction = 0.0000, Std Dev = 0.0000\n",
            "Test Sample 1285: Mean Prediction = 1.0000, Std Dev = 0.0000\n",
            "Test Sample 1286: Mean Prediction = 1.0000, Std Dev = 0.0000\n",
            "Test Sample 1287: Mean Prediction = 0.0000, Std Dev = 0.0000\n",
            "Test Sample 1288: Mean Prediction = 0.0000, Std Dev = 0.0000\n",
            "Test Sample 1289: Mean Prediction = 0.0000, Std Dev = 0.0000\n",
            "Test Sample 1290: Mean Prediction = 1.0000, Std Dev = 0.0000\n",
            "Test Sample 1291: Mean Prediction = 0.0000, Std Dev = 0.0000\n",
            "Test Sample 1292: Mean Prediction = 0.0000, Std Dev = 0.0000\n",
            "Test Sample 1293: Mean Prediction = 0.0000, Std Dev = 0.0000\n",
            "Test Sample 1294: Mean Prediction = 0.0000, Std Dev = 0.0000\n",
            "Test Sample 1295: Mean Prediction = 1.0000, Std Dev = 0.0000\n",
            "Test Sample 1296: Mean Prediction = 0.0000, Std Dev = 0.0000\n",
            "Test Sample 1297: Mean Prediction = 1.0000, Std Dev = 0.0000\n",
            "Test Sample 1298: Mean Prediction = 1.0000, Std Dev = 0.0000\n",
            "Test Sample 1299: Mean Prediction = 1.0000, Std Dev = 0.0000\n",
            "Test Sample 1300: Mean Prediction = 1.0000, Std Dev = 0.0000\n",
            "Test Sample 1301: Mean Prediction = 0.0000, Std Dev = 0.0000\n",
            "Test Sample 1302: Mean Prediction = 0.0000, Std Dev = 0.0000\n",
            "Test Sample 1303: Mean Prediction = 1.0000, Std Dev = 0.0000\n",
            "Test Sample 1304: Mean Prediction = 0.0000, Std Dev = 0.0000\n",
            "Test Sample 1305: Mean Prediction = 1.0000, Std Dev = 0.0000\n",
            "Test Sample 1306: Mean Prediction = 0.0000, Std Dev = 0.0000\n",
            "Test Sample 1307: Mean Prediction = 0.0000, Std Dev = 0.0000\n",
            "Test Sample 1308: Mean Prediction = 0.0000, Std Dev = 0.0000\n",
            "Test Sample 1309: Mean Prediction = 1.0000, Std Dev = 0.0000\n",
            "Test Sample 1310: Mean Prediction = 1.0000, Std Dev = 0.0000\n",
            "Test Sample 1311: Mean Prediction = 0.0000, Std Dev = 0.0000\n",
            "Test Sample 1312: Mean Prediction = 0.0000, Std Dev = 0.0000\n",
            "Test Sample 1313: Mean Prediction = 1.0000, Std Dev = 0.0000\n",
            "Test Sample 1314: Mean Prediction = 0.0000, Std Dev = 0.0000\n",
            "Test Sample 1315: Mean Prediction = 1.0000, Std Dev = 0.0000\n",
            "Test Sample 1316: Mean Prediction = 1.0000, Std Dev = 0.0000\n",
            "Test Sample 1317: Mean Prediction = 0.0000, Std Dev = 0.0000\n",
            "Test Sample 1318: Mean Prediction = 1.0000, Std Dev = 0.0000\n",
            "Test Sample 1319: Mean Prediction = 0.0000, Std Dev = 0.0000\n",
            "Test Sample 1320: Mean Prediction = 0.0000, Std Dev = 0.0000\n",
            "Test Sample 1321: Mean Prediction = 1.0000, Std Dev = 0.0000\n",
            "Test Sample 1322: Mean Prediction = 1.0000, Std Dev = 0.0000\n",
            "Test Sample 1323: Mean Prediction = 1.0000, Std Dev = 0.0000\n",
            "Test Sample 1324: Mean Prediction = 0.0000, Std Dev = 0.0000\n",
            "Test Sample 1325: Mean Prediction = 1.0000, Std Dev = 0.0000\n",
            "Test Sample 1326: Mean Prediction = 0.0000, Std Dev = 0.0000\n",
            "Test Sample 1327: Mean Prediction = 1.0000, Std Dev = 0.0000\n",
            "Test Sample 1328: Mean Prediction = 1.0000, Std Dev = 0.0000\n",
            "Test Sample 1329: Mean Prediction = 0.0000, Std Dev = 0.0000\n",
            "Test Sample 1330: Mean Prediction = 0.0200, Std Dev = 0.1400\n",
            "Test Sample 1331: Mean Prediction = 1.0000, Std Dev = 0.0000\n",
            "Test Sample 1332: Mean Prediction = 0.0000, Std Dev = 0.0000\n",
            "Test Sample 1333: Mean Prediction = 1.0000, Std Dev = 0.0000\n",
            "Test Sample 1334: Mean Prediction = 0.0000, Std Dev = 0.0000\n",
            "Test Sample 1335: Mean Prediction = 0.0000, Std Dev = 0.0000\n",
            "Test Sample 1336: Mean Prediction = 0.0000, Std Dev = 0.0000\n",
            "Test Sample 1337: Mean Prediction = 1.0000, Std Dev = 0.0000\n",
            "Test Sample 1338: Mean Prediction = 1.0000, Std Dev = 0.0000\n",
            "Test Sample 1339: Mean Prediction = 0.0000, Std Dev = 0.0000\n",
            "Test Sample 1340: Mean Prediction = 0.0000, Std Dev = 0.0000\n",
            "Test Sample 1341: Mean Prediction = 0.0000, Std Dev = 0.0000\n",
            "Test Sample 1342: Mean Prediction = 0.0000, Std Dev = 0.0000\n",
            "Test Sample 1343: Mean Prediction = 0.0000, Std Dev = 0.0000\n",
            "Test Sample 1344: Mean Prediction = 1.0000, Std Dev = 0.0000\n",
            "Test Sample 1345: Mean Prediction = 1.0000, Std Dev = 0.0000\n",
            "Test Sample 1346: Mean Prediction = 0.0000, Std Dev = 0.0000\n",
            "Test Sample 1347: Mean Prediction = 1.0000, Std Dev = 0.0000\n",
            "Test Sample 1348: Mean Prediction = 0.0000, Std Dev = 0.0000\n",
            "Test Sample 1349: Mean Prediction = 0.0000, Std Dev = 0.0000\n",
            "Test Sample 1350: Mean Prediction = 1.0000, Std Dev = 0.0000\n",
            "Test Sample 1351: Mean Prediction = 1.0000, Std Dev = 0.0000\n",
            "Test Sample 1352: Mean Prediction = 1.0000, Std Dev = 0.0000\n",
            "Test Sample 1353: Mean Prediction = 1.0000, Std Dev = 0.0000\n",
            "Test Sample 1354: Mean Prediction = 1.0000, Std Dev = 0.0000\n",
            "Test Sample 1355: Mean Prediction = 1.0000, Std Dev = 0.0000\n",
            "Test Sample 1356: Mean Prediction = 1.0000, Std Dev = 0.0000\n",
            "Test Sample 1357: Mean Prediction = 0.0000, Std Dev = 0.0000\n",
            "Test Sample 1358: Mean Prediction = 1.0000, Std Dev = 0.0000\n",
            "Test Sample 1359: Mean Prediction = 1.0000, Std Dev = 0.0000\n",
            "Test Sample 1360: Mean Prediction = 1.0000, Std Dev = 0.0000\n",
            "Test Sample 1361: Mean Prediction = 0.0000, Std Dev = 0.0000\n",
            "Test Sample 1362: Mean Prediction = 0.0000, Std Dev = 0.0000\n",
            "Test Sample 1363: Mean Prediction = 1.0000, Std Dev = 0.0000\n",
            "Test Sample 1364: Mean Prediction = 1.0000, Std Dev = 0.0000\n",
            "Test Sample 1365: Mean Prediction = 1.0000, Std Dev = 0.0000\n",
            "Test Sample 1366: Mean Prediction = 1.0000, Std Dev = 0.0000\n",
            "Test Sample 1367: Mean Prediction = 0.0000, Std Dev = 0.0000\n",
            "Test Sample 1368: Mean Prediction = 1.0000, Std Dev = 0.0000\n",
            "Test Sample 1369: Mean Prediction = 1.0000, Std Dev = 0.0000\n",
            "Test Sample 1370: Mean Prediction = 1.0000, Std Dev = 0.0000\n",
            "Test Sample 1371: Mean Prediction = 1.0000, Std Dev = 0.0000\n",
            "Test Sample 1372: Mean Prediction = 1.0000, Std Dev = 0.0000\n",
            "Test Sample 1373: Mean Prediction = 1.0000, Std Dev = 0.0000\n",
            "Test Sample 1374: Mean Prediction = 1.0000, Std Dev = 0.0000\n",
            "Test Sample 1375: Mean Prediction = 1.0000, Std Dev = 0.0000\n",
            "Test Sample 1376: Mean Prediction = 1.0000, Std Dev = 0.0000\n",
            "Test Sample 1377: Mean Prediction = 0.0000, Std Dev = 0.0000\n",
            "Test Sample 1378: Mean Prediction = 1.0000, Std Dev = 0.0000\n",
            "Test Sample 1379: Mean Prediction = 0.0000, Std Dev = 0.0000\n",
            "Test Sample 1380: Mean Prediction = 0.0000, Std Dev = 0.0000\n",
            "Test Sample 1381: Mean Prediction = 0.0000, Std Dev = 0.0000\n",
            "Test Sample 1382: Mean Prediction = 1.0000, Std Dev = 0.0000\n",
            "Test Sample 1383: Mean Prediction = 1.0000, Std Dev = 0.0000\n",
            "Test Sample 1384: Mean Prediction = 1.0000, Std Dev = 0.0000\n",
            "Test Sample 1385: Mean Prediction = 1.0000, Std Dev = 0.0000\n",
            "Test Sample 1386: Mean Prediction = 0.0000, Std Dev = 0.0000\n",
            "Test Sample 1387: Mean Prediction = 1.0000, Std Dev = 0.0000\n",
            "Test Sample 1388: Mean Prediction = 1.0000, Std Dev = 0.0000\n",
            "Test Sample 1389: Mean Prediction = 1.0000, Std Dev = 0.0000\n",
            "Test Sample 1390: Mean Prediction = 1.0000, Std Dev = 0.0000\n",
            "Test Sample 1391: Mean Prediction = 1.0000, Std Dev = 0.0000\n",
            "Test Sample 1392: Mean Prediction = 1.0000, Std Dev = 0.0000\n",
            "Test Sample 1393: Mean Prediction = 1.0000, Std Dev = 0.0000\n",
            "Test Sample 1394: Mean Prediction = 1.0000, Std Dev = 0.0000\n",
            "Test Sample 1395: Mean Prediction = 0.0000, Std Dev = 0.0000\n",
            "Test Sample 1396: Mean Prediction = 1.0000, Std Dev = 0.0000\n",
            "Test Sample 1397: Mean Prediction = 1.0000, Std Dev = 0.0000\n",
            "Test Sample 1398: Mean Prediction = 1.0000, Std Dev = 0.0000\n",
            "Test Sample 1399: Mean Prediction = 0.0000, Std Dev = 0.0000\n",
            "Test Sample 1400: Mean Prediction = 1.0000, Std Dev = 0.0000\n",
            "Test Sample 1401: Mean Prediction = 1.0000, Std Dev = 0.0000\n",
            "Test Sample 1402: Mean Prediction = 1.0000, Std Dev = 0.0000\n",
            "Test Sample 1403: Mean Prediction = 1.0000, Std Dev = 0.0000\n",
            "Test Sample 1404: Mean Prediction = 0.0000, Std Dev = 0.0000\n",
            "Test Sample 1405: Mean Prediction = 0.0000, Std Dev = 0.0000\n",
            "Test Sample 1406: Mean Prediction = 1.0000, Std Dev = 0.0000\n",
            "Test Sample 1407: Mean Prediction = 0.0000, Std Dev = 0.0000\n",
            "Test Sample 1408: Mean Prediction = 0.0000, Std Dev = 0.0000\n",
            "Test Sample 1409: Mean Prediction = 0.0000, Std Dev = 0.0000\n",
            "Test Sample 1410: Mean Prediction = 0.0100, Std Dev = 0.0995\n",
            "Test Sample 1411: Mean Prediction = 0.0000, Std Dev = 0.0000\n",
            "Test Sample 1412: Mean Prediction = 0.0000, Std Dev = 0.0000\n",
            "Test Sample 1413: Mean Prediction = 0.0000, Std Dev = 0.0000\n",
            "Test Sample 1414: Mean Prediction = 1.0000, Std Dev = 0.0000\n",
            "Test Sample 1415: Mean Prediction = 0.0000, Std Dev = 0.0000\n",
            "Test Sample 1416: Mean Prediction = 1.0000, Std Dev = 0.0000\n",
            "Test Sample 1417: Mean Prediction = 1.0000, Std Dev = 0.0000\n",
            "Test Sample 1418: Mean Prediction = 0.0000, Std Dev = 0.0000\n",
            "Test Sample 1419: Mean Prediction = 1.0000, Std Dev = 0.0000\n",
            "Test Sample 1420: Mean Prediction = 0.0000, Std Dev = 0.0000\n",
            "Test Sample 1421: Mean Prediction = 0.0000, Std Dev = 0.0000\n",
            "Test Sample 1422: Mean Prediction = 1.0000, Std Dev = 0.0000\n",
            "Test Sample 1423: Mean Prediction = 1.0000, Std Dev = 0.0000\n",
            "Test Sample 1424: Mean Prediction = 1.0000, Std Dev = 0.0000\n",
            "Test Sample 1425: Mean Prediction = 0.9200, Std Dev = 0.2713\n",
            "Test Sample 1426: Mean Prediction = 1.0000, Std Dev = 0.0000\n",
            "Test Sample 1427: Mean Prediction = 1.0000, Std Dev = 0.0000\n",
            "Test Sample 1428: Mean Prediction = 0.0000, Std Dev = 0.0000\n",
            "Test Sample 1429: Mean Prediction = 1.0000, Std Dev = 0.0000\n",
            "Test Sample 1430: Mean Prediction = 0.0000, Std Dev = 0.0000\n",
            "Test Sample 1431: Mean Prediction = 0.0000, Std Dev = 0.0000\n",
            "Test Sample 1432: Mean Prediction = 0.0000, Std Dev = 0.0000\n",
            "Test Sample 1433: Mean Prediction = 1.0000, Std Dev = 0.0000\n",
            "Test Sample 1434: Mean Prediction = 1.0000, Std Dev = 0.0000\n",
            "Test Sample 1435: Mean Prediction = 0.0000, Std Dev = 0.0000\n",
            "Test Sample 1436: Mean Prediction = 0.0000, Std Dev = 0.0000\n",
            "Test Sample 1437: Mean Prediction = 0.0000, Std Dev = 0.0000\n",
            "Test Sample 1438: Mean Prediction = 0.0000, Std Dev = 0.0000\n",
            "Test Sample 1439: Mean Prediction = 0.0000, Std Dev = 0.0000\n",
            "Test Sample 1440: Mean Prediction = 0.0000, Std Dev = 0.0000\n",
            "Test Sample 1441: Mean Prediction = 1.0000, Std Dev = 0.0000\n",
            "Test Sample 1442: Mean Prediction = 1.0000, Std Dev = 0.0000\n",
            "Test Sample 1443: Mean Prediction = 0.0000, Std Dev = 0.0000\n",
            "Test Sample 1444: Mean Prediction = 0.0000, Std Dev = 0.0000\n",
            "Test Sample 1445: Mean Prediction = 1.0000, Std Dev = 0.0000\n",
            "Test Sample 1446: Mean Prediction = 1.0000, Std Dev = 0.0000\n",
            "Test Sample 1447: Mean Prediction = 0.0000, Std Dev = 0.0000\n",
            "Test Sample 1448: Mean Prediction = 0.0100, Std Dev = 0.0995\n",
            "Test Sample 1449: Mean Prediction = 0.0000, Std Dev = 0.0000\n",
            "Test Sample 1450: Mean Prediction = 1.0000, Std Dev = 0.0000\n",
            "Test Sample 1451: Mean Prediction = 1.0000, Std Dev = 0.0000\n",
            "Test Sample 1452: Mean Prediction = 1.0000, Std Dev = 0.0000\n",
            "Test Sample 1453: Mean Prediction = 0.0000, Std Dev = 0.0000\n",
            "Test Sample 1454: Mean Prediction = 1.0000, Std Dev = 0.0000\n",
            "Test Sample 1455: Mean Prediction = 0.0000, Std Dev = 0.0000\n",
            "Test Sample 1456: Mean Prediction = 1.0000, Std Dev = 0.0000\n",
            "Test Sample 1457: Mean Prediction = 1.0000, Std Dev = 0.0000\n",
            "Test Sample 1458: Mean Prediction = 0.0000, Std Dev = 0.0000\n",
            "Test Sample 1459: Mean Prediction = 1.0000, Std Dev = 0.0000\n",
            "Test Sample 1460: Mean Prediction = 0.0000, Std Dev = 0.0000\n",
            "Test Sample 1461: Mean Prediction = 0.0000, Std Dev = 0.0000\n",
            "Test Sample 1462: Mean Prediction = 1.0000, Std Dev = 0.0000\n",
            "Test Sample 1463: Mean Prediction = 1.0000, Std Dev = 0.0000\n",
            "Test Sample 1464: Mean Prediction = 1.0000, Std Dev = 0.0000\n",
            "Test Sample 1465: Mean Prediction = 0.0000, Std Dev = 0.0000\n",
            "Test Sample 1466: Mean Prediction = 0.0000, Std Dev = 0.0000\n",
            "Test Sample 1467: Mean Prediction = 0.0000, Std Dev = 0.0000\n",
            "Test Sample 1468: Mean Prediction = 1.0000, Std Dev = 0.0000\n",
            "Test Sample 1469: Mean Prediction = 0.0000, Std Dev = 0.0000\n",
            "Test Sample 1470: Mean Prediction = 1.0000, Std Dev = 0.0000\n",
            "Test Sample 1471: Mean Prediction = 0.0000, Std Dev = 0.0000\n",
            "Test Sample 1472: Mean Prediction = 1.0000, Std Dev = 0.0000\n",
            "Test Sample 1473: Mean Prediction = 1.0000, Std Dev = 0.0000\n",
            "Test Sample 1474: Mean Prediction = 1.0000, Std Dev = 0.0000\n",
            "Test Sample 1475: Mean Prediction = 0.0000, Std Dev = 0.0000\n",
            "Test Sample 1476: Mean Prediction = 0.0000, Std Dev = 0.0000\n",
            "Test Sample 1477: Mean Prediction = 0.0000, Std Dev = 0.0000\n",
            "Test Sample 1478: Mean Prediction = 1.0000, Std Dev = 0.0000\n",
            "Test Sample 1479: Mean Prediction = 1.0000, Std Dev = 0.0000\n",
            "Test Sample 1480: Mean Prediction = 0.0000, Std Dev = 0.0000\n",
            "Test Sample 1481: Mean Prediction = 1.0000, Std Dev = 0.0000\n",
            "Test Sample 1482: Mean Prediction = 1.0000, Std Dev = 0.0000\n",
            "Test Sample 1483: Mean Prediction = 0.0000, Std Dev = 0.0000\n",
            "Test Sample 1484: Mean Prediction = 0.0000, Std Dev = 0.0000\n",
            "Test Sample 1485: Mean Prediction = 0.0000, Std Dev = 0.0000\n",
            "Test Sample 1486: Mean Prediction = 1.0000, Std Dev = 0.0000\n",
            "Test Sample 1487: Mean Prediction = 0.0000, Std Dev = 0.0000\n",
            "Test Sample 1488: Mean Prediction = 0.0000, Std Dev = 0.0000\n",
            "Test Sample 1489: Mean Prediction = 0.0000, Std Dev = 0.0000\n",
            "Test Sample 1490: Mean Prediction = 0.0000, Std Dev = 0.0000\n",
            "Test Sample 1491: Mean Prediction = 0.0000, Std Dev = 0.0000\n",
            "Test Sample 1492: Mean Prediction = 0.0000, Std Dev = 0.0000\n",
            "Test Sample 1493: Mean Prediction = 1.0000, Std Dev = 0.0000\n",
            "Test Sample 1494: Mean Prediction = 0.0000, Std Dev = 0.0000\n",
            "Test Sample 1495: Mean Prediction = 0.0000, Std Dev = 0.0000\n",
            "Test Sample 1496: Mean Prediction = 0.0000, Std Dev = 0.0000\n",
            "Test Sample 1497: Mean Prediction = 0.0000, Std Dev = 0.0000\n",
            "Test Sample 1498: Mean Prediction = 1.0000, Std Dev = 0.0000\n",
            "Test Sample 1499: Mean Prediction = 0.0000, Std Dev = 0.0000\n",
            "Test Sample 1500: Mean Prediction = 1.0000, Std Dev = 0.0000\n",
            "Test Sample 1501: Mean Prediction = 0.0000, Std Dev = 0.0000\n",
            "Test Sample 1502: Mean Prediction = 1.0000, Std Dev = 0.0000\n",
            "Test Sample 1503: Mean Prediction = 0.0000, Std Dev = 0.0000\n",
            "Test Sample 1504: Mean Prediction = 0.0000, Std Dev = 0.0000\n",
            "Test Sample 1505: Mean Prediction = 0.0000, Std Dev = 0.0000\n",
            "Test Sample 1506: Mean Prediction = 0.0000, Std Dev = 0.0000\n",
            "Test Sample 1507: Mean Prediction = 0.0000, Std Dev = 0.0000\n",
            "Test Sample 1508: Mean Prediction = 1.0000, Std Dev = 0.0000\n",
            "Test Sample 1509: Mean Prediction = 1.0000, Std Dev = 0.0000\n",
            "Test Sample 1510: Mean Prediction = 0.0000, Std Dev = 0.0000\n",
            "Test Sample 1511: Mean Prediction = 1.0000, Std Dev = 0.0000\n",
            "Test Sample 1512: Mean Prediction = 1.0000, Std Dev = 0.0000\n",
            "Test Sample 1513: Mean Prediction = 0.0000, Std Dev = 0.0000\n",
            "Test Sample 1514: Mean Prediction = 0.0000, Std Dev = 0.0000\n",
            "Test Sample 1515: Mean Prediction = 1.0000, Std Dev = 0.0000\n",
            "Test Sample 1516: Mean Prediction = 0.0000, Std Dev = 0.0000\n",
            "Test Sample 1517: Mean Prediction = 1.0000, Std Dev = 0.0000\n",
            "Test Sample 1518: Mean Prediction = 1.0000, Std Dev = 0.0000\n",
            "Test Sample 1519: Mean Prediction = 1.0000, Std Dev = 0.0000\n",
            "Test Sample 1520: Mean Prediction = 1.0000, Std Dev = 0.0000\n",
            "Test Sample 1521: Mean Prediction = 1.0000, Std Dev = 0.0000\n",
            "Test Sample 1522: Mean Prediction = 0.0000, Std Dev = 0.0000\n",
            "Test Sample 1523: Mean Prediction = 1.0000, Std Dev = 0.0000\n",
            "Test Sample 1524: Mean Prediction = 1.0000, Std Dev = 0.0000\n",
            "Test Sample 1525: Mean Prediction = 0.0000, Std Dev = 0.0000\n",
            "Test Sample 1526: Mean Prediction = 1.0000, Std Dev = 0.0000\n",
            "Test Sample 1527: Mean Prediction = 0.0000, Std Dev = 0.0000\n",
            "Test Sample 1528: Mean Prediction = 1.0000, Std Dev = 0.0000\n",
            "Test Sample 1529: Mean Prediction = 1.0000, Std Dev = 0.0000\n",
            "Test Sample 1530: Mean Prediction = 1.0000, Std Dev = 0.0000\n",
            "Test Sample 1531: Mean Prediction = 1.0000, Std Dev = 0.0000\n",
            "Test Sample 1532: Mean Prediction = 0.0000, Std Dev = 0.0000\n",
            "Test Sample 1533: Mean Prediction = 1.0000, Std Dev = 0.0000\n",
            "Test Sample 1534: Mean Prediction = 1.0000, Std Dev = 0.0000\n",
            "Test Sample 1535: Mean Prediction = 1.0000, Std Dev = 0.0000\n",
            "Test Sample 1536: Mean Prediction = 1.0000, Std Dev = 0.0000\n",
            "Test Sample 1537: Mean Prediction = 0.1500, Std Dev = 0.3571\n",
            "Test Sample 1538: Mean Prediction = 0.0000, Std Dev = 0.0000\n",
            "Test Sample 1539: Mean Prediction = 0.0000, Std Dev = 0.0000\n",
            "Test Sample 1540: Mean Prediction = 0.0000, Std Dev = 0.0000\n",
            "Test Sample 1541: Mean Prediction = 0.0000, Std Dev = 0.0000\n",
            "Test Sample 1542: Mean Prediction = 1.0000, Std Dev = 0.0000\n",
            "Test Sample 1543: Mean Prediction = 0.0000, Std Dev = 0.0000\n",
            "Test Sample 1544: Mean Prediction = 1.0000, Std Dev = 0.0000\n",
            "Test Sample 1545: Mean Prediction = 1.0000, Std Dev = 0.0000\n",
            "Test Sample 1546: Mean Prediction = 1.0000, Std Dev = 0.0000\n",
            "Test Sample 1547: Mean Prediction = 0.0000, Std Dev = 0.0000\n",
            "Test Sample 1548: Mean Prediction = 1.0000, Std Dev = 0.0000\n",
            "Test Sample 1549: Mean Prediction = 0.0000, Std Dev = 0.0000\n",
            "Test Sample 1550: Mean Prediction = 1.0000, Std Dev = 0.0000\n",
            "Test Sample 1551: Mean Prediction = 1.0000, Std Dev = 0.0000\n",
            "Test Sample 1552: Mean Prediction = 1.0000, Std Dev = 0.0000\n",
            "Test Sample 1553: Mean Prediction = 0.0000, Std Dev = 0.0000\n",
            "Test Sample 1554: Mean Prediction = 1.0000, Std Dev = 0.0000\n",
            "Test Sample 1555: Mean Prediction = 1.0000, Std Dev = 0.0000\n",
            "Test Sample 1556: Mean Prediction = 0.0000, Std Dev = 0.0000\n",
            "Test Sample 1557: Mean Prediction = 0.0000, Std Dev = 0.0000\n",
            "Test Sample 1558: Mean Prediction = 1.0000, Std Dev = 0.0000\n",
            "Test Sample 1559: Mean Prediction = 0.0000, Std Dev = 0.0000\n",
            "Test Sample 1560: Mean Prediction = 0.0000, Std Dev = 0.0000\n",
            "Test Sample 1561: Mean Prediction = 1.0000, Std Dev = 0.0000\n",
            "Test Sample 1562: Mean Prediction = 0.0000, Std Dev = 0.0000\n",
            "Test Sample 1563: Mean Prediction = 0.0000, Std Dev = 0.0000\n",
            "Test Sample 1564: Mean Prediction = 0.0000, Std Dev = 0.0000\n",
            "Test Sample 1565: Mean Prediction = 1.0000, Std Dev = 0.0000\n",
            "Test Sample 1566: Mean Prediction = 1.0000, Std Dev = 0.0000\n",
            "Test Sample 1567: Mean Prediction = 0.0000, Std Dev = 0.0000\n",
            "Test Sample 1568: Mean Prediction = 1.0000, Std Dev = 0.0000\n",
            "Test Sample 1569: Mean Prediction = 0.0000, Std Dev = 0.0000\n",
            "Test Sample 1570: Mean Prediction = 0.0000, Std Dev = 0.0000\n",
            "Test Sample 1571: Mean Prediction = 1.0000, Std Dev = 0.0000\n",
            "Test Sample 1572: Mean Prediction = 0.0000, Std Dev = 0.0000\n",
            "Test Sample 1573: Mean Prediction = 0.0000, Std Dev = 0.0000\n",
            "Test Sample 1574: Mean Prediction = 0.0000, Std Dev = 0.0000\n",
            "Test Sample 1575: Mean Prediction = 1.0000, Std Dev = 0.0000\n",
            "Test Sample 1576: Mean Prediction = 1.0000, Std Dev = 0.0000\n",
            "Test Sample 1577: Mean Prediction = 1.0000, Std Dev = 0.0000\n",
            "Test Sample 1578: Mean Prediction = 0.0000, Std Dev = 0.0000\n",
            "Test Sample 1579: Mean Prediction = 1.0000, Std Dev = 0.0000\n",
            "Test Sample 1580: Mean Prediction = 1.0000, Std Dev = 0.0000\n",
            "Test Sample 1581: Mean Prediction = 0.0000, Std Dev = 0.0000\n",
            "Test Sample 1582: Mean Prediction = 1.0000, Std Dev = 0.0000\n",
            "Test Sample 1583: Mean Prediction = 0.0000, Std Dev = 0.0000\n",
            "Test Sample 1584: Mean Prediction = 1.0000, Std Dev = 0.0000\n",
            "Test Sample 1585: Mean Prediction = 0.3300, Std Dev = 0.4702\n",
            "Test Sample 1586: Mean Prediction = 0.0000, Std Dev = 0.0000\n",
            "Test Sample 1587: Mean Prediction = 1.0000, Std Dev = 0.0000\n",
            "Test Sample 1588: Mean Prediction = 1.0000, Std Dev = 0.0000\n",
            "Test Sample 1589: Mean Prediction = 0.0000, Std Dev = 0.0000\n",
            "Test Sample 1590: Mean Prediction = 1.0000, Std Dev = 0.0000\n",
            "Test Sample 1591: Mean Prediction = 0.0000, Std Dev = 0.0000\n",
            "Test Sample 1592: Mean Prediction = 0.0000, Std Dev = 0.0000\n",
            "Test Sample 1593: Mean Prediction = 0.0000, Std Dev = 0.0000\n",
            "Test Sample 1594: Mean Prediction = 0.0000, Std Dev = 0.0000\n",
            "Test Sample 1595: Mean Prediction = 1.0000, Std Dev = 0.0000\n",
            "Test Sample 1596: Mean Prediction = 0.0000, Std Dev = 0.0000\n",
            "Test Sample 1597: Mean Prediction = 0.0000, Std Dev = 0.0000\n",
            "Test Sample 1598: Mean Prediction = 0.0000, Std Dev = 0.0000\n",
            "Test Sample 1599: Mean Prediction = 1.0000, Std Dev = 0.0000\n",
            "Test Sample 1600: Mean Prediction = 0.0000, Std Dev = 0.0000\n",
            "Test Sample 1601: Mean Prediction = 0.0000, Std Dev = 0.0000\n",
            "Test Sample 1602: Mean Prediction = 1.0000, Std Dev = 0.0000\n",
            "Test Sample 1603: Mean Prediction = 0.0000, Std Dev = 0.0000\n",
            "Test Sample 1604: Mean Prediction = 1.0000, Std Dev = 0.0000\n",
            "Test Sample 1605: Mean Prediction = 0.0000, Std Dev = 0.0000\n",
            "Test Sample 1606: Mean Prediction = 0.0000, Std Dev = 0.0000\n",
            "Test Sample 1607: Mean Prediction = 0.0000, Std Dev = 0.0000\n",
            "Test Sample 1608: Mean Prediction = 0.0000, Std Dev = 0.0000\n",
            "Test Sample 1609: Mean Prediction = 1.0000, Std Dev = 0.0000\n",
            "Test Sample 1610: Mean Prediction = 0.0000, Std Dev = 0.0000\n",
            "Test Sample 1611: Mean Prediction = 0.0000, Std Dev = 0.0000\n",
            "Test Sample 1612: Mean Prediction = 1.0000, Std Dev = 0.0000\n",
            "Test Sample 1613: Mean Prediction = 1.0000, Std Dev = 0.0000\n",
            "Test Sample 1614: Mean Prediction = 1.0000, Std Dev = 0.0000\n",
            "Test Sample 1615: Mean Prediction = 1.0000, Std Dev = 0.0000\n",
            "Test Sample 1616: Mean Prediction = 1.0000, Std Dev = 0.0000\n",
            "Test Sample 1617: Mean Prediction = 0.0000, Std Dev = 0.0000\n",
            "Test Sample 1618: Mean Prediction = 1.0000, Std Dev = 0.0000\n",
            "Test Sample 1619: Mean Prediction = 0.0000, Std Dev = 0.0000\n",
            "Test Sample 1620: Mean Prediction = 0.0000, Std Dev = 0.0000\n",
            "Test Sample 1621: Mean Prediction = 0.0000, Std Dev = 0.0000\n",
            "Test Sample 1622: Mean Prediction = 0.0000, Std Dev = 0.0000\n",
            "Test Sample 1623: Mean Prediction = 0.0000, Std Dev = 0.0000\n",
            "Test Sample 1624: Mean Prediction = 1.0000, Std Dev = 0.0000\n",
            "Test Sample 1625: Mean Prediction = 0.0000, Std Dev = 0.0000\n",
            "Test Sample 1626: Mean Prediction = 0.0000, Std Dev = 0.0000\n",
            "Test Sample 1627: Mean Prediction = 1.0000, Std Dev = 0.0000\n",
            "Test Sample 1628: Mean Prediction = 1.0000, Std Dev = 0.0000\n",
            "Test Sample 1629: Mean Prediction = 0.0000, Std Dev = 0.0000\n",
            "Test Sample 1630: Mean Prediction = 1.0000, Std Dev = 0.0000\n",
            "Test Sample 1631: Mean Prediction = 0.0000, Std Dev = 0.0000\n",
            "Test Sample 1632: Mean Prediction = 0.0000, Std Dev = 0.0000\n",
            "Test Sample 1633: Mean Prediction = 0.0000, Std Dev = 0.0000\n",
            "Test Sample 1634: Mean Prediction = 1.0000, Std Dev = 0.0000\n",
            "Test Sample 1635: Mean Prediction = 1.0000, Std Dev = 0.0000\n",
            "Test Sample 1636: Mean Prediction = 0.0000, Std Dev = 0.0000\n",
            "Test Sample 1637: Mean Prediction = 1.0000, Std Dev = 0.0000\n",
            "Test Sample 1638: Mean Prediction = 0.0000, Std Dev = 0.0000\n",
            "Test Sample 1639: Mean Prediction = 0.0000, Std Dev = 0.0000\n",
            "Test Sample 1640: Mean Prediction = 1.0000, Std Dev = 0.0000\n",
            "Test Sample 1641: Mean Prediction = 1.0000, Std Dev = 0.0000\n",
            "Test Sample 1642: Mean Prediction = 0.0000, Std Dev = 0.0000\n",
            "Test Sample 1643: Mean Prediction = 1.0000, Std Dev = 0.0000\n",
            "Test Sample 1644: Mean Prediction = 0.0000, Std Dev = 0.0000\n",
            "Test Sample 1645: Mean Prediction = 1.0000, Std Dev = 0.0000\n",
            "Test Sample 1646: Mean Prediction = 1.0000, Std Dev = 0.0000\n",
            "Test Sample 1647: Mean Prediction = 0.9800, Std Dev = 0.1400\n",
            "Test Sample 1648: Mean Prediction = 0.0000, Std Dev = 0.0000\n",
            "Test Sample 1649: Mean Prediction = 0.0000, Std Dev = 0.0000\n",
            "Test Sample 1650: Mean Prediction = 0.0000, Std Dev = 0.0000\n",
            "Test Sample 1651: Mean Prediction = 0.0000, Std Dev = 0.0000\n",
            "Test Sample 1652: Mean Prediction = 0.0000, Std Dev = 0.0000\n",
            "Test Sample 1653: Mean Prediction = 0.0000, Std Dev = 0.0000\n",
            "Test Sample 1654: Mean Prediction = 0.0000, Std Dev = 0.0000\n",
            "Test Sample 1655: Mean Prediction = 0.0000, Std Dev = 0.0000\n",
            "Test Sample 1656: Mean Prediction = 0.0000, Std Dev = 0.0000\n",
            "Test Sample 1657: Mean Prediction = 1.0000, Std Dev = 0.0000\n",
            "Test Sample 1658: Mean Prediction = 0.0000, Std Dev = 0.0000\n",
            "Test Sample 1659: Mean Prediction = 1.0000, Std Dev = 0.0000\n",
            "Test Sample 1660: Mean Prediction = 0.0000, Std Dev = 0.0000\n",
            "Test Sample 1661: Mean Prediction = 1.0000, Std Dev = 0.0000\n",
            "Test Sample 1662: Mean Prediction = 0.0000, Std Dev = 0.0000\n",
            "Test Sample 1663: Mean Prediction = 0.0000, Std Dev = 0.0000\n",
            "Test Sample 1664: Mean Prediction = 1.0000, Std Dev = 0.0000\n",
            "Test Sample 1665: Mean Prediction = 1.0000, Std Dev = 0.0000\n",
            "Test Sample 1666: Mean Prediction = 0.0000, Std Dev = 0.0000\n",
            "Test Sample 1667: Mean Prediction = 1.0000, Std Dev = 0.0000\n",
            "Test Sample 1668: Mean Prediction = 0.0000, Std Dev = 0.0000\n",
            "Test Sample 1669: Mean Prediction = 0.0000, Std Dev = 0.0000\n",
            "Test Sample 1670: Mean Prediction = 0.0000, Std Dev = 0.0000\n",
            "Test Sample 1671: Mean Prediction = 1.0000, Std Dev = 0.0000\n",
            "Test Sample 1672: Mean Prediction = 1.0000, Std Dev = 0.0000\n",
            "Test Sample 1673: Mean Prediction = 0.0000, Std Dev = 0.0000\n",
            "Test Sample 1674: Mean Prediction = 0.0000, Std Dev = 0.0000\n",
            "Test Sample 1675: Mean Prediction = 0.0000, Std Dev = 0.0000\n",
            "Test Sample 1676: Mean Prediction = 0.0000, Std Dev = 0.0000\n",
            "Test Sample 1677: Mean Prediction = 1.0000, Std Dev = 0.0000\n",
            "Test Sample 1678: Mean Prediction = 0.0000, Std Dev = 0.0000\n",
            "Test Sample 1679: Mean Prediction = 1.0000, Std Dev = 0.0000\n",
            "Test Sample 1680: Mean Prediction = 0.0000, Std Dev = 0.0000\n",
            "Test Sample 1681: Mean Prediction = 0.0000, Std Dev = 0.0000\n",
            "Test Sample 1682: Mean Prediction = 1.0000, Std Dev = 0.0000\n",
            "Test Sample 1683: Mean Prediction = 0.0000, Std Dev = 0.0000\n",
            "Test Sample 1684: Mean Prediction = 0.0000, Std Dev = 0.0000\n",
            "Test Sample 1685: Mean Prediction = 0.0000, Std Dev = 0.0000\n",
            "Test Sample 1686: Mean Prediction = 0.0000, Std Dev = 0.0000\n",
            "Test Sample 1687: Mean Prediction = 1.0000, Std Dev = 0.0000\n",
            "Test Sample 1688: Mean Prediction = 0.0000, Std Dev = 0.0000\n",
            "Test Sample 1689: Mean Prediction = 0.0000, Std Dev = 0.0000\n",
            "Test Sample 1690: Mean Prediction = 1.0000, Std Dev = 0.0000\n",
            "Test Sample 1691: Mean Prediction = 1.0000, Std Dev = 0.0000\n",
            "Test Sample 1692: Mean Prediction = 1.0000, Std Dev = 0.0000\n",
            "Test Sample 1693: Mean Prediction = 1.0000, Std Dev = 0.0000\n",
            "Test Sample 1694: Mean Prediction = 0.0000, Std Dev = 0.0000\n",
            "Test Sample 1695: Mean Prediction = 1.0000, Std Dev = 0.0000\n",
            "Test Sample 1696: Mean Prediction = 0.0000, Std Dev = 0.0000\n",
            "Test Sample 1697: Mean Prediction = 1.0000, Std Dev = 0.0000\n",
            "Test Sample 1698: Mean Prediction = 1.0000, Std Dev = 0.0000\n",
            "Test Sample 1699: Mean Prediction = 0.0000, Std Dev = 0.0000\n",
            "Test Sample 1700: Mean Prediction = 1.0000, Std Dev = 0.0000\n",
            "Test Sample 1701: Mean Prediction = 0.0000, Std Dev = 0.0000\n",
            "Test Sample 1702: Mean Prediction = 1.0000, Std Dev = 0.0000\n",
            "Test Sample 1703: Mean Prediction = 0.1200, Std Dev = 0.3250\n",
            "Test Sample 1704: Mean Prediction = 0.0000, Std Dev = 0.0000\n",
            "Test Sample 1705: Mean Prediction = 0.0000, Std Dev = 0.0000\n",
            "Test Sample 1706: Mean Prediction = 0.0000, Std Dev = 0.0000\n",
            "Test Sample 1707: Mean Prediction = 0.0000, Std Dev = 0.0000\n",
            "Test Sample 1708: Mean Prediction = 0.0000, Std Dev = 0.0000\n",
            "Test Sample 1709: Mean Prediction = 1.0000, Std Dev = 0.0000\n",
            "Test Sample 1710: Mean Prediction = 0.0000, Std Dev = 0.0000\n",
            "Test Sample 1711: Mean Prediction = 1.0000, Std Dev = 0.0000\n",
            "Test Sample 1712: Mean Prediction = 0.0000, Std Dev = 0.0000\n",
            "Test Sample 1713: Mean Prediction = 1.0000, Std Dev = 0.0000\n",
            "Test Sample 1714: Mean Prediction = 1.0000, Std Dev = 0.0000\n",
            "Test Sample 1715: Mean Prediction = 0.0000, Std Dev = 0.0000\n",
            "Test Sample 1716: Mean Prediction = 0.0000, Std Dev = 0.0000\n",
            "Test Sample 1717: Mean Prediction = 0.0000, Std Dev = 0.0000\n",
            "Test Sample 1718: Mean Prediction = 0.0000, Std Dev = 0.0000\n",
            "Test Sample 1719: Mean Prediction = 1.0000, Std Dev = 0.0000\n",
            "Test Sample 1720: Mean Prediction = 0.0000, Std Dev = 0.0000\n",
            "Test Sample 1721: Mean Prediction = 1.0000, Std Dev = 0.0000\n",
            "Test Sample 1722: Mean Prediction = 1.0000, Std Dev = 0.0000\n",
            "Test Sample 1723: Mean Prediction = 0.0000, Std Dev = 0.0000\n",
            "Test Sample 1724: Mean Prediction = 0.1100, Std Dev = 0.3129\n",
            "Test Sample 1725: Mean Prediction = 0.0000, Std Dev = 0.0000\n",
            "Test Sample 1726: Mean Prediction = 0.0000, Std Dev = 0.0000\n",
            "Test Sample 1727: Mean Prediction = 1.0000, Std Dev = 0.0000\n",
            "Test Sample 1728: Mean Prediction = 0.0000, Std Dev = 0.0000\n",
            "Test Sample 1729: Mean Prediction = 0.0000, Std Dev = 0.0000\n",
            "Test Sample 1730: Mean Prediction = 1.0000, Std Dev = 0.0000\n",
            "Test Sample 1731: Mean Prediction = 0.0000, Std Dev = 0.0000\n",
            "Test Sample 1732: Mean Prediction = 1.0000, Std Dev = 0.0000\n",
            "Test Sample 1733: Mean Prediction = 0.0000, Std Dev = 0.0000\n",
            "Test Sample 1734: Mean Prediction = 1.0000, Std Dev = 0.0000\n",
            "Test Sample 1735: Mean Prediction = 1.0000, Std Dev = 0.0000\n",
            "Test Sample 1736: Mean Prediction = 1.0000, Std Dev = 0.0000\n",
            "Test Sample 1737: Mean Prediction = 1.0000, Std Dev = 0.0000\n",
            "Test Sample 1738: Mean Prediction = 1.0000, Std Dev = 0.0000\n",
            "Test Sample 1739: Mean Prediction = 0.0000, Std Dev = 0.0000\n",
            "Test Sample 1740: Mean Prediction = 0.0000, Std Dev = 0.0000\n",
            "Test Sample 1741: Mean Prediction = 1.0000, Std Dev = 0.0000\n",
            "Test Sample 1742: Mean Prediction = 0.0000, Std Dev = 0.0000\n",
            "Test Sample 1743: Mean Prediction = 1.0000, Std Dev = 0.0000\n",
            "Test Sample 1744: Mean Prediction = 1.0000, Std Dev = 0.0000\n",
            "Test Sample 1745: Mean Prediction = 0.0000, Std Dev = 0.0000\n",
            "Test Sample 1746: Mean Prediction = 0.0000, Std Dev = 0.0000\n",
            "Test Sample 1747: Mean Prediction = 1.0000, Std Dev = 0.0000\n",
            "Test Sample 1748: Mean Prediction = 0.0000, Std Dev = 0.0000\n",
            "Test Sample 1749: Mean Prediction = 0.0000, Std Dev = 0.0000\n",
            "Test Sample 1750: Mean Prediction = 1.0000, Std Dev = 0.0000\n",
            "Test Sample 1751: Mean Prediction = 0.0000, Std Dev = 0.0000\n",
            "Test Sample 1752: Mean Prediction = 0.0000, Std Dev = 0.0000\n",
            "Test Sample 1753: Mean Prediction = 1.0000, Std Dev = 0.0000\n",
            "Test Sample 1754: Mean Prediction = 1.0000, Std Dev = 0.0000\n",
            "Test Sample 1755: Mean Prediction = 1.0000, Std Dev = 0.0000\n",
            "Test Sample 1756: Mean Prediction = 0.0000, Std Dev = 0.0000\n",
            "Test Sample 1757: Mean Prediction = 0.0000, Std Dev = 0.0000\n",
            "Test Sample 1758: Mean Prediction = 0.0000, Std Dev = 0.0000\n",
            "Test Sample 1759: Mean Prediction = 1.0000, Std Dev = 0.0000\n",
            "Test Sample 1760: Mean Prediction = 0.0000, Std Dev = 0.0000\n",
            "Test Sample 1761: Mean Prediction = 0.0000, Std Dev = 0.0000\n",
            "Test Sample 1762: Mean Prediction = 1.0000, Std Dev = 0.0000\n",
            "Test Sample 1763: Mean Prediction = 1.0000, Std Dev = 0.0000\n",
            "Test Sample 1764: Mean Prediction = 0.0000, Std Dev = 0.0000\n",
            "Test Sample 1765: Mean Prediction = 1.0000, Std Dev = 0.0000\n",
            "Test Sample 1766: Mean Prediction = 1.0000, Std Dev = 0.0000\n",
            "Test Sample 1767: Mean Prediction = 1.0000, Std Dev = 0.0000\n",
            "Test Sample 1768: Mean Prediction = 0.0000, Std Dev = 0.0000\n",
            "Test Sample 1769: Mean Prediction = 1.0000, Std Dev = 0.0000\n",
            "Test Sample 1770: Mean Prediction = 1.0000, Std Dev = 0.0000\n",
            "Test Sample 1771: Mean Prediction = 1.0000, Std Dev = 0.0000\n",
            "Test Sample 1772: Mean Prediction = 0.0000, Std Dev = 0.0000\n",
            "Test Sample 1773: Mean Prediction = 1.0000, Std Dev = 0.0000\n",
            "Test Sample 1774: Mean Prediction = 1.0000, Std Dev = 0.0000\n",
            "Test Sample 1775: Mean Prediction = 0.0000, Std Dev = 0.0000\n",
            "Test Sample 1776: Mean Prediction = 1.0000, Std Dev = 0.0000\n",
            "Test Sample 1777: Mean Prediction = 0.0000, Std Dev = 0.0000\n",
            "Test Sample 1778: Mean Prediction = 1.0000, Std Dev = 0.0000\n",
            "Test Sample 1779: Mean Prediction = 0.0000, Std Dev = 0.0000\n",
            "Test Sample 1780: Mean Prediction = 1.0000, Std Dev = 0.0000\n",
            "Test Sample 1781: Mean Prediction = 1.0000, Std Dev = 0.0000\n",
            "Test Sample 1782: Mean Prediction = 1.0000, Std Dev = 0.0000\n",
            "Test Sample 1783: Mean Prediction = 1.0000, Std Dev = 0.0000\n",
            "Test Sample 1784: Mean Prediction = 1.0000, Std Dev = 0.0000\n",
            "Test Sample 1785: Mean Prediction = 0.0000, Std Dev = 0.0000\n",
            "Test Sample 1786: Mean Prediction = 1.0000, Std Dev = 0.0000\n",
            "Test Sample 1787: Mean Prediction = 1.0000, Std Dev = 0.0000\n",
            "Test Sample 1788: Mean Prediction = 1.0000, Std Dev = 0.0000\n",
            "Test Sample 1789: Mean Prediction = 0.0000, Std Dev = 0.0000\n",
            "Test Sample 1790: Mean Prediction = 0.0000, Std Dev = 0.0000\n",
            "Test Sample 1791: Mean Prediction = 0.0000, Std Dev = 0.0000\n",
            "Test Sample 1792: Mean Prediction = 1.0000, Std Dev = 0.0000\n",
            "Test Sample 1793: Mean Prediction = 1.0000, Std Dev = 0.0000\n",
            "Test Sample 1794: Mean Prediction = 1.0000, Std Dev = 0.0000\n",
            "Test Sample 1795: Mean Prediction = 1.0000, Std Dev = 0.0000\n",
            "Test Sample 1796: Mean Prediction = 1.0000, Std Dev = 0.0000\n",
            "Test Sample 1797: Mean Prediction = 1.0000, Std Dev = 0.0000\n",
            "Test Sample 1798: Mean Prediction = 1.0000, Std Dev = 0.0000\n",
            "Test Sample 1799: Mean Prediction = 1.0000, Std Dev = 0.0000\n",
            "Test Sample 1800: Mean Prediction = 0.0000, Std Dev = 0.0000\n",
            "Test Sample 1801: Mean Prediction = 0.0000, Std Dev = 0.0000\n",
            "Test Sample 1802: Mean Prediction = 0.0000, Std Dev = 0.0000\n",
            "Test Sample 1803: Mean Prediction = 0.0000, Std Dev = 0.0000\n",
            "Test Sample 1804: Mean Prediction = 0.0000, Std Dev = 0.0000\n",
            "Test Sample 1805: Mean Prediction = 0.0000, Std Dev = 0.0000\n",
            "Test Sample 1806: Mean Prediction = 1.0000, Std Dev = 0.0000\n",
            "Test Sample 1807: Mean Prediction = 1.0000, Std Dev = 0.0000\n",
            "Test Sample 1808: Mean Prediction = 1.0000, Std Dev = 0.0000\n",
            "Test Sample 1809: Mean Prediction = 1.0000, Std Dev = 0.0000\n",
            "Test Sample 1810: Mean Prediction = 1.0000, Std Dev = 0.0000\n",
            "Test Sample 1811: Mean Prediction = 1.0000, Std Dev = 0.0000\n",
            "Test Sample 1812: Mean Prediction = 1.0000, Std Dev = 0.0000\n",
            "Test Sample 1813: Mean Prediction = 0.0100, Std Dev = 0.0995\n",
            "Test Sample 1814: Mean Prediction = 1.0000, Std Dev = 0.0000\n",
            "Test Sample 1815: Mean Prediction = 1.0000, Std Dev = 0.0000\n",
            "Test Sample 1816: Mean Prediction = 0.0000, Std Dev = 0.0000\n",
            "Test Sample 1817: Mean Prediction = 1.0000, Std Dev = 0.0000\n",
            "Test Sample 1818: Mean Prediction = 0.0000, Std Dev = 0.0000\n",
            "Test Sample 1819: Mean Prediction = 0.0000, Std Dev = 0.0000\n",
            "Test Sample 1820: Mean Prediction = 1.0000, Std Dev = 0.0000\n",
            "Test Sample 1821: Mean Prediction = 1.0000, Std Dev = 0.0000\n",
            "Test Sample 1822: Mean Prediction = 1.0000, Std Dev = 0.0000\n",
            "Test Sample 1823: Mean Prediction = 1.0000, Std Dev = 0.0000\n",
            "Test Sample 1824: Mean Prediction = 1.0000, Std Dev = 0.0000\n",
            "Test Sample 1825: Mean Prediction = 0.0000, Std Dev = 0.0000\n",
            "Test Sample 1826: Mean Prediction = 1.0000, Std Dev = 0.0000\n",
            "Test Sample 1827: Mean Prediction = 1.0000, Std Dev = 0.0000\n",
            "Test Sample 1828: Mean Prediction = 1.0000, Std Dev = 0.0000\n",
            "Test Sample 1829: Mean Prediction = 1.0000, Std Dev = 0.0000\n",
            "Test Sample 1830: Mean Prediction = 0.0000, Std Dev = 0.0000\n",
            "Test Sample 1831: Mean Prediction = 1.0000, Std Dev = 0.0000\n",
            "Test Sample 1832: Mean Prediction = 1.0000, Std Dev = 0.0000\n",
            "Test Sample 1833: Mean Prediction = 0.0000, Std Dev = 0.0000\n",
            "Test Sample 1834: Mean Prediction = 0.0000, Std Dev = 0.0000\n",
            "Test Sample 1835: Mean Prediction = 0.0000, Std Dev = 0.0000\n",
            "Test Sample 1836: Mean Prediction = 1.0000, Std Dev = 0.0000\n",
            "Test Sample 1837: Mean Prediction = 1.0000, Std Dev = 0.0000\n",
            "Test Sample 1838: Mean Prediction = 1.0000, Std Dev = 0.0000\n",
            "Test Sample 1839: Mean Prediction = 1.0000, Std Dev = 0.0000\n",
            "Test Sample 1840: Mean Prediction = 1.0000, Std Dev = 0.0000\n",
            "Test Sample 1841: Mean Prediction = 0.0000, Std Dev = 0.0000\n",
            "Test Sample 1842: Mean Prediction = 1.0000, Std Dev = 0.0000\n",
            "Test Sample 1843: Mean Prediction = 1.0000, Std Dev = 0.0000\n",
            "Test Sample 1844: Mean Prediction = 1.0000, Std Dev = 0.0000\n",
            "Test Sample 1845: Mean Prediction = 0.0000, Std Dev = 0.0000\n",
            "Test Sample 1846: Mean Prediction = 1.0000, Std Dev = 0.0000\n",
            "Test Sample 1847: Mean Prediction = 1.0000, Std Dev = 0.0000\n",
            "Test Sample 1848: Mean Prediction = 0.0000, Std Dev = 0.0000\n",
            "Test Sample 1849: Mean Prediction = 0.0000, Std Dev = 0.0000\n",
            "Test Sample 1850: Mean Prediction = 0.0000, Std Dev = 0.0000\n",
            "Test Sample 1851: Mean Prediction = 0.0000, Std Dev = 0.0000\n",
            "Test Sample 1852: Mean Prediction = 0.0000, Std Dev = 0.0000\n",
            "Test Sample 1853: Mean Prediction = 1.0000, Std Dev = 0.0000\n",
            "Test Sample 1854: Mean Prediction = 0.0000, Std Dev = 0.0000\n",
            "Test Sample 1855: Mean Prediction = 1.0000, Std Dev = 0.0000\n",
            "Test Sample 1856: Mean Prediction = 1.0000, Std Dev = 0.0000\n",
            "Test Sample 1857: Mean Prediction = 1.0000, Std Dev = 0.0000\n",
            "Test Sample 1858: Mean Prediction = 0.0000, Std Dev = 0.0000\n",
            "Test Sample 1859: Mean Prediction = 0.0000, Std Dev = 0.0000\n",
            "Test Sample 1860: Mean Prediction = 0.0000, Std Dev = 0.0000\n",
            "Test Sample 1861: Mean Prediction = 0.0000, Std Dev = 0.0000\n",
            "Test Sample 1862: Mean Prediction = 1.0000, Std Dev = 0.0000\n",
            "Test Sample 1863: Mean Prediction = 0.0000, Std Dev = 0.0000\n",
            "Test Sample 1864: Mean Prediction = 1.0000, Std Dev = 0.0000\n",
            "Test Sample 1865: Mean Prediction = 0.0000, Std Dev = 0.0000\n",
            "Test Sample 1866: Mean Prediction = 0.0000, Std Dev = 0.0000\n",
            "Test Sample 1867: Mean Prediction = 1.0000, Std Dev = 0.0000\n",
            "Test Sample 1868: Mean Prediction = 1.0000, Std Dev = 0.0000\n",
            "Test Sample 1869: Mean Prediction = 1.0000, Std Dev = 0.0000\n",
            "Test Sample 1870: Mean Prediction = 0.0000, Std Dev = 0.0000\n",
            "Test Sample 1871: Mean Prediction = 1.0000, Std Dev = 0.0000\n",
            "Test Sample 1872: Mean Prediction = 1.0000, Std Dev = 0.0000\n",
            "Test Sample 1873: Mean Prediction = 0.0000, Std Dev = 0.0000\n",
            "Test Sample 1874: Mean Prediction = 0.0000, Std Dev = 0.0000\n",
            "Test Sample 1875: Mean Prediction = 1.0000, Std Dev = 0.0000\n",
            "Test Sample 1876: Mean Prediction = 0.0000, Std Dev = 0.0000\n",
            "Test Sample 1877: Mean Prediction = 1.0000, Std Dev = 0.0000\n",
            "Test Sample 1878: Mean Prediction = 1.0000, Std Dev = 0.0000\n",
            "Test Sample 1879: Mean Prediction = 0.0000, Std Dev = 0.0000\n",
            "Test Sample 1880: Mean Prediction = 0.0000, Std Dev = 0.0000\n",
            "Test Sample 1881: Mean Prediction = 0.0000, Std Dev = 0.0000\n",
            "Test Sample 1882: Mean Prediction = 0.0000, Std Dev = 0.0000\n",
            "Test Sample 1883: Mean Prediction = 1.0000, Std Dev = 0.0000\n",
            "Test Sample 1884: Mean Prediction = 0.0000, Std Dev = 0.0000\n",
            "Test Sample 1885: Mean Prediction = 0.0000, Std Dev = 0.0000\n",
            "Test Sample 1886: Mean Prediction = 0.0000, Std Dev = 0.0000\n",
            "Test Sample 1887: Mean Prediction = 0.0000, Std Dev = 0.0000\n",
            "Test Sample 1888: Mean Prediction = 1.0000, Std Dev = 0.0000\n",
            "Test Sample 1889: Mean Prediction = 1.0000, Std Dev = 0.0000\n",
            "Test Sample 1890: Mean Prediction = 1.0000, Std Dev = 0.0000\n",
            "Test Sample 1891: Mean Prediction = 0.0000, Std Dev = 0.0000\n",
            "Test Sample 1892: Mean Prediction = 0.0000, Std Dev = 0.0000\n",
            "Test Sample 1893: Mean Prediction = 0.0000, Std Dev = 0.0000\n",
            "Test Sample 1894: Mean Prediction = 1.0000, Std Dev = 0.0000\n",
            "Test Sample 1895: Mean Prediction = 0.0000, Std Dev = 0.0000\n",
            "Test Sample 1896: Mean Prediction = 0.0000, Std Dev = 0.0000\n",
            "Test Sample 1897: Mean Prediction = 0.0000, Std Dev = 0.0000\n",
            "Test Sample 1898: Mean Prediction = 0.0000, Std Dev = 0.0000\n",
            "Test Sample 1899: Mean Prediction = 0.0000, Std Dev = 0.0000\n",
            "Test Sample 1900: Mean Prediction = 1.0000, Std Dev = 0.0000\n",
            "Test Sample 1901: Mean Prediction = 0.0000, Std Dev = 0.0000\n",
            "Test Sample 1902: Mean Prediction = 1.0000, Std Dev = 0.0000\n",
            "Test Sample 1903: Mean Prediction = 1.0000, Std Dev = 0.0000\n",
            "Test Sample 1904: Mean Prediction = 0.7700, Std Dev = 0.4208\n",
            "Test Sample 1905: Mean Prediction = 1.0000, Std Dev = 0.0000\n",
            "Test Sample 1906: Mean Prediction = 1.0000, Std Dev = 0.0000\n",
            "Test Sample 1907: Mean Prediction = 0.0000, Std Dev = 0.0000\n",
            "Test Sample 1908: Mean Prediction = 0.0000, Std Dev = 0.0000\n",
            "Test Sample 1909: Mean Prediction = 0.0000, Std Dev = 0.0000\n",
            "Test Sample 1910: Mean Prediction = 0.0000, Std Dev = 0.0000\n",
            "Test Sample 1911: Mean Prediction = 0.0000, Std Dev = 0.0000\n",
            "Test Sample 1912: Mean Prediction = 0.0000, Std Dev = 0.0000\n",
            "Test Sample 1913: Mean Prediction = 0.0000, Std Dev = 0.0000\n",
            "Test Sample 1914: Mean Prediction = 1.0000, Std Dev = 0.0000\n",
            "Test Sample 1915: Mean Prediction = 1.0000, Std Dev = 0.0000\n",
            "Test Sample 1916: Mean Prediction = 1.0000, Std Dev = 0.0000\n",
            "Test Sample 1917: Mean Prediction = 1.0000, Std Dev = 0.0000\n",
            "Test Sample 1918: Mean Prediction = 0.0000, Std Dev = 0.0000\n",
            "Test Sample 1919: Mean Prediction = 1.0000, Std Dev = 0.0000\n",
            "Test Sample 1920: Mean Prediction = 0.0000, Std Dev = 0.0000\n",
            "Test Sample 1921: Mean Prediction = 1.0000, Std Dev = 0.0000\n",
            "Test Sample 1922: Mean Prediction = 0.0000, Std Dev = 0.0000\n",
            "Test Sample 1923: Mean Prediction = 1.0000, Std Dev = 0.0000\n",
            "Test Sample 1924: Mean Prediction = 0.0000, Std Dev = 0.0000\n",
            "Test Sample 1925: Mean Prediction = 0.0000, Std Dev = 0.0000\n",
            "Test Sample 1926: Mean Prediction = 1.0000, Std Dev = 0.0000\n",
            "Test Sample 1927: Mean Prediction = 1.0000, Std Dev = 0.0000\n",
            "Test Sample 1928: Mean Prediction = 1.0000, Std Dev = 0.0000\n",
            "Test Sample 1929: Mean Prediction = 1.0000, Std Dev = 0.0000\n",
            "Test Sample 1930: Mean Prediction = 0.0000, Std Dev = 0.0000\n",
            "Test Sample 1931: Mean Prediction = 1.0000, Std Dev = 0.0000\n",
            "Test Sample 1932: Mean Prediction = 0.0000, Std Dev = 0.0000\n",
            "Test Sample 1933: Mean Prediction = 1.0000, Std Dev = 0.0000\n",
            "Test Sample 1934: Mean Prediction = 1.0000, Std Dev = 0.0000\n",
            "Test Sample 1935: Mean Prediction = 0.0000, Std Dev = 0.0000\n",
            "Test Sample 1936: Mean Prediction = 1.0000, Std Dev = 0.0000\n",
            "Test Sample 1937: Mean Prediction = 1.0000, Std Dev = 0.0000\n",
            "Test Sample 1938: Mean Prediction = 0.0000, Std Dev = 0.0000\n",
            "Test Sample 1939: Mean Prediction = 0.0000, Std Dev = 0.0000\n",
            "Test Sample 1940: Mean Prediction = 1.0000, Std Dev = 0.0000\n",
            "Test Sample 1941: Mean Prediction = 1.0000, Std Dev = 0.0000\n",
            "Test Sample 1942: Mean Prediction = 1.0000, Std Dev = 0.0000\n",
            "Test Sample 1943: Mean Prediction = 0.0000, Std Dev = 0.0000\n",
            "Test Sample 1944: Mean Prediction = 0.0000, Std Dev = 0.0000\n",
            "Test Sample 1945: Mean Prediction = 1.0000, Std Dev = 0.0000\n",
            "Test Sample 1946: Mean Prediction = 0.0000, Std Dev = 0.0000\n",
            "Test Sample 1947: Mean Prediction = 1.0000, Std Dev = 0.0000\n",
            "Test Sample 1948: Mean Prediction = 1.0000, Std Dev = 0.0000\n",
            "Test Sample 1949: Mean Prediction = 0.0000, Std Dev = 0.0000\n",
            "Test Sample 1950: Mean Prediction = 1.0000, Std Dev = 0.0000\n",
            "Test Sample 1951: Mean Prediction = 0.0000, Std Dev = 0.0000\n",
            "Test Sample 1952: Mean Prediction = 1.0000, Std Dev = 0.0000\n",
            "Test Sample 1953: Mean Prediction = 1.0000, Std Dev = 0.0000\n",
            "Test Sample 1954: Mean Prediction = 0.0000, Std Dev = 0.0000\n",
            "Test Sample 1955: Mean Prediction = 0.0000, Std Dev = 0.0000\n",
            "Test Sample 1956: Mean Prediction = 0.0000, Std Dev = 0.0000\n",
            "Test Sample 1957: Mean Prediction = 1.0000, Std Dev = 0.0000\n",
            "Test Sample 1958: Mean Prediction = 1.0000, Std Dev = 0.0000\n",
            "Test Sample 1959: Mean Prediction = 1.0000, Std Dev = 0.0000\n",
            "Test Sample 1960: Mean Prediction = 0.0000, Std Dev = 0.0000\n",
            "Test Sample 1961: Mean Prediction = 0.0000, Std Dev = 0.0000\n",
            "Test Sample 1962: Mean Prediction = 0.0000, Std Dev = 0.0000\n",
            "Test Sample 1963: Mean Prediction = 1.0000, Std Dev = 0.0000\n",
            "Test Sample 1964: Mean Prediction = 1.0000, Std Dev = 0.0000\n",
            "Test Sample 1965: Mean Prediction = 0.0000, Std Dev = 0.0000\n",
            "Test Sample 1966: Mean Prediction = 0.0000, Std Dev = 0.0000\n",
            "Test Sample 1967: Mean Prediction = 1.0000, Std Dev = 0.0000\n",
            "Test Sample 1968: Mean Prediction = 1.0000, Std Dev = 0.0000\n",
            "Test Sample 1969: Mean Prediction = 1.0000, Std Dev = 0.0000\n",
            "Test Sample 1970: Mean Prediction = 1.0000, Std Dev = 0.0000\n",
            "Test Sample 1971: Mean Prediction = 0.0000, Std Dev = 0.0000\n",
            "Test Sample 1972: Mean Prediction = 0.0000, Std Dev = 0.0000\n",
            "Test Sample 1973: Mean Prediction = 1.0000, Std Dev = 0.0000\n",
            "Test Sample 1974: Mean Prediction = 1.0000, Std Dev = 0.0000\n",
            "Test Sample 1975: Mean Prediction = 1.0000, Std Dev = 0.0000\n",
            "Test Sample 1976: Mean Prediction = 0.0000, Std Dev = 0.0000\n",
            "Test Sample 1977: Mean Prediction = 1.0000, Std Dev = 0.0000\n",
            "Test Sample 1978: Mean Prediction = 0.0000, Std Dev = 0.0000\n",
            "Test Sample 1979: Mean Prediction = 0.0000, Std Dev = 0.0000\n",
            "Test Sample 1980: Mean Prediction = 1.0000, Std Dev = 0.0000\n",
            "Test Sample 1981: Mean Prediction = 0.0000, Std Dev = 0.0000\n",
            "Test Sample 1982: Mean Prediction = 0.0000, Std Dev = 0.0000\n",
            "Test Sample 1983: Mean Prediction = 0.0000, Std Dev = 0.0000\n",
            "Test Sample 1984: Mean Prediction = 1.0000, Std Dev = 0.0000\n",
            "Test Sample 1985: Mean Prediction = 1.0000, Std Dev = 0.0000\n",
            "Test Sample 1986: Mean Prediction = 1.0000, Std Dev = 0.0000\n",
            "Test Sample 1987: Mean Prediction = 1.0000, Std Dev = 0.0000\n",
            "Test Sample 1988: Mean Prediction = 1.0000, Std Dev = 0.0000\n",
            "Test Sample 1989: Mean Prediction = 1.0000, Std Dev = 0.0000\n",
            "Test Sample 1990: Mean Prediction = 1.0000, Std Dev = 0.0000\n",
            "Test Sample 1991: Mean Prediction = 0.0000, Std Dev = 0.0000\n",
            "Test Sample 1992: Mean Prediction = 0.0000, Std Dev = 0.0000\n",
            "Test Sample 1993: Mean Prediction = 1.0000, Std Dev = 0.0000\n",
            "Test Sample 1994: Mean Prediction = 0.0000, Std Dev = 0.0000\n",
            "Test Sample 1995: Mean Prediction = 0.0000, Std Dev = 0.0000\n",
            "Test Sample 1996: Mean Prediction = 0.0700, Std Dev = 0.2551\n",
            "Test Sample 1997: Mean Prediction = 1.0000, Std Dev = 0.0000\n",
            "Test Sample 1998: Mean Prediction = 0.0000, Std Dev = 0.0000\n",
            "Test Sample 1999: Mean Prediction = 1.0000, Std Dev = 0.0000\n",
            "Test Sample 2000: Mean Prediction = 0.0000, Std Dev = 0.0000\n",
            "Test Sample 2001: Mean Prediction = 1.0000, Std Dev = 0.0000\n",
            "Test Sample 2002: Mean Prediction = 1.0000, Std Dev = 0.0000\n",
            "Test Sample 2003: Mean Prediction = 0.0000, Std Dev = 0.0000\n",
            "Test Sample 2004: Mean Prediction = 1.0000, Std Dev = 0.0000\n",
            "Test Sample 2005: Mean Prediction = 0.0000, Std Dev = 0.0000\n",
            "Test Sample 2006: Mean Prediction = 1.0000, Std Dev = 0.0000\n",
            "Test Sample 2007: Mean Prediction = 0.0000, Std Dev = 0.0000\n",
            "Test Sample 2008: Mean Prediction = 0.0000, Std Dev = 0.0000\n",
            "Test Sample 2009: Mean Prediction = 0.0000, Std Dev = 0.0000\n",
            "Test Sample 2010: Mean Prediction = 0.0000, Std Dev = 0.0000\n",
            "Test Sample 2011: Mean Prediction = 0.0000, Std Dev = 0.0000\n",
            "Test Sample 2012: Mean Prediction = 1.0000, Std Dev = 0.0000\n",
            "Test Sample 2013: Mean Prediction = 0.0000, Std Dev = 0.0000\n",
            "Test Sample 2014: Mean Prediction = 1.0000, Std Dev = 0.0000\n",
            "Test Sample 2015: Mean Prediction = 1.0000, Std Dev = 0.0000\n",
            "Test Sample 2016: Mean Prediction = 1.0000, Std Dev = 0.0000\n",
            "Test Sample 2017: Mean Prediction = 1.0000, Std Dev = 0.0000\n",
            "Test Sample 2018: Mean Prediction = 1.0000, Std Dev = 0.0000\n",
            "Test Sample 2019: Mean Prediction = 0.0000, Std Dev = 0.0000\n",
            "Test Sample 2020: Mean Prediction = 1.0000, Std Dev = 0.0000\n",
            "Test Sample 2021: Mean Prediction = 1.0000, Std Dev = 0.0000\n",
            "Test Sample 2022: Mean Prediction = 0.0000, Std Dev = 0.0000\n",
            "Test Sample 2023: Mean Prediction = 0.0000, Std Dev = 0.0000\n",
            "Test Sample 2024: Mean Prediction = 1.0000, Std Dev = 0.0000\n",
            "Test Sample 2025: Mean Prediction = 1.0000, Std Dev = 0.0000\n",
            "Test Sample 2026: Mean Prediction = 1.0000, Std Dev = 0.0000\n",
            "Test Sample 2027: Mean Prediction = 1.0000, Std Dev = 0.0000\n",
            "Test Sample 2028: Mean Prediction = 0.0000, Std Dev = 0.0000\n",
            "Test Sample 2029: Mean Prediction = 0.0000, Std Dev = 0.0000\n",
            "Test Sample 2030: Mean Prediction = 1.0000, Std Dev = 0.0000\n",
            "Test Sample 2031: Mean Prediction = 0.0000, Std Dev = 0.0000\n",
            "Test Sample 2032: Mean Prediction = 0.0000, Std Dev = 0.0000\n",
            "Test Sample 2033: Mean Prediction = 0.1500, Std Dev = 0.3571\n",
            "Test Sample 2034: Mean Prediction = 1.0000, Std Dev = 0.0000\n",
            "Test Sample 2035: Mean Prediction = 1.0000, Std Dev = 0.0000\n",
            "Test Sample 2036: Mean Prediction = 1.0000, Std Dev = 0.0000\n",
            "Test Sample 2037: Mean Prediction = 1.0000, Std Dev = 0.0000\n",
            "Test Sample 2038: Mean Prediction = 0.0000, Std Dev = 0.0000\n",
            "Test Sample 2039: Mean Prediction = 1.0000, Std Dev = 0.0000\n",
            "Test Sample 2040: Mean Prediction = 0.9500, Std Dev = 0.2179\n",
            "Test Sample 2041: Mean Prediction = 1.0000, Std Dev = 0.0000\n",
            "Test Sample 2042: Mean Prediction = 1.0000, Std Dev = 0.0000\n",
            "Test Sample 2043: Mean Prediction = 0.0000, Std Dev = 0.0000\n",
            "Test Sample 2044: Mean Prediction = 0.0000, Std Dev = 0.0000\n",
            "Test Sample 2045: Mean Prediction = 0.0000, Std Dev = 0.0000\n",
            "Test Sample 2046: Mean Prediction = 0.0000, Std Dev = 0.0000\n",
            "Test Sample 2047: Mean Prediction = 0.0000, Std Dev = 0.0000\n",
            "Test Sample 2048: Mean Prediction = 1.0000, Std Dev = 0.0000\n",
            "Test Sample 2049: Mean Prediction = 0.0000, Std Dev = 0.0000\n",
            "Test Sample 2050: Mean Prediction = 0.0000, Std Dev = 0.0000\n",
            "Test Sample 2051: Mean Prediction = 0.0000, Std Dev = 0.0000\n",
            "Test Sample 2052: Mean Prediction = 1.0000, Std Dev = 0.0000\n",
            "Test Sample 2053: Mean Prediction = 1.0000, Std Dev = 0.0000\n",
            "Test Sample 2054: Mean Prediction = 0.0000, Std Dev = 0.0000\n",
            "Test Sample 2055: Mean Prediction = 0.0000, Std Dev = 0.0000\n",
            "Test Sample 2056: Mean Prediction = 0.0000, Std Dev = 0.0000\n",
            "Test Sample 2057: Mean Prediction = 0.0000, Std Dev = 0.0000\n",
            "Test Sample 2058: Mean Prediction = 1.0000, Std Dev = 0.0000\n",
            "Test Sample 2059: Mean Prediction = 1.0000, Std Dev = 0.0000\n",
            "Test Sample 2060: Mean Prediction = 1.0000, Std Dev = 0.0000\n",
            "Test Sample 2061: Mean Prediction = 1.0000, Std Dev = 0.0000\n",
            "Test Sample 2062: Mean Prediction = 1.0000, Std Dev = 0.0000\n",
            "Test Sample 2063: Mean Prediction = 0.0000, Std Dev = 0.0000\n",
            "Test Sample 2064: Mean Prediction = 0.0000, Std Dev = 0.0000\n",
            "Test Sample 2065: Mean Prediction = 1.0000, Std Dev = 0.0000\n",
            "Test Sample 2066: Mean Prediction = 0.9400, Std Dev = 0.2375\n",
            "Test Sample 2067: Mean Prediction = 0.0000, Std Dev = 0.0000\n",
            "Test Sample 2068: Mean Prediction = 1.0000, Std Dev = 0.0000\n",
            "Test Sample 2069: Mean Prediction = 1.0000, Std Dev = 0.0000\n",
            "Test Sample 2070: Mean Prediction = 1.0000, Std Dev = 0.0000\n",
            "Test Sample 2071: Mean Prediction = 0.0000, Std Dev = 0.0000\n",
            "Test Sample 2072: Mean Prediction = 0.0000, Std Dev = 0.0000\n",
            "Test Sample 2073: Mean Prediction = 0.0000, Std Dev = 0.0000\n",
            "Test Sample 2074: Mean Prediction = 0.0000, Std Dev = 0.0000\n",
            "Test Sample 2075: Mean Prediction = 1.0000, Std Dev = 0.0000\n",
            "Test Sample 2076: Mean Prediction = 0.0000, Std Dev = 0.0000\n",
            "Test Sample 2077: Mean Prediction = 1.0000, Std Dev = 0.0000\n",
            "Test Sample 2078: Mean Prediction = 1.0000, Std Dev = 0.0000\n",
            "Test Sample 2079: Mean Prediction = 1.0000, Std Dev = 0.0000\n",
            "Test Sample 2080: Mean Prediction = 0.0000, Std Dev = 0.0000\n",
            "Test Sample 2081: Mean Prediction = 1.0000, Std Dev = 0.0000\n",
            "Test Sample 2082: Mean Prediction = 1.0000, Std Dev = 0.0000\n",
            "Test Sample 2083: Mean Prediction = 1.0000, Std Dev = 0.0000\n",
            "Test Sample 2084: Mean Prediction = 0.0000, Std Dev = 0.0000\n",
            "Test Sample 2085: Mean Prediction = 1.0000, Std Dev = 0.0000\n",
            "Test Sample 2086: Mean Prediction = 0.0000, Std Dev = 0.0000\n",
            "Test Sample 2087: Mean Prediction = 0.0300, Std Dev = 0.1706\n",
            "Test Sample 2088: Mean Prediction = 0.0000, Std Dev = 0.0000\n",
            "Test Sample 2089: Mean Prediction = 1.0000, Std Dev = 0.0000\n",
            "Test Sample 2090: Mean Prediction = 0.0000, Std Dev = 0.0000\n",
            "Test Sample 2091: Mean Prediction = 1.0000, Std Dev = 0.0000\n",
            "Test Sample 2092: Mean Prediction = 1.0000, Std Dev = 0.0000\n",
            "Test Sample 2093: Mean Prediction = 0.0000, Std Dev = 0.0000\n",
            "Test Sample 2094: Mean Prediction = 0.0000, Std Dev = 0.0000\n",
            "Test Sample 2095: Mean Prediction = 0.7500, Std Dev = 0.4330\n",
            "Test Sample 2096: Mean Prediction = 1.0000, Std Dev = 0.0000\n",
            "Test Sample 2097: Mean Prediction = 0.0000, Std Dev = 0.0000\n",
            "Test Sample 2098: Mean Prediction = 1.0000, Std Dev = 0.0000\n",
            "Test Sample 2099: Mean Prediction = 0.0000, Std Dev = 0.0000\n",
            "Test Sample 2100: Mean Prediction = 0.0000, Std Dev = 0.0000\n",
            "Test Sample 2101: Mean Prediction = 1.0000, Std Dev = 0.0000\n",
            "Test Sample 2102: Mean Prediction = 0.0000, Std Dev = 0.0000\n",
            "Test Sample 2103: Mean Prediction = 0.0000, Std Dev = 0.0000\n",
            "Test Sample 2104: Mean Prediction = 0.5600, Std Dev = 0.4964\n",
            "Test Sample 2105: Mean Prediction = 0.0000, Std Dev = 0.0000\n",
            "Test Sample 2106: Mean Prediction = 0.0000, Std Dev = 0.0000\n",
            "Test Sample 2107: Mean Prediction = 0.0000, Std Dev = 0.0000\n",
            "Test Sample 2108: Mean Prediction = 0.0000, Std Dev = 0.0000\n",
            "Test Sample 2109: Mean Prediction = 1.0000, Std Dev = 0.0000\n",
            "Test Sample 2110: Mean Prediction = 0.0000, Std Dev = 0.0000\n",
            "Test Sample 2111: Mean Prediction = 1.0000, Std Dev = 0.0000\n",
            "Test Sample 2112: Mean Prediction = 0.0000, Std Dev = 0.0000\n",
            "Test Sample 2113: Mean Prediction = 1.0000, Std Dev = 0.0000\n",
            "Test Sample 2114: Mean Prediction = 1.0000, Std Dev = 0.0000\n",
            "Test Sample 2115: Mean Prediction = 1.0000, Std Dev = 0.0000\n",
            "Test Sample 2116: Mean Prediction = 0.0000, Std Dev = 0.0000\n",
            "Test Sample 2117: Mean Prediction = 0.0000, Std Dev = 0.0000\n",
            "Test Sample 2118: Mean Prediction = 1.0000, Std Dev = 0.0000\n",
            "Test Sample 2119: Mean Prediction = 0.0000, Std Dev = 0.0000\n",
            "Test Sample 2120: Mean Prediction = 0.0000, Std Dev = 0.0000\n",
            "Test Sample 2121: Mean Prediction = 0.0000, Std Dev = 0.0000\n",
            "Test Sample 2122: Mean Prediction = 0.0000, Std Dev = 0.0000\n",
            "Test Sample 2123: Mean Prediction = 1.0000, Std Dev = 0.0000\n",
            "Test Sample 2124: Mean Prediction = 1.0000, Std Dev = 0.0000\n",
            "Test Sample 2125: Mean Prediction = 1.0000, Std Dev = 0.0000\n",
            "Test Sample 2126: Mean Prediction = 0.0100, Std Dev = 0.0995\n",
            "Test Sample 2127: Mean Prediction = 0.0000, Std Dev = 0.0000\n",
            "Test Sample 2128: Mean Prediction = 1.0000, Std Dev = 0.0000\n",
            "Test Sample 2129: Mean Prediction = 1.0000, Std Dev = 0.0000\n",
            "Test Sample 2130: Mean Prediction = 0.0100, Std Dev = 0.0995\n",
            "Test Sample 2131: Mean Prediction = 1.0000, Std Dev = 0.0000\n",
            "Test Sample 2132: Mean Prediction = 1.0000, Std Dev = 0.0000\n",
            "Test Sample 2133: Mean Prediction = 1.0000, Std Dev = 0.0000\n",
            "Test Sample 2134: Mean Prediction = 0.0000, Std Dev = 0.0000\n",
            "Test Sample 2135: Mean Prediction = 0.0000, Std Dev = 0.0000\n",
            "Test Sample 2136: Mean Prediction = 0.0000, Std Dev = 0.0000\n",
            "Test Sample 2137: Mean Prediction = 1.0000, Std Dev = 0.0000\n",
            "Test Sample 2138: Mean Prediction = 0.0000, Std Dev = 0.0000\n",
            "Test Sample 2139: Mean Prediction = 0.0000, Std Dev = 0.0000\n",
            "Test Sample 2140: Mean Prediction = 0.0000, Std Dev = 0.0000\n",
            "Test Sample 2141: Mean Prediction = 0.0000, Std Dev = 0.0000\n",
            "Test Sample 2142: Mean Prediction = 0.0000, Std Dev = 0.0000\n",
            "Test Sample 2143: Mean Prediction = 0.0000, Std Dev = 0.0000\n",
            "Test Sample 2144: Mean Prediction = 1.0000, Std Dev = 0.0000\n",
            "Test Sample 2145: Mean Prediction = 0.0000, Std Dev = 0.0000\n",
            "Test Sample 2146: Mean Prediction = 0.0000, Std Dev = 0.0000\n",
            "Test Sample 2147: Mean Prediction = 0.0000, Std Dev = 0.0000\n",
            "Test Sample 2148: Mean Prediction = 1.0000, Std Dev = 0.0000\n",
            "Test Sample 2149: Mean Prediction = 0.0000, Std Dev = 0.0000\n",
            "Test Sample 2150: Mean Prediction = 1.0000, Std Dev = 0.0000\n",
            "Test Sample 2151: Mean Prediction = 0.0000, Std Dev = 0.0000\n",
            "Test Sample 2152: Mean Prediction = 1.0000, Std Dev = 0.0000\n",
            "Test Sample 2153: Mean Prediction = 1.0000, Std Dev = 0.0000\n",
            "Test Sample 2154: Mean Prediction = 0.9800, Std Dev = 0.1400\n",
            "Test Sample 2155: Mean Prediction = 0.0000, Std Dev = 0.0000\n",
            "Test Sample 2156: Mean Prediction = 1.0000, Std Dev = 0.0000\n",
            "Test Sample 2157: Mean Prediction = 0.0000, Std Dev = 0.0000\n",
            "Test Sample 2158: Mean Prediction = 1.0000, Std Dev = 0.0000\n",
            "Test Sample 2159: Mean Prediction = 1.0000, Std Dev = 0.0000\n",
            "Test Sample 2160: Mean Prediction = 1.0000, Std Dev = 0.0000\n",
            "Test Sample 2161: Mean Prediction = 0.0000, Std Dev = 0.0000\n",
            "Test Sample 2162: Mean Prediction = 1.0000, Std Dev = 0.0000\n",
            "Test Sample 2163: Mean Prediction = 1.0000, Std Dev = 0.0000\n",
            "Test Sample 2164: Mean Prediction = 0.0000, Std Dev = 0.0000\n",
            "Test Sample 2165: Mean Prediction = 1.0000, Std Dev = 0.0000\n",
            "Test Sample 2166: Mean Prediction = 1.0000, Std Dev = 0.0000\n",
            "Test Sample 2167: Mean Prediction = 0.0000, Std Dev = 0.0000\n",
            "Test Sample 2168: Mean Prediction = 0.0000, Std Dev = 0.0000\n",
            "Test Sample 2169: Mean Prediction = 1.0000, Std Dev = 0.0000\n",
            "Test Sample 2170: Mean Prediction = 0.0000, Std Dev = 0.0000\n",
            "Test Sample 2171: Mean Prediction = 1.0000, Std Dev = 0.0000\n",
            "Test Sample 2172: Mean Prediction = 1.0000, Std Dev = 0.0000\n",
            "Test Sample 2173: Mean Prediction = 0.0500, Std Dev = 0.2179\n",
            "Test Sample 2174: Mean Prediction = 1.0000, Std Dev = 0.0000\n",
            "Test Sample 2175: Mean Prediction = 1.0000, Std Dev = 0.0000\n",
            "Test Sample 2176: Mean Prediction = 1.0000, Std Dev = 0.0000\n",
            "Test Sample 2177: Mean Prediction = 0.0000, Std Dev = 0.0000\n",
            "Test Sample 2178: Mean Prediction = 0.0000, Std Dev = 0.0000\n",
            "Test Sample 2179: Mean Prediction = 0.0000, Std Dev = 0.0000\n",
            "Test Sample 2180: Mean Prediction = 1.0000, Std Dev = 0.0000\n",
            "Test Sample 2181: Mean Prediction = 0.0000, Std Dev = 0.0000\n",
            "Test Sample 2182: Mean Prediction = 1.0000, Std Dev = 0.0000\n",
            "Test Sample 2183: Mean Prediction = 1.0000, Std Dev = 0.0000\n",
            "Test Sample 2184: Mean Prediction = 1.0000, Std Dev = 0.0000\n",
            "Test Sample 2185: Mean Prediction = 1.0000, Std Dev = 0.0000\n",
            "Test Sample 2186: Mean Prediction = 0.0000, Std Dev = 0.0000\n",
            "Test Sample 2187: Mean Prediction = 1.0000, Std Dev = 0.0000\n",
            "Test Sample 2188: Mean Prediction = 1.0000, Std Dev = 0.0000\n",
            "Test Sample 2189: Mean Prediction = 0.0000, Std Dev = 0.0000\n",
            "Test Sample 2190: Mean Prediction = 1.0000, Std Dev = 0.0000\n",
            "Test Sample 2191: Mean Prediction = 0.0000, Std Dev = 0.0000\n",
            "Test Sample 2192: Mean Prediction = 0.0000, Std Dev = 0.0000\n",
            "Test Sample 2193: Mean Prediction = 1.0000, Std Dev = 0.0000\n",
            "Test Sample 2194: Mean Prediction = 1.0000, Std Dev = 0.0000\n",
            "Test Sample 2195: Mean Prediction = 0.0000, Std Dev = 0.0000\n",
            "Test Sample 2196: Mean Prediction = 1.0000, Std Dev = 0.0000\n",
            "Test Sample 2197: Mean Prediction = 0.0000, Std Dev = 0.0000\n",
            "Test Sample 2198: Mean Prediction = 1.0000, Std Dev = 0.0000\n",
            "Test Sample 2199: Mean Prediction = 0.0000, Std Dev = 0.0000\n",
            "Test Sample 2200: Mean Prediction = 0.0000, Std Dev = 0.0000\n",
            "Test Sample 2201: Mean Prediction = 1.0000, Std Dev = 0.0000\n",
            "Test Sample 2202: Mean Prediction = 0.0000, Std Dev = 0.0000\n",
            "Test Sample 2203: Mean Prediction = 0.0000, Std Dev = 0.0000\n",
            "Test Sample 2204: Mean Prediction = 1.0000, Std Dev = 0.0000\n",
            "Test Sample 2205: Mean Prediction = 0.0000, Std Dev = 0.0000\n",
            "Test Sample 2206: Mean Prediction = 1.0000, Std Dev = 0.0000\n",
            "Test Sample 2207: Mean Prediction = 0.0000, Std Dev = 0.0000\n",
            "Test Sample 2208: Mean Prediction = 1.0000, Std Dev = 0.0000\n",
            "Test Sample 2209: Mean Prediction = 1.0000, Std Dev = 0.0000\n",
            "Test Sample 2210: Mean Prediction = 0.0000, Std Dev = 0.0000\n",
            "Test Sample 2211: Mean Prediction = 0.0000, Std Dev = 0.0000\n",
            "Test Sample 2212: Mean Prediction = 1.0000, Std Dev = 0.0000\n",
            "Test Sample 2213: Mean Prediction = 0.0000, Std Dev = 0.0000\n",
            "Test Sample 2214: Mean Prediction = 0.0000, Std Dev = 0.0000\n",
            "Test Sample 2215: Mean Prediction = 0.0000, Std Dev = 0.0000\n",
            "Test Sample 2216: Mean Prediction = 1.0000, Std Dev = 0.0000\n",
            "Test Sample 2217: Mean Prediction = 0.0000, Std Dev = 0.0000\n",
            "Test Sample 2218: Mean Prediction = 1.0000, Std Dev = 0.0000\n",
            "Test Sample 2219: Mean Prediction = 1.0000, Std Dev = 0.0000\n",
            "Test Sample 2220: Mean Prediction = 1.0000, Std Dev = 0.0000\n",
            "Test Sample 2221: Mean Prediction = 0.7400, Std Dev = 0.4386\n",
            "Test Sample 2222: Mean Prediction = 1.0000, Std Dev = 0.0000\n",
            "Test Sample 2223: Mean Prediction = 0.0000, Std Dev = 0.0000\n",
            "Test Sample 2224: Mean Prediction = 1.0000, Std Dev = 0.0000\n",
            "Test Sample 2225: Mean Prediction = 1.0000, Std Dev = 0.0000\n",
            "Test Sample 2226: Mean Prediction = 0.0000, Std Dev = 0.0000\n",
            "Test Sample 2227: Mean Prediction = 1.0000, Std Dev = 0.0000\n",
            "Test Sample 2228: Mean Prediction = 1.0000, Std Dev = 0.0000\n",
            "Test Sample 2229: Mean Prediction = 1.0000, Std Dev = 0.0000\n",
            "Test Sample 2230: Mean Prediction = 1.0000, Std Dev = 0.0000\n",
            "Test Sample 2231: Mean Prediction = 1.0000, Std Dev = 0.0000\n",
            "Test Sample 2232: Mean Prediction = 1.0000, Std Dev = 0.0000\n",
            "Test Sample 2233: Mean Prediction = 0.0000, Std Dev = 0.0000\n",
            "Test Sample 2234: Mean Prediction = 1.0000, Std Dev = 0.0000\n",
            "Test Sample 2235: Mean Prediction = 0.0000, Std Dev = 0.0000\n",
            "Test Sample 2236: Mean Prediction = 1.0000, Std Dev = 0.0000\n",
            "Test Sample 2237: Mean Prediction = 0.0000, Std Dev = 0.0000\n",
            "Test Sample 2238: Mean Prediction = 1.0000, Std Dev = 0.0000\n",
            "Test Sample 2239: Mean Prediction = 1.0000, Std Dev = 0.0000\n",
            "Test Sample 2240: Mean Prediction = 0.0000, Std Dev = 0.0000\n",
            "Test Sample 2241: Mean Prediction = 0.0000, Std Dev = 0.0000\n",
            "Test Sample 2242: Mean Prediction = 0.0000, Std Dev = 0.0000\n",
            "Test Sample 2243: Mean Prediction = 0.0000, Std Dev = 0.0000\n",
            "Test Sample 2244: Mean Prediction = 1.0000, Std Dev = 0.0000\n",
            "Test Sample 2245: Mean Prediction = 0.0000, Std Dev = 0.0000\n",
            "Test Sample 2246: Mean Prediction = 0.0000, Std Dev = 0.0000\n",
            "Test Sample 2247: Mean Prediction = 0.0000, Std Dev = 0.0000\n",
            "Test Sample 2248: Mean Prediction = 1.0000, Std Dev = 0.0000\n",
            "Test Sample 2249: Mean Prediction = 1.0000, Std Dev = 0.0000\n",
            "Test Sample 2250: Mean Prediction = 1.0000, Std Dev = 0.0000\n",
            "Test Sample 2251: Mean Prediction = 0.0000, Std Dev = 0.0000\n",
            "Test Sample 2252: Mean Prediction = 1.0000, Std Dev = 0.0000\n",
            "Test Sample 2253: Mean Prediction = 0.0000, Std Dev = 0.0000\n",
            "Test Sample 2254: Mean Prediction = 1.0000, Std Dev = 0.0000\n",
            "Test Sample 2255: Mean Prediction = 0.0000, Std Dev = 0.0000\n",
            "Test Sample 2256: Mean Prediction = 0.0000, Std Dev = 0.0000\n",
            "Test Sample 2257: Mean Prediction = 1.0000, Std Dev = 0.0000\n",
            "Test Sample 2258: Mean Prediction = 1.0000, Std Dev = 0.0000\n",
            "Test Sample 2259: Mean Prediction = 0.0000, Std Dev = 0.0000\n",
            "Test Sample 2260: Mean Prediction = 0.0000, Std Dev = 0.0000\n",
            "Test Sample 2261: Mean Prediction = 1.0000, Std Dev = 0.0000\n",
            "Test Sample 2262: Mean Prediction = 1.0000, Std Dev = 0.0000\n",
            "Test Sample 2263: Mean Prediction = 0.0000, Std Dev = 0.0000\n",
            "Test Sample 2264: Mean Prediction = 0.0000, Std Dev = 0.0000\n",
            "Test Sample 2265: Mean Prediction = 1.0000, Std Dev = 0.0000\n",
            "Test Sample 2266: Mean Prediction = 0.0000, Std Dev = 0.0000\n",
            "Test Sample 2267: Mean Prediction = 0.0000, Std Dev = 0.0000\n",
            "Test Sample 2268: Mean Prediction = 0.0000, Std Dev = 0.0000\n",
            "Test Sample 2269: Mean Prediction = 0.0000, Std Dev = 0.0000\n",
            "Test Sample 2270: Mean Prediction = 0.0000, Std Dev = 0.0000\n",
            "Test Sample 2271: Mean Prediction = 1.0000, Std Dev = 0.0000\n",
            "Test Sample 2272: Mean Prediction = 1.0000, Std Dev = 0.0000\n",
            "Test Sample 2273: Mean Prediction = 0.0000, Std Dev = 0.0000\n",
            "Test Sample 2274: Mean Prediction = 0.0000, Std Dev = 0.0000\n",
            "Test Sample 2275: Mean Prediction = 0.0000, Std Dev = 0.0000\n",
            "Test Sample 2276: Mean Prediction = 1.0000, Std Dev = 0.0000\n",
            "Test Sample 2277: Mean Prediction = 0.0000, Std Dev = 0.0000\n",
            "Test Sample 2278: Mean Prediction = 1.0000, Std Dev = 0.0000\n",
            "Test Sample 2279: Mean Prediction = 0.0000, Std Dev = 0.0000\n",
            "Test Sample 2280: Mean Prediction = 1.0000, Std Dev = 0.0000\n",
            "Test Sample 2281: Mean Prediction = 0.0000, Std Dev = 0.0000\n",
            "Test Sample 2282: Mean Prediction = 0.0000, Std Dev = 0.0000\n",
            "Test Sample 2283: Mean Prediction = 1.0000, Std Dev = 0.0000\n",
            "Test Sample 2284: Mean Prediction = 0.0000, Std Dev = 0.0000\n",
            "Test Sample 2285: Mean Prediction = 1.0000, Std Dev = 0.0000\n",
            "Test Sample 2286: Mean Prediction = 1.0000, Std Dev = 0.0000\n",
            "Test Sample 2287: Mean Prediction = 0.0000, Std Dev = 0.0000\n",
            "Test Sample 2288: Mean Prediction = 1.0000, Std Dev = 0.0000\n",
            "Test Sample 2289: Mean Prediction = 0.0000, Std Dev = 0.0000\n",
            "Test Sample 2290: Mean Prediction = 1.0000, Std Dev = 0.0000\n",
            "Test Sample 2291: Mean Prediction = 0.0000, Std Dev = 0.0000\n",
            "Test Sample 2292: Mean Prediction = 0.0000, Std Dev = 0.0000\n",
            "Test Sample 2293: Mean Prediction = 0.0000, Std Dev = 0.0000\n",
            "Test Sample 2294: Mean Prediction = 1.0000, Std Dev = 0.0000\n",
            "Test Sample 2295: Mean Prediction = 1.0000, Std Dev = 0.0000\n",
            "Test Sample 2296: Mean Prediction = 1.0000, Std Dev = 0.0000\n",
            "Test Sample 2297: Mean Prediction = 0.0000, Std Dev = 0.0000\n",
            "Test Sample 2298: Mean Prediction = 1.0000, Std Dev = 0.0000\n",
            "Test Sample 2299: Mean Prediction = 0.0000, Std Dev = 0.0000\n",
            "Test Sample 2300: Mean Prediction = 0.0000, Std Dev = 0.0000\n",
            "Test Sample 2301: Mean Prediction = 0.0000, Std Dev = 0.0000\n",
            "Test Sample 2302: Mean Prediction = 1.0000, Std Dev = 0.0000\n",
            "Test Sample 2303: Mean Prediction = 1.0000, Std Dev = 0.0000\n",
            "Test Sample 2304: Mean Prediction = 0.0000, Std Dev = 0.0000\n",
            "Test Sample 2305: Mean Prediction = 1.0000, Std Dev = 0.0000\n",
            "Test Sample 2306: Mean Prediction = 1.0000, Std Dev = 0.0000\n",
            "Test Sample 2307: Mean Prediction = 1.0000, Std Dev = 0.0000\n",
            "Test Sample 2308: Mean Prediction = 1.0000, Std Dev = 0.0000\n",
            "Test Sample 2309: Mean Prediction = 1.0000, Std Dev = 0.0000\n",
            "Test Sample 2310: Mean Prediction = 0.0000, Std Dev = 0.0000\n",
            "Test Sample 2311: Mean Prediction = 0.0000, Std Dev = 0.0000\n",
            "Test Sample 2312: Mean Prediction = 0.0000, Std Dev = 0.0000\n",
            "Test Sample 2313: Mean Prediction = 1.0000, Std Dev = 0.0000\n",
            "Test Sample 2314: Mean Prediction = 0.0000, Std Dev = 0.0000\n",
            "Test Sample 2315: Mean Prediction = 0.0000, Std Dev = 0.0000\n",
            "Test Sample 2316: Mean Prediction = 1.0000, Std Dev = 0.0000\n",
            "Test Sample 2317: Mean Prediction = 0.0000, Std Dev = 0.0000\n",
            "Test Sample 2318: Mean Prediction = 1.0000, Std Dev = 0.0000\n",
            "Test Sample 2319: Mean Prediction = 0.0000, Std Dev = 0.0000\n",
            "Test Sample 2320: Mean Prediction = 1.0000, Std Dev = 0.0000\n",
            "Test Sample 2321: Mean Prediction = 0.0000, Std Dev = 0.0000\n",
            "Test Sample 2322: Mean Prediction = 1.0000, Std Dev = 0.0000\n",
            "Test Sample 2323: Mean Prediction = 0.0000, Std Dev = 0.0000\n",
            "Test Sample 2324: Mean Prediction = 1.0000, Std Dev = 0.0000\n",
            "Test Sample 2325: Mean Prediction = 1.0000, Std Dev = 0.0000\n",
            "Test Sample 2326: Mean Prediction = 0.0000, Std Dev = 0.0000\n",
            "Test Sample 2327: Mean Prediction = 0.0000, Std Dev = 0.0000\n",
            "Test Sample 2328: Mean Prediction = 0.0000, Std Dev = 0.0000\n",
            "Test Sample 2329: Mean Prediction = 0.0000, Std Dev = 0.0000\n",
            "Test Sample 2330: Mean Prediction = 1.0000, Std Dev = 0.0000\n",
            "Test Sample 2331: Mean Prediction = 0.0000, Std Dev = 0.0000\n",
            "Test Sample 2332: Mean Prediction = 1.0000, Std Dev = 0.0000\n",
            "Test Sample 2333: Mean Prediction = 1.0000, Std Dev = 0.0000\n",
            "Test Sample 2334: Mean Prediction = 1.0000, Std Dev = 0.0000\n",
            "Test Sample 2335: Mean Prediction = 1.0000, Std Dev = 0.0000\n",
            "Test Sample 2336: Mean Prediction = 1.0000, Std Dev = 0.0000\n",
            "Test Sample 2337: Mean Prediction = 0.0000, Std Dev = 0.0000\n",
            "Test Sample 2338: Mean Prediction = 1.0000, Std Dev = 0.0000\n",
            "Test Sample 2339: Mean Prediction = 0.0000, Std Dev = 0.0000\n",
            "Test Sample 2340: Mean Prediction = 1.0000, Std Dev = 0.0000\n",
            "Test Sample 2341: Mean Prediction = 1.0000, Std Dev = 0.0000\n",
            "Test Sample 2342: Mean Prediction = 1.0000, Std Dev = 0.0000\n",
            "Test Sample 2343: Mean Prediction = 0.0000, Std Dev = 0.0000\n",
            "Test Sample 2344: Mean Prediction = 0.0000, Std Dev = 0.0000\n",
            "Test Sample 2345: Mean Prediction = 0.0000, Std Dev = 0.0000\n",
            "Test Sample 2346: Mean Prediction = 1.0000, Std Dev = 0.0000\n",
            "Test Sample 2347: Mean Prediction = 0.0000, Std Dev = 0.0000\n",
            "Test Sample 2348: Mean Prediction = 0.0000, Std Dev = 0.0000\n",
            "Test Sample 2349: Mean Prediction = 1.0000, Std Dev = 0.0000\n",
            "Test Sample 2350: Mean Prediction = 0.0000, Std Dev = 0.0000\n",
            "Test Sample 2351: Mean Prediction = 0.0000, Std Dev = 0.0000\n",
            "Test Sample 2352: Mean Prediction = 1.0000, Std Dev = 0.0000\n",
            "Test Sample 2353: Mean Prediction = 1.0000, Std Dev = 0.0000\n",
            "Test Sample 2354: Mean Prediction = 0.0000, Std Dev = 0.0000\n",
            "Test Sample 2355: Mean Prediction = 0.0000, Std Dev = 0.0000\n",
            "Test Sample 2356: Mean Prediction = 1.0000, Std Dev = 0.0000\n",
            "Test Sample 2357: Mean Prediction = 1.0000, Std Dev = 0.0000\n",
            "Test Sample 2358: Mean Prediction = 0.0000, Std Dev = 0.0000\n",
            "Test Sample 2359: Mean Prediction = 0.0000, Std Dev = 0.0000\n",
            "Test Sample 2360: Mean Prediction = 1.0000, Std Dev = 0.0000\n",
            "Test Sample 2361: Mean Prediction = 0.0000, Std Dev = 0.0000\n",
            "Test Sample 2362: Mean Prediction = 0.0000, Std Dev = 0.0000\n",
            "Test Sample 2363: Mean Prediction = 0.0000, Std Dev = 0.0000\n",
            "Test Sample 2364: Mean Prediction = 1.0000, Std Dev = 0.0000\n",
            "Test Sample 2365: Mean Prediction = 1.0000, Std Dev = 0.0000\n",
            "Test Sample 2366: Mean Prediction = 1.0000, Std Dev = 0.0000\n",
            "Test Sample 2367: Mean Prediction = 0.0000, Std Dev = 0.0000\n",
            "Test Sample 2368: Mean Prediction = 0.0000, Std Dev = 0.0000\n",
            "Test Sample 2369: Mean Prediction = 0.0000, Std Dev = 0.0000\n",
            "Test Sample 2370: Mean Prediction = 1.0000, Std Dev = 0.0000\n",
            "Test Sample 2371: Mean Prediction = 1.0000, Std Dev = 0.0000\n",
            "Test Sample 2372: Mean Prediction = 0.2700, Std Dev = 0.4440\n",
            "Test Sample 2373: Mean Prediction = 1.0000, Std Dev = 0.0000\n",
            "Test Sample 2374: Mean Prediction = 0.0000, Std Dev = 0.0000\n",
            "Test Sample 2375: Mean Prediction = 1.0000, Std Dev = 0.0000\n",
            "Test Sample 2376: Mean Prediction = 0.0000, Std Dev = 0.0000\n",
            "Test Sample 2377: Mean Prediction = 1.0000, Std Dev = 0.0000\n",
            "Test Sample 2378: Mean Prediction = 0.0000, Std Dev = 0.0000\n",
            "Test Sample 2379: Mean Prediction = 0.0000, Std Dev = 0.0000\n",
            "Test Sample 2380: Mean Prediction = 1.0000, Std Dev = 0.0000\n",
            "Test Sample 2381: Mean Prediction = 0.0000, Std Dev = 0.0000\n",
            "Test Sample 2382: Mean Prediction = 0.0000, Std Dev = 0.0000\n",
            "Test Sample 2383: Mean Prediction = 1.0000, Std Dev = 0.0000\n",
            "Test Sample 2384: Mean Prediction = 1.0000, Std Dev = 0.0000\n",
            "Test Sample 2385: Mean Prediction = 0.0000, Std Dev = 0.0000\n",
            "Test Sample 2386: Mean Prediction = 0.8800, Std Dev = 0.3250\n",
            "Test Sample 2387: Mean Prediction = 0.0000, Std Dev = 0.0000\n",
            "Test Sample 2388: Mean Prediction = 1.0000, Std Dev = 0.0000\n",
            "Test Sample 2389: Mean Prediction = 0.0000, Std Dev = 0.0000\n",
            "Test Sample 2390: Mean Prediction = 0.0000, Std Dev = 0.0000\n",
            "Test Sample 2391: Mean Prediction = 0.0000, Std Dev = 0.0000\n",
            "Test Sample 2392: Mean Prediction = 0.0000, Std Dev = 0.0000\n",
            "Test Sample 2393: Mean Prediction = 0.0000, Std Dev = 0.0000\n",
            "Test Sample 2394: Mean Prediction = 1.0000, Std Dev = 0.0000\n",
            "Test Sample 2395: Mean Prediction = 1.0000, Std Dev = 0.0000\n",
            "Test Sample 2396: Mean Prediction = 1.0000, Std Dev = 0.0000\n",
            "Test Sample 2397: Mean Prediction = 1.0000, Std Dev = 0.0000\n",
            "Test Sample 2398: Mean Prediction = 1.0000, Std Dev = 0.0000\n",
            "Test Sample 2399: Mean Prediction = 1.0000, Std Dev = 0.0000\n",
            "Test Sample 2400: Mean Prediction = 0.0000, Std Dev = 0.0000\n",
            "Test Sample 2401: Mean Prediction = 0.0000, Std Dev = 0.0000\n",
            "Test Sample 2402: Mean Prediction = 0.0000, Std Dev = 0.0000\n",
            "Test Sample 2403: Mean Prediction = 0.0000, Std Dev = 0.0000\n",
            "Test Sample 2404: Mean Prediction = 1.0000, Std Dev = 0.0000\n",
            "Test Sample 2405: Mean Prediction = 1.0000, Std Dev = 0.0000\n",
            "Test Sample 2406: Mean Prediction = 0.0000, Std Dev = 0.0000\n",
            "Test Sample 2407: Mean Prediction = 1.0000, Std Dev = 0.0000\n",
            "Test Sample 2408: Mean Prediction = 1.0000, Std Dev = 0.0000\n",
            "Test Sample 2409: Mean Prediction = 1.0000, Std Dev = 0.0000\n",
            "Test Sample 2410: Mean Prediction = 0.0000, Std Dev = 0.0000\n",
            "Test Sample 2411: Mean Prediction = 1.0000, Std Dev = 0.0000\n",
            "Test Sample 2412: Mean Prediction = 1.0000, Std Dev = 0.0000\n",
            "Test Sample 2413: Mean Prediction = 1.0000, Std Dev = 0.0000\n",
            "Test Sample 2414: Mean Prediction = 0.0000, Std Dev = 0.0000\n",
            "Test Sample 2415: Mean Prediction = 0.8600, Std Dev = 0.3470\n",
            "Test Sample 2416: Mean Prediction = 1.0000, Std Dev = 0.0000\n",
            "Test Sample 2417: Mean Prediction = 0.0000, Std Dev = 0.0000\n",
            "Test Sample 2418: Mean Prediction = 0.0000, Std Dev = 0.0000\n",
            "Test Sample 2419: Mean Prediction = 1.0000, Std Dev = 0.0000\n",
            "Test Sample 2420: Mean Prediction = 0.0000, Std Dev = 0.0000\n",
            "Test Sample 2421: Mean Prediction = 1.0000, Std Dev = 0.0000\n",
            "Test Sample 2422: Mean Prediction = 1.0000, Std Dev = 0.0000\n",
            "Test Sample 2423: Mean Prediction = 1.0000, Std Dev = 0.0000\n",
            "Test Sample 2424: Mean Prediction = 0.0000, Std Dev = 0.0000\n",
            "Test Sample 2425: Mean Prediction = 0.9800, Std Dev = 0.1400\n",
            "Test Sample 2426: Mean Prediction = 1.0000, Std Dev = 0.0000\n",
            "Test Sample 2427: Mean Prediction = 1.0000, Std Dev = 0.0000\n",
            "Test Sample 2428: Mean Prediction = 0.0000, Std Dev = 0.0000\n",
            "Test Sample 2429: Mean Prediction = 1.0000, Std Dev = 0.0000\n",
            "Test Sample 2430: Mean Prediction = 0.0000, Std Dev = 0.0000\n",
            "Test Sample 2431: Mean Prediction = 0.0000, Std Dev = 0.0000\n",
            "Test Sample 2432: Mean Prediction = 0.0000, Std Dev = 0.0000\n",
            "Test Sample 2433: Mean Prediction = 1.0000, Std Dev = 0.0000\n",
            "Test Sample 2434: Mean Prediction = 1.0000, Std Dev = 0.0000\n",
            "Test Sample 2435: Mean Prediction = 0.0000, Std Dev = 0.0000\n",
            "Test Sample 2436: Mean Prediction = 0.0000, Std Dev = 0.0000\n",
            "Test Sample 2437: Mean Prediction = 1.0000, Std Dev = 0.0000\n",
            "Test Sample 2438: Mean Prediction = 0.0000, Std Dev = 0.0000\n",
            "Test Sample 2439: Mean Prediction = 0.0000, Std Dev = 0.0000\n",
            "Test Sample 2440: Mean Prediction = 1.0000, Std Dev = 0.0000\n",
            "Test Sample 2441: Mean Prediction = 1.0000, Std Dev = 0.0000\n",
            "Test Sample 2442: Mean Prediction = 0.0000, Std Dev = 0.0000\n",
            "Test Sample 2443: Mean Prediction = 0.0000, Std Dev = 0.0000\n",
            "Test Sample 2444: Mean Prediction = 1.0000, Std Dev = 0.0000\n",
            "Test Sample 2445: Mean Prediction = 1.0000, Std Dev = 0.0000\n",
            "Test Sample 2446: Mean Prediction = 1.0000, Std Dev = 0.0000\n",
            "Test Sample 2447: Mean Prediction = 0.0000, Std Dev = 0.0000\n",
            "Test Sample 2448: Mean Prediction = 1.0000, Std Dev = 0.0000\n",
            "Test Sample 2449: Mean Prediction = 1.0000, Std Dev = 0.0000\n",
            "Test Sample 2450: Mean Prediction = 0.0000, Std Dev = 0.0000\n",
            "Test Sample 2451: Mean Prediction = 0.0000, Std Dev = 0.0000\n",
            "Test Sample 2452: Mean Prediction = 0.0000, Std Dev = 0.0000\n",
            "Test Sample 2453: Mean Prediction = 1.0000, Std Dev = 0.0000\n",
            "Test Sample 2454: Mean Prediction = 0.0000, Std Dev = 0.0000\n",
            "Test Sample 2455: Mean Prediction = 1.0000, Std Dev = 0.0000\n",
            "Test Sample 2456: Mean Prediction = 1.0000, Std Dev = 0.0000\n",
            "Test Sample 2457: Mean Prediction = 1.0000, Std Dev = 0.0000\n",
            "Test Sample 2458: Mean Prediction = 1.0000, Std Dev = 0.0000\n",
            "Test Sample 2459: Mean Prediction = 1.0000, Std Dev = 0.0000\n",
            "Test Sample 2460: Mean Prediction = 0.0000, Std Dev = 0.0000\n",
            "Test Sample 2461: Mean Prediction = 0.0000, Std Dev = 0.0000\n",
            "Test Sample 2462: Mean Prediction = 0.0000, Std Dev = 0.0000\n",
            "Test Sample 2463: Mean Prediction = 0.0000, Std Dev = 0.0000\n",
            "Test Sample 2464: Mean Prediction = 1.0000, Std Dev = 0.0000\n",
            "Test Sample 2465: Mean Prediction = 0.0000, Std Dev = 0.0000\n",
            "Test Sample 2466: Mean Prediction = 0.0000, Std Dev = 0.0000\n",
            "Test Sample 2467: Mean Prediction = 0.0000, Std Dev = 0.0000\n",
            "Test Sample 2468: Mean Prediction = 1.0000, Std Dev = 0.0000\n",
            "Test Sample 2469: Mean Prediction = 0.0000, Std Dev = 0.0000\n",
            "Test Sample 2470: Mean Prediction = 0.0000, Std Dev = 0.0000\n",
            "Test Sample 2471: Mean Prediction = 1.0000, Std Dev = 0.0000\n",
            "Test Sample 2472: Mean Prediction = 1.0000, Std Dev = 0.0000\n",
            "Test Sample 2473: Mean Prediction = 1.0000, Std Dev = 0.0000\n",
            "Test Sample 2474: Mean Prediction = 0.0000, Std Dev = 0.0000\n",
            "Test Sample 2475: Mean Prediction = 1.0000, Std Dev = 0.0000\n",
            "Test Sample 2476: Mean Prediction = 0.0000, Std Dev = 0.0000\n",
            "Test Sample 2477: Mean Prediction = 1.0000, Std Dev = 0.0000\n",
            "Test Sample 2478: Mean Prediction = 0.0000, Std Dev = 0.0000\n",
            "Test Sample 2479: Mean Prediction = 0.0000, Std Dev = 0.0000\n",
            "Test Sample 2480: Mean Prediction = 1.0000, Std Dev = 0.0000\n",
            "Test Sample 2481: Mean Prediction = 1.0000, Std Dev = 0.0000\n",
            "Test Sample 2482: Mean Prediction = 0.0000, Std Dev = 0.0000\n",
            "Test Sample 2483: Mean Prediction = 1.0000, Std Dev = 0.0000\n",
            "Average Mean Prediction: 0.4981\n",
            "Average Standard Deviation: 0.0073\n"
          ]
        },
        {
          "output_type": "display_data",
          "data": {
            "text/plain": [
              "<Figure size 1000x600 with 1 Axes>"
            ],
            "image/png": "[encoded data removed]"
          },
          "metadata": {}
        }
      ]
    },
    {
      "cell_type": "code",
      "source": [
        "import numpy as np\n",
        "from sklearn.model_selection import train_test_split\n",
        "import xgboost as xgb\n",
        "from sklearn.metrics import accuracy_score\n",
        "\n",
        "# Define the XGBoost model\n",
        "xgb_model = xgb.XGBClassifier(n_estimators=100, random_state=42)\n",
        "\n",
        "# Perform bootstrapping for uncertainty analysis\n",
        "n_bootstraps = 100\n",
        "bootstrap_preds = np.zeros((n_bootstraps, X_test.shape[0]))\n",
        "\n",
        "# Perform bootstrapping\n",
        "for i in range(n_bootstraps):\n",
        "    # Sample with replacement from the training data\n",
        "    X_bootstrap, _, y_bootstrap, _ = train_test_split(X_train, y_train, test_size=0.3, random_state=i)\n",
        "\n",
        "    # Re-fit the XGBoost model on the bootstrapped dataset\n",
        "    xgb_model.fit(X_bootstrap, y_bootstrap)\n",
        "\n",
        "    # Get predictions for the test set\n",
        "    bootstrap_preds[i] = xgb_model.predict(X_test)\n",
        "\n",
        "# Calculate the mean and standard deviation of predictions\n",
        "mean_preds = np.mean(bootstrap_preds, axis=0)  # Mean predictions\n",
        "std_preds = np.std(bootstrap_preds, axis=0)    # Standard deviation (uncertainty) of predictions\n",
        "\n",
        "# Calculate the overall average of mean predictions and standard deviations\n",
        "average_mean_prediction = np.mean(mean_preds)\n",
        "average_std_deviation = np.mean(std_preds)\n",
        "\n",
        "# Display the overall averages\n",
        "print(f\"Average Mean Prediction: {average_mean_prediction:.4f}\")\n",
        "print(f\"Average Standard Deviation: {average_std_deviation:.4f}\")\n",
        "\n",
        "# Visualize the uncertainty (standard deviation) as a bar plot\n",
        "plt.figure(figsize=(10, 6))\n",
        "plt.bar(range(len(std_preds)), std_preds, alpha=0.7, label=\"XGBoost Uncertainty (Std Dev)\")\n",
        "plt.title(\"Uncertainty in XGBoost Predictions (Standard Deviation)\")\n",
        "plt.ylabel(\"Standard Deviation of Predictions\")\n",
        "plt.xlabel(\"Test Samples\")\n",
        "plt.legend()\n",
        "plt.show()"
      ],
      "metadata": {
        "id": "419Xkl6mfrQA",
        "colab": {
          "base_uri": "https://localhost:8080/",
          "height": 599
        },
        "outputId": "c86017e5-5673-4576-d401-7d3e255c9077"
      },
      "execution_count": null,
      "outputs": [
        {
          "output_type": "stream",
          "name": "stdout",
          "text": [
            "Average Mean Prediction: 0.4979\n",
            "Average Standard Deviation: 0.0086\n"
          ]
        },
        {
          "output_type": "display_data",
          "data": {
            "text/plain": [
              "<Figure size 1000x600 with 1 Axes>"
            ],
            "image/png": "[encoded data removed]"
          },
          "metadata": {}
        }
      ]
    },
    {
      "cell_type": "code",
      "source": [
        "import numpy as np\n",
        "from sklearn.model_selection import train_test_split\n",
        "from sklearn.metrics import accuracy_score\n",
        "from tensorflow.keras.models import Sequential\n",
        "from tensorflow.keras.layers import Dense\n",
        "\n",
        "\n",
        "# Define the neural network model\n",
        "def create_model():\n",
        "    model = Sequential()\n",
        "    model.add(Dense(units=128, activation='relu', input_shape=(X_train.shape[1],)))\n",
        "    model.add(Dense(units=128, activation='relu'))\n",
        "    model.add(Dense(units=1, activation='sigmoid'))\n",
        "    model.compile(optimizer='adam', loss='binary_crossentropy', metrics=['accuracy'])\n",
        "    return model\n",
        "\n",
        "# Initialize and train the model\n",
        "best_nn = create_model()\n",
        "best_nn.fit(X_train, y_train, epochs=10, batch_size=64, verbose=1)\n",
        "\n",
        "# Perform bootstrapping for uncertainty analysis\n",
        "n_bootstraps = 100\n",
        "bootstrap_preds = np.zeros((n_bootstraps, X_test.shape[0]))\n",
        "\n",
        "for i in range(n_bootstraps):\n",
        "    # Sample with replacement from the training data\n",
        "    X_bootstrap, _, y_bootstrap, _ = train_test_split(X_train, y_train, test_size=0.2, random_state=i)\n",
        "\n",
        "    # Reinitialize and fit the neural network on the bootstrapped dataset\n",
        "    bootstrap_nn = create_model()  # Create a fresh model for each bootstrap\n",
        "    bootstrap_nn.fit(X_bootstrap, y_bootstrap, epochs=10, batch_size=64, verbose=0)\n",
        "\n",
        "    # Get predictions for the test set\n",
        "    bootstrap_preds[i] = bootstrap_nn.predict(X_test).flatten()\n",
        "\n",
        "# Calculate the mean and standard deviation of predictions\n",
        "mean_preds = np.mean(bootstrap_preds, axis=0)  # Mean predictions\n",
        "std_preds = np.std(bootstrap_preds, axis=0)    # Standard deviation (uncertainty) of predictions\n",
        "\n",
        "# Calculate the overall average of mean predictions and standard deviations\n",
        "average_mean_prediction = np.mean(mean_preds)\n",
        "average_std_deviation = np.mean(std_preds)\n",
        "\n",
        "# Display the overall averages\n",
        "print(f\"Average Mean Prediction: {average_mean_prediction:.4f}\")\n",
        "print(f\"Average Standard Deviation: {average_std_deviation:.4f}\")"
      ],
      "metadata": {
        "id": "M_Wp5S6VfxK5",
        "colab": {
          "base_uri": "https://localhost:8080/"
        },
        "outputId": "3614202e-955a-4e47-e93b-62109e946fa7"
      },
      "execution_count": null,
      "outputs": [
        {
          "output_type": "stream",
          "name": "stderr",
          "text": [
            "/usr/local/lib/python3.10/dist-packages/keras/src/layers/core/dense.py:87: UserWarning: Do not pass an `input_shape`/`input_dim` argument to a layer. When using Sequential models, prefer using an `Input(shape)` object as the first layer in the model instead.\n",
            "  super().__init__(activity_regularizer=activity_regularizer, **kwargs)\n"
          ]
        },
        {
          "output_type": "stream",
          "name": "stdout",
          "text": [
            "Epoch 1/10\n",
            "\u001b[1m156/156\u001b[0m \u001b[32m━━━━━━━━━━━━━━━━━━━━\u001b[0m\u001b[37m\u001b[0m \u001b[1m2s\u001b[0m 2ms/step - accuracy: 0.6210 - loss: 55560.6367\n",
            "Epoch 2/10\n",
            "\u001b[1m156/156\u001b[0m \u001b[32m━━━━━━━━━━━━━━━━━━━━\u001b[0m\u001b[37m\u001b[0m \u001b[1m0s\u001b[0m 2ms/step - accuracy: 0.6119 - loss: 3111501.0000\n",
            "Epoch 3/10\n",
            "\u001b[1m156/156\u001b[0m \u001b[32m━━━━━━━━━━━━━━━━━━━━\u001b[0m\u001b[37m\u001b[0m \u001b[1m0s\u001b[0m 2ms/step - accuracy: 0.6680 - loss: 25983.7734\n",
            "Epoch 4/10\n",
            "\u001b[1m156/156\u001b[0m \u001b[32m━━━━━━━━━━━━━━━━━━━━\u001b[0m\u001b[37m\u001b[0m \u001b[1m0s\u001b[0m 2ms/step - accuracy: 0.6822 - loss: 1212944.8750\n",
            "Epoch 5/10\n",
            "\u001b[1m156/156\u001b[0m \u001b[32m━━━━━━━━━━━━━━━━━━━━\u001b[0m\u001b[37m\u001b[0m \u001b[1m0s\u001b[0m 2ms/step - accuracy: 0.7141 - loss: 45052.9297\n",
            "Epoch 6/10\n",
            "\u001b[1m156/156\u001b[0m \u001b[32m━━━━━━━━━━━━━━━━━━━━\u001b[0m\u001b[37m\u001b[0m \u001b[1m1s\u001b[0m 2ms/step - accuracy: 0.6892 - loss: 69152.5312\n",
            "Epoch 7/10\n",
            "\u001b[1m156/156\u001b[0m \u001b[32m━━━━━━━━━━━━━━━━━━━━\u001b[0m\u001b[37m\u001b[0m \u001b[1m1s\u001b[0m 2ms/step - accuracy: 0.7119 - loss: 562996.0625\n",
            "Epoch 8/10\n",
            "\u001b[1m156/156\u001b[0m \u001b[32m━━━━━━━━━━━━━━━━━━━━\u001b[0m\u001b[37m\u001b[0m \u001b[1m1s\u001b[0m 2ms/step - accuracy: 0.6622 - loss: 61502.6445\n",
            "Epoch 9/10\n",
            "\u001b[1m156/156\u001b[0m \u001b[32m━━━━━━━━━━━━━━━━━━━━\u001b[0m\u001b[37m\u001b[0m \u001b[1m0s\u001b[0m 2ms/step - accuracy: 0.7238 - loss: 51381.1797\n",
            "Epoch 10/10\n",
            "\u001b[1m156/156\u001b[0m \u001b[32m━━━━━━━━━━━━━━━━━━━━\u001b[0m\u001b[37m\u001b[0m \u001b[1m0s\u001b[0m 2ms/step - accuracy: 0.6462 - loss: 119505.3359\n"
          ]
        },
        {
          "output_type": "stream",
          "name": "stderr",
          "text": [
            "/usr/local/lib/python3.10/dist-packages/keras/src/layers/core/dense.py:87: UserWarning: Do not pass an `input_shape`/`input_dim` argument to a layer. When using Sequential models, prefer using an `Input(shape)` object as the first layer in the model instead.\n",
            "  super().__init__(activity_regularizer=activity_regularizer, **kwargs)\n"
          ]
        },
        {
          "output_type": "stream",
          "name": "stdout",
          "text": [
            "\u001b[1m78/78\u001b[0m \u001b[32m━━━━━━━━━━━━━━━━━━━━\u001b[0m\u001b[37m\u001b[0m \u001b[1m0s\u001b[0m 3ms/step\n"
          ]
        },
        {
          "output_type": "stream",
          "name": "stderr",
          "text": [
            "/usr/local/lib/python3.10/dist-packages/keras/src/layers/core/dense.py:87: UserWarning: Do not pass an `input_shape`/`input_dim` argument to a layer. When using Sequential models, prefer using an `Input(shape)` object as the first layer in the model instead.\n",
            "  super().__init__(activity_regularizer=activity_regularizer, **kwargs)\n"
          ]
        },
        {
          "output_type": "stream",
          "name": "stdout",
          "text": [
            "\u001b[1m78/78\u001b[0m \u001b[32m━━━━━━━━━━━━━━━━━━━━\u001b[0m\u001b[37m\u001b[0m \u001b[1m0s\u001b[0m 2ms/step\n"
          ]
        },
        {
          "output_type": "stream",
          "name": "stderr",
          "text": [
            "/usr/local/lib/python3.10/dist-packages/keras/src/layers/core/dense.py:87: UserWarning: Do not pass an `input_shape`/`input_dim` argument to a layer. When using Sequential models, prefer using an `Input(shape)` object as the first layer in the model instead.\n",
            "  super().__init__(activity_regularizer=activity_regularizer, **kwargs)\n"
          ]
        },
        {
          "output_type": "stream",
          "name": "stdout",
          "text": [
            "\u001b[1m78/78\u001b[0m \u001b[32m━━━━━━━━━━━━━━━━━━━━\u001b[0m\u001b[37m\u001b[0m \u001b[1m0s\u001b[0m 2ms/step\n"
          ]
        },
        {
          "output_type": "stream",
          "name": "stderr",
          "text": [
            "/usr/local/lib/python3.10/dist-packages/keras/src/layers/core/dense.py:87: UserWarning: Do not pass an `input_shape`/`input_dim` argument to a layer. When using Sequential models, prefer using an `Input(shape)` object as the first layer in the model instead.\n",
            "  super().__init__(activity_regularizer=activity_regularizer, **kwargs)\n"
          ]
        },
        {
          "output_type": "stream",
          "name": "stdout",
          "text": [
            "\u001b[1m78/78\u001b[0m \u001b[32m━━━━━━━━━━━━━━━━━━━━\u001b[0m\u001b[37m\u001b[0m \u001b[1m0s\u001b[0m 3ms/step\n"
          ]
        },
        {
          "output_type": "stream",
          "name": "stderr",
          "text": [
            "/usr/local/lib/python3.10/dist-packages/keras/src/layers/core/dense.py:87: UserWarning: Do not pass an `input_shape`/`input_dim` argument to a layer. When using Sequential models, prefer using an `Input(shape)` object as the first layer in the model instead.\n",
            "  super().__init__(activity_regularizer=activity_regularizer, **kwargs)\n"
          ]
        },
        {
          "output_type": "stream",
          "name": "stdout",
          "text": [
            "\u001b[1m78/78\u001b[0m \u001b[32m━━━━━━━━━━━━━━━━━━━━\u001b[0m\u001b[37m\u001b[0m \u001b[1m0s\u001b[0m 2ms/step\n"
          ]
        },
        {
          "output_type": "stream",
          "name": "stderr",
          "text": [
            "/usr/local/lib/python3.10/dist-packages/keras/src/layers/core/dense.py:87: UserWarning: Do not pass an `input_shape`/`input_dim` argument to a layer. When using Sequential models, prefer using an `Input(shape)` object as the first layer in the model instead.\n",
            "  super().__init__(activity_regularizer=activity_regularizer, **kwargs)\n"
          ]
        },
        {
          "output_type": "stream",
          "name": "stdout",
          "text": [
            "\u001b[1m78/78\u001b[0m \u001b[32m━━━━━━━━━━━━━━━━━━━━\u001b[0m\u001b[37m\u001b[0m \u001b[1m0s\u001b[0m 2ms/step\n"
          ]
        },
        {
          "output_type": "stream",
          "name": "stderr",
          "text": [
            "/usr/local/lib/python3.10/dist-packages/keras/src/layers/core/dense.py:87: UserWarning: Do not pass an `input_shape`/`input_dim` argument to a layer. When using Sequential models, prefer using an `Input(shape)` object as the first layer in the model instead.\n",
            "  super().__init__(activity_regularizer=activity_regularizer, **kwargs)\n"
          ]
        },
        {
          "output_type": "stream",
          "name": "stdout",
          "text": [
            "\u001b[1m78/78\u001b[0m \u001b[32m━━━━━━━━━━━━━━━━━━━━\u001b[0m\u001b[37m\u001b[0m \u001b[1m0s\u001b[0m 2ms/step\n"
          ]
        },
        {
          "output_type": "stream",
          "name": "stderr",
          "text": [
            "/usr/local/lib/python3.10/dist-packages/keras/src/layers/core/dense.py:87: UserWarning: Do not pass an `input_shape`/`input_dim` argument to a layer. When using Sequential models, prefer using an `Input(shape)` object as the first layer in the model instead.\n",
            "  super().__init__(activity_regularizer=activity_regularizer, **kwargs)\n"
          ]
        },
        {
          "output_type": "stream",
          "name": "stdout",
          "text": [
            "\u001b[1m78/78\u001b[0m \u001b[32m━━━━━━━━━━━━━━━━━━━━\u001b[0m\u001b[37m\u001b[0m \u001b[1m0s\u001b[0m 2ms/step\n"
          ]
        },
        {
          "output_type": "stream",
          "name": "stderr",
          "text": [
            "/usr/local/lib/python3.10/dist-packages/keras/src/layers/core/dense.py:87: UserWarning: Do not pass an `input_shape`/`input_dim` argument to a layer. When using Sequential models, prefer using an `Input(shape)` object as the first layer in the model instead.\n",
            "  super().__init__(activity_regularizer=activity_regularizer, **kwargs)\n"
          ]
        },
        {
          "output_type": "stream",
          "name": "stdout",
          "text": [
            "\u001b[1m78/78\u001b[0m \u001b[32m━━━━━━━━━━━━━━━━━━━━\u001b[0m\u001b[37m\u001b[0m \u001b[1m0s\u001b[0m 2ms/step\n"
          ]
        },
        {
          "output_type": "stream",
          "name": "stderr",
          "text": [
            "/usr/local/lib/python3.10/dist-packages/keras/src/layers/core/dense.py:87: UserWarning: Do not pass an `input_shape`/`input_dim` argument to a layer. When using Sequential models, prefer using an `Input(shape)` object as the first layer in the model instead.\n",
            "  super().__init__(activity_regularizer=activity_regularizer, **kwargs)\n"
          ]
        },
        {
          "output_type": "stream",
          "name": "stdout",
          "text": [
            "\u001b[1m78/78\u001b[0m \u001b[32m━━━━━━━━━━━━━━━━━━━━\u001b[0m\u001b[37m\u001b[0m \u001b[1m0s\u001b[0m 2ms/step\n"
          ]
        },
        {
          "output_type": "stream",
          "name": "stderr",
          "text": [
            "/usr/local/lib/python3.10/dist-packages/keras/src/layers/core/dense.py:87: UserWarning: Do not pass an `input_shape`/`input_dim` argument to a layer. When using Sequential models, prefer using an `Input(shape)` object as the first layer in the model instead.\n",
            "  super().__init__(activity_regularizer=activity_regularizer, **kwargs)\n"
          ]
        },
        {
          "output_type": "stream",
          "name": "stdout",
          "text": [
            "\u001b[1m78/78\u001b[0m \u001b[32m━━━━━━━━━━━━━━━━━━━━\u001b[0m\u001b[37m\u001b[0m \u001b[1m0s\u001b[0m 2ms/step\n"
          ]
        },
        {
          "output_type": "stream",
          "name": "stderr",
          "text": [
            "/usr/local/lib/python3.10/dist-packages/keras/src/layers/core/dense.py:87: UserWarning: Do not pass an `input_shape`/`input_dim` argument to a layer. When using Sequential models, prefer using an `Input(shape)` object as the first layer in the model instead.\n",
            "  super().__init__(activity_regularizer=activity_regularizer, **kwargs)\n"
          ]
        },
        {
          "output_type": "stream",
          "name": "stdout",
          "text": [
            "\u001b[1m78/78\u001b[0m \u001b[32m━━━━━━━━━━━━━━━━━━━━\u001b[0m\u001b[37m\u001b[0m \u001b[1m0s\u001b[0m 2ms/step\n"
          ]
        },
        {
          "output_type": "stream",
          "name": "stderr",
          "text": [
            "/usr/local/lib/python3.10/dist-packages/keras/src/layers/core/dense.py:87: UserWarning: Do not pass an `input_shape`/`input_dim` argument to a layer. When using Sequential models, prefer using an `Input(shape)` object as the first layer in the model instead.\n",
            "  super().__init__(activity_regularizer=activity_regularizer, **kwargs)\n"
          ]
        },
        {
          "output_type": "stream",
          "name": "stdout",
          "text": [
            "\u001b[1m78/78\u001b[0m \u001b[32m━━━━━━━━━━━━━━━━━━━━\u001b[0m\u001b[37m\u001b[0m \u001b[1m0s\u001b[0m 2ms/step\n"
          ]
        },
        {
          "output_type": "stream",
          "name": "stderr",
          "text": [
            "/usr/local/lib/python3.10/dist-packages/keras/src/layers/core/dense.py:87: UserWarning: Do not pass an `input_shape`/`input_dim` argument to a layer. When using Sequential models, prefer using an `Input(shape)` object as the first layer in the model instead.\n",
            "  super().__init__(activity_regularizer=activity_regularizer, **kwargs)\n"
          ]
        },
        {
          "output_type": "stream",
          "name": "stdout",
          "text": [
            "\u001b[1m78/78\u001b[0m \u001b[32m━━━━━━━━━━━━━━━━━━━━\u001b[0m\u001b[37m\u001b[0m \u001b[1m0s\u001b[0m 2ms/step\n"
          ]
        },
        {
          "output_type": "stream",
          "name": "stderr",
          "text": [
            "/usr/local/lib/python3.10/dist-packages/keras/src/layers/core/dense.py:87: UserWarning: Do not pass an `input_shape`/`input_dim` argument to a layer. When using Sequential models, prefer using an `Input(shape)` object as the first layer in the model instead.\n",
            "  super().__init__(activity_regularizer=activity_regularizer, **kwargs)\n"
          ]
        },
        {
          "output_type": "stream",
          "name": "stdout",
          "text": [
            "\u001b[1m78/78\u001b[0m \u001b[32m━━━━━━━━━━━━━━━━━━━━\u001b[0m\u001b[37m\u001b[0m \u001b[1m0s\u001b[0m 2ms/step\n"
          ]
        },
        {
          "output_type": "stream",
          "name": "stderr",
          "text": [
            "/usr/local/lib/python3.10/dist-packages/keras/src/layers/core/dense.py:87: UserWarning: Do not pass an `input_shape`/`input_dim` argument to a layer. When using Sequential models, prefer using an `Input(shape)` object as the first layer in the model instead.\n",
            "  super().__init__(activity_regularizer=activity_regularizer, **kwargs)\n"
          ]
        },
        {
          "output_type": "stream",
          "name": "stdout",
          "text": [
            "\u001b[1m78/78\u001b[0m \u001b[32m━━━━━━━━━━━━━━━━━━━━\u001b[0m\u001b[37m\u001b[0m \u001b[1m0s\u001b[0m 2ms/step\n"
          ]
        },
        {
          "output_type": "stream",
          "name": "stderr",
          "text": [
            "/usr/local/lib/python3.10/dist-packages/keras/src/layers/core/dense.py:87: UserWarning: Do not pass an `input_shape`/`input_dim` argument to a layer. When using Sequential models, prefer using an `Input(shape)` object as the first layer in the model instead.\n",
            "  super().__init__(activity_regularizer=activity_regularizer, **kwargs)\n"
          ]
        },
        {
          "output_type": "stream",
          "name": "stdout",
          "text": [
            "\u001b[1m78/78\u001b[0m \u001b[32m━━━━━━━━━━━━━━━━━━━━\u001b[0m\u001b[37m\u001b[0m \u001b[1m0s\u001b[0m 3ms/step\n"
          ]
        },
        {
          "output_type": "stream",
          "name": "stderr",
          "text": [
            "/usr/local/lib/python3.10/dist-packages/keras/src/layers/core/dense.py:87: UserWarning: Do not pass an `input_shape`/`input_dim` argument to a layer. When using Sequential models, prefer using an `Input(shape)` object as the first layer in the model instead.\n",
            "  super().__init__(activity_regularizer=activity_regularizer, **kwargs)\n"
          ]
        },
        {
          "output_type": "stream",
          "name": "stdout",
          "text": [
            "\u001b[1m78/78\u001b[0m \u001b[32m━━━━━━━━━━━━━━━━━━━━\u001b[0m\u001b[37m\u001b[0m \u001b[1m0s\u001b[0m 2ms/step\n"
          ]
        },
        {
          "output_type": "stream",
          "name": "stderr",
          "text": [
            "/usr/local/lib/python3.10/dist-packages/keras/src/layers/core/dense.py:87: UserWarning: Do not pass an `input_shape`/`input_dim` argument to a layer. When using Sequential models, prefer using an `Input(shape)` object as the first layer in the model instead.\n",
            "  super().__init__(activity_regularizer=activity_regularizer, **kwargs)\n"
          ]
        },
        {
          "output_type": "stream",
          "name": "stdout",
          "text": [
            "\u001b[1m78/78\u001b[0m \u001b[32m━━━━━━━━━━━━━━━━━━━━\u001b[0m\u001b[37m\u001b[0m \u001b[1m0s\u001b[0m 2ms/step\n"
          ]
        },
        {
          "output_type": "stream",
          "name": "stderr",
          "text": [
            "/usr/local/lib/python3.10/dist-packages/keras/src/layers/core/dense.py:87: UserWarning: Do not pass an `input_shape`/`input_dim` argument to a layer. When using Sequential models, prefer using an `Input(shape)` object as the first layer in the model instead.\n",
            "  super().__init__(activity_regularizer=activity_regularizer, **kwargs)\n"
          ]
        },
        {
          "output_type": "stream",
          "name": "stdout",
          "text": [
            "\u001b[1m78/78\u001b[0m \u001b[32m━━━━━━━━━━━━━━━━━━━━\u001b[0m\u001b[37m\u001b[0m \u001b[1m0s\u001b[0m 2ms/step\n"
          ]
        },
        {
          "output_type": "stream",
          "name": "stderr",
          "text": [
            "/usr/local/lib/python3.10/dist-packages/keras/src/layers/core/dense.py:87: UserWarning: Do not pass an `input_shape`/`input_dim` argument to a layer. When using Sequential models, prefer using an `Input(shape)` object as the first layer in the model instead.\n",
            "  super().__init__(activity_regularizer=activity_regularizer, **kwargs)\n"
          ]
        },
        {
          "output_type": "stream",
          "name": "stdout",
          "text": [
            "\u001b[1m78/78\u001b[0m \u001b[32m━━━━━━━━━━━━━━━━━━━━\u001b[0m\u001b[37m\u001b[0m \u001b[1m0s\u001b[0m 2ms/step\n"
          ]
        },
        {
          "output_type": "stream",
          "name": "stderr",
          "text": [
            "/usr/local/lib/python3.10/dist-packages/keras/src/layers/core/dense.py:87: UserWarning: Do not pass an `input_shape`/`input_dim` argument to a layer. When using Sequential models, prefer using an `Input(shape)` object as the first layer in the model instead.\n",
            "  super().__init__(activity_regularizer=activity_regularizer, **kwargs)\n"
          ]
        },
        {
          "output_type": "stream",
          "name": "stdout",
          "text": [
            "\u001b[1m78/78\u001b[0m \u001b[32m━━━━━━━━━━━━━━━━━━━━\u001b[0m\u001b[37m\u001b[0m \u001b[1m0s\u001b[0m 2ms/step\n"
          ]
        },
        {
          "output_type": "stream",
          "name": "stderr",
          "text": [
            "/usr/local/lib/python3.10/dist-packages/keras/src/layers/core/dense.py:87: UserWarning: Do not pass an `input_shape`/`input_dim` argument to a layer. When using Sequential models, prefer using an `Input(shape)` object as the first layer in the model instead.\n",
            "  super().__init__(activity_regularizer=activity_regularizer, **kwargs)\n"
          ]
        },
        {
          "output_type": "stream",
          "name": "stdout",
          "text": [
            "\u001b[1m78/78\u001b[0m \u001b[32m━━━━━━━━━━━━━━━━━━━━\u001b[0m\u001b[37m\u001b[0m \u001b[1m0s\u001b[0m 2ms/step\n"
          ]
        },
        {
          "output_type": "stream",
          "name": "stderr",
          "text": [
            "/usr/local/lib/python3.10/dist-packages/keras/src/layers/core/dense.py:87: UserWarning: Do not pass an `input_shape`/`input_dim` argument to a layer. When using Sequential models, prefer using an `Input(shape)` object as the first layer in the model instead.\n",
            "  super().__init__(activity_regularizer=activity_regularizer, **kwargs)\n"
          ]
        },
        {
          "output_type": "stream",
          "name": "stdout",
          "text": [
            "\u001b[1m78/78\u001b[0m \u001b[32m━━━━━━━━━━━━━━━━━━━━\u001b[0m\u001b[37m\u001b[0m \u001b[1m0s\u001b[0m 2ms/step\n"
          ]
        },
        {
          "output_type": "stream",
          "name": "stderr",
          "text": [
            "/usr/local/lib/python3.10/dist-packages/keras/src/layers/core/dense.py:87: UserWarning: Do not pass an `input_shape`/`input_dim` argument to a layer. When using Sequential models, prefer using an `Input(shape)` object as the first layer in the model instead.\n",
            "  super().__init__(activity_regularizer=activity_regularizer, **kwargs)\n"
          ]
        },
        {
          "output_type": "stream",
          "name": "stdout",
          "text": [
            "\u001b[1m78/78\u001b[0m \u001b[32m━━━━━━━━━━━━━━━━━━━━\u001b[0m\u001b[37m\u001b[0m \u001b[1m0s\u001b[0m 3ms/step\n"
          ]
        },
        {
          "output_type": "stream",
          "name": "stderr",
          "text": [
            "/usr/local/lib/python3.10/dist-packages/keras/src/layers/core/dense.py:87: UserWarning: Do not pass an `input_shape`/`input_dim` argument to a layer. When using Sequential models, prefer using an `Input(shape)` object as the first layer in the model instead.\n",
            "  super().__init__(activity_regularizer=activity_regularizer, **kwargs)\n"
          ]
        },
        {
          "output_type": "stream",
          "name": "stdout",
          "text": [
            "\u001b[1m78/78\u001b[0m \u001b[32m━━━━━━━━━━━━━━━━━━━━\u001b[0m\u001b[37m\u001b[0m \u001b[1m0s\u001b[0m 2ms/step\n"
          ]
        },
        {
          "output_type": "stream",
          "name": "stderr",
          "text": [
            "/usr/local/lib/python3.10/dist-packages/keras/src/layers/core/dense.py:87: UserWarning: Do not pass an `input_shape`/`input_dim` argument to a layer. When using Sequential models, prefer using an `Input(shape)` object as the first layer in the model instead.\n",
            "  super().__init__(activity_regularizer=activity_regularizer, **kwargs)\n"
          ]
        },
        {
          "output_type": "stream",
          "name": "stdout",
          "text": [
            "\u001b[1m78/78\u001b[0m \u001b[32m━━━━━━━━━━━━━━━━━━━━\u001b[0m\u001b[37m\u001b[0m \u001b[1m0s\u001b[0m 2ms/step\n"
          ]
        },
        {
          "output_type": "stream",
          "name": "stderr",
          "text": [
            "/usr/local/lib/python3.10/dist-packages/keras/src/layers/core/dense.py:87: UserWarning: Do not pass an `input_shape`/`input_dim` argument to a layer. When using Sequential models, prefer using an `Input(shape)` object as the first layer in the model instead.\n",
            "  super().__init__(activity_regularizer=activity_regularizer, **kwargs)\n"
          ]
        },
        {
          "output_type": "stream",
          "name": "stdout",
          "text": [
            "\u001b[1m78/78\u001b[0m \u001b[32m━━━━━━━━━━━━━━━━━━━━\u001b[0m\u001b[37m\u001b[0m \u001b[1m0s\u001b[0m 2ms/step\n"
          ]
        },
        {
          "output_type": "stream",
          "name": "stderr",
          "text": [
            "/usr/local/lib/python3.10/dist-packages/keras/src/layers/core/dense.py:87: UserWarning: Do not pass an `input_shape`/`input_dim` argument to a layer. When using Sequential models, prefer using an `Input(shape)` object as the first layer in the model instead.\n",
            "  super().__init__(activity_regularizer=activity_regularizer, **kwargs)\n"
          ]
        },
        {
          "output_type": "stream",
          "name": "stdout",
          "text": [
            "\u001b[1m78/78\u001b[0m \u001b[32m━━━━━━━━━━━━━━━━━━━━\u001b[0m\u001b[37m\u001b[0m \u001b[1m0s\u001b[0m 2ms/step\n"
          ]
        },
        {
          "output_type": "stream",
          "name": "stderr",
          "text": [
            "/usr/local/lib/python3.10/dist-packages/keras/src/layers/core/dense.py:87: UserWarning: Do not pass an `input_shape`/`input_dim` argument to a layer. When using Sequential models, prefer using an `Input(shape)` object as the first layer in the model instead.\n",
            "  super().__init__(activity_regularizer=activity_regularizer, **kwargs)\n"
          ]
        },
        {
          "output_type": "stream",
          "name": "stdout",
          "text": [
            "\u001b[1m78/78\u001b[0m \u001b[32m━━━━━━━━━━━━━━━━━━━━\u001b[0m\u001b[37m\u001b[0m \u001b[1m0s\u001b[0m 2ms/step\n"
          ]
        },
        {
          "output_type": "stream",
          "name": "stderr",
          "text": [
            "/usr/local/lib/python3.10/dist-packages/keras/src/layers/core/dense.py:87: UserWarning: Do not pass an `input_shape`/`input_dim` argument to a layer. When using Sequential models, prefer using an `Input(shape)` object as the first layer in the model instead.\n",
            "  super().__init__(activity_regularizer=activity_regularizer, **kwargs)\n"
          ]
        },
        {
          "output_type": "stream",
          "name": "stdout",
          "text": [
            "\u001b[1m78/78\u001b[0m \u001b[32m━━━━━━━━━━━━━━━━━━━━\u001b[0m\u001b[37m\u001b[0m \u001b[1m0s\u001b[0m 2ms/step\n"
          ]
        },
        {
          "output_type": "stream",
          "name": "stderr",
          "text": [
            "/usr/local/lib/python3.10/dist-packages/keras/src/layers/core/dense.py:87: UserWarning: Do not pass an `input_shape`/`input_dim` argument to a layer. When using Sequential models, prefer using an `Input(shape)` object as the first layer in the model instead.\n",
            "  super().__init__(activity_regularizer=activity_regularizer, **kwargs)\n"
          ]
        },
        {
          "output_type": "stream",
          "name": "stdout",
          "text": [
            "\u001b[1m78/78\u001b[0m \u001b[32m━━━━━━━━━━━━━━━━━━━━\u001b[0m\u001b[37m\u001b[0m \u001b[1m0s\u001b[0m 2ms/step\n"
          ]
        },
        {
          "output_type": "stream",
          "name": "stderr",
          "text": [
            "/usr/local/lib/python3.10/dist-packages/keras/src/layers/core/dense.py:87: UserWarning: Do not pass an `input_shape`/`input_dim` argument to a layer. When using Sequential models, prefer using an `Input(shape)` object as the first layer in the model instead.\n",
            "  super().__init__(activity_regularizer=activity_regularizer, **kwargs)\n"
          ]
        },
        {
          "output_type": "stream",
          "name": "stdout",
          "text": [
            "\u001b[1m78/78\u001b[0m \u001b[32m━━━━━━━━━━━━━━━━━━━━\u001b[0m\u001b[37m\u001b[0m \u001b[1m2s\u001b[0m 19ms/step\n"
          ]
        },
        {
          "output_type": "stream",
          "name": "stderr",
          "text": [
            "/usr/local/lib/python3.10/dist-packages/keras/src/layers/core/dense.py:87: UserWarning: Do not pass an `input_shape`/`input_dim` argument to a layer. When using Sequential models, prefer using an `Input(shape)` object as the first layer in the model instead.\n",
            "  super().__init__(activity_regularizer=activity_regularizer, **kwargs)\n"
          ]
        },
        {
          "output_type": "stream",
          "name": "stdout",
          "text": [
            "\u001b[1m78/78\u001b[0m \u001b[32m━━━━━━━━━━━━━━━━━━━━\u001b[0m\u001b[37m\u001b[0m \u001b[1m0s\u001b[0m 2ms/step\n"
          ]
        },
        {
          "output_type": "stream",
          "name": "stderr",
          "text": [
            "/usr/local/lib/python3.10/dist-packages/keras/src/layers/core/dense.py:87: UserWarning: Do not pass an `input_shape`/`input_dim` argument to a layer. When using Sequential models, prefer using an `Input(shape)` object as the first layer in the model instead.\n",
            "  super().__init__(activity_regularizer=activity_regularizer, **kwargs)\n"
          ]
        },
        {
          "output_type": "stream",
          "name": "stdout",
          "text": [
            "\u001b[1m78/78\u001b[0m \u001b[32m━━━━━━━━━━━━━━━━━━━━\u001b[0m\u001b[37m\u001b[0m \u001b[1m0s\u001b[0m 2ms/step\n"
          ]
        },
        {
          "output_type": "stream",
          "name": "stderr",
          "text": [
            "/usr/local/lib/python3.10/dist-packages/keras/src/layers/core/dense.py:87: UserWarning: Do not pass an `input_shape`/`input_dim` argument to a layer. When using Sequential models, prefer using an `Input(shape)` object as the first layer in the model instead.\n",
            "  super().__init__(activity_regularizer=activity_regularizer, **kwargs)\n"
          ]
        },
        {
          "output_type": "stream",
          "name": "stdout",
          "text": [
            "\u001b[1m78/78\u001b[0m \u001b[32m━━━━━━━━━━━━━━━━━━━━\u001b[0m\u001b[37m\u001b[0m \u001b[1m0s\u001b[0m 2ms/step\n"
          ]
        },
        {
          "output_type": "stream",
          "name": "stderr",
          "text": [
            "/usr/local/lib/python3.10/dist-packages/keras/src/layers/core/dense.py:87: UserWarning: Do not pass an `input_shape`/`input_dim` argument to a layer. When using Sequential models, prefer using an `Input(shape)` object as the first layer in the model instead.\n",
            "  super().__init__(activity_regularizer=activity_regularizer, **kwargs)\n"
          ]
        },
        {
          "output_type": "stream",
          "name": "stdout",
          "text": [
            "\u001b[1m78/78\u001b[0m \u001b[32m━━━━━━━━━━━━━━━━━━━━\u001b[0m\u001b[37m\u001b[0m \u001b[1m0s\u001b[0m 2ms/step\n"
          ]
        },
        {
          "output_type": "stream",
          "name": "stderr",
          "text": [
            "/usr/local/lib/python3.10/dist-packages/keras/src/layers/core/dense.py:87: UserWarning: Do not pass an `input_shape`/`input_dim` argument to a layer. When using Sequential models, prefer using an `Input(shape)` object as the first layer in the model instead.\n",
            "  super().__init__(activity_regularizer=activity_regularizer, **kwargs)\n"
          ]
        },
        {
          "output_type": "stream",
          "name": "stdout",
          "text": [
            "\u001b[1m78/78\u001b[0m \u001b[32m━━━━━━━━━━━━━━━━━━━━\u001b[0m\u001b[37m\u001b[0m \u001b[1m0s\u001b[0m 3ms/step\n"
          ]
        },
        {
          "output_type": "stream",
          "name": "stderr",
          "text": [
            "/usr/local/lib/python3.10/dist-packages/keras/src/layers/core/dense.py:87: UserWarning: Do not pass an `input_shape`/`input_dim` argument to a layer. When using Sequential models, prefer using an `Input(shape)` object as the first layer in the model instead.\n",
            "  super().__init__(activity_regularizer=activity_regularizer, **kwargs)\n"
          ]
        },
        {
          "output_type": "stream",
          "name": "stdout",
          "text": [
            "\u001b[1m78/78\u001b[0m \u001b[32m━━━━━━━━━━━━━━━━━━━━\u001b[0m\u001b[37m\u001b[0m \u001b[1m0s\u001b[0m 2ms/step\n"
          ]
        },
        {
          "output_type": "stream",
          "name": "stderr",
          "text": [
            "/usr/local/lib/python3.10/dist-packages/keras/src/layers/core/dense.py:87: UserWarning: Do not pass an `input_shape`/`input_dim` argument to a layer. When using Sequential models, prefer using an `Input(shape)` object as the first layer in the model instead.\n",
            "  super().__init__(activity_regularizer=activity_regularizer, **kwargs)\n"
          ]
        },
        {
          "output_type": "stream",
          "name": "stdout",
          "text": [
            "\u001b[1m78/78\u001b[0m \u001b[32m━━━━━━━━━━━━━━━━━━━━\u001b[0m\u001b[37m\u001b[0m \u001b[1m0s\u001b[0m 2ms/step\n"
          ]
        },
        {
          "output_type": "stream",
          "name": "stderr",
          "text": [
            "/usr/local/lib/python3.10/dist-packages/keras/src/layers/core/dense.py:87: UserWarning: Do not pass an `input_shape`/`input_dim` argument to a layer. When using Sequential models, prefer using an `Input(shape)` object as the first layer in the model instead.\n",
            "  super().__init__(activity_regularizer=activity_regularizer, **kwargs)\n"
          ]
        },
        {
          "output_type": "stream",
          "name": "stdout",
          "text": [
            "\u001b[1m78/78\u001b[0m \u001b[32m━━━━━━━━━━━━━━━━━━━━\u001b[0m\u001b[37m\u001b[0m \u001b[1m0s\u001b[0m 2ms/step\n"
          ]
        },
        {
          "output_type": "stream",
          "name": "stderr",
          "text": [
            "/usr/local/lib/python3.10/dist-packages/keras/src/layers/core/dense.py:87: UserWarning: Do not pass an `input_shape`/`input_dim` argument to a layer. When using Sequential models, prefer using an `Input(shape)` object as the first layer in the model instead.\n",
            "  super().__init__(activity_regularizer=activity_regularizer, **kwargs)\n"
          ]
        },
        {
          "output_type": "stream",
          "name": "stdout",
          "text": [
            "\u001b[1m78/78\u001b[0m \u001b[32m━━━━━━━━━━━━━━━━━━━━\u001b[0m\u001b[37m\u001b[0m \u001b[1m0s\u001b[0m 2ms/step\n"
          ]
        },
        {
          "output_type": "stream",
          "name": "stderr",
          "text": [
            "/usr/local/lib/python3.10/dist-packages/keras/src/layers/core/dense.py:87: UserWarning: Do not pass an `input_shape`/`input_dim` argument to a layer. When using Sequential models, prefer using an `Input(shape)` object as the first layer in the model instead.\n",
            "  super().__init__(activity_regularizer=activity_regularizer, **kwargs)\n"
          ]
        },
        {
          "output_type": "stream",
          "name": "stdout",
          "text": [
            "\u001b[1m78/78\u001b[0m \u001b[32m━━━━━━━━━━━━━━━━━━━━\u001b[0m\u001b[37m\u001b[0m \u001b[1m0s\u001b[0m 2ms/step\n"
          ]
        },
        {
          "output_type": "stream",
          "name": "stderr",
          "text": [
            "/usr/local/lib/python3.10/dist-packages/keras/src/layers/core/dense.py:87: UserWarning: Do not pass an `input_shape`/`input_dim` argument to a layer. When using Sequential models, prefer using an `Input(shape)` object as the first layer in the model instead.\n",
            "  super().__init__(activity_regularizer=activity_regularizer, **kwargs)\n"
          ]
        },
        {
          "output_type": "stream",
          "name": "stdout",
          "text": [
            "\u001b[1m78/78\u001b[0m \u001b[32m━━━━━━━━━━━━━━━━━━━━\u001b[0m\u001b[37m\u001b[0m \u001b[1m0s\u001b[0m 2ms/step\n"
          ]
        },
        {
          "output_type": "stream",
          "name": "stderr",
          "text": [
            "/usr/local/lib/python3.10/dist-packages/keras/src/layers/core/dense.py:87: UserWarning: Do not pass an `input_shape`/`input_dim` argument to a layer. When using Sequential models, prefer using an `Input(shape)` object as the first layer in the model instead.\n",
            "  super().__init__(activity_regularizer=activity_regularizer, **kwargs)\n"
          ]
        },
        {
          "output_type": "stream",
          "name": "stdout",
          "text": [
            "\u001b[1m78/78\u001b[0m \u001b[32m━━━━━━━━━━━━━━━━━━━━\u001b[0m\u001b[37m\u001b[0m \u001b[1m0s\u001b[0m 2ms/step\n"
          ]
        },
        {
          "output_type": "stream",
          "name": "stderr",
          "text": [
            "/usr/local/lib/python3.10/dist-packages/keras/src/layers/core/dense.py:87: UserWarning: Do not pass an `input_shape`/`input_dim` argument to a layer. When using Sequential models, prefer using an `Input(shape)` object as the first layer in the model instead.\n",
            "  super().__init__(activity_regularizer=activity_regularizer, **kwargs)\n"
          ]
        },
        {
          "output_type": "stream",
          "name": "stdout",
          "text": [
            "\u001b[1m78/78\u001b[0m \u001b[32m━━━━━━━━━━━━━━━━━━━━\u001b[0m\u001b[37m\u001b[0m \u001b[1m0s\u001b[0m 3ms/step\n"
          ]
        },
        {
          "output_type": "stream",
          "name": "stderr",
          "text": [
            "/usr/local/lib/python3.10/dist-packages/keras/src/layers/core/dense.py:87: UserWarning: Do not pass an `input_shape`/`input_dim` argument to a layer. When using Sequential models, prefer using an `Input(shape)` object as the first layer in the model instead.\n",
            "  super().__init__(activity_regularizer=activity_regularizer, **kwargs)\n"
          ]
        },
        {
          "output_type": "stream",
          "name": "stdout",
          "text": [
            "\u001b[1m78/78\u001b[0m \u001b[32m━━━━━━━━━━━━━━━━━━━━\u001b[0m\u001b[37m\u001b[0m \u001b[1m0s\u001b[0m 2ms/step\n"
          ]
        },
        {
          "output_type": "stream",
          "name": "stderr",
          "text": [
            "/usr/local/lib/python3.10/dist-packages/keras/src/layers/core/dense.py:87: UserWarning: Do not pass an `input_shape`/`input_dim` argument to a layer. When using Sequential models, prefer using an `Input(shape)` object as the first layer in the model instead.\n",
            "  super().__init__(activity_regularizer=activity_regularizer, **kwargs)\n"
          ]
        },
        {
          "output_type": "stream",
          "name": "stdout",
          "text": [
            "\u001b[1m78/78\u001b[0m \u001b[32m━━━━━━━━━━━━━━━━━━━━\u001b[0m\u001b[37m\u001b[0m \u001b[1m0s\u001b[0m 2ms/step\n"
          ]
        },
        {
          "output_type": "stream",
          "name": "stderr",
          "text": [
            "/usr/local/lib/python3.10/dist-packages/keras/src/layers/core/dense.py:87: UserWarning: Do not pass an `input_shape`/`input_dim` argument to a layer. When using Sequential models, prefer using an `Input(shape)` object as the first layer in the model instead.\n",
            "  super().__init__(activity_regularizer=activity_regularizer, **kwargs)\n"
          ]
        },
        {
          "output_type": "stream",
          "name": "stdout",
          "text": [
            "\u001b[1m78/78\u001b[0m \u001b[32m━━━━━━━━━━━━━━━━━━━━\u001b[0m\u001b[37m\u001b[0m \u001b[1m0s\u001b[0m 2ms/step\n"
          ]
        },
        {
          "output_type": "stream",
          "name": "stderr",
          "text": [
            "/usr/local/lib/python3.10/dist-packages/keras/src/layers/core/dense.py:87: UserWarning: Do not pass an `input_shape`/`input_dim` argument to a layer. When using Sequential models, prefer using an `Input(shape)` object as the first layer in the model instead.\n",
            "  super().__init__(activity_regularizer=activity_regularizer, **kwargs)\n"
          ]
        },
        {
          "output_type": "stream",
          "name": "stdout",
          "text": [
            "\u001b[1m78/78\u001b[0m \u001b[32m━━━━━━━━━━━━━━━━━━━━\u001b[0m\u001b[37m\u001b[0m \u001b[1m0s\u001b[0m 2ms/step\n"
          ]
        },
        {
          "output_type": "stream",
          "name": "stderr",
          "text": [
            "/usr/local/lib/python3.10/dist-packages/keras/src/layers/core/dense.py:87: UserWarning: Do not pass an `input_shape`/`input_dim` argument to a layer. When using Sequential models, prefer using an `Input(shape)` object as the first layer in the model instead.\n",
            "  super().__init__(activity_regularizer=activity_regularizer, **kwargs)\n"
          ]
        },
        {
          "output_type": "stream",
          "name": "stdout",
          "text": [
            "\u001b[1m78/78\u001b[0m \u001b[32m━━━━━━━━━━━━━━━━━━━━\u001b[0m\u001b[37m\u001b[0m \u001b[1m0s\u001b[0m 2ms/step\n"
          ]
        },
        {
          "output_type": "stream",
          "name": "stderr",
          "text": [
            "/usr/local/lib/python3.10/dist-packages/keras/src/layers/core/dense.py:87: UserWarning: Do not pass an `input_shape`/`input_dim` argument to a layer. When using Sequential models, prefer using an `Input(shape)` object as the first layer in the model instead.\n",
            "  super().__init__(activity_regularizer=activity_regularizer, **kwargs)\n"
          ]
        },
        {
          "output_type": "stream",
          "name": "stdout",
          "text": [
            "\u001b[1m78/78\u001b[0m \u001b[32m━━━━━━━━━━━━━━━━━━━━\u001b[0m\u001b[37m\u001b[0m \u001b[1m0s\u001b[0m 2ms/step\n"
          ]
        },
        {
          "output_type": "stream",
          "name": "stderr",
          "text": [
            "/usr/local/lib/python3.10/dist-packages/keras/src/layers/core/dense.py:87: UserWarning: Do not pass an `input_shape`/`input_dim` argument to a layer. When using Sequential models, prefer using an `Input(shape)` object as the first layer in the model instead.\n",
            "  super().__init__(activity_regularizer=activity_regularizer, **kwargs)\n"
          ]
        },
        {
          "output_type": "stream",
          "name": "stdout",
          "text": [
            "\u001b[1m78/78\u001b[0m \u001b[32m━━━━━━━━━━━━━━━━━━━━\u001b[0m\u001b[37m\u001b[0m \u001b[1m0s\u001b[0m 3ms/step\n"
          ]
        },
        {
          "output_type": "stream",
          "name": "stderr",
          "text": [
            "/usr/local/lib/python3.10/dist-packages/keras/src/layers/core/dense.py:87: UserWarning: Do not pass an `input_shape`/`input_dim` argument to a layer. When using Sequential models, prefer using an `Input(shape)` object as the first layer in the model instead.\n",
            "  super().__init__(activity_regularizer=activity_regularizer, **kwargs)\n"
          ]
        },
        {
          "output_type": "stream",
          "name": "stdout",
          "text": [
            "\u001b[1m78/78\u001b[0m \u001b[32m━━━━━━━━━━━━━━━━━━━━\u001b[0m\u001b[37m\u001b[0m \u001b[1m0s\u001b[0m 2ms/step\n"
          ]
        },
        {
          "output_type": "stream",
          "name": "stderr",
          "text": [
            "/usr/local/lib/python3.10/dist-packages/keras/src/layers/core/dense.py:87: UserWarning: Do not pass an `input_shape`/`input_dim` argument to a layer. When using Sequential models, prefer using an `Input(shape)` object as the first layer in the model instead.\n",
            "  super().__init__(activity_regularizer=activity_regularizer, **kwargs)\n"
          ]
        },
        {
          "output_type": "stream",
          "name": "stdout",
          "text": [
            "\u001b[1m78/78\u001b[0m \u001b[32m━━━━━━━━━━━━━━━━━━━━\u001b[0m\u001b[37m\u001b[0m \u001b[1m0s\u001b[0m 2ms/step\n"
          ]
        },
        {
          "output_type": "stream",
          "name": "stderr",
          "text": [
            "/usr/local/lib/python3.10/dist-packages/keras/src/layers/core/dense.py:87: UserWarning: Do not pass an `input_shape`/`input_dim` argument to a layer. When using Sequential models, prefer using an `Input(shape)` object as the first layer in the model instead.\n",
            "  super().__init__(activity_regularizer=activity_regularizer, **kwargs)\n"
          ]
        },
        {
          "output_type": "stream",
          "name": "stdout",
          "text": [
            "\u001b[1m78/78\u001b[0m \u001b[32m━━━━━━━━━━━━━━━━━━━━\u001b[0m\u001b[37m\u001b[0m \u001b[1m0s\u001b[0m 3ms/step\n"
          ]
        },
        {
          "output_type": "stream",
          "name": "stderr",
          "text": [
            "/usr/local/lib/python3.10/dist-packages/keras/src/layers/core/dense.py:87: UserWarning: Do not pass an `input_shape`/`input_dim` argument to a layer. When using Sequential models, prefer using an `Input(shape)` object as the first layer in the model instead.\n",
            "  super().__init__(activity_regularizer=activity_regularizer, **kwargs)\n"
          ]
        },
        {
          "output_type": "stream",
          "name": "stdout",
          "text": [
            "\u001b[1m78/78\u001b[0m \u001b[32m━━━━━━━━━━━━━━━━━━━━\u001b[0m\u001b[37m\u001b[0m \u001b[1m0s\u001b[0m 2ms/step\n"
          ]
        },
        {
          "output_type": "stream",
          "name": "stderr",
          "text": [
            "/usr/local/lib/python3.10/dist-packages/keras/src/layers/core/dense.py:87: UserWarning: Do not pass an `input_shape`/`input_dim` argument to a layer. When using Sequential models, prefer using an `Input(shape)` object as the first layer in the model instead.\n",
            "  super().__init__(activity_regularizer=activity_regularizer, **kwargs)\n"
          ]
        },
        {
          "output_type": "stream",
          "name": "stdout",
          "text": [
            "\u001b[1m78/78\u001b[0m \u001b[32m━━━━━━━━━━━━━━━━━━━━\u001b[0m\u001b[37m\u001b[0m \u001b[1m0s\u001b[0m 2ms/step\n"
          ]
        },
        {
          "output_type": "stream",
          "name": "stderr",
          "text": [
            "/usr/local/lib/python3.10/dist-packages/keras/src/layers/core/dense.py:87: UserWarning: Do not pass an `input_shape`/`input_dim` argument to a layer. When using Sequential models, prefer using an `Input(shape)` object as the first layer in the model instead.\n",
            "  super().__init__(activity_regularizer=activity_regularizer, **kwargs)\n"
          ]
        },
        {
          "output_type": "stream",
          "name": "stdout",
          "text": [
            "\u001b[1m78/78\u001b[0m \u001b[32m━━━━━━━━━━━━━━━━━━━━\u001b[0m\u001b[37m\u001b[0m \u001b[1m0s\u001b[0m 2ms/step\n"
          ]
        },
        {
          "output_type": "stream",
          "name": "stderr",
          "text": [
            "/usr/local/lib/python3.10/dist-packages/keras/src/layers/core/dense.py:87: UserWarning: Do not pass an `input_shape`/`input_dim` argument to a layer. When using Sequential models, prefer using an `Input(shape)` object as the first layer in the model instead.\n",
            "  super().__init__(activity_regularizer=activity_regularizer, **kwargs)\n"
          ]
        },
        {
          "output_type": "stream",
          "name": "stdout",
          "text": [
            "\u001b[1m78/78\u001b[0m \u001b[32m━━━━━━━━━━━━━━━━━━━━\u001b[0m\u001b[37m\u001b[0m \u001b[1m0s\u001b[0m 2ms/step\n"
          ]
        },
        {
          "output_type": "stream",
          "name": "stderr",
          "text": [
            "/usr/local/lib/python3.10/dist-packages/keras/src/layers/core/dense.py:87: UserWarning: Do not pass an `input_shape`/`input_dim` argument to a layer. When using Sequential models, prefer using an `Input(shape)` object as the first layer in the model instead.\n",
            "  super().__init__(activity_regularizer=activity_regularizer, **kwargs)\n"
          ]
        },
        {
          "output_type": "stream",
          "name": "stdout",
          "text": [
            "\u001b[1m78/78\u001b[0m \u001b[32m━━━━━━━━━━━━━━━━━━━━\u001b[0m\u001b[37m\u001b[0m \u001b[1m0s\u001b[0m 3ms/step\n"
          ]
        },
        {
          "output_type": "stream",
          "name": "stderr",
          "text": [
            "/usr/local/lib/python3.10/dist-packages/keras/src/layers/core/dense.py:87: UserWarning: Do not pass an `input_shape`/`input_dim` argument to a layer. When using Sequential models, prefer using an `Input(shape)` object as the first layer in the model instead.\n",
            "  super().__init__(activity_regularizer=activity_regularizer, **kwargs)\n"
          ]
        },
        {
          "output_type": "stream",
          "name": "stdout",
          "text": [
            "\u001b[1m78/78\u001b[0m \u001b[32m━━━━━━━━━━━━━━━━━━━━\u001b[0m\u001b[37m\u001b[0m \u001b[1m0s\u001b[0m 2ms/step\n"
          ]
        },
        {
          "output_type": "stream",
          "name": "stderr",
          "text": [
            "/usr/local/lib/python3.10/dist-packages/keras/src/layers/core/dense.py:87: UserWarning: Do not pass an `input_shape`/`input_dim` argument to a layer. When using Sequential models, prefer using an `Input(shape)` object as the first layer in the model instead.\n",
            "  super().__init__(activity_regularizer=activity_regularizer, **kwargs)\n"
          ]
        },
        {
          "output_type": "stream",
          "name": "stdout",
          "text": [
            "\u001b[1m78/78\u001b[0m \u001b[32m━━━━━━━━━━━━━━━━━━━━\u001b[0m\u001b[37m\u001b[0m \u001b[1m0s\u001b[0m 2ms/step\n"
          ]
        },
        {
          "output_type": "stream",
          "name": "stderr",
          "text": [
            "/usr/local/lib/python3.10/dist-packages/keras/src/layers/core/dense.py:87: UserWarning: Do not pass an `input_shape`/`input_dim` argument to a layer. When using Sequential models, prefer using an `Input(shape)` object as the first layer in the model instead.\n",
            "  super().__init__(activity_regularizer=activity_regularizer, **kwargs)\n"
          ]
        },
        {
          "output_type": "stream",
          "name": "stdout",
          "text": [
            "\u001b[1m78/78\u001b[0m \u001b[32m━━━━━━━━━━━━━━━━━━━━\u001b[0m\u001b[37m\u001b[0m \u001b[1m0s\u001b[0m 2ms/step\n"
          ]
        },
        {
          "output_type": "stream",
          "name": "stderr",
          "text": [
            "/usr/local/lib/python3.10/dist-packages/keras/src/layers/core/dense.py:87: UserWarning: Do not pass an `input_shape`/`input_dim` argument to a layer. When using Sequential models, prefer using an `Input(shape)` object as the first layer in the model instead.\n",
            "  super().__init__(activity_regularizer=activity_regularizer, **kwargs)\n"
          ]
        },
        {
          "output_type": "stream",
          "name": "stdout",
          "text": [
            "\u001b[1m78/78\u001b[0m \u001b[32m━━━━━━━━━━━━━━━━━━━━\u001b[0m\u001b[37m\u001b[0m \u001b[1m0s\u001b[0m 2ms/step\n"
          ]
        },
        {
          "output_type": "stream",
          "name": "stderr",
          "text": [
            "/usr/local/lib/python3.10/dist-packages/keras/src/layers/core/dense.py:87: UserWarning: Do not pass an `input_shape`/`input_dim` argument to a layer. When using Sequential models, prefer using an `Input(shape)` object as the first layer in the model instead.\n",
            "  super().__init__(activity_regularizer=activity_regularizer, **kwargs)\n"
          ]
        },
        {
          "output_type": "stream",
          "name": "stdout",
          "text": [
            "\u001b[1m78/78\u001b[0m \u001b[32m━━━━━━━━━━━━━━━━━━━━\u001b[0m\u001b[37m\u001b[0m \u001b[1m0s\u001b[0m 2ms/step\n"
          ]
        },
        {
          "output_type": "stream",
          "name": "stderr",
          "text": [
            "/usr/local/lib/python3.10/dist-packages/keras/src/layers/core/dense.py:87: UserWarning: Do not pass an `input_shape`/`input_dim` argument to a layer. When using Sequential models, prefer using an `Input(shape)` object as the first layer in the model instead.\n",
            "  super().__init__(activity_regularizer=activity_regularizer, **kwargs)\n"
          ]
        },
        {
          "output_type": "stream",
          "name": "stdout",
          "text": [
            "\u001b[1m78/78\u001b[0m \u001b[32m━━━━━━━━━━━━━━━━━━━━\u001b[0m\u001b[37m\u001b[0m \u001b[1m0s\u001b[0m 2ms/step\n"
          ]
        },
        {
          "output_type": "stream",
          "name": "stderr",
          "text": [
            "/usr/local/lib/python3.10/dist-packages/keras/src/layers/core/dense.py:87: UserWarning: Do not pass an `input_shape`/`input_dim` argument to a layer. When using Sequential models, prefer using an `Input(shape)` object as the first layer in the model instead.\n",
            "  super().__init__(activity_regularizer=activity_regularizer, **kwargs)\n"
          ]
        },
        {
          "output_type": "stream",
          "name": "stdout",
          "text": [
            "\u001b[1m78/78\u001b[0m \u001b[32m━━━━━━━━━━━━━━━━━━━━\u001b[0m\u001b[37m\u001b[0m \u001b[1m1s\u001b[0m 6ms/step\n"
          ]
        },
        {
          "output_type": "stream",
          "name": "stderr",
          "text": [
            "/usr/local/lib/python3.10/dist-packages/keras/src/layers/core/dense.py:87: UserWarning: Do not pass an `input_shape`/`input_dim` argument to a layer. When using Sequential models, prefer using an `Input(shape)` object as the first layer in the model instead.\n",
            "  super().__init__(activity_regularizer=activity_regularizer, **kwargs)\n"
          ]
        },
        {
          "output_type": "stream",
          "name": "stdout",
          "text": [
            "\u001b[1m78/78\u001b[0m \u001b[32m━━━━━━━━━━━━━━━━━━━━\u001b[0m\u001b[37m\u001b[0m \u001b[1m0s\u001b[0m 2ms/step\n"
          ]
        },
        {
          "output_type": "stream",
          "name": "stderr",
          "text": [
            "/usr/local/lib/python3.10/dist-packages/keras/src/layers/core/dense.py:87: UserWarning: Do not pass an `input_shape`/`input_dim` argument to a layer. When using Sequential models, prefer using an `Input(shape)` object as the first layer in the model instead.\n",
            "  super().__init__(activity_regularizer=activity_regularizer, **kwargs)\n"
          ]
        },
        {
          "output_type": "stream",
          "name": "stdout",
          "text": [
            "\u001b[1m78/78\u001b[0m \u001b[32m━━━━━━━━━━━━━━━━━━━━\u001b[0m\u001b[37m\u001b[0m \u001b[1m0s\u001b[0m 2ms/step\n"
          ]
        },
        {
          "output_type": "stream",
          "name": "stderr",
          "text": [
            "/usr/local/lib/python3.10/dist-packages/keras/src/layers/core/dense.py:87: UserWarning: Do not pass an `input_shape`/`input_dim` argument to a layer. When using Sequential models, prefer using an `Input(shape)` object as the first layer in the model instead.\n",
            "  super().__init__(activity_regularizer=activity_regularizer, **kwargs)\n"
          ]
        },
        {
          "output_type": "stream",
          "name": "stdout",
          "text": [
            "\u001b[1m78/78\u001b[0m \u001b[32m━━━━━━━━━━━━━━━━━━━━\u001b[0m\u001b[37m\u001b[0m \u001b[1m0s\u001b[0m 3ms/step\n"
          ]
        },
        {
          "output_type": "stream",
          "name": "stderr",
          "text": [
            "/usr/local/lib/python3.10/dist-packages/keras/src/layers/core/dense.py:87: UserWarning: Do not pass an `input_shape`/`input_dim` argument to a layer. When using Sequential models, prefer using an `Input(shape)` object as the first layer in the model instead.\n",
            "  super().__init__(activity_regularizer=activity_regularizer, **kwargs)\n"
          ]
        },
        {
          "output_type": "stream",
          "name": "stdout",
          "text": [
            "\u001b[1m78/78\u001b[0m \u001b[32m━━━━━━━━━━━━━━━━━━━━\u001b[0m\u001b[37m\u001b[0m \u001b[1m0s\u001b[0m 2ms/step\n"
          ]
        },
        {
          "output_type": "stream",
          "name": "stderr",
          "text": [
            "/usr/local/lib/python3.10/dist-packages/keras/src/layers/core/dense.py:87: UserWarning: Do not pass an `input_shape`/`input_dim` argument to a layer. When using Sequential models, prefer using an `Input(shape)` object as the first layer in the model instead.\n",
            "  super().__init__(activity_regularizer=activity_regularizer, **kwargs)\n"
          ]
        },
        {
          "output_type": "stream",
          "name": "stdout",
          "text": [
            "\u001b[1m78/78\u001b[0m \u001b[32m━━━━━━━━━━━━━━━━━━━━\u001b[0m\u001b[37m\u001b[0m \u001b[1m0s\u001b[0m 2ms/step\n"
          ]
        },
        {
          "output_type": "stream",
          "name": "stderr",
          "text": [
            "/usr/local/lib/python3.10/dist-packages/keras/src/layers/core/dense.py:87: UserWarning: Do not pass an `input_shape`/`input_dim` argument to a layer. When using Sequential models, prefer using an `Input(shape)` object as the first layer in the model instead.\n",
            "  super().__init__(activity_regularizer=activity_regularizer, **kwargs)\n"
          ]
        },
        {
          "output_type": "stream",
          "name": "stdout",
          "text": [
            "\u001b[1m78/78\u001b[0m \u001b[32m━━━━━━━━━━━━━━━━━━━━\u001b[0m\u001b[37m\u001b[0m \u001b[1m0s\u001b[0m 2ms/step\n"
          ]
        },
        {
          "output_type": "stream",
          "name": "stderr",
          "text": [
            "/usr/local/lib/python3.10/dist-packages/keras/src/layers/core/dense.py:87: UserWarning: Do not pass an `input_shape`/`input_dim` argument to a layer. When using Sequential models, prefer using an `Input(shape)` object as the first layer in the model instead.\n",
            "  super().__init__(activity_regularizer=activity_regularizer, **kwargs)\n"
          ]
        },
        {
          "output_type": "stream",
          "name": "stdout",
          "text": [
            "\u001b[1m78/78\u001b[0m \u001b[32m━━━━━━━━━━━━━━━━━━━━\u001b[0m\u001b[37m\u001b[0m \u001b[1m0s\u001b[0m 2ms/step\n"
          ]
        },
        {
          "output_type": "stream",
          "name": "stderr",
          "text": [
            "/usr/local/lib/python3.10/dist-packages/keras/src/layers/core/dense.py:87: UserWarning: Do not pass an `input_shape`/`input_dim` argument to a layer. When using Sequential models, prefer using an `Input(shape)` object as the first layer in the model instead.\n",
            "  super().__init__(activity_regularizer=activity_regularizer, **kwargs)\n"
          ]
        },
        {
          "output_type": "stream",
          "name": "stdout",
          "text": [
            "\u001b[1m78/78\u001b[0m \u001b[32m━━━━━━━━━━━━━━━━━━━━\u001b[0m\u001b[37m\u001b[0m \u001b[1m0s\u001b[0m 3ms/step\n"
          ]
        },
        {
          "output_type": "stream",
          "name": "stderr",
          "text": [
            "/usr/local/lib/python3.10/dist-packages/keras/src/layers/core/dense.py:87: UserWarning: Do not pass an `input_shape`/`input_dim` argument to a layer. When using Sequential models, prefer using an `Input(shape)` object as the first layer in the model instead.\n",
            "  super().__init__(activity_regularizer=activity_regularizer, **kwargs)\n"
          ]
        },
        {
          "output_type": "stream",
          "name": "stdout",
          "text": [
            "\u001b[1m78/78\u001b[0m \u001b[32m━━━━━━━━━━━━━━━━━━━━\u001b[0m\u001b[37m\u001b[0m \u001b[1m0s\u001b[0m 2ms/step\n"
          ]
        },
        {
          "output_type": "stream",
          "name": "stderr",
          "text": [
            "/usr/local/lib/python3.10/dist-packages/keras/src/layers/core/dense.py:87: UserWarning: Do not pass an `input_shape`/`input_dim` argument to a layer. When using Sequential models, prefer using an `Input(shape)` object as the first layer in the model instead.\n",
            "  super().__init__(activity_regularizer=activity_regularizer, **kwargs)\n"
          ]
        },
        {
          "output_type": "stream",
          "name": "stdout",
          "text": [
            "\u001b[1m78/78\u001b[0m \u001b[32m━━━━━━━━━━━━━━━━━━━━\u001b[0m\u001b[37m\u001b[0m \u001b[1m0s\u001b[0m 2ms/step\n"
          ]
        },
        {
          "output_type": "stream",
          "name": "stderr",
          "text": [
            "/usr/local/lib/python3.10/dist-packages/keras/src/layers/core/dense.py:87: UserWarning: Do not pass an `input_shape`/`input_dim` argument to a layer. When using Sequential models, prefer using an `Input(shape)` object as the first layer in the model instead.\n",
            "  super().__init__(activity_regularizer=activity_regularizer, **kwargs)\n"
          ]
        },
        {
          "output_type": "stream",
          "name": "stdout",
          "text": [
            "\u001b[1m78/78\u001b[0m \u001b[32m━━━━━━━━━━━━━━━━━━━━\u001b[0m\u001b[37m\u001b[0m \u001b[1m0s\u001b[0m 2ms/step\n"
          ]
        },
        {
          "output_type": "stream",
          "name": "stderr",
          "text": [
            "/usr/local/lib/python3.10/dist-packages/keras/src/layers/core/dense.py:87: UserWarning: Do not pass an `input_shape`/`input_dim` argument to a layer. When using Sequential models, prefer using an `Input(shape)` object as the first layer in the model instead.\n",
            "  super().__init__(activity_regularizer=activity_regularizer, **kwargs)\n"
          ]
        },
        {
          "output_type": "stream",
          "name": "stdout",
          "text": [
            "\u001b[1m78/78\u001b[0m \u001b[32m━━━━━━━━━━━━━━━━━━━━\u001b[0m\u001b[37m\u001b[0m \u001b[1m0s\u001b[0m 2ms/step\n"
          ]
        },
        {
          "output_type": "stream",
          "name": "stderr",
          "text": [
            "/usr/local/lib/python3.10/dist-packages/keras/src/layers/core/dense.py:87: UserWarning: Do not pass an `input_shape`/`input_dim` argument to a layer. When using Sequential models, prefer using an `Input(shape)` object as the first layer in the model instead.\n",
            "  super().__init__(activity_regularizer=activity_regularizer, **kwargs)\n"
          ]
        },
        {
          "output_type": "stream",
          "name": "stdout",
          "text": [
            "\u001b[1m78/78\u001b[0m \u001b[32m━━━━━━━━━━━━━━━━━━━━\u001b[0m\u001b[37m\u001b[0m \u001b[1m0s\u001b[0m 2ms/step\n"
          ]
        },
        {
          "output_type": "stream",
          "name": "stderr",
          "text": [
            "/usr/local/lib/python3.10/dist-packages/keras/src/layers/core/dense.py:87: UserWarning: Do not pass an `input_shape`/`input_dim` argument to a layer. When using Sequential models, prefer using an `Input(shape)` object as the first layer in the model instead.\n",
            "  super().__init__(activity_regularizer=activity_regularizer, **kwargs)\n"
          ]
        },
        {
          "output_type": "stream",
          "name": "stdout",
          "text": [
            "\u001b[1m78/78\u001b[0m \u001b[32m━━━━━━━━━━━━━━━━━━━━\u001b[0m\u001b[37m\u001b[0m \u001b[1m0s\u001b[0m 2ms/step\n"
          ]
        },
        {
          "output_type": "stream",
          "name": "stderr",
          "text": [
            "/usr/local/lib/python3.10/dist-packages/keras/src/layers/core/dense.py:87: UserWarning: Do not pass an `input_shape`/`input_dim` argument to a layer. When using Sequential models, prefer using an `Input(shape)` object as the first layer in the model instead.\n",
            "  super().__init__(activity_regularizer=activity_regularizer, **kwargs)\n"
          ]
        },
        {
          "output_type": "stream",
          "name": "stdout",
          "text": [
            "\u001b[1m78/78\u001b[0m \u001b[32m━━━━━━━━━━━━━━━━━━━━\u001b[0m\u001b[37m\u001b[0m \u001b[1m1s\u001b[0m 14ms/step\n"
          ]
        },
        {
          "output_type": "stream",
          "name": "stderr",
          "text": [
            "/usr/local/lib/python3.10/dist-packages/keras/src/layers/core/dense.py:87: UserWarning: Do not pass an `input_shape`/`input_dim` argument to a layer. When using Sequential models, prefer using an `Input(shape)` object as the first layer in the model instead.\n",
            "  super().__init__(activity_regularizer=activity_regularizer, **kwargs)\n"
          ]
        },
        {
          "output_type": "stream",
          "name": "stdout",
          "text": [
            "\u001b[1m78/78\u001b[0m \u001b[32m━━━━━━━━━━━━━━━━━━━━\u001b[0m\u001b[37m\u001b[0m \u001b[1m0s\u001b[0m 2ms/step\n"
          ]
        },
        {
          "output_type": "stream",
          "name": "stderr",
          "text": [
            "/usr/local/lib/python3.10/dist-packages/keras/src/layers/core/dense.py:87: UserWarning: Do not pass an `input_shape`/`input_dim` argument to a layer. When using Sequential models, prefer using an `Input(shape)` object as the first layer in the model instead.\n",
            "  super().__init__(activity_regularizer=activity_regularizer, **kwargs)\n"
          ]
        },
        {
          "output_type": "stream",
          "name": "stdout",
          "text": [
            "\u001b[1m78/78\u001b[0m \u001b[32m━━━━━━━━━━━━━━━━━━━━\u001b[0m\u001b[37m\u001b[0m \u001b[1m0s\u001b[0m 3ms/step\n"
          ]
        },
        {
          "output_type": "stream",
          "name": "stderr",
          "text": [
            "/usr/local/lib/python3.10/dist-packages/keras/src/layers/core/dense.py:87: UserWarning: Do not pass an `input_shape`/`input_dim` argument to a layer. When using Sequential models, prefer using an `Input(shape)` object as the first layer in the model instead.\n",
            "  super().__init__(activity_regularizer=activity_regularizer, **kwargs)\n"
          ]
        },
        {
          "output_type": "stream",
          "name": "stdout",
          "text": [
            "\u001b[1m78/78\u001b[0m \u001b[32m━━━━━━━━━━━━━━━━━━━━\u001b[0m\u001b[37m\u001b[0m \u001b[1m0s\u001b[0m 2ms/step\n"
          ]
        },
        {
          "output_type": "stream",
          "name": "stderr",
          "text": [
            "/usr/local/lib/python3.10/dist-packages/keras/src/layers/core/dense.py:87: UserWarning: Do not pass an `input_shape`/`input_dim` argument to a layer. When using Sequential models, prefer using an `Input(shape)` object as the first layer in the model instead.\n",
            "  super().__init__(activity_regularizer=activity_regularizer, **kwargs)\n"
          ]
        },
        {
          "output_type": "stream",
          "name": "stdout",
          "text": [
            "\u001b[1m78/78\u001b[0m \u001b[32m━━━━━━━━━━━━━━━━━━━━\u001b[0m\u001b[37m\u001b[0m \u001b[1m0s\u001b[0m 2ms/step\n"
          ]
        },
        {
          "output_type": "stream",
          "name": "stderr",
          "text": [
            "/usr/local/lib/python3.10/dist-packages/keras/src/layers/core/dense.py:87: UserWarning: Do not pass an `input_shape`/`input_dim` argument to a layer. When using Sequential models, prefer using an `Input(shape)` object as the first layer in the model instead.\n",
            "  super().__init__(activity_regularizer=activity_regularizer, **kwargs)\n"
          ]
        },
        {
          "output_type": "stream",
          "name": "stdout",
          "text": [
            "\u001b[1m78/78\u001b[0m \u001b[32m━━━━━━━━━━━━━━━━━━━━\u001b[0m\u001b[37m\u001b[0m \u001b[1m0s\u001b[0m 2ms/step\n"
          ]
        },
        {
          "output_type": "stream",
          "name": "stderr",
          "text": [
            "/usr/local/lib/python3.10/dist-packages/keras/src/layers/core/dense.py:87: UserWarning: Do not pass an `input_shape`/`input_dim` argument to a layer. When using Sequential models, prefer using an `Input(shape)` object as the first layer in the model instead.\n",
            "  super().__init__(activity_regularizer=activity_regularizer, **kwargs)\n"
          ]
        },
        {
          "output_type": "stream",
          "name": "stdout",
          "text": [
            "\u001b[1m78/78\u001b[0m \u001b[32m━━━━━━━━━━━━━━━━━━━━\u001b[0m\u001b[37m\u001b[0m \u001b[1m0s\u001b[0m 2ms/step\n"
          ]
        },
        {
          "output_type": "stream",
          "name": "stderr",
          "text": [
            "/usr/local/lib/python3.10/dist-packages/keras/src/layers/core/dense.py:87: UserWarning: Do not pass an `input_shape`/`input_dim` argument to a layer. When using Sequential models, prefer using an `Input(shape)` object as the first layer in the model instead.\n",
            "  super().__init__(activity_regularizer=activity_regularizer, **kwargs)\n"
          ]
        },
        {
          "output_type": "stream",
          "name": "stdout",
          "text": [
            "\u001b[1m78/78\u001b[0m \u001b[32m━━━━━━━━━━━━━━━━━━━━\u001b[0m\u001b[37m\u001b[0m \u001b[1m0s\u001b[0m 2ms/step\n"
          ]
        },
        {
          "output_type": "stream",
          "name": "stderr",
          "text": [
            "/usr/local/lib/python3.10/dist-packages/keras/src/layers/core/dense.py:87: UserWarning: Do not pass an `input_shape`/`input_dim` argument to a layer. When using Sequential models, prefer using an `Input(shape)` object as the first layer in the model instead.\n",
            "  super().__init__(activity_regularizer=activity_regularizer, **kwargs)\n"
          ]
        },
        {
          "output_type": "stream",
          "name": "stdout",
          "text": [
            "\u001b[1m78/78\u001b[0m \u001b[32m━━━━━━━━━━━━━━━━━━━━\u001b[0m\u001b[37m\u001b[0m \u001b[1m0s\u001b[0m 2ms/step\n"
          ]
        },
        {
          "output_type": "stream",
          "name": "stderr",
          "text": [
            "/usr/local/lib/python3.10/dist-packages/keras/src/layers/core/dense.py:87: UserWarning: Do not pass an `input_shape`/`input_dim` argument to a layer. When using Sequential models, prefer using an `Input(shape)` object as the first layer in the model instead.\n",
            "  super().__init__(activity_regularizer=activity_regularizer, **kwargs)\n"
          ]
        },
        {
          "output_type": "stream",
          "name": "stdout",
          "text": [
            "\u001b[1m78/78\u001b[0m \u001b[32m━━━━━━━━━━━━━━━━━━━━\u001b[0m\u001b[37m\u001b[0m \u001b[1m0s\u001b[0m 2ms/step\n"
          ]
        },
        {
          "output_type": "stream",
          "name": "stderr",
          "text": [
            "/usr/local/lib/python3.10/dist-packages/keras/src/layers/core/dense.py:87: UserWarning: Do not pass an `input_shape`/`input_dim` argument to a layer. When using Sequential models, prefer using an `Input(shape)` object as the first layer in the model instead.\n",
            "  super().__init__(activity_regularizer=activity_regularizer, **kwargs)\n"
          ]
        },
        {
          "output_type": "stream",
          "name": "stdout",
          "text": [
            "\u001b[1m78/78\u001b[0m \u001b[32m━━━━━━━━━━━━━━━━━━━━\u001b[0m\u001b[37m\u001b[0m \u001b[1m0s\u001b[0m 2ms/step\n"
          ]
        },
        {
          "output_type": "stream",
          "name": "stderr",
          "text": [
            "/usr/local/lib/python3.10/dist-packages/keras/src/layers/core/dense.py:87: UserWarning: Do not pass an `input_shape`/`input_dim` argument to a layer. When using Sequential models, prefer using an `Input(shape)` object as the first layer in the model instead.\n",
            "  super().__init__(activity_regularizer=activity_regularizer, **kwargs)\n"
          ]
        },
        {
          "output_type": "stream",
          "name": "stdout",
          "text": [
            "\u001b[1m78/78\u001b[0m \u001b[32m━━━━━━━━━━━━━━━━━━━━\u001b[0m\u001b[37m\u001b[0m \u001b[1m0s\u001b[0m 2ms/step\n"
          ]
        },
        {
          "output_type": "stream",
          "name": "stderr",
          "text": [
            "/usr/local/lib/python3.10/dist-packages/keras/src/layers/core/dense.py:87: UserWarning: Do not pass an `input_shape`/`input_dim` argument to a layer. When using Sequential models, prefer using an `Input(shape)` object as the first layer in the model instead.\n",
            "  super().__init__(activity_regularizer=activity_regularizer, **kwargs)\n"
          ]
        },
        {
          "output_type": "stream",
          "name": "stdout",
          "text": [
            "\u001b[1m78/78\u001b[0m \u001b[32m━━━━━━━━━━━━━━━━━━━━\u001b[0m\u001b[37m\u001b[0m \u001b[1m0s\u001b[0m 2ms/step\n"
          ]
        },
        {
          "output_type": "stream",
          "name": "stderr",
          "text": [
            "/usr/local/lib/python3.10/dist-packages/keras/src/layers/core/dense.py:87: UserWarning: Do not pass an `input_shape`/`input_dim` argument to a layer. When using Sequential models, prefer using an `Input(shape)` object as the first layer in the model instead.\n",
            "  super().__init__(activity_regularizer=activity_regularizer, **kwargs)\n"
          ]
        },
        {
          "output_type": "stream",
          "name": "stdout",
          "text": [
            "\u001b[1m78/78\u001b[0m \u001b[32m━━━━━━━━━━━━━━━━━━━━\u001b[0m\u001b[37m\u001b[0m \u001b[1m0s\u001b[0m 2ms/step\n"
          ]
        },
        {
          "output_type": "stream",
          "name": "stderr",
          "text": [
            "/usr/local/lib/python3.10/dist-packages/keras/src/layers/core/dense.py:87: UserWarning: Do not pass an `input_shape`/`input_dim` argument to a layer. When using Sequential models, prefer using an `Input(shape)` object as the first layer in the model instead.\n",
            "  super().__init__(activity_regularizer=activity_regularizer, **kwargs)\n"
          ]
        },
        {
          "output_type": "stream",
          "name": "stdout",
          "text": [
            "\u001b[1m78/78\u001b[0m \u001b[32m━━━━━━━━━━━━━━━━━━━━\u001b[0m\u001b[37m\u001b[0m \u001b[1m0s\u001b[0m 2ms/step\n"
          ]
        },
        {
          "output_type": "stream",
          "name": "stderr",
          "text": [
            "/usr/local/lib/python3.10/dist-packages/keras/src/layers/core/dense.py:87: UserWarning: Do not pass an `input_shape`/`input_dim` argument to a layer. When using Sequential models, prefer using an `Input(shape)` object as the first layer in the model instead.\n",
            "  super().__init__(activity_regularizer=activity_regularizer, **kwargs)\n"
          ]
        },
        {
          "output_type": "stream",
          "name": "stdout",
          "text": [
            "\u001b[1m78/78\u001b[0m \u001b[32m━━━━━━━━━━━━━━━━━━━━\u001b[0m\u001b[37m\u001b[0m \u001b[1m0s\u001b[0m 3ms/step\n"
          ]
        },
        {
          "output_type": "stream",
          "name": "stderr",
          "text": [
            "/usr/local/lib/python3.10/dist-packages/keras/src/layers/core/dense.py:87: UserWarning: Do not pass an `input_shape`/`input_dim` argument to a layer. When using Sequential models, prefer using an `Input(shape)` object as the first layer in the model instead.\n",
            "  super().__init__(activity_regularizer=activity_regularizer, **kwargs)\n"
          ]
        },
        {
          "output_type": "stream",
          "name": "stdout",
          "text": [
            "\u001b[1m78/78\u001b[0m \u001b[32m━━━━━━━━━━━━━━━━━━━━\u001b[0m\u001b[37m\u001b[0m \u001b[1m0s\u001b[0m 2ms/step\n"
          ]
        },
        {
          "output_type": "stream",
          "name": "stderr",
          "text": [
            "/usr/local/lib/python3.10/dist-packages/keras/src/layers/core/dense.py:87: UserWarning: Do not pass an `input_shape`/`input_dim` argument to a layer. When using Sequential models, prefer using an `Input(shape)` object as the first layer in the model instead.\n",
            "  super().__init__(activity_regularizer=activity_regularizer, **kwargs)\n"
          ]
        },
        {
          "output_type": "stream",
          "name": "stdout",
          "text": [
            "\u001b[1m78/78\u001b[0m \u001b[32m━━━━━━━━━━━━━━━━━━━━\u001b[0m\u001b[37m\u001b[0m \u001b[1m0s\u001b[0m 2ms/step\n",
            "Average Mean Prediction: 0.3523\n",
            "Average Standard Deviation: 0.2632\n"
          ]
        }
      ]
    },
    {
      "cell_type": "code",
      "source": [
        "import numpy as np\n",
        "from sklearn.model_selection import train_test_split\n",
        "from sklearn.ensemble import RandomForestClassifier\n",
        "from xgboost import XGBClassifier\n",
        "from sklearn.linear_model import ElasticNet\n",
        "from sklearn.ensemble import StackingClassifier\n",
        "from sklearn.metrics import accuracy_score\n",
        "from tensorflow.keras.models import Sequential\n",
        "from tensorflow.keras.layers import Dense\n",
        "\n",
        "\n",
        "# Define Random Forest and XGBoost models\n",
        "rf_model = RandomForestClassifier(n_estimators=100, random_state=42)\n",
        "xgb_model = XGBClassifier(n_estimators=100, use_label_encoder=False, eval_metric='logloss', random_state=42)\n",
        "\n",
        "# Define the Neural Network model\n",
        "def create_nn_model():\n",
        "    model = Sequential()\n",
        "    model.add(Dense(units=128, activation='relu', input_shape=(X_train.shape[1],)))\n",
        "    model.add(Dense(units=128, activation='relu'))\n",
        "    model.add(Dense(units=1, activation='sigmoid'))\n",
        "    model.compile(optimizer='adam', loss='binary_crossentropy', metrics=['accuracy'])\n",
        "    return model\n",
        "\n",
        "nn_model = create_nn_model()\n",
        "\n",
        "# Train Neural Network on the training set\n",
        "nn_model.fit(X_train, y_train, epochs=10, batch_size=64, verbose=0)\n",
        "\n",
        "# Generate predictions from the neural network to use in stacking\n",
        "nn_preds_train = nn_model.predict(X_train).flatten()\n",
        "nn_preds_test = nn_model.predict(X_test).flatten()\n",
        "\n",
        "# Add NN predictions as a feature to X_train and X_test\n",
        "X_train_stack = np.hstack([X_train, nn_preds_train.reshape(-1, 1)])\n",
        "X_test_stack = np.hstack([X_test, nn_preds_test.reshape(-1, 1)])\n",
        "\n",
        "# Combine RF and XGB predictions as additional features\n",
        "rf_model.fit(X_train, y_train)\n",
        "xgb_model.fit(X_train, y_train)\n",
        "\n",
        "rf_preds_train = rf_model.predict_proba(X_train)[:, 1]\n",
        "rf_preds_test = rf_model.predict_proba(X_test)[:, 1]\n",
        "xgb_preds_train = xgb_model.predict_proba(X_train)[:, 1]\n",
        "xgb_preds_test = xgb_model.predict_proba(X_test)[:, 1]\n",
        "\n",
        "# Create the final stacking dataset\n",
        "X_train_final = np.hstack([X_train_stack, rf_preds_train.reshape(-1, 1), xgb_preds_train.reshape(-1, 1)])\n",
        "X_test_final = np.hstack([X_test_stack, rf_preds_test.reshape(-1, 1), xgb_preds_test.reshape(-1, 1)])\n",
        "\n",
        "# Meta-model (ElasticNet)\n",
        "meta_model = ElasticNet(alpha=0.5, l1_ratio=0.5, random_state=42)\n",
        "meta_model.fit(X_train_final, y_train)\n",
        "\n",
        "# Predict using the stacking model\n",
        "stacking_preds = meta_model.predict(X_test_final)\n",
        "stacking_preds_binary = (stacking_preds > 0.5).astype(int)\n",
        "\n",
        "# Evaluate accuracy of the stacking model\n",
        "accuracy = accuracy_score(y_test, stacking_preds_binary)\n",
        "print(f\"Stacking Model Accuracy: {accuracy:.4f}\")\n",
        "\n",
        "# Perform bootstrapping for uncertainty analysis\n",
        "n_bootstraps = 100\n",
        "bootstrap_preds = np.zeros((n_bootstraps, X_test.shape[0]))\n",
        "\n",
        "for i in range(n_bootstraps):\n",
        "    # Sample with replacement from the training data\n",
        "    X_bootstrap, _, y_bootstrap, _ = train_test_split(X_train_final, y_train, test_size=0.3, random_state=i)\n",
        "\n",
        "    # Fit the meta-model on the bootstrapped dataset\n",
        "    meta_model.fit(X_bootstrap, y_bootstrap)\n",
        "\n",
        "    # Get predictions for the test set\n",
        "    bootstrap_preds[i] = meta_model.predict(X_test_final)\n",
        "\n",
        "# Calculate the mean and standard deviation of predictions\n",
        "mean_preds = np.mean(bootstrap_preds, axis=0)  # Mean predictions\n",
        "std_preds = np.std(bootstrap_preds, axis=0)    # Standard deviation (uncertainty) of predictions\n",
        "\n",
        "# Calculate the overall average of mean predictions and standard deviations\n",
        "average_mean_prediction = np.mean(mean_preds)\n",
        "average_std_deviation = np.mean(std_preds)\n",
        "\n",
        "# Display the results\n",
        "print(f\"Average Mean Prediction: {average_mean_prediction:.4f}\")\n",
        "print(f\"Average Standard Deviation: {average_std_deviation:.4f}\")"
      ],
      "metadata": {
        "id": "cprGqYrFf29s",
        "colab": {
          "base_uri": "https://localhost:8080/"
        },
        "outputId": "89c734fa-d99e-4cfb-bb74-ef28f7b99e24"
      },
      "execution_count": null,
      "outputs": [
        {
          "output_type": "stream",
          "name": "stderr",
          "text": [
            "/usr/local/lib/python3.10/dist-packages/keras/src/layers/core/dense.py:87: UserWarning: Do not pass an `input_shape`/`input_dim` argument to a layer. When using Sequential models, prefer using an `Input(shape)` object as the first layer in the model instead.\n",
            "  super().__init__(activity_regularizer=activity_regularizer, **kwargs)\n"
          ]
        },
        {
          "output_type": "stream",
          "name": "stdout",
          "text": [
            "\u001b[1m311/311\u001b[0m \u001b[32m━━━━━━━━━━━━━━━━━━━━\u001b[0m\u001b[37m\u001b[0m \u001b[1m0s\u001b[0m 1ms/step\n",
            "\u001b[1m78/78\u001b[0m \u001b[32m━━━━━━━━━━━━━━━━━━━━\u001b[0m\u001b[37m\u001b[0m \u001b[1m0s\u001b[0m 1ms/step\n"
          ]
        },
        {
          "output_type": "stream",
          "name": "stderr",
          "text": [
            "/usr/local/lib/python3.10/dist-packages/xgboost/core.py:158: UserWarning: [12:03:53] WARNING: /workspace/src/learner.cc:740: \n",
            "Parameters: { \"use_label_encoder\" } are not used.\n",
            "\n",
            "  warnings.warn(smsg, UserWarning)\n"
          ]
        },
        {
          "output_type": "stream",
          "name": "stdout",
          "text": [
            "Stacking Model Accuracy: 0.7128\n",
            "Average Mean Prediction: 0.5073\n",
            "Average Standard Deviation: 0.0168\n"
          ]
        }
      ]
    }
  ]
}